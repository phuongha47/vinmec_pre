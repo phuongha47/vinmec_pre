{
  "nbformat": 4,
  "nbformat_minor": 0,
  "metadata": {
    "colab": {
      "name": "QA_dataset_split.ipynb",
      "provenance": [],
      "toc_visible": true,
      "mount_file_id": "181uUOzcaP5sE1IGTD6bw1Gr0FfpU4oqU",
      "authorship_tag": "ABX9TyNELS757r/K4XsbCIgx0JZU",
      "include_colab_link": true
    },
    "kernelspec": {
      "name": "python3",
      "display_name": "Python 3"
    },
    "language_info": {
      "name": "python"
    }
  },
  "cells": [
    {
      "cell_type": "markdown",
      "metadata": {
        "id": "view-in-github",
        "colab_type": "text"
      },
      "source": [
        "<a href=\"https://colab.research.google.com/github/phuongha47/vinmec_pre/blob/main/QA_dataset_split.ipynb\" target=\"_parent\"><img src=\"https://colab.research.google.com/assets/colab-badge.svg\" alt=\"Open In Colab\"/></a>"
      ]
    },
    {
      "cell_type": "markdown",
      "source": [
        "# Dataset - Train - Test - ValV"
      ],
      "metadata": {
        "id": "D_9vBFbvcw5H"
      }
    },
    {
      "cell_type": "code",
      "source": [
        "from sklearn.model_selection import train_test_split"
      ],
      "metadata": {
        "id": "mnqJg0StdLkB"
      },
      "execution_count": null,
      "outputs": []
    },
    {
      "cell_type": "code",
      "source": [
        "from google.colab import drive\n",
        "drive.mount('/content/drive')"
      ],
      "metadata": {
        "colab": {
          "base_uri": "https://localhost:8080/"
        },
        "id": "2lFFmH3ecGMg",
        "outputId": "5ae299c3-98ff-4513-c8e4-0a4773e47a0e"
      },
      "execution_count": null,
      "outputs": [
        {
          "output_type": "stream",
          "name": "stdout",
          "text": [
            "Drive already mounted at /content/drive; to attempt to forcibly remount, call drive.mount(\"/content/drive\", force_remount=True).\n"
          ]
        }
      ]
    },
    {
      "cell_type": "code",
      "source": [
        "import pandas as pd"
      ],
      "metadata": {
        "id": "kEaPKBfqcIJo"
      },
      "execution_count": null,
      "outputs": []
    },
    {
      "cell_type": "markdown",
      "source": [
        "## Vinmec 5k"
      ],
      "metadata": {
        "id": "Q-IZxQzlc3ua"
      }
    },
    {
      "cell_type": "code",
      "source": [
        "vinmec = pd.read_csv('/content/drive/MyDrive/Dataset＿QA/main/vinmec_5k.csv')"
      ],
      "metadata": {
        "id": "2Cfiw0EQcNkH"
      },
      "execution_count": null,
      "outputs": []
    },
    {
      "cell_type": "code",
      "source": [
        "len(vinmec)"
      ],
      "metadata": {
        "colab": {
          "base_uri": "https://localhost:8080/"
        },
        "id": "LaE4Kx8JcgEq",
        "outputId": "f497b743-d004-4d0f-d734-79da94ad12d6"
      },
      "execution_count": null,
      "outputs": [
        {
          "output_type": "execute_result",
          "data": {
            "text/plain": [
              "4428"
            ]
          },
          "metadata": {},
          "execution_count": 19
        }
      ]
    },
    {
      "cell_type": "markdown",
      "source": [
        "### Split train_test_val"
      ],
      "metadata": {
        "id": "ha8pnPVvc-1x"
      }
    },
    {
      "cell_type": "code",
      "source": [
        " X_train, X_test = train_test_split(vinmec, test_size=0.1, random_state=1)\n",
        "\n",
        " X_train, X_val = train_test_split(X_train, test_size=0.11, random_state=1)"
      ],
      "metadata": {
        "id": "veR_24HuchMD"
      },
      "execution_count": null,
      "outputs": []
    },
    {
      "cell_type": "code",
      "source": [
        "print(len(X_train))\n",
        "print(len(X_test))\n",
        "print(len(X_val))"
      ],
      "metadata": {
        "colab": {
          "base_uri": "https://localhost:8080/"
        },
        "id": "_ZQE_xLWdnqj",
        "outputId": "0211608e-3e30-490d-b8ab-5136b26c03f0"
      },
      "execution_count": null,
      "outputs": [
        {
          "output_type": "stream",
          "name": "stdout",
          "text": [
            "3546\n",
            "443\n",
            "439\n"
          ]
        }
      ]
    },
    {
      "cell_type": "code",
      "source": [
        "X_train.to_csv(r'/content/drive/MyDrive/Dataset＿QA/split_dataset/Vinmec_5k/Vinmec5k_train.csv', index=False, header=True)\n",
        "X_test.to_csv (r'/content/drive/MyDrive/Dataset＿QA/split_dataset/Vinmec_5k/Vinmec5k_test.csv', index = False, header=True)\n",
        "X_val.to_csv (r'/content/drive/MyDrive/Dataset＿QA/split_dataset/Vinmec_5k/Vinmec5k_val.csv', index = False, header=True)\n"
      ],
      "metadata": {
        "id": "xoh647e8enNX"
      },
      "execution_count": null,
      "outputs": []
    },
    {
      "cell_type": "code",
      "source": [
        ""
      ],
      "metadata": {
        "id": "ZJpjJG4ifGBo"
      },
      "execution_count": null,
      "outputs": []
    },
    {
      "cell_type": "markdown",
      "source": [
        "## Vinmec Covid"
      ],
      "metadata": {
        "id": "9goJVlKahqQU"
      }
    },
    {
      "cell_type": "code",
      "source": [
        "vinmec_covid = pd.read_csv('/content/drive/MyDrive/Dataset＿QA/main/vinmec_covid.csv')"
      ],
      "metadata": {
        "id": "eu4iDcGuhqQV"
      },
      "execution_count": null,
      "outputs": []
    },
    {
      "cell_type": "code",
      "source": [
        "len(vinmec_covid)"
      ],
      "metadata": {
        "colab": {
          "base_uri": "https://localhost:8080/"
        },
        "outputId": "1fdea99b-4190-42c4-f0e9-96691c7af906",
        "id": "0mnkoiDAhqQV"
      },
      "execution_count": null,
      "outputs": [
        {
          "output_type": "execute_result",
          "data": {
            "text/plain": [
              "48"
            ]
          },
          "metadata": {},
          "execution_count": 12
        }
      ]
    },
    {
      "cell_type": "markdown",
      "source": [
        "### Split train_test_val"
      ],
      "metadata": {
        "id": "R6DZMgehhqQV"
      }
    },
    {
      "cell_type": "code",
      "source": [
        " X_train, X_test = train_test_split(vinmec_covid, test_size=0.1, random_state=1)\n",
        "\n",
        " X_train, X_val = train_test_split(X_train, test_size=0.11, random_state=1)"
      ],
      "metadata": {
        "id": "tio0khPihqQV"
      },
      "execution_count": null,
      "outputs": []
    },
    {
      "cell_type": "code",
      "source": [
        "print(len(X_train))\n",
        "print(len(X_test))\n",
        "print(len(X_val))"
      ],
      "metadata": {
        "colab": {
          "base_uri": "https://localhost:8080/"
        },
        "outputId": "08254a7f-7454-489e-efee-7d633ba2af02",
        "id": "m4L_4bv2hqQW"
      },
      "execution_count": null,
      "outputs": [
        {
          "output_type": "stream",
          "name": "stdout",
          "text": [
            "38\n",
            "5\n",
            "5\n"
          ]
        }
      ]
    },
    {
      "cell_type": "code",
      "source": [
        "X_train.to_csv(r'/content/drive/MyDrive/Dataset＿QA/split_dataset/Vinmec_covid/Vinmec_covid_train.csv', index=False, header=True)\n",
        "X_test.to_csv (r'/content/drive/MyDrive/Dataset＿QA/split_dataset/Vinmec_covid/Vinmec_covid_test.csv', index = False, header=True)\n",
        "X_val.to_csv (r'/content/drive/MyDrive/Dataset＿QA/split_dataset/Vinmec_covid/Vinmec_covid_val.csv', index = False, header=True)\n"
      ],
      "metadata": {
        "id": "fel_03O6hqQW"
      },
      "execution_count": null,
      "outputs": []
    },
    {
      "cell_type": "code",
      "source": [
        ""
      ],
      "metadata": {
        "id": "4PoZbOvYiR8Y"
      },
      "execution_count": null,
      "outputs": []
    },
    {
      "cell_type": "markdown",
      "source": [
        "## VnExpress Đa khoa"
      ],
      "metadata": {
        "id": "2YBX7DQYi4vX"
      }
    },
    {
      "cell_type": "code",
      "source": [
        "vnexpress_daKhoa = pd.read_csv('/content/drive/MyDrive/Dataset＿QA/main/vnexpress_vosinh.csv')"
      ],
      "metadata": {
        "id": "3N7FYRbdi4vY"
      },
      "execution_count": null,
      "outputs": []
    },
    {
      "cell_type": "code",
      "source": [
        "len(vnexpress_daKhoa)"
      ],
      "metadata": {
        "colab": {
          "base_uri": "https://localhost:8080/"
        },
        "outputId": "e0647b82-ee57-4fa6-954d-8e8c95f3310d",
        "id": "rOORV_G4i4vY"
      },
      "execution_count": null,
      "outputs": [
        {
          "output_type": "execute_result",
          "data": {
            "text/plain": [
              "594"
            ]
          },
          "metadata": {},
          "execution_count": 27
        }
      ]
    },
    {
      "cell_type": "markdown",
      "source": [
        "### Split train_test_val"
      ],
      "metadata": {
        "id": "Oy11emnBi4vY"
      }
    },
    {
      "cell_type": "code",
      "source": [
        " X_train, X_test = train_test_split(vnexpress_daKhoa, test_size=0.1, random_state=1)\n",
        "\n",
        " X_train, X_val = train_test_split(X_train, test_size=0.11, random_state=1)"
      ],
      "metadata": {
        "id": "7ILmVkdfi4vZ"
      },
      "execution_count": null,
      "outputs": []
    },
    {
      "cell_type": "code",
      "source": [
        "print(len(X_train))\n",
        "print(len(X_test))\n",
        "print(len(X_val))"
      ],
      "metadata": {
        "colab": {
          "base_uri": "https://localhost:8080/"
        },
        "outputId": "b00f5741-faca-4c19-f146-a788887b6b13",
        "id": "Pfh7ny0ti4vZ"
      },
      "execution_count": null,
      "outputs": [
        {
          "output_type": "stream",
          "name": "stdout",
          "text": [
            "475\n",
            "60\n",
            "59\n"
          ]
        }
      ]
    },
    {
      "cell_type": "code",
      "source": [
        "X_train.to_csv(r'/content/drive/MyDrive/Dataset＿QA/split_dataset/VnExpress_DaKhoa/Vinmec_covid_train.csv', index=False, header=True)\n",
        "X_test.to_csv (r'/content/drive/MyDrive/Dataset＿QA/split_dataset/VnExpress_DaKhoa/Vinmec_covid_test.csv', index = False, header=True)\n",
        "X_val.to_csv (r'/content/drive/MyDrive/Dataset＿QA/split_dataset/VnExpress_DaKhoa/Vinmec_covid_val.csv', index = False, header=True)\n"
      ],
      "metadata": {
        "id": "da5EtCYpi4vZ"
      },
      "execution_count": null,
      "outputs": []
    },
    {
      "cell_type": "code",
      "source": [
        ""
      ],
      "metadata": {
        "id": "MQgixsFajTFO"
      },
      "execution_count": null,
      "outputs": []
    },
    {
      "cell_type": "markdown",
      "source": [
        "## VnExpress Covid"
      ],
      "metadata": {
        "id": "rknpn2zmjZef"
      }
    },
    {
      "cell_type": "code",
      "source": [
        "vnexpress_covid = pd.read_csv('/content/drive/MyDrive/Dataset＿QA/main/out_vnexpress_covid_final.csv')"
      ],
      "metadata": {
        "id": "njeXxrRPjZeg"
      },
      "execution_count": null,
      "outputs": []
    },
    {
      "cell_type": "code",
      "source": [
        "len(vnexpress_covid)"
      ],
      "metadata": {
        "colab": {
          "base_uri": "https://localhost:8080/"
        },
        "outputId": "b0a197c2-3e48-474d-c79b-64de80f6653e",
        "id": "XAGYu0IFjZeg"
      },
      "execution_count": null,
      "outputs": [
        {
          "output_type": "execute_result",
          "data": {
            "text/plain": [
              "2358"
            ]
          },
          "metadata": {},
          "execution_count": 32
        }
      ]
    },
    {
      "cell_type": "markdown",
      "source": [
        "### Split train_test_val"
      ],
      "metadata": {
        "id": "ND2mVGUJjZeh"
      }
    },
    {
      "cell_type": "code",
      "source": [
        " X_train, X_test = train_test_split(vnexpress_covid, test_size=0.1, random_state=1)\n",
        "\n",
        " X_train, X_val = train_test_split(X_train, test_size=0.11, random_state=1)"
      ],
      "metadata": {
        "id": "7miZb9VfjZeh"
      },
      "execution_count": null,
      "outputs": []
    },
    {
      "cell_type": "code",
      "source": [
        "print(len(X_train))\n",
        "print(len(X_test))\n",
        "print(len(X_val))"
      ],
      "metadata": {
        "colab": {
          "base_uri": "https://localhost:8080/"
        },
        "outputId": "fe8a7435-ef6c-4844-f9e4-abc7fdb59304",
        "id": "OoOaz9krjZeh"
      },
      "execution_count": null,
      "outputs": [
        {
          "output_type": "stream",
          "name": "stdout",
          "text": [
            "1888\n",
            "236\n",
            "234\n"
          ]
        }
      ]
    },
    {
      "cell_type": "code",
      "source": [
        "X_train.to_csv(r'/content/drive/MyDrive/Dataset＿QA/split_dataset/VnExpress_Covid/Vinmec_covid_train.csv', index=False, header=True)\n",
        "X_test.to_csv (r'/content/drive/MyDrive/Dataset＿QA/split_dataset/VnExpress_Covid/Vinmec_covid_test.csv', index = False, header=True)\n",
        "X_val.to_csv (r'/content/drive/MyDrive/Dataset＿QA/split_dataset/VnExpress_Covid/Vinmec_covid_val.csv', index = False, header=True)\n"
      ],
      "metadata": {
        "id": "pvj05evPjZei"
      },
      "execution_count": null,
      "outputs": []
    }
  ]
}