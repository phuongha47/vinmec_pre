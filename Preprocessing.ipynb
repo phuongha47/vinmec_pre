{
  "nbformat": 4,
  "nbformat_minor": 0,
  "metadata": {
    "colab": {
      "name": "Preprocessing.ipynb",
      "provenance": [],
      "collapsed_sections": [],
      "mount_file_id": "1ZOaULQeG3pgdw5iEHdWruWf1gQr52Vnn",
      "authorship_tag": "ABX9TyORYOgVa1aB6YeGGtFOIWbr",
      "include_colab_link": true
    },
    "kernelspec": {
      "name": "python3",
      "display_name": "Python 3"
    },
    "language_info": {
      "name": "python"
    }
  },
  "cells": [
    {
      "cell_type": "markdown",
      "metadata": {
        "id": "view-in-github",
        "colab_type": "text"
      },
      "source": [
        "<a href=\"https://colab.research.google.com/github/phuongha47/vinmec_pre/blob/main/Preprocessing.ipynb\" target=\"_parent\"><img src=\"https://colab.research.google.com/assets/colab-badge.svg\" alt=\"Open In Colab\"/></a>"
      ]
    },
    {
      "cell_type": "markdown",
      "source": [
        "# Read data"
      ],
      "metadata": {
        "id": "qjxN8Sx35WOe"
      }
    },
    {
      "cell_type": "code",
      "source": [
        "pip install underthesea"
      ],
      "metadata": {
        "colab": {
          "base_uri": "https://localhost:8080/"
        },
        "id": "jfjLpWXdsJpP",
        "outputId": "e6cdcf5c-6660-4822-d685-b1759964978a"
      },
      "execution_count": 63,
      "outputs": [
        {
          "output_type": "stream",
          "name": "stdout",
          "text": [
            "Requirement already satisfied: underthesea in /usr/local/lib/python3.7/dist-packages (1.3.4)\n",
            "Requirement already satisfied: Click>=6.0 in /usr/local/lib/python3.7/dist-packages (from underthesea) (7.1.2)\n",
            "Requirement already satisfied: scikit-learn in /usr/local/lib/python3.7/dist-packages (from underthesea) (1.0.2)\n",
            "Requirement already satisfied: python-crfsuite>=0.9.6 in /usr/local/lib/python3.7/dist-packages (from underthesea) (0.9.7)\n",
            "Requirement already satisfied: PyYAML in /usr/local/lib/python3.7/dist-packages (from underthesea) (3.13)\n",
            "Requirement already satisfied: joblib in /usr/local/lib/python3.7/dist-packages (from underthesea) (1.1.0)\n",
            "Requirement already satisfied: requests in /usr/local/lib/python3.7/dist-packages (from underthesea) (2.23.0)\n",
            "Requirement already satisfied: nltk in /usr/local/lib/python3.7/dist-packages (from underthesea) (3.2.5)\n",
            "Requirement already satisfied: unidecode in /usr/local/lib/python3.7/dist-packages (from underthesea) (1.3.3)\n",
            "Requirement already satisfied: tqdm in /usr/local/lib/python3.7/dist-packages (from underthesea) (4.63.0)\n",
            "Requirement already satisfied: underthesea-core==0.0.4_alpha.10 in /usr/local/lib/python3.7/dist-packages (from underthesea) (0.0.4a10)\n",
            "Requirement already satisfied: six in /usr/local/lib/python3.7/dist-packages (from nltk->underthesea) (1.15.0)\n",
            "Requirement already satisfied: certifi>=2017.4.17 in /usr/local/lib/python3.7/dist-packages (from requests->underthesea) (2021.10.8)\n",
            "Requirement already satisfied: idna<3,>=2.5 in /usr/local/lib/python3.7/dist-packages (from requests->underthesea) (2.10)\n",
            "Requirement already satisfied: chardet<4,>=3.0.2 in /usr/local/lib/python3.7/dist-packages (from requests->underthesea) (3.0.4)\n",
            "Requirement already satisfied: urllib3!=1.25.0,!=1.25.1,<1.26,>=1.21.1 in /usr/local/lib/python3.7/dist-packages (from requests->underthesea) (1.24.3)\n",
            "Requirement already satisfied: threadpoolctl>=2.0.0 in /usr/local/lib/python3.7/dist-packages (from scikit-learn->underthesea) (3.1.0)\n",
            "Requirement already satisfied: numpy>=1.14.6 in /usr/local/lib/python3.7/dist-packages (from scikit-learn->underthesea) (1.21.5)\n",
            "Requirement already satisfied: scipy>=1.1.0 in /usr/local/lib/python3.7/dist-packages (from scikit-learn->underthesea) (1.4.1)\n"
          ]
        }
      ]
    },
    {
      "cell_type": "code",
      "source": [
        "import pandas as pd\n",
        "import re\n",
        "from underthesea import sent_tokenize"
      ],
      "metadata": {
        "id": "Nks4iJFV5jvg"
      },
      "execution_count": 64,
      "outputs": []
    },
    {
      "cell_type": "code",
      "source": [
        "df_val = pd.read_csv(r'/content/drive/MyDrive/QA_KLTN/Dataset/Data_preprocess/Data merged/train.csv')\n",
        "df_test = pd.read_csv(r'/content/drive/MyDrive/QA_KLTN/Dataset/Data_preprocess/Data merged/test.csv')\n",
        "df_train = pd.read_csv(r'/content/drive/MyDrive/QA_KLTN/Dataset/Data_preprocess/Data merged/val.csv')\n"
      ],
      "metadata": {
        "id": "85xzk8Cji3xC"
      },
      "execution_count": 65,
      "outputs": []
    },
    {
      "cell_type": "code",
      "source": [
        "s1 = u'ÀÁÂÃÈÉÊÌÍÒÓÔÕÙÚÝàáâãèéêìíòóôõùúýĂăĐđĨĩŨũƠơƯưẠạẢảẤấẦầẨẩẪẫẬậẮắẰằẲẳẴẵẶặẸẹẺẻẼẽẾếỀềỂểỄễỆệỈỉỊịỌọỎỏỐốỒồỔổỖỗỘộỚớỜờỞởỠỡỢợỤụỦủỨứỪừỬửỮữỰựỲỳỴỵỶỷỸỹ'\n",
        "s0 = u'AAAAEEEIIOOOOUUYaaaaeeeiioooouuyAaDdIiUuOoUuAaAaAaAaAaAaAaAaAaAaAaAaEeEeEeEeEeEeEeEeIiIiOoOoOoOoOoOoOoOoOoOoOoOoUuUuUuUuUuUuUuYyYyYyYy'\n",
        "def remove_accents(text):\n",
        "\tfor c in text:\n",
        "\t\tif c in s1:\n",
        "\t\t\t text = text.replace(c,s0[s1.index(c)])\n",
        "\treturn text"
      ],
      "metadata": {
        "id": "hobS7lZw1n_O"
      },
      "execution_count": 66,
      "outputs": []
    },
    {
      "cell_type": "code",
      "source": [
        "# for i in range(len(df_train[\"long_question\"])):\n",
        "#   try: \n",
        "#     df_train[\"long_question\"][i] = remove_accents(df_train[\"long_question\"][i])\n",
        "#   except:\n",
        "#     print ('') \n",
        "# for i in range(len(df_train[\"answer\"])):\n",
        "#   try: \n",
        "#     df_train[\"answer\"][i] = remove_accents(df_train[\"answer\"][i])\n",
        "#   except:\n",
        "#     print ('') "
      ],
      "metadata": {
        "id": "rIzs91TB9Vqp"
      },
      "execution_count": 67,
      "outputs": []
    },
    {
      "cell_type": "markdown",
      "source": [
        "# Data understand"
      ],
      "metadata": {
        "id": "9RcJLp1VvJtK"
      }
    },
    {
      "cell_type": "markdown",
      "source": [
        "## Size "
      ],
      "metadata": {
        "id": "rKgMdIoDvyZa"
      }
    },
    {
      "cell_type": "code",
      "source": [
        "print('Size TRAIN:', len(df_train))\n",
        "print('Size TEST:', len(df_test))\n",
        "print('Size VAL:', len(df_val))"
      ],
      "metadata": {
        "colab": {
          "base_uri": "https://localhost:8080/"
        },
        "id": "laMjdg2-jd7t",
        "outputId": "f781f4a7-2e5d-4303-edf3-146da5324c46"
      },
      "execution_count": 68,
      "outputs": [
        {
          "output_type": "stream",
          "name": "stdout",
          "text": [
            "Size TRAIN: 1016\n",
            "Size TEST: 1025\n",
            "Size VAL: 8201\n"
          ]
        }
      ]
    },
    {
      "cell_type": "markdown",
      "source": [
        "## Document statistics by number of sentences"
      ],
      "metadata": {
        "id": "o6qrE4b7u7KX"
      }
    },
    {
      "cell_type": "markdown",
      "source": [
        "### Answer"
      ],
      "metadata": {
        "id": "X606hmrEwy5b"
      }
    },
    {
      "cell_type": "code",
      "source": [
        "import matplotlib.pyplot as plt\n",
        "\n",
        "plt.hist([len(sent_tokenize(s)) for s in df_train['answer']], 50)\n",
        "plt.xlabel('Number of sentence')\n",
        "plt.ylabel('COUNT')\n",
        "plt.title('Distribution of the number of sentences in the ANSWER passage')\n",
        "plt.show()"
      ],
      "metadata": {
        "colab": {
          "base_uri": "https://localhost:8080/",
          "height": 295
        },
        "outputId": "c2c15b69-351e-47ce-fa12-c9ba20653e74",
        "id": "cfXDGVh9w4mD"
      },
      "execution_count": 69,
      "outputs": [
        {
          "output_type": "display_data",
          "data": {
            "image/png": "[encoded data removed]",
            "text/plain": [
              "<Figure size 432x288 with 1 Axes>"
            ]
          },
          "metadata": {
            "needs_background": "light"
          }
        }
      ]
    },
    {
      "cell_type": "code",
      "source": [
        "sen5 = sen10 = sen15 = sen20 = 0\n",
        "for text in df_train['answer']:\n",
        "  if len(sent_tokenize(text)) < 5:\n",
        "    sen5 += 1\n",
        "  elif len(sent_tokenize(text)) >= 5 and len(sent_tokenize(text)) < 10:\n",
        "    sen10 += 1\n",
        "  elif len(sent_tokenize(text)) >= 10 and len(sent_tokenize(text)) < 15:\n",
        "    sen15 += 1\n",
        "  else:\n",
        "    sen20 += 1"
      ],
      "metadata": {
        "id": "VeEZxEzdw4mE"
      },
      "execution_count": 70,
      "outputs": []
    },
    {
      "cell_type": "code",
      "source": [
        "leng = len(df_train)\n",
        "numdict = {\n",
        "  \"<5\": sen5,\n",
        "  \"[5:10)\": sen10,\n",
        "  \"[10:15)\": sen15,\n",
        "  \"[15:~)\": sen20,\n",
        "}\n",
        "for key in numdict:\n",
        "  print(key, ':', numdict[key])"
      ],
      "metadata": {
        "colab": {
          "base_uri": "https://localhost:8080/"
        },
        "id": "kaVClVFINdqV",
        "outputId": "e78d36d0-ccf6-4998-bb9e-594a77833dd7"
      },
      "execution_count": 71,
      "outputs": [
        {
          "output_type": "stream",
          "name": "stdout",
          "text": [
            "<5 : 451\n",
            "[5:10) : 512\n",
            "[10:15) : 47\n",
            "[15:~) : 6\n"
          ]
        }
      ]
    },
    {
      "cell_type": "code",
      "source": [
        "leng = len(df_train)\n",
        "thisdict = {\n",
        "  \"<5\": sen5/leng*100,\n",
        "  \"[5:10)\": sen10/leng*100,\n",
        "  \"[10:15)\": sen15/leng*100,\n",
        "  \"[15:~)\": sen20/leng*100,\n",
        "}\n",
        "for key in thisdict:\n",
        "  print(key, ':', thisdict[key])"
      ],
      "metadata": {
        "colab": {
          "base_uri": "https://localhost:8080/"
        },
        "outputId": "01eaff53-9ce9-42d1-8116-0c0f315e4034",
        "id": "h3wRvL0gw4mE"
      },
      "execution_count": 72,
      "outputs": [
        {
          "output_type": "stream",
          "name": "stdout",
          "text": [
            "<5 : 44.389763779527556\n",
            "[5:10) : 50.39370078740157\n",
            "[10:15) : 4.625984251968504\n",
            "[15:~) : 0.5905511811023622\n"
          ]
        }
      ]
    },
    {
      "cell_type": "markdown",
      "source": [
        "### Long question\n"
      ],
      "metadata": {
        "id": "aTzFnYeiwsyZ"
      }
    },
    {
      "cell_type": "code",
      "source": [
        "import matplotlib.pyplot as plt\n",
        "\n",
        "plt.hist([len(sent_tokenize(s)) for s in df_train['long_question']], 50)\n",
        "plt.xlabel('Number of sentence')\n",
        "plt.ylabel('COUNT')\n",
        "plt.title('Distribution of the number of sentences in the LONG QUESTION passage')\n",
        "plt.show()"
      ],
      "metadata": {
        "colab": {
          "base_uri": "https://localhost:8080/",
          "height": 295
        },
        "id": "2dzdlCTes1lY",
        "outputId": "f311a339-593d-4f22-a6db-9273f1f75169"
      },
      "execution_count": 73,
      "outputs": [
        {
          "output_type": "display_data",
          "data": {
            "image/png": "[encoded data removed]",
            "text/plain": [
              "<Figure size 432x288 with 1 Axes>"
            ]
          },
          "metadata": {
            "needs_background": "light"
          }
        }
      ]
    },
    {
      "cell_type": "code",
      "source": [
        "sen5 = sen10 = sen15 = sen20 = 0\n",
        "for text in df_train['long_question']:\n",
        "  if len(sent_tokenize(text)) < 5:\n",
        "    sen5 += 1\n",
        "  elif len(sent_tokenize(text)) >= 5 and len(sent_tokenize(text)) < 10:\n",
        "    sen10 += 1\n",
        "  elif len(sent_tokenize(text)) >= 10 and len(sent_tokenize(text)) < 15:\n",
        "    sen15 += 1\n",
        "  else:\n",
        "    sen20 += 1"
      ],
      "metadata": {
        "id": "56ioBMaus_zq"
      },
      "execution_count": 74,
      "outputs": []
    },
    {
      "cell_type": "code",
      "source": [
        "leng = len(df_train)\n",
        "numdict = {\n",
        "  \"<5\": sen5,\n",
        "  \"[5:10)\": sen10,\n",
        "  \"[10:15)\": sen15,\n",
        "  \"[15:~)\": sen20,\n",
        "}\n",
        "for key in numdict:\n",
        "  print(key, ':', numdict[key])"
      ],
      "metadata": {
        "colab": {
          "base_uri": "https://localhost:8080/"
        },
        "id": "zHGZ3TccNQSe",
        "outputId": "a8b94352-a826-4bff-98aa-a9bf835647ff"
      },
      "execution_count": 75,
      "outputs": [
        {
          "output_type": "stream",
          "name": "stdout",
          "text": [
            "<5 : 626\n",
            "[5:10) : 374\n",
            "[10:15) : 15\n",
            "[15:~) : 1\n"
          ]
        }
      ]
    },
    {
      "cell_type": "code",
      "source": [
        "leng = len(df_train)\n",
        "thisdict = {\n",
        "  \"<5\": sen5/leng*100,\n",
        "  \"[5:10)\": sen10/leng*100,\n",
        "  \"[10:15)\": sen15/leng*100,\n",
        "  \"[15:~)\": sen20/leng*100,\n",
        "}\n",
        "for key in thisdict:\n",
        "  print(key, ':', thisdict[key])"
      ],
      "metadata": {
        "colab": {
          "base_uri": "https://localhost:8080/"
        },
        "id": "LZMiJekAt8GQ",
        "outputId": "82d7831e-a03a-42e1-f5d0-f8ecb6dd66e0"
      },
      "execution_count": 76,
      "outputs": [
        {
          "output_type": "stream",
          "name": "stdout",
          "text": [
            "<5 : 61.61417322834646\n",
            "[5:10) : 36.811023622047244\n",
            "[10:15) : 1.4763779527559056\n",
            "[15:~) : 0.09842519685039369\n"
          ]
        }
      ]
    },
    {
      "cell_type": "markdown",
      "source": [
        "## Number of documents by word length"
      ],
      "metadata": {
        "id": "2HIXy3wlw4mF"
      }
    },
    {
      "cell_type": "markdown",
      "source": [
        "### Answer"
      ],
      "metadata": {
        "id": "_eMKT0Eeyfpd"
      }
    },
    {
      "cell_type": "code",
      "source": [
        "import matplotlib.pyplot as plt\n",
        "\n",
        "plt.hist([len(str(s)) for s in df_train['answer']], 50)\n",
        "plt.xlabel('Length of a sample')\n",
        "plt.ylabel('Number of samples')\n",
        "plt.title('Distribution Of Answer Length')\n",
        "plt.show()"
      ],
      "metadata": {
        "colab": {
          "base_uri": "https://localhost:8080/",
          "height": 295
        },
        "id": "yUbehN7dx3DF",
        "outputId": "b73cfad0-1470-4331-9ca0-9ae4c25ff347"
      },
      "execution_count": 77,
      "outputs": [
        {
          "output_type": "display_data",
          "data": {
            "image/png": "[encoded data removed]",
            "text/plain": [
              "<Figure size 432x288 with 1 Axes>"
            ]
          },
          "metadata": {
            "needs_background": "light"
          }
        }
      ]
    },
    {
      "cell_type": "code",
      "source": [
        "count100 = count300 = count500 = count700 = count1000 = count10000 = 0\n",
        "for s in df_train['answer']:\n",
        "  if (len(str(s)) < 100):\n",
        "    count100 += 1\n",
        "  elif (len(str(s)) >= 100 and len(str(s)) < 300):\n",
        "    count300 += 1\n",
        "  elif (len(str(s)) >= 300 and len(str(s)) < 500):\n",
        "    count500 += 1\n",
        "  elif (len(str(s)) >= 500 and len(str(s)) < 700):\n",
        "    count700 += 1\n",
        "  elif (len(str(s)) >= 700 and len(str(s)) < 1000):\n",
        "    count1000 += 1\n",
        "  else:\n",
        "    count10000 += 1"
      ],
      "metadata": {
        "id": "6TV3ahGTw4mF"
      },
      "execution_count": 128,
      "outputs": []
    },
    {
      "cell_type": "code",
      "source": [
        "leng = len(df_train)\n",
        "print(tabulate([['<100', count100], ['[100:300)', count300], ['[300:500)', count500], ['[500:700)', count700], ['[700:1000)', count1000], ['[1000:~)', count10000]], headers=['Length', 'Count']))"
      ],
      "metadata": {
        "colab": {
          "base_uri": "https://localhost:8080/"
        },
        "id": "97EwWvGLLzDA",
        "outputId": "22cf2cec-9823-4607-d8bf-0de7ac2cda23"
      },
      "execution_count": 119,
      "outputs": [
        {
          "output_type": "stream",
          "name": "stdout",
          "text": [
            "Length        Count\n",
            "----------  -------\n",
            "<100              1\n",
            "[100:300)        74\n",
            "[300:500)       228\n",
            "[500:700)       304\n",
            "[700:1000)      234\n",
            "[1000:~)        175\n"
          ]
        }
      ]
    },
    {
      "cell_type": "code",
      "source": [
        "print(tabulate([['<100', round(count100/leng*100, 2)], ['[100:300)', round(count300/leng*100, 2)], ['[300:500)', round(count500/leng*100, 2)], ['[500:700)', round(count700/leng*100, 2)], ['[700:1000)', round(count1000/leng*100, 2)], ['[1000:~)', round(count10000/leng*100, 2)]], headers=['Length', '%']))"
      ],
      "metadata": {
        "colab": {
          "base_uri": "https://localhost:8080/"
        },
        "outputId": "5b1293a9-2116-479f-d551-ef44ea4dc420",
        "id": "55vV9NuYw4mF"
      },
      "execution_count": 129,
      "outputs": [
        {
          "output_type": "stream",
          "name": "stdout",
          "text": [
            "Length          %\n",
            "----------  -----\n",
            "<100         0.1\n",
            "[100:300)    7.28\n",
            "[300:500)   22.44\n",
            "[500:700)   29.92\n",
            "[700:1000)  23.03\n",
            "[1000:~)    17.22\n"
          ]
        }
      ]
    },
    {
      "cell_type": "markdown",
      "source": [
        "### Long question"
      ],
      "metadata": {
        "id": "tOqkj4kouipG"
      }
    },
    {
      "cell_type": "code",
      "source": [
        "import matplotlib.pyplot as plt\n",
        "\n",
        "plt.hist([len(str(s)) for s in df_train['long_question']], 50)\n",
        "plt.xlabel('Length of a sample')\n",
        "plt.ylabel('Number of samples')\n",
        "plt.title('Distribution Of Questions By Question Length')\n",
        "plt.show()"
      ],
      "metadata": {
        "colab": {
          "base_uri": "https://localhost:8080/",
          "height": 295
        },
        "id": "4bsh-gOItq8Z",
        "outputId": "ee317a70-9968-41cb-ab5b-0e59d9c93ddf"
      },
      "execution_count": 81,
      "outputs": [
        {
          "output_type": "display_data",
          "data": {
            "image/png": "[encoded data removed]",
            "text/plain": [
              "<Figure size 432x288 with 1 Axes>"
            ]
          },
          "metadata": {
            "needs_background": "light"
          }
        }
      ]
    },
    {
      "cell_type": "code",
      "source": [
        "count100 = count300 = count500 = count700 = count1000 = count10000 = 0\n",
        "for s in df_train['long_question']:\n",
        "  if (len(str(s)) < 100):\n",
        "    count100 += 1\n",
        "  elif (len(str(s)) > 100 and len(str(s)) < 300):\n",
        "    count300 += 1\n",
        "  elif (len(str(s)) > 300 and len(str(s)) < 500):\n",
        "    count500 += 1\n",
        "  elif (len(str(s)) > 500 and len(str(s)) < 700):\n",
        "    count700 += 1\n",
        "  elif (len(str(s)) > 700 and len(str(s)) < 1000):\n",
        "    count1000 += 1\n",
        "  else:\n",
        "    count10000 += 1"
      ],
      "metadata": {
        "id": "gIgbH3NZKyg4"
      },
      "execution_count": 122,
      "outputs": []
    },
    {
      "cell_type": "code",
      "source": [
        "from tabulate import tabulate\n",
        "print(tabulate([['<100', count100], ['[100:300)', count300], ['[300:500)', count500], ['[500:700)', count700], ['[700:1000)', count1000], ['[1000:~)', count10000]], headers=['Length', 'Count']))"
      ],
      "metadata": {
        "colab": {
          "base_uri": "https://localhost:8080/"
        },
        "id": "UvM4wyLE2JU2",
        "outputId": "36015165-e9ac-46dc-f253-c65feb58f36c"
      },
      "execution_count": 123,
      "outputs": [
        {
          "output_type": "stream",
          "name": "stdout",
          "text": [
            "Length        Count\n",
            "----------  -------\n",
            "<100             63\n",
            "[100:300)       573\n",
            "[300:500)       297\n",
            "[500:700)        58\n",
            "[700:1000)       19\n",
            "[1000:~)          6\n"
          ]
        }
      ]
    },
    {
      "cell_type": "code",
      "source": [
        "print(tabulate([['<100', round(count100/leng*100, 2)], ['[100:300)', round(count300/leng*100, 2)], ['[300:500)', round(count500/leng*100, 2)], ['[500:700)', round(count700/leng*100, 2)], ['[700:1000)', round(count1000/leng*100, 2)], ['[1000:~)', round(count10000/leng*100, 2)]], headers=['Length', '%']))"
      ],
      "metadata": {
        "colab": {
          "base_uri": "https://localhost:8080/"
        },
        "id": "JSKDyOcTk3Vs",
        "outputId": "19f65266-61f4-4663-c1c8-c29e92728686"
      },
      "execution_count": 127,
      "outputs": [
        {
          "output_type": "stream",
          "name": "stdout",
          "text": [
            "Length          %\n",
            "----------  -----\n",
            "<100         6.2\n",
            "[100:300)   56.4\n",
            "[300:500)   29.23\n",
            "[500:700)    5.71\n",
            "[700:1000)   1.87\n",
            "[1000:~)     0.59\n"
          ]
        }
      ]
    },
    {
      "cell_type": "markdown",
      "source": [
        "# Preprocessing"
      ],
      "metadata": {
        "id": "D_XeEVqM7wJG"
      }
    },
    {
      "cell_type": "code",
      "source": [
        "# important\n",
        "for i in range(len(df_train)):\n",
        "  begin = 0\n",
        "  end = 0\n",
        "  if (type(df_train['answer'][i])== str):\n",
        "    for j in range(len(df_train['answer'][i])):\n",
        "        if df_train['answer'][i][j] == '“':\n",
        "          begin = j\n",
        "        if df_train['answer'][i][j] == '”':\n",
        "          end = j\n",
        "    if begin!=0 and end!=0:\n",
        "      df_train['answer'][i] = df_train['answer'][i].replace(df_train['answer'][i][begin:end+2],\"\")\n"
      ],
      "metadata": {
        "id": "I_Hw5_6dBl19"
      },
      "execution_count": 85,
      "outputs": []
    },
    {
      "cell_type": "code",
      "source": [
        "df_train = df_train[df_train.answer != 'None']\n",
        "df_train = df_train[df_train.answer != 'none']\n",
        "df_train = df_train[df_train.answer != ' ']\n",
        "df_train = df_train[df_train.answer != '']\n",
        "\n",
        "df_test = df_test[df_test.answer != 'None']\n",
        "df_test = df_test[df_test.answer != 'none']\n",
        "df_test = df_test[df_test.answer != ' ']\n",
        "df_test = df_test[df_test.answer != '']\n",
        "\n",
        "df_val = df_val[df_val.answer != 'None']\n",
        "df_val = df_val[df_val.answer != 'none']\n",
        "df_val = df_val[df_val.answer != ' ']\n",
        "df_val = df_val[df_val.answer != '']"
      ],
      "metadata": {
        "id": "sRE6Vy09uo1n"
      },
      "execution_count": 86,
      "outputs": []
    },
    {
      "cell_type": "code",
      "source": [
        "df_train.tail()"
      ],
      "metadata": {
        "colab": {
          "base_uri": "https://localhost:8080/",
          "height": 337
        },
        "id": "jGPvrl2PjiCD",
        "outputId": "db415c61-0885-4823-c1e4-6389d785fc29"
      },
      "execution_count": 87,
      "outputs": [
        {
          "output_type": "execute_result",
          "data": {
            "text/html": [
              "\n",
              "  <div id=\"df-c431cd4e-90cb-4e24-9ea2-55aeaac63ea3\">\n",
              "    <div class=\"colab-df-container\">\n",
              "      <div>\n",
              "<style scoped>\n",
              "    .dataframe tbody tr th:only-of-type {\n",
              "        vertical-align: middle;\n",
              "    }\n",
              "\n",
              "    .dataframe tbody tr th {\n",
              "        vertical-align: top;\n",
              "    }\n",
              "\n",
              "    .dataframe thead th {\n",
              "        text-align: right;\n",
              "    }\n",
              "</style>\n",
              "<table border=\"1\" class=\"dataframe\">\n",
              "  <thead>\n",
              "    <tr style=\"text-align: right;\">\n",
              "      <th></th>\n",
              "      <th>short_question</th>\n",
              "      <th>long_question</th>\n",
              "      <th>answer</th>\n",
              "      <th>link</th>\n",
              "    </tr>\n",
              "  </thead>\n",
              "  <tbody>\n",
              "    <tr>\n",
              "      <th>1011</th>\n",
              "      <td>None</td>\n",
              "      <td>Tôi có tiền sử tiểu cầu thấp, PLT 130.000-140....</td>\n",
              "      <td>Chào anh,Tình trạng tiểu cầu của anh dưới ngưỡ...</td>\n",
              "      <td>https://vnexpress.net/tu-van-tiem-vaccine-covi...</td>\n",
              "    </tr>\n",
              "    <tr>\n",
              "      <th>1012</th>\n",
              "      <td>None</td>\n",
              "      <td>Tôi bị huyết áp cao phải uống thuốc hàng ngày,...</td>\n",
              "      <td>Chào anh,\\nViệc uống thuốc huyết áp duy trì hà...</td>\n",
              "      <td>https://vnexpress.net/tu-van-tiem-vaccine-covi...</td>\n",
              "    </tr>\n",
              "    <tr>\n",
              "      <th>1013</th>\n",
              "      <td>None</td>\n",
              "      <td>Vaccine AstraZeneca tôi thấy ở nước ngoài chỉ ...</td>\n",
              "      <td>Chào bạn,\\nTheo thông tin kê toa của nhà sản x...</td>\n",
              "      <td>https://vnexpress.net/tu-van-tiem-vaccine-covi...</td>\n",
              "    </tr>\n",
              "    <tr>\n",
              "      <th>1014</th>\n",
              "      <td>None</td>\n",
              "      <td>Em 33 tuổi, cao 1,68 m, nặng 90 kg, bị dị ứng ...</td>\n",
              "      <td>Chào Anh/Chị,\\nTheo mô tả thì trường hợp dị ứn...</td>\n",
              "      <td>https://vnexpress.net/tu-van-tiem-vaccine-covi...</td>\n",
              "    </tr>\n",
              "    <tr>\n",
              "      <th>1015</th>\n",
              "      <td>None</td>\n",
              "      <td>Tôi thỉnh thoảng bị dị ứng ngứa nổi mẩn, đặc b...</td>\n",
              "      <td>Chào anh,\\nTheo hướng dẫn của Bộ Y tế, anh thu...</td>\n",
              "      <td>https://vnexpress.net/tu-van-tiem-vaccine-covi...</td>\n",
              "    </tr>\n",
              "  </tbody>\n",
              "</table>\n",
              "</div>\n",
              "      <button class=\"colab-df-convert\" onclick=\"convertToInteractive('df-c431cd4e-90cb-4e24-9ea2-55aeaac63ea3')\"\n",
              "              title=\"Convert this dataframe to an interactive table.\"\n",
              "              style=\"display:none;\">\n",
              "        \n",
              "  <svg xmlns=\"http://www.w3.org/2000/svg\" height=\"24px\"viewBox=\"0 0 24 24\"\n",
              "       width=\"24px\">\n",
              "    <path d=\"M0 0h24v24H0V0z\" fill=\"none\"/>\n",
              "    <path d=\"M18.56 5.44l.94 2.06.94-2.06 2.06-.94-2.06-.94-.94-2.06-.94 2.06-2.06.94zm-11 1L8.5 8.5l.94-2.06 2.06-.94-2.06-.94L8.5 2.5l-.94 2.06-2.06.94zm10 10l.94 2.06.94-2.06 2.06-.94-2.06-.94-.94-2.06-.94 2.06-2.06.94z\"/><path d=\"M17.41 7.96l-1.37-1.37c-.4-.4-.92-.59-1.43-.59-.52 0-1.04.2-1.43.59L10.3 9.45l-7.72 7.72c-.78.78-.78 2.05 0 2.83L4 21.41c.39.39.9.59 1.41.59.51 0 1.02-.2 1.41-.59l7.78-7.78 2.81-2.81c.8-.78.8-2.07 0-2.86zM5.41 20L4 18.59l7.72-7.72 1.47 1.35L5.41 20z\"/>\n",
              "  </svg>\n",
              "      </button>\n",
              "      \n",
              "  <style>\n",
              "    .colab-df-container {\n",
              "      display:flex;\n",
              "      flex-wrap:wrap;\n",
              "      gap: 12px;\n",
              "    }\n",
              "\n",
              "    .colab-df-convert {\n",
              "      background-color: #E8F0FE;\n",
              "      border: none;\n",
              "      border-radius: 50%;\n",
              "      cursor: pointer;\n",
              "      display: none;\n",
              "      fill: #1967D2;\n",
              "      height: 32px;\n",
              "      padding: 0 0 0 0;\n",
              "      width: 32px;\n",
              "    }\n",
              "\n",
              "    .colab-df-convert:hover {\n",
              "      background-color: #E2EBFA;\n",
              "      box-shadow: 0px 1px 2px rgba(60, 64, 67, 0.3), 0px 1px 3px 1px rgba(60, 64, 67, 0.15);\n",
              "      fill: #174EA6;\n",
              "    }\n",
              "\n",
              "    [theme=dark] .colab-df-convert {\n",
              "      background-color: #3B4455;\n",
              "      fill: #D2E3FC;\n",
              "    }\n",
              "\n",
              "    [theme=dark] .colab-df-convert:hover {\n",
              "      background-color: #434B5C;\n",
              "      box-shadow: 0px 1px 3px 1px rgba(0, 0, 0, 0.15);\n",
              "      filter: drop-shadow(0px 1px 2px rgba(0, 0, 0, 0.3));\n",
              "      fill: #FFFFFF;\n",
              "    }\n",
              "  </style>\n",
              "\n",
              "      <script>\n",
              "        const buttonEl =\n",
              "          document.querySelector('#df-c431cd4e-90cb-4e24-9ea2-55aeaac63ea3 button.colab-df-convert');\n",
              "        buttonEl.style.display =\n",
              "          google.colab.kernel.accessAllowed ? 'block' : 'none';\n",
              "\n",
              "        async function convertToInteractive(key) {\n",
              "          const element = document.querySelector('#df-c431cd4e-90cb-4e24-9ea2-55aeaac63ea3');\n",
              "          const dataTable =\n",
              "            await google.colab.kernel.invokeFunction('convertToInteractive',\n",
              "                                                     [key], {});\n",
              "          if (!dataTable) return;\n",
              "\n",
              "          const docLinkHtml = 'Like what you see? Visit the ' +\n",
              "            '<a target=\"_blank\" href=https://colab.research.google.com/notebooks/data_table.ipynb>data table notebook</a>'\n",
              "            + ' to learn more about interactive tables.';\n",
              "          element.innerHTML = '';\n",
              "          dataTable['output_type'] = 'display_data';\n",
              "          await google.colab.output.renderOutput(dataTable, element);\n",
              "          const docLink = document.createElement('div');\n",
              "          docLink.innerHTML = docLinkHtml;\n",
              "          element.appendChild(docLink);\n",
              "        }\n",
              "      </script>\n",
              "    </div>\n",
              "  </div>\n",
              "  "
            ],
            "text/plain": [
              "     short_question                                      long_question  \\\n",
              "1011           None  Tôi có tiền sử tiểu cầu thấp, PLT 130.000-140....   \n",
              "1012           None  Tôi bị huyết áp cao phải uống thuốc hàng ngày,...   \n",
              "1013           None  Vaccine AstraZeneca tôi thấy ở nước ngoài chỉ ...   \n",
              "1014           None  Em 33 tuổi, cao 1,68 m, nặng 90 kg, bị dị ứng ...   \n",
              "1015           None  Tôi thỉnh thoảng bị dị ứng ngứa nổi mẩn, đặc b...   \n",
              "\n",
              "                                                 answer  \\\n",
              "1011  Chào anh,Tình trạng tiểu cầu của anh dưới ngưỡ...   \n",
              "1012  Chào anh,\\nViệc uống thuốc huyết áp duy trì hà...   \n",
              "1013  Chào bạn,\\nTheo thông tin kê toa của nhà sản x...   \n",
              "1014  Chào Anh/Chị,\\nTheo mô tả thì trường hợp dị ứn...   \n",
              "1015  Chào anh,\\nTheo hướng dẫn của Bộ Y tế, anh thu...   \n",
              "\n",
              "                                                   link  \n",
              "1011  https://vnexpress.net/tu-van-tiem-vaccine-covi...  \n",
              "1012  https://vnexpress.net/tu-van-tiem-vaccine-covi...  \n",
              "1013  https://vnexpress.net/tu-van-tiem-vaccine-covi...  \n",
              "1014  https://vnexpress.net/tu-van-tiem-vaccine-covi...  \n",
              "1015  https://vnexpress.net/tu-van-tiem-vaccine-covi...  "
            ]
          },
          "metadata": {},
          "execution_count": 87
        }
      ]
    },
    {
      "cell_type": "code",
      "source": [
        "# short_question\n",
        "for i in range(len(df_train)):\n",
        "  df_train['short_question'][i] = df_train['short_question'][i].strip()\n",
        "  df_train['short_question'][i] = df_train['short_question'][i].lower()\n",
        "  df_train['short_question'][i] = df_train['short_question'][i].replace(\"\\n\", \"\")\n",
        "  df_train['short_question'][i] = re.sub(r'[^\\w\\s]','', df_train['short_question'][i])\n",
        "  # long_question\n",
        "  df_train['long_question'][i] = df_train['long_question'][i].strip()\n",
        "  df_train['long_question'][i] = df_train['long_question'][i].lower()\n",
        "  df_train['long_question'][i] = df_train['long_question'][i].replace(\"\\n\", \"\")\n",
        "  df_train['long_question'][i] = re.sub(r'[^\\w\\s]','', df_train['long_question'][i])\n",
        "  # answer\n",
        "  df_train['answer'][i] = df_train['answer'][i].strip()\n",
        "  df_train['answer'][i] = df_train['answer'][i].lower()\n",
        "  df_train['answer'][i] = df_train['answer'][i].replace(\"\\n\", \"\")\n",
        "  df_train['answer'][i] = re.sub(r'[^\\w\\s]','', df_train['answer'][i])\n"
      ],
      "metadata": {
        "id": "nPeY6FyQ6NVK"
      },
      "execution_count": 88,
      "outputs": []
    },
    {
      "cell_type": "code",
      "source": [
        "df_train = df_train.dropna()\n",
        "df_train = df_train.drop_duplicates()\n",
        "df_test = df_test.dropna()\n",
        "df_test = df_test.drop_duplicates()\n",
        "df_val = df_val.dropna()\n",
        "df_val = df_val.drop_duplicates()"
      ],
      "metadata": {
        "id": "2nZ3vXao71Ej"
      },
      "execution_count": 89,
      "outputs": []
    },
    {
      "cell_type": "code",
      "source": [
        "len(df_train)"
      ],
      "metadata": {
        "id": "dAI0qtMJ84W4",
        "colab": {
          "base_uri": "https://localhost:8080/"
        },
        "outputId": "43245e1f-9562-4e6b-8364-a914185cb40b"
      },
      "execution_count": 90,
      "outputs": [
        {
          "output_type": "execute_result",
          "data": {
            "text/plain": [
              "1016"
            ]
          },
          "metadata": {},
          "execution_count": 90
        }
      ]
    },
    {
      "cell_type": "markdown",
      "source": [
        "### Tokenize"
      ],
      "metadata": {
        "id": "uhkXfIGfUM4u"
      }
    },
    {
      "cell_type": "code",
      "source": [
        "pip install pyvi\n"
      ],
      "metadata": {
        "colab": {
          "base_uri": "https://localhost:8080/"
        },
        "id": "oOFLn-ev17UI",
        "outputId": "a9bb0757-4c01-4ef9-8259-d2d22d6160dc"
      },
      "execution_count": 91,
      "outputs": [
        {
          "output_type": "stream",
          "name": "stdout",
          "text": [
            "Requirement already satisfied: pyvi in /usr/local/lib/python3.7/dist-packages (0.1.1)\n",
            "Requirement already satisfied: scikit-learn in /usr/local/lib/python3.7/dist-packages (from pyvi) (1.0.2)\n",
            "Requirement already satisfied: sklearn-crfsuite in /usr/local/lib/python3.7/dist-packages (from pyvi) (0.3.6)\n",
            "Requirement already satisfied: threadpoolctl>=2.0.0 in /usr/local/lib/python3.7/dist-packages (from scikit-learn->pyvi) (3.1.0)\n",
            "Requirement already satisfied: joblib>=0.11 in /usr/local/lib/python3.7/dist-packages (from scikit-learn->pyvi) (1.1.0)\n",
            "Requirement already satisfied: numpy>=1.14.6 in /usr/local/lib/python3.7/dist-packages (from scikit-learn->pyvi) (1.21.5)\n",
            "Requirement already satisfied: scipy>=1.1.0 in /usr/local/lib/python3.7/dist-packages (from scikit-learn->pyvi) (1.4.1)\n",
            "Requirement already satisfied: python-crfsuite>=0.8.3 in /usr/local/lib/python3.7/dist-packages (from sklearn-crfsuite->pyvi) (0.9.7)\n",
            "Requirement already satisfied: six in /usr/local/lib/python3.7/dist-packages (from sklearn-crfsuite->pyvi) (1.15.0)\n",
            "Requirement already satisfied: tabulate in /usr/local/lib/python3.7/dist-packages (from sklearn-crfsuite->pyvi) (0.8.9)\n",
            "Requirement already satisfied: tqdm>=2.0 in /usr/local/lib/python3.7/dist-packages (from sklearn-crfsuite->pyvi) (4.63.0)\n"
          ]
        }
      ]
    },
    {
      "cell_type": "code",
      "source": [
        "from pyvi import ViTokenizer\n",
        "df_train[\"long_tokenize\"] = \"\"\n",
        "df_train[\"answer_tokenize\"] = \"\"\n",
        "for i in range(len(df_train[\"long_question\"])):\n",
        "  try:\n",
        "    df_train[\"long_tokenize\"][i] = ViTokenizer.tokenize(str(df_train[\"long_question\"][i]))\n",
        "  except:\n",
        "    print('..')\n",
        "for i in range(len(df_train[\"answer\"])):\n",
        "  try:\n",
        "    df_train[\"answer_tokenize\"][i] = ViTokenizer.tokenize(str(df_train[\"answer\"][i]))\n",
        "  except:\n",
        "    print('..')"
      ],
      "metadata": {
        "id": "j_uQEkKD2L1B"
      },
      "execution_count": 92,
      "outputs": []
    },
    {
      "cell_type": "code",
      "source": [
        "df_train"
      ],
      "metadata": {
        "colab": {
          "base_uri": "https://localhost:8080/",
          "height": 814
        },
        "id": "KW6y_Vw8Dvlx",
        "outputId": "9f279e52-8210-4310-ddbd-781748622381"
      },
      "execution_count": 93,
      "outputs": [
        {
          "output_type": "execute_result",
          "data": {
            "text/html": [
              "\n",
              "  <div id=\"df-8ad11b4d-eba9-410b-bec4-3759df54dc2a\">\n",
              "    <div class=\"colab-df-container\">\n",
              "      <div>\n",
              "<style scoped>\n",
              "    .dataframe tbody tr th:only-of-type {\n",
              "        vertical-align: middle;\n",
              "    }\n",
              "\n",
              "    .dataframe tbody tr th {\n",
              "        vertical-align: top;\n",
              "    }\n",
              "\n",
              "    .dataframe thead th {\n",
              "        text-align: right;\n",
              "    }\n",
              "</style>\n",
              "<table border=\"1\" class=\"dataframe\">\n",
              "  <thead>\n",
              "    <tr style=\"text-align: right;\">\n",
              "      <th></th>\n",
              "      <th>short_question</th>\n",
              "      <th>long_question</th>\n",
              "      <th>answer</th>\n",
              "      <th>link</th>\n",
              "      <th>long_tokenize</th>\n",
              "      <th>answer_tokenize</th>\n",
              "    </tr>\n",
              "  </thead>\n",
              "  <tbody>\n",
              "    <tr>\n",
              "      <th>0</th>\n",
              "      <td>bìu dương vật sưng to cứng và tinh hoàn không ...</td>\n",
              "      <td>xin chào bác sĩ cho em hỏi bìu dương vật sưng ...</td>\n",
              "      <td>chào em với câu hỏi bìu dương vật sưng to cứng...</td>\n",
              "      <td>https://www.vinmec.com/vi/tin-tuc/hoi-dap-bac-...</td>\n",
              "      <td>xin chào bác_sĩ cho em hỏi bìu dương_vật sưng ...</td>\n",
              "      <td>chào em với câu hỏi bìu dương_vật sưng to cứng...</td>\n",
              "    </tr>\n",
              "    <tr>\n",
              "      <th>1</th>\n",
              "      <td>trẻ sơ sinh vàng da vàng mắt mức độ nhẹ có đán...</td>\n",
              "      <td>em chào bác sĩ bé gái nhà em khi sinh được 36 ...</td>\n",
              "      <td>chào bạn vàng da là tình trạng rất phổ biến ở ...</td>\n",
              "      <td>https://www.vinmec.com/vi/tin-tuc/hoi-dap-bac-...</td>\n",
              "      <td>em chào bác_sĩ bé gái nhà em khi sinh được 36 ...</td>\n",
              "      <td>chào bạn vàng da là tình_trạng rất phổ_biến ở ...</td>\n",
              "    </tr>\n",
              "    <tr>\n",
              "      <th>2</th>\n",
              "      <td>bị đau mắt đỏ nhỏ thuốc mỡ chlorocinah có khỏi...</td>\n",
              "      <td>chào dược sĩ con tôi bị đau mắt đỏ dược  sĩ ch...</td>\n",
              "      <td>chào bạn với câu hỏi của bạn dược sĩ xin tư vấ...</td>\n",
              "      <td>https://www.vinmec.com/vi/tin-tuc/hoi-dap-bac-...</td>\n",
              "      <td>chào dược_sĩ con tôi bị đau mắt đỏ dược_sĩ cho...</td>\n",
              "      <td>chào bạn với câu hỏi của bạn dược_sĩ xin tư_vấ...</td>\n",
              "    </tr>\n",
              "    <tr>\n",
              "      <th>3</th>\n",
              "      <td>tự nhiên xuất hiện vết bầm kèm xuất huyết là b...</td>\n",
              "      <td>chào bác sĩgần 2 tháng trở lại đây em có triệu...</td>\n",
              "      <td>được giải đáp bởi bác sĩ lê thị thanh hương  b...</td>\n",
              "      <td>https://www.vinmec.com/vi/tin-tuc/hoi-dap-bac-...</td>\n",
              "      <td>chào bác sĩgần 2 tháng trở_lại đây em có triệu...</td>\n",
              "      <td>được giải_đáp bởi bác_sĩ lê thị thanh hương bá...</td>\n",
              "    </tr>\n",
              "    <tr>\n",
              "      <th>4</th>\n",
              "      <td>điều trị dứt điểm huyết khối tĩnh mạch chi như...</td>\n",
              "      <td>chào bác sĩem bị huyết khối tĩnh mạch chi dưới...</td>\n",
              "      <td>chào bạnvới câu hỏi  bác sĩ xin được trả lời n...</td>\n",
              "      <td>https://www.vinmec.com/vi/tin-tuc/hoi-dap-bac-...</td>\n",
              "      <td>chào bác sĩem bị huyết khối tĩnh_mạch chi dưới...</td>\n",
              "      <td>chào bạnvới câu hỏi bác_sĩ xin được trả_lời nh...</td>\n",
              "    </tr>\n",
              "    <tr>\n",
              "      <th>...</th>\n",
              "      <td>...</td>\n",
              "      <td>...</td>\n",
              "      <td>...</td>\n",
              "      <td>...</td>\n",
              "      <td>...</td>\n",
              "      <td>...</td>\n",
              "    </tr>\n",
              "    <tr>\n",
              "      <th>1011</th>\n",
              "      <td>none</td>\n",
              "      <td>tôi có tiền sử tiểu cầu thấp plt 130000140000 ...</td>\n",
              "      <td>chào anhtình trạng tiểu cầu của anh dưới ngưỡn...</td>\n",
              "      <td>https://vnexpress.net/tu-van-tiem-vaccine-covi...</td>\n",
              "      <td>tôi có tiền_sử tiểu_cầu thấp plt 130000140000 ...</td>\n",
              "      <td>chào anhtình trạng tiểu_cầu của anh dưới ngưỡn...</td>\n",
              "    </tr>\n",
              "    <tr>\n",
              "      <th>1012</th>\n",
              "      <td>none</td>\n",
              "      <td>tôi bị huyết áp cao phải uống thuốc hàng ngày ...</td>\n",
              "      <td>chào anhviệc uống thuốc huyết áp duy trì hàng ...</td>\n",
              "      <td>https://vnexpress.net/tu-van-tiem-vaccine-covi...</td>\n",
              "      <td>tôi bị huyết_áp_cao phải uống thuốc hàng ngày ...</td>\n",
              "      <td>chào anhviệc uống thuốc huyết_áp duy_trì hàng ...</td>\n",
              "    </tr>\n",
              "    <tr>\n",
              "      <th>1013</th>\n",
              "      <td>none</td>\n",
              "      <td>vaccine astrazeneca tôi thấy ở nước ngoài chỉ ...</td>\n",
              "      <td>chào bạntheo thông tin kê toa của nhà sản xuất...</td>\n",
              "      <td>https://vnexpress.net/tu-van-tiem-vaccine-covi...</td>\n",
              "      <td>vaccine astrazeneca tôi thấy ở nước_ngoài chỉ_...</td>\n",
              "      <td>chào bạntheo thông_tin kê toa của nhà sản_xuất...</td>\n",
              "    </tr>\n",
              "    <tr>\n",
              "      <th>1014</th>\n",
              "      <td>none</td>\n",
              "      <td>em 33 tuổi cao 168 m nặng 90 kg bị dị ứng với ...</td>\n",
              "      <td>chào anhchịtheo mô tả thì trường hợp dị ứng củ...</td>\n",
              "      <td>https://vnexpress.net/tu-van-tiem-vaccine-covi...</td>\n",
              "      <td>em 33 tuổi cao 168 m nặng 90 kg bị dị_ứng với ...</td>\n",
              "      <td>chào anhchịtheo mô_tả thì trường_hợp dị_ứng củ...</td>\n",
              "    </tr>\n",
              "    <tr>\n",
              "      <th>1015</th>\n",
              "      <td>none</td>\n",
              "      <td>tôi thỉnh thoảng bị dị ứng ngứa nổi mẩn đặc bi...</td>\n",
              "      <td>chào anhtheo hướng dẫn của bộ y tế anh thuộc đ...</td>\n",
              "      <td>https://vnexpress.net/tu-van-tiem-vaccine-covi...</td>\n",
              "      <td>tôi thỉnh_thoảng bị dị_ứng ngứa nổi mẩn đặc_bi...</td>\n",
              "      <td>chào anhtheo hướng_dẫn của bộ y_tế anh thuộc đ...</td>\n",
              "    </tr>\n",
              "  </tbody>\n",
              "</table>\n",
              "<p>1016 rows × 6 columns</p>\n",
              "</div>\n",
              "      <button class=\"colab-df-convert\" onclick=\"convertToInteractive('df-8ad11b4d-eba9-410b-bec4-3759df54dc2a')\"\n",
              "              title=\"Convert this dataframe to an interactive table.\"\n",
              "              style=\"display:none;\">\n",
              "        \n",
              "  <svg xmlns=\"http://www.w3.org/2000/svg\" height=\"24px\"viewBox=\"0 0 24 24\"\n",
              "       width=\"24px\">\n",
              "    <path d=\"M0 0h24v24H0V0z\" fill=\"none\"/>\n",
              "    <path d=\"M18.56 5.44l.94 2.06.94-2.06 2.06-.94-2.06-.94-.94-2.06-.94 2.06-2.06.94zm-11 1L8.5 8.5l.94-2.06 2.06-.94-2.06-.94L8.5 2.5l-.94 2.06-2.06.94zm10 10l.94 2.06.94-2.06 2.06-.94-2.06-.94-.94-2.06-.94 2.06-2.06.94z\"/><path d=\"M17.41 7.96l-1.37-1.37c-.4-.4-.92-.59-1.43-.59-.52 0-1.04.2-1.43.59L10.3 9.45l-7.72 7.72c-.78.78-.78 2.05 0 2.83L4 21.41c.39.39.9.59 1.41.59.51 0 1.02-.2 1.41-.59l7.78-7.78 2.81-2.81c.8-.78.8-2.07 0-2.86zM5.41 20L4 18.59l7.72-7.72 1.47 1.35L5.41 20z\"/>\n",
              "  </svg>\n",
              "      </button>\n",
              "      \n",
              "  <style>\n",
              "    .colab-df-container {\n",
              "      display:flex;\n",
              "      flex-wrap:wrap;\n",
              "      gap: 12px;\n",
              "    }\n",
              "\n",
              "    .colab-df-convert {\n",
              "      background-color: #E8F0FE;\n",
              "      border: none;\n",
              "      border-radius: 50%;\n",
              "      cursor: pointer;\n",
              "      display: none;\n",
              "      fill: #1967D2;\n",
              "      height: 32px;\n",
              "      padding: 0 0 0 0;\n",
              "      width: 32px;\n",
              "    }\n",
              "\n",
              "    .colab-df-convert:hover {\n",
              "      background-color: #E2EBFA;\n",
              "      box-shadow: 0px 1px 2px rgba(60, 64, 67, 0.3), 0px 1px 3px 1px rgba(60, 64, 67, 0.15);\n",
              "      fill: #174EA6;\n",
              "    }\n",
              "\n",
              "    [theme=dark] .colab-df-convert {\n",
              "      background-color: #3B4455;\n",
              "      fill: #D2E3FC;\n",
              "    }\n",
              "\n",
              "    [theme=dark] .colab-df-convert:hover {\n",
              "      background-color: #434B5C;\n",
              "      box-shadow: 0px 1px 3px 1px rgba(0, 0, 0, 0.15);\n",
              "      filter: drop-shadow(0px 1px 2px rgba(0, 0, 0, 0.3));\n",
              "      fill: #FFFFFF;\n",
              "    }\n",
              "  </style>\n",
              "\n",
              "      <script>\n",
              "        const buttonEl =\n",
              "          document.querySelector('#df-8ad11b4d-eba9-410b-bec4-3759df54dc2a button.colab-df-convert');\n",
              "        buttonEl.style.display =\n",
              "          google.colab.kernel.accessAllowed ? 'block' : 'none';\n",
              "\n",
              "        async function convertToInteractive(key) {\n",
              "          const element = document.querySelector('#df-8ad11b4d-eba9-410b-bec4-3759df54dc2a');\n",
              "          const dataTable =\n",
              "            await google.colab.kernel.invokeFunction('convertToInteractive',\n",
              "                                                     [key], {});\n",
              "          if (!dataTable) return;\n",
              "\n",
              "          const docLinkHtml = 'Like what you see? Visit the ' +\n",
              "            '<a target=\"_blank\" href=https://colab.research.google.com/notebooks/data_table.ipynb>data table notebook</a>'\n",
              "            + ' to learn more about interactive tables.';\n",
              "          element.innerHTML = '';\n",
              "          dataTable['output_type'] = 'display_data';\n",
              "          await google.colab.output.renderOutput(dataTable, element);\n",
              "          const docLink = document.createElement('div');\n",
              "          docLink.innerHTML = docLinkHtml;\n",
              "          element.appendChild(docLink);\n",
              "        }\n",
              "      </script>\n",
              "    </div>\n",
              "  </div>\n",
              "  "
            ],
            "text/plain": [
              "                                         short_question  \\\n",
              "0     bìu dương vật sưng to cứng và tinh hoàn không ...   \n",
              "1     trẻ sơ sinh vàng da vàng mắt mức độ nhẹ có đán...   \n",
              "2     bị đau mắt đỏ nhỏ thuốc mỡ chlorocinah có khỏi...   \n",
              "3     tự nhiên xuất hiện vết bầm kèm xuất huyết là b...   \n",
              "4     điều trị dứt điểm huyết khối tĩnh mạch chi như...   \n",
              "...                                                 ...   \n",
              "1011                                               none   \n",
              "1012                                               none   \n",
              "1013                                               none   \n",
              "1014                                               none   \n",
              "1015                                               none   \n",
              "\n",
              "                                          long_question  \\\n",
              "0     xin chào bác sĩ cho em hỏi bìu dương vật sưng ...   \n",
              "1     em chào bác sĩ bé gái nhà em khi sinh được 36 ...   \n",
              "2     chào dược sĩ con tôi bị đau mắt đỏ dược  sĩ ch...   \n",
              "3     chào bác sĩgần 2 tháng trở lại đây em có triệu...   \n",
              "4     chào bác sĩem bị huyết khối tĩnh mạch chi dưới...   \n",
              "...                                                 ...   \n",
              "1011  tôi có tiền sử tiểu cầu thấp plt 130000140000 ...   \n",
              "1012  tôi bị huyết áp cao phải uống thuốc hàng ngày ...   \n",
              "1013  vaccine astrazeneca tôi thấy ở nước ngoài chỉ ...   \n",
              "1014  em 33 tuổi cao 168 m nặng 90 kg bị dị ứng với ...   \n",
              "1015  tôi thỉnh thoảng bị dị ứng ngứa nổi mẩn đặc bi...   \n",
              "\n",
              "                                                 answer  \\\n",
              "0     chào em với câu hỏi bìu dương vật sưng to cứng...   \n",
              "1     chào bạn vàng da là tình trạng rất phổ biến ở ...   \n",
              "2     chào bạn với câu hỏi của bạn dược sĩ xin tư vấ...   \n",
              "3     được giải đáp bởi bác sĩ lê thị thanh hương  b...   \n",
              "4     chào bạnvới câu hỏi  bác sĩ xin được trả lời n...   \n",
              "...                                                 ...   \n",
              "1011  chào anhtình trạng tiểu cầu của anh dưới ngưỡn...   \n",
              "1012  chào anhviệc uống thuốc huyết áp duy trì hàng ...   \n",
              "1013  chào bạntheo thông tin kê toa của nhà sản xuất...   \n",
              "1014  chào anhchịtheo mô tả thì trường hợp dị ứng củ...   \n",
              "1015  chào anhtheo hướng dẫn của bộ y tế anh thuộc đ...   \n",
              "\n",
              "                                                   link  \\\n",
              "0     https://www.vinmec.com/vi/tin-tuc/hoi-dap-bac-...   \n",
              "1     https://www.vinmec.com/vi/tin-tuc/hoi-dap-bac-...   \n",
              "2     https://www.vinmec.com/vi/tin-tuc/hoi-dap-bac-...   \n",
              "3     https://www.vinmec.com/vi/tin-tuc/hoi-dap-bac-...   \n",
              "4     https://www.vinmec.com/vi/tin-tuc/hoi-dap-bac-...   \n",
              "...                                                 ...   \n",
              "1011  https://vnexpress.net/tu-van-tiem-vaccine-covi...   \n",
              "1012  https://vnexpress.net/tu-van-tiem-vaccine-covi...   \n",
              "1013  https://vnexpress.net/tu-van-tiem-vaccine-covi...   \n",
              "1014  https://vnexpress.net/tu-van-tiem-vaccine-covi...   \n",
              "1015  https://vnexpress.net/tu-van-tiem-vaccine-covi...   \n",
              "\n",
              "                                          long_tokenize  \\\n",
              "0     xin chào bác_sĩ cho em hỏi bìu dương_vật sưng ...   \n",
              "1     em chào bác_sĩ bé gái nhà em khi sinh được 36 ...   \n",
              "2     chào dược_sĩ con tôi bị đau mắt đỏ dược_sĩ cho...   \n",
              "3     chào bác sĩgần 2 tháng trở_lại đây em có triệu...   \n",
              "4     chào bác sĩem bị huyết khối tĩnh_mạch chi dưới...   \n",
              "...                                                 ...   \n",
              "1011  tôi có tiền_sử tiểu_cầu thấp plt 130000140000 ...   \n",
              "1012  tôi bị huyết_áp_cao phải uống thuốc hàng ngày ...   \n",
              "1013  vaccine astrazeneca tôi thấy ở nước_ngoài chỉ_...   \n",
              "1014  em 33 tuổi cao 168 m nặng 90 kg bị dị_ứng với ...   \n",
              "1015  tôi thỉnh_thoảng bị dị_ứng ngứa nổi mẩn đặc_bi...   \n",
              "\n",
              "                                        answer_tokenize  \n",
              "0     chào em với câu hỏi bìu dương_vật sưng to cứng...  \n",
              "1     chào bạn vàng da là tình_trạng rất phổ_biến ở ...  \n",
              "2     chào bạn với câu hỏi của bạn dược_sĩ xin tư_vấ...  \n",
              "3     được giải_đáp bởi bác_sĩ lê thị thanh hương bá...  \n",
              "4     chào bạnvới câu hỏi bác_sĩ xin được trả_lời nh...  \n",
              "...                                                 ...  \n",
              "1011  chào anhtình trạng tiểu_cầu của anh dưới ngưỡn...  \n",
              "1012  chào anhviệc uống thuốc huyết_áp duy_trì hàng ...  \n",
              "1013  chào bạntheo thông_tin kê toa của nhà sản_xuất...  \n",
              "1014  chào anhchịtheo mô_tả thì trường_hợp dị_ứng củ...  \n",
              "1015  chào anhtheo hướng_dẫn của bộ y_tế anh thuộc đ...  \n",
              "\n",
              "[1016 rows x 6 columns]"
            ]
          },
          "metadata": {},
          "execution_count": 93
        }
      ]
    },
    {
      "cell_type": "markdown",
      "source": [
        "### Write stopwords list to file"
      ],
      "metadata": {
        "id": "WPe6q1AhUbQO"
      }
    },
    {
      "cell_type": "code",
      "source": [
        "def get_stopwords(documents, threshold=3):\n",
        "    \"\"\"\n",
        "    :param documents: list of documents\n",
        "    :param threshold:\n",
        "    :return: list of words has idf <= threshold\n",
        "    \"\"\"\n",
        "    tfidf = TfidfVectorizer(min_df=5)\n",
        "    tfidf_matrix = tfidf.fit_transform(documents)\n",
        "    features = tfidf.get_feature_names()\n",
        "    stopwords = []\n",
        "    print(min(tfidf.idf_), max(tfidf.idf_), len(features))\n",
        "    for index, feature in enumerate(features):\n",
        "        if tfidf.idf_[index] <= threshold:\n",
        "            stopwords.append(feature)\n",
        "    return stopwords"
      ],
      "metadata": {
        "id": "5Wd-zFiNcMjz"
      },
      "execution_count": 94,
      "outputs": []
    },
    {
      "cell_type": "code",
      "source": [
        "# from sklearn.feature_extraction.text import TfidfVectorizer\n",
        "# from nltk.corpus import stopwords\n",
        "\n",
        "# stopwords = get_stopwords(df_train[\"long_tokenize\"], threshold=3)\n",
        "# stopwords = stopwords + get_stopwords(df_train[\"long_question\"], threshold=3)\n",
        "# stopwords = stopwords + get_stopwords(df_train[\"answer\"], threshold=3)\n",
        "# with open('stopwords.txt', 'w', encoding='utf8') as fp:\n",
        "#     for word in stopwords:\n",
        "#         fp.write(word + '\\n')"
      ],
      "metadata": {
        "id": "0wo00joRC53J"
      },
      "execution_count": 95,
      "outputs": []
    },
    {
      "cell_type": "markdown",
      "source": [
        "### Read stopword file"
      ],
      "metadata": {
        "id": "5ssRoCQlUoEg"
      }
    },
    {
      "cell_type": "code",
      "source": [
        "for i in range(len(df_train[\"long_tokenize\"])):\n",
        "  try:\n",
        "    df_train[\"long_tokenize\"][i] = df_train[\"long_tokenize\"][i].split(\" \")\n",
        "  except:\n",
        "    print('ok')\n",
        "for i in range(len(df_train[\"answer_tokenize\"])):\n",
        "  try:\n",
        "    df_train[\"answer_tokenize\"][i] = df_train[\"answer_tokenize\"][i].split(\" \")\n",
        "  except:\n",
        "    print('ok')"
      ],
      "metadata": {
        "id": "3YVlMKwqFAPf"
      },
      "execution_count": 96,
      "outputs": []
    },
    {
      "cell_type": "code",
      "source": [
        "with open('/content/drive/MyDrive/QA_KLTN/Dataset/stopwords.txt') as f:\n",
        "    lines = f.readlines()\n"
      ],
      "metadata": {
        "id": "dh8t5RgqJd14"
      },
      "execution_count": 97,
      "outputs": []
    },
    {
      "cell_type": "code",
      "source": [
        "for i in range(len(lines)):\n",
        "  lines[i] = (lines[i].rstrip(\"\\n\"))"
      ],
      "metadata": {
        "id": "Yqqq2LZfUAOE"
      },
      "execution_count": 98,
      "outputs": []
    },
    {
      "cell_type": "code",
      "source": [
        "len(lines)"
      ],
      "metadata": {
        "colab": {
          "base_uri": "https://localhost:8080/"
        },
        "id": "rISjDRYkcjAv",
        "outputId": "e5421c08-f89a-4a93-c9ae-ccbf5fb78108"
      },
      "execution_count": 99,
      "outputs": [
        {
          "output_type": "execute_result",
          "data": {
            "text/plain": [
              "315"
            ]
          },
          "metadata": {},
          "execution_count": 99
        }
      ]
    },
    {
      "cell_type": "markdown",
      "source": [
        "### Remove stopwords"
      ],
      "metadata": {
        "id": "4uxBzCkQU7KI"
      }
    },
    {
      "cell_type": "code",
      "source": [
        "import re\n",
        "long_tokenize = ''\n",
        "answer_tokenize = ''\n",
        "for i in range(len(df_train[\"long_tokenize\"])):\n",
        "  try:\n",
        "    for word in df_train[\"long_tokenize\"][i]:\n",
        "      #remove stopword\n",
        "      if (word in lines):\n",
        "        long_tokenize = [word for word in df_train[\"long_tokenize\"][i] if word not in lines]\n",
        "    df_train[\"long_tokenize\"][i] = long_tokenize\n",
        "  except: \n",
        "    print('err')\n",
        "for i in range(len(df_train[\"answer_tokenize\"])):\n",
        "  try:\n",
        "    for word in df_train[\"answer_tokenize\"][i]:\n",
        "      #remove stopword\n",
        "      if (word in lines):\n",
        "        answer_tokenize = [word for word in df_train[\"answer_tokenize\"][i] if word not in lines]  \n",
        "    df_train[\"answer_tokenize\"][i] = answer_tokenize \n",
        "  except: \n",
        "    print('err')"
      ],
      "metadata": {
        "id": "TiG_GCFzOEAA"
      },
      "execution_count": 100,
      "outputs": []
    },
    {
      "cell_type": "code",
      "source": [
        "lines"
      ],
      "metadata": {
        "colab": {
          "base_uri": "https://localhost:8080/"
        },
        "id": "ZdEDnqFQYPZv",
        "outputId": "b4bfeb60-21ff-4f6a-c450-16268f80b71d"
      },
      "execution_count": 101,
      "outputs": [
        {
          "output_type": "execute_result",
          "data": {
            "text/plain": [
              "['bác',\n",
              " 'bác_sĩ',\n",
              " 'bệnh',\n",
              " 'bị',\n",
              " 'cho',\n",
              " 'chào',\n",
              " 'cháu',\n",
              " 'covid19',\n",
              " 'có',\n",
              " 'có_thể',\n",
              " 'cảm_ơn',\n",
              " 'của',\n",
              " 'em',\n",
              " 'giúp',\n",
              " 'gì',\n",
              " 'hay',\n",
              " 'hỏi',\n",
              " 'hỏichào',\n",
              " 'khi',\n",
              " 'khám',\n",
              " 'không',\n",
              " 'là',\n",
              " 'làm',\n",
              " 'lại',\n",
              " 'mong',\n",
              " 'nay',\n",
              " 'ngày',\n",
              " 'nhiều',\n",
              " 'như',\n",
              " 'nhưng',\n",
              " 'nên',\n",
              " 'năm',\n",
              " 'phải',\n",
              " 'rất',\n",
              " 'sau',\n",
              " 'thuốc',\n",
              " 'tháng',\n",
              " 'thì',\n",
              " 'tiêm',\n",
              " 'tuổi',\n",
              " 'tôi',\n",
              " 'tư_vấn',\n",
              " 'uống',\n",
              " 'vaccine',\n",
              " 'viêm',\n",
              " 'và',\n",
              " 'vậy',\n",
              " 'xin',\n",
              " 'đang',\n",
              " 'đau',\n",
              " 'đi',\n",
              " 'điều_trị',\n",
              " 'đã',\n",
              " 'được',\n",
              " 'đến',\n",
              " 'để',\n",
              " 'ẩn_danh',\n",
              " 'bác',\n",
              " 'bệnh',\n",
              " 'bị',\n",
              " 'cho',\n",
              " 'chào',\n",
              " 'cháu',\n",
              " 'covid19',\n",
              " 'có',\n",
              " 'cảm',\n",
              " 'của',\n",
              " 'danh',\n",
              " 'em',\n",
              " 'giúp',\n",
              " 'gì',\n",
              " 'hay',\n",
              " 'hiện',\n",
              " 'hàng',\n",
              " 'hỏi',\n",
              " 'hỏichào',\n",
              " 'khi',\n",
              " 'khám',\n",
              " 'không',\n",
              " 'là',\n",
              " 'làm',\n",
              " 'lại',\n",
              " 'mong',\n",
              " 'nay',\n",
              " 'ngày',\n",
              " 'nhiều',\n",
              " 'như',\n",
              " 'nhưng',\n",
              " 'nào',\n",
              " 'nên',\n",
              " 'năm',\n",
              " 'phải',\n",
              " 'rất',\n",
              " 'sao',\n",
              " 'sau',\n",
              " 'sinh',\n",
              " 'sĩ',\n",
              " 'thuốc',\n",
              " 'tháng',\n",
              " 'thì',\n",
              " 'thường',\n",
              " 'thấy',\n",
              " 'thế',\n",
              " 'thể',\n",
              " 'tiêm',\n",
              " 'trị',\n",
              " 'tuổi',\n",
              " 'tôi',\n",
              " 'tư',\n",
              " 'uống',\n",
              " 'vaccine',\n",
              " 'viêm',\n",
              " 'và',\n",
              " 'vấn',\n",
              " 'vậy',\n",
              " 'xin',\n",
              " 'đang',\n",
              " 'đau',\n",
              " 'đi',\n",
              " 'điều',\n",
              " 'đã',\n",
              " 'được',\n",
              " 'đầu',\n",
              " 'đến',\n",
              " 'để',\n",
              " 'ơn',\n",
              " 'ẩn',\n",
              " 'bác',\n",
              " 'bình',\n",
              " 'bạn',\n",
              " 'bạnvới',\n",
              " 'bệnh',\n",
              " 'bị',\n",
              " 'bộ',\n",
              " 'bởi',\n",
              " 'cho',\n",
              " 'chuyên',\n",
              " 'chào',\n",
              " 'chính',\n",
              " 'chúc',\n",
              " 'chưa',\n",
              " 'chẩn',\n",
              " 'chỉ',\n",
              " 'chứng',\n",
              " 'covid19',\n",
              " 'các',\n",
              " 'câu',\n",
              " 'còn',\n",
              " 'có',\n",
              " 'cũng',\n",
              " 'cơ',\n",
              " 'cảm',\n",
              " 'cấp',\n",
              " 'cần',\n",
              " 'cụ',\n",
              " 'của',\n",
              " 'do',\n",
              " 'dẫn',\n",
              " 'dụng',\n",
              " 'giá',\n",
              " 'giải',\n",
              " 'gây',\n",
              " 'gì',\n",
              " 'gặp',\n",
              " 'gửi',\n",
              " 'hay',\n",
              " 'hiện',\n",
              " 'hiệu',\n",
              " 'hoặc',\n",
              " 'hơn',\n",
              " 'hướng',\n",
              " 'hệ',\n",
              " 'hỏi',\n",
              " 'hợp',\n",
              " 'khi',\n",
              " 'khoa',\n",
              " 'khác',\n",
              " 'khám',\n",
              " 'không',\n",
              " 'khỏe',\n",
              " 'khỏetrân',\n",
              " 'kinh',\n",
              " 'kiểm',\n",
              " 'kết',\n",
              " 'liên',\n",
              " 'loại',\n",
              " 'là',\n",
              " 'làm',\n",
              " 'lý',\n",
              " 'lại',\n",
              " 'mà',\n",
              " 'máu',\n",
              " 'mắc',\n",
              " 'một',\n",
              " 'nghiệm',\n",
              " 'ngoài',\n",
              " 'nguyên',\n",
              " 'nguyễn',\n",
              " 'ngày',\n",
              " 'người',\n",
              " 'nhiên',\n",
              " 'nhiều',\n",
              " 'nhiễm',\n",
              " 'nhân',\n",
              " 'như',\n",
              " 'nhưng',\n",
              " 'nhất',\n",
              " 'những',\n",
              " 'nào',\n",
              " 'này',\n",
              " 'nên',\n",
              " 'năng',\n",
              " 'nếu',\n",
              " 'nội',\n",
              " 'pháp',\n",
              " 'phát',\n",
              " 'phòng',\n",
              " 'phù',\n",
              " 'phương',\n",
              " 'phải',\n",
              " 'quan',\n",
              " 'quả',\n",
              " 'quốc',\n",
              " 'ra',\n",
              " 'rất',\n",
              " 'sau',\n",
              " 'sinh',\n",
              " 'sĩ',\n",
              " 'sẽ',\n",
              " 'số',\n",
              " 'sở',\n",
              " 'sức',\n",
              " 'sử',\n",
              " 'theo',\n",
              " 'thuốc',\n",
              " 'thuộc',\n",
              " 'thêm',\n",
              " 'thì',\n",
              " 'thông',\n",
              " 'thăm',\n",
              " 'thường',\n",
              " 'thạc',\n",
              " 'thật',\n",
              " 'thắc',\n",
              " 'thế',\n",
              " 'thể',\n",
              " 'thị',\n",
              " 'thống',\n",
              " 'thời',\n",
              " 'thực',\n",
              " 'tin',\n",
              " 'tiêm',\n",
              " 'tiếp',\n",
              " 'tiết',\n",
              " 'toàn',\n",
              " 'tra',\n",
              " 'triệu',\n",
              " 'trong',\n",
              " 'trân',\n",
              " 'trên',\n",
              " 'trước',\n",
              " 'trường',\n",
              " 'trạng',\n",
              " 'trị',\n",
              " 'trọng',\n",
              " 'trọngđược',\n",
              " 'tuy',\n",
              " 'tình',\n",
              " 'tính',\n",
              " 'tư',\n",
              " 'tưởng',\n",
              " 'tại',\n",
              " 'tế',\n",
              " 'tốt',\n",
              " 'tổng',\n",
              " 'tới',\n",
              " 'từ',\n",
              " 'vaccine',\n",
              " 'vinmec',\n",
              " 'viêm',\n",
              " 'việc',\n",
              " 'viện',\n",
              " 'và',\n",
              " 'vào',\n",
              " 'vì',\n",
              " 'vấn',\n",
              " 'vẫn',\n",
              " 'vậy',\n",
              " 'về',\n",
              " 'với',\n",
              " 'xin',\n",
              " 'xác',\n",
              " 'xét',\n",
              " 'đa',\n",
              " 'đang',\n",
              " 'đau',\n",
              " 'đi',\n",
              " 'điều',\n",
              " 'đoán',\n",
              " 'đánh',\n",
              " 'đáp',\n",
              " 'đã',\n",
              " 'đó',\n",
              " 'đưa',\n",
              " 'được',\n",
              " 'đầu',\n",
              " 'đặt',\n",
              " 'đến',\n",
              " 'để',\n",
              " 'định',\n",
              " 'đối',\n",
              " 'độ',\n",
              " 'đủ',\n",
              " 'ơn',\n",
              " 'ứng']"
            ]
          },
          "metadata": {},
          "execution_count": 101
        }
      ]
    },
    {
      "cell_type": "code",
      "source": [
        "df_train.tail()"
      ],
      "metadata": {
        "colab": {
          "base_uri": "https://localhost:8080/",
          "height": 424
        },
        "id": "09FSEnq10NFR",
        "outputId": "d32a6a5d-1272-4356-b0fa-9b5f48fe9c57"
      },
      "execution_count": 102,
      "outputs": [
        {
          "output_type": "execute_result",
          "data": {
            "text/html": [
              "\n",
              "  <div id=\"df-6c7a792e-4901-4b35-b955-e3ce60396a95\">\n",
              "    <div class=\"colab-df-container\">\n",
              "      <div>\n",
              "<style scoped>\n",
              "    .dataframe tbody tr th:only-of-type {\n",
              "        vertical-align: middle;\n",
              "    }\n",
              "\n",
              "    .dataframe tbody tr th {\n",
              "        vertical-align: top;\n",
              "    }\n",
              "\n",
              "    .dataframe thead th {\n",
              "        text-align: right;\n",
              "    }\n",
              "</style>\n",
              "<table border=\"1\" class=\"dataframe\">\n",
              "  <thead>\n",
              "    <tr style=\"text-align: right;\">\n",
              "      <th></th>\n",
              "      <th>short_question</th>\n",
              "      <th>long_question</th>\n",
              "      <th>answer</th>\n",
              "      <th>link</th>\n",
              "      <th>long_tokenize</th>\n",
              "      <th>answer_tokenize</th>\n",
              "    </tr>\n",
              "  </thead>\n",
              "  <tbody>\n",
              "    <tr>\n",
              "      <th>1011</th>\n",
              "      <td>none</td>\n",
              "      <td>tôi có tiền sử tiểu cầu thấp plt 130000140000 ...</td>\n",
              "      <td>chào anhtình trạng tiểu cầu của anh dưới ngưỡn...</td>\n",
              "      <td>https://vnexpress.net/tu-van-tiem-vaccine-covi...</td>\n",
              "      <td>[tiền_sử, tiểu_cầu, thấp, plt, 130000140000, c...</td>\n",
              "      <td>[anhtình, tiểu_cầu, anh, dưới, ngưỡng, 150, mứ...</td>\n",
              "    </tr>\n",
              "    <tr>\n",
              "      <th>1012</th>\n",
              "      <td>none</td>\n",
              "      <td>tôi bị huyết áp cao phải uống thuốc hàng ngày ...</td>\n",
              "      <td>chào anhviệc uống thuốc huyết áp duy trì hàng ...</td>\n",
              "      <td>https://vnexpress.net/tu-van-tiem-vaccine-covi...</td>\n",
              "      <td>[huyết_áp_cao]</td>\n",
              "      <td>[anhviệc, huyết_áp, duy_trì, cần_thiết, bệnh_l...</td>\n",
              "    </tr>\n",
              "    <tr>\n",
              "      <th>1013</th>\n",
              "      <td>none</td>\n",
              "      <td>vaccine astrazeneca tôi thấy ở nước ngoài chỉ ...</td>\n",
              "      <td>chào bạntheo thông tin kê toa của nhà sản xuất...</td>\n",
              "      <td>https://vnexpress.net/tu-van-tiem-vaccine-covi...</td>\n",
              "      <td>[astrazeneca, ở, nước_ngoài, chỉ_định, chích, ...</td>\n",
              "      <td>[bạntheo, thông_tin, kê, toa, nhà, sản_xuất, h...</td>\n",
              "    </tr>\n",
              "    <tr>\n",
              "      <th>1014</th>\n",
              "      <td>none</td>\n",
              "      <td>em 33 tuổi cao 168 m nặng 90 kg bị dị ứng với ...</td>\n",
              "      <td>chào anhchịtheo mô tả thì trường hợp dị ứng củ...</td>\n",
              "      <td>https://vnexpress.net/tu-van-tiem-vaccine-covi...</td>\n",
              "      <td>[33, cao, 168, m, nặng, 90, kg, dị_ứng, con, h...</td>\n",
              "      <td>[anhchịtheo, mô_tả, trường_hợp, dị_ứng, anhchị...</td>\n",
              "    </tr>\n",
              "    <tr>\n",
              "      <th>1015</th>\n",
              "      <td>none</td>\n",
              "      <td>tôi thỉnh thoảng bị dị ứng ngứa nổi mẩn đặc bi...</td>\n",
              "      <td>chào anhtheo hướng dẫn của bộ y tế anh thuộc đ...</td>\n",
              "      <td>https://vnexpress.net/tu-van-tiem-vaccine-covi...</td>\n",
              "      <td>[thỉnh_thoảng, dị_ứng, ngứa, nổi, mẩn, đặc_biệ...</td>\n",
              "      <td>[anhtheo, hướng_dẫn, y_tế, anh, đối_tượng, cẩn...</td>\n",
              "    </tr>\n",
              "  </tbody>\n",
              "</table>\n",
              "</div>\n",
              "      <button class=\"colab-df-convert\" onclick=\"convertToInteractive('df-6c7a792e-4901-4b35-b955-e3ce60396a95')\"\n",
              "              title=\"Convert this dataframe to an interactive table.\"\n",
              "              style=\"display:none;\">\n",
              "        \n",
              "  <svg xmlns=\"http://www.w3.org/2000/svg\" height=\"24px\"viewBox=\"0 0 24 24\"\n",
              "       width=\"24px\">\n",
              "    <path d=\"M0 0h24v24H0V0z\" fill=\"none\"/>\n",
              "    <path d=\"M18.56 5.44l.94 2.06.94-2.06 2.06-.94-2.06-.94-.94-2.06-.94 2.06-2.06.94zm-11 1L8.5 8.5l.94-2.06 2.06-.94-2.06-.94L8.5 2.5l-.94 2.06-2.06.94zm10 10l.94 2.06.94-2.06 2.06-.94-2.06-.94-.94-2.06-.94 2.06-2.06.94z\"/><path d=\"M17.41 7.96l-1.37-1.37c-.4-.4-.92-.59-1.43-.59-.52 0-1.04.2-1.43.59L10.3 9.45l-7.72 7.72c-.78.78-.78 2.05 0 2.83L4 21.41c.39.39.9.59 1.41.59.51 0 1.02-.2 1.41-.59l7.78-7.78 2.81-2.81c.8-.78.8-2.07 0-2.86zM5.41 20L4 18.59l7.72-7.72 1.47 1.35L5.41 20z\"/>\n",
              "  </svg>\n",
              "      </button>\n",
              "      \n",
              "  <style>\n",
              "    .colab-df-container {\n",
              "      display:flex;\n",
              "      flex-wrap:wrap;\n",
              "      gap: 12px;\n",
              "    }\n",
              "\n",
              "    .colab-df-convert {\n",
              "      background-color: #E8F0FE;\n",
              "      border: none;\n",
              "      border-radius: 50%;\n",
              "      cursor: pointer;\n",
              "      display: none;\n",
              "      fill: #1967D2;\n",
              "      height: 32px;\n",
              "      padding: 0 0 0 0;\n",
              "      width: 32px;\n",
              "    }\n",
              "\n",
              "    .colab-df-convert:hover {\n",
              "      background-color: #E2EBFA;\n",
              "      box-shadow: 0px 1px 2px rgba(60, 64, 67, 0.3), 0px 1px 3px 1px rgba(60, 64, 67, 0.15);\n",
              "      fill: #174EA6;\n",
              "    }\n",
              "\n",
              "    [theme=dark] .colab-df-convert {\n",
              "      background-color: #3B4455;\n",
              "      fill: #D2E3FC;\n",
              "    }\n",
              "\n",
              "    [theme=dark] .colab-df-convert:hover {\n",
              "      background-color: #434B5C;\n",
              "      box-shadow: 0px 1px 3px 1px rgba(0, 0, 0, 0.15);\n",
              "      filter: drop-shadow(0px 1px 2px rgba(0, 0, 0, 0.3));\n",
              "      fill: #FFFFFF;\n",
              "    }\n",
              "  </style>\n",
              "\n",
              "      <script>\n",
              "        const buttonEl =\n",
              "          document.querySelector('#df-6c7a792e-4901-4b35-b955-e3ce60396a95 button.colab-df-convert');\n",
              "        buttonEl.style.display =\n",
              "          google.colab.kernel.accessAllowed ? 'block' : 'none';\n",
              "\n",
              "        async function convertToInteractive(key) {\n",
              "          const element = document.querySelector('#df-6c7a792e-4901-4b35-b955-e3ce60396a95');\n",
              "          const dataTable =\n",
              "            await google.colab.kernel.invokeFunction('convertToInteractive',\n",
              "                                                     [key], {});\n",
              "          if (!dataTable) return;\n",
              "\n",
              "          const docLinkHtml = 'Like what you see? Visit the ' +\n",
              "            '<a target=\"_blank\" href=https://colab.research.google.com/notebooks/data_table.ipynb>data table notebook</a>'\n",
              "            + ' to learn more about interactive tables.';\n",
              "          element.innerHTML = '';\n",
              "          dataTable['output_type'] = 'display_data';\n",
              "          await google.colab.output.renderOutput(dataTable, element);\n",
              "          const docLink = document.createElement('div');\n",
              "          docLink.innerHTML = docLinkHtml;\n",
              "          element.appendChild(docLink);\n",
              "        }\n",
              "      </script>\n",
              "    </div>\n",
              "  </div>\n",
              "  "
            ],
            "text/plain": [
              "     short_question                                      long_question  \\\n",
              "1011           none  tôi có tiền sử tiểu cầu thấp plt 130000140000 ...   \n",
              "1012           none  tôi bị huyết áp cao phải uống thuốc hàng ngày ...   \n",
              "1013           none  vaccine astrazeneca tôi thấy ở nước ngoài chỉ ...   \n",
              "1014           none  em 33 tuổi cao 168 m nặng 90 kg bị dị ứng với ...   \n",
              "1015           none  tôi thỉnh thoảng bị dị ứng ngứa nổi mẩn đặc bi...   \n",
              "\n",
              "                                                 answer  \\\n",
              "1011  chào anhtình trạng tiểu cầu của anh dưới ngưỡn...   \n",
              "1012  chào anhviệc uống thuốc huyết áp duy trì hàng ...   \n",
              "1013  chào bạntheo thông tin kê toa của nhà sản xuất...   \n",
              "1014  chào anhchịtheo mô tả thì trường hợp dị ứng củ...   \n",
              "1015  chào anhtheo hướng dẫn của bộ y tế anh thuộc đ...   \n",
              "\n",
              "                                                   link  \\\n",
              "1011  https://vnexpress.net/tu-van-tiem-vaccine-covi...   \n",
              "1012  https://vnexpress.net/tu-van-tiem-vaccine-covi...   \n",
              "1013  https://vnexpress.net/tu-van-tiem-vaccine-covi...   \n",
              "1014  https://vnexpress.net/tu-van-tiem-vaccine-covi...   \n",
              "1015  https://vnexpress.net/tu-van-tiem-vaccine-covi...   \n",
              "\n",
              "                                          long_tokenize  \\\n",
              "1011  [tiền_sử, tiểu_cầu, thấp, plt, 130000140000, c...   \n",
              "1012                                     [huyết_áp_cao]   \n",
              "1013  [astrazeneca, ở, nước_ngoài, chỉ_định, chích, ...   \n",
              "1014  [33, cao, 168, m, nặng, 90, kg, dị_ứng, con, h...   \n",
              "1015  [thỉnh_thoảng, dị_ứng, ngứa, nổi, mẩn, đặc_biệ...   \n",
              "\n",
              "                                        answer_tokenize  \n",
              "1011  [anhtình, tiểu_cầu, anh, dưới, ngưỡng, 150, mứ...  \n",
              "1012  [anhviệc, huyết_áp, duy_trì, cần_thiết, bệnh_l...  \n",
              "1013  [bạntheo, thông_tin, kê, toa, nhà, sản_xuất, h...  \n",
              "1014  [anhchịtheo, mô_tả, trường_hợp, dị_ứng, anhchị...  \n",
              "1015  [anhtheo, hướng_dẫn, y_tế, anh, đối_tượng, cẩn...  "
            ]
          },
          "metadata": {},
          "execution_count": 102
        }
      ]
    },
    {
      "cell_type": "code",
      "source": [
        "# df_train.to_csv(r'/content/drive/MyDrive/QA_KLTN/Dataset/Data_preprocess/Preprocessed data/Preprocessed_val.csv', index=False, header=True)\n"
      ],
      "metadata": {
        "id": "NPueTemSf2tk"
      },
      "execution_count": 103,
      "outputs": []
    },
    {
      "cell_type": "markdown",
      "source": [
        "# Data visualization"
      ],
      "metadata": {
        "id": "AdKW_Agy0QiT"
      }
    },
    {
      "cell_type": "markdown",
      "source": [
        "### Word_cloudcloud"
      ],
      "metadata": {
        "id": "S4Tr_jOTUTIk"
      }
    },
    {
      "cell_type": "code",
      "source": [
        "# Start with one review:\n",
        "from wordcloud import WordCloud \n",
        "\n",
        "text = df_train.long_question\t\n",
        "\n",
        "# Create and generate a word cloud image:\n",
        "wordcloud = WordCloud().generate(str(text))\n",
        "\n",
        "# Display the generated image:\n",
        "plt.imshow(wordcloud, interpolation='bilinear')\n",
        "plt.axis(\"off\")\n",
        "plt.show()"
      ],
      "metadata": {
        "colab": {
          "base_uri": "https://localhost:8080/",
          "height": 198
        },
        "id": "19gQX-VP_Y8q",
        "outputId": "0d9ab82c-917b-4b5b-a067-a44b9fa2bd60"
      },
      "execution_count": 104,
      "outputs": [
        {
          "output_type": "display_data",
          "data": {
            "image/png": "[encoded data removed]",
            "text/plain": [
              "<Figure size 432x288 with 1 Axes>"
            ]
          },
          "metadata": {
            "needs_background": "light"
          }
        }
      ]
    },
    {
      "cell_type": "markdown",
      "source": [
        "Word_cloud after removing stopwords"
      ],
      "metadata": {
        "id": "EUOmxmiPVAx6"
      }
    },
    {
      "cell_type": "code",
      "source": [
        "from wordcloud import WordCloud \n",
        "\n",
        "# Start with one review:\n",
        "text = df_train.long_tokenize\n",
        "\n",
        "# Create and generate a word cloud image:\n",
        "wordcloud = WordCloud().generate(str(text))\n",
        "\n",
        "# Display the generated image:\n",
        "plt.imshow(wordcloud, interpolation='bilinear')\n",
        "plt.axis(\"off\")\n",
        "plt.show()"
      ],
      "metadata": {
        "colab": {
          "base_uri": "https://localhost:8080/",
          "height": 198
        },
        "id": "N5CT3ZdgOQM2",
        "outputId": "a37b9db6-7475-4caa-83e7-ca75345e848a"
      },
      "execution_count": 105,
      "outputs": [
        {
          "output_type": "display_data",
          "data": {
            "image/png": "[encoded data removed]",
            "text/plain": [
              "<Figure size 432x288 with 1 Axes>"
            ]
          },
          "metadata": {
            "needs_background": "light"
          }
        }
      ]
    },
    {
      "cell_type": "markdown",
      "source": [
        "# Models"
      ],
      "metadata": {
        "id": "Xx4YvoF51b0P"
      }
    },
    {
      "cell_type": "code",
      "source": [
        "df_train"
      ],
      "metadata": {
        "colab": {
          "base_uri": "https://localhost:8080/",
          "height": 814
        },
        "id": "Ur5cvmkv2atg",
        "outputId": "5add0157-d27b-45eb-f48b-38e5492b998f"
      },
      "execution_count": 106,
      "outputs": [
        {
          "output_type": "execute_result",
          "data": {
            "text/html": [
              "\n",
              "  <div id=\"df-6d881461-bff5-45f4-af78-f348e5979347\">\n",
              "    <div class=\"colab-df-container\">\n",
              "      <div>\n",
              "<style scoped>\n",
              "    .dataframe tbody tr th:only-of-type {\n",
              "        vertical-align: middle;\n",
              "    }\n",
              "\n",
              "    .dataframe tbody tr th {\n",
              "        vertical-align: top;\n",
              "    }\n",
              "\n",
              "    .dataframe thead th {\n",
              "        text-align: right;\n",
              "    }\n",
              "</style>\n",
              "<table border=\"1\" class=\"dataframe\">\n",
              "  <thead>\n",
              "    <tr style=\"text-align: right;\">\n",
              "      <th></th>\n",
              "      <th>short_question</th>\n",
              "      <th>long_question</th>\n",
              "      <th>answer</th>\n",
              "      <th>link</th>\n",
              "      <th>long_tokenize</th>\n",
              "      <th>answer_tokenize</th>\n",
              "    </tr>\n",
              "  </thead>\n",
              "  <tbody>\n",
              "    <tr>\n",
              "      <th>0</th>\n",
              "      <td>bìu dương vật sưng to cứng và tinh hoàn không ...</td>\n",
              "      <td>xin chào bác sĩ cho em hỏi bìu dương vật sưng ...</td>\n",
              "      <td>chào em với câu hỏi bìu dương vật sưng to cứng...</td>\n",
              "      <td>https://www.vinmec.com/vi/tin-tuc/hoi-dap-bac-...</td>\n",
              "      <td>[bìu, dương_vật, sưng, to, cứng, tinh_hoàn, câ...</td>\n",
              "      <td>[bìu, dương_vật, sưng, to, cứng, tinh_hoàn, câ...</td>\n",
              "    </tr>\n",
              "    <tr>\n",
              "      <th>1</th>\n",
              "      <td>trẻ sơ sinh vàng da vàng mắt mức độ nhẹ có đán...</td>\n",
              "      <td>em chào bác sĩ bé gái nhà em khi sinh được 36 ...</td>\n",
              "      <td>chào bạn vàng da là tình trạng rất phổ biến ở ...</td>\n",
              "      <td>https://www.vinmec.com/vi/tin-tuc/hoi-dap-bac-...</td>\n",
              "      <td>[bé, gái, nhà, 36, tuần, 2, bình_thường, thứ, ...</td>\n",
              "      <td>[vàng, da, tình_trạng, phổ_biến, ở, trẻ, sơ_si...</td>\n",
              "    </tr>\n",
              "    <tr>\n",
              "      <th>2</th>\n",
              "      <td>bị đau mắt đỏ nhỏ thuốc mỡ chlorocinah có khỏi...</td>\n",
              "      <td>chào dược sĩ con tôi bị đau mắt đỏ dược  sĩ ch...</td>\n",
              "      <td>chào bạn với câu hỏi của bạn dược sĩ xin tư vấ...</td>\n",
              "      <td>https://www.vinmec.com/vi/tin-tuc/hoi-dap-bac-...</td>\n",
              "      <td>[dược_sĩ, con, mắt, đỏ, dược_sĩ, mắt, đỏ, nhỏ,...</td>\n",
              "      <td>[dược_sĩ, sauthuốc, mỡ, mắt, chlorocinah, chứa...</td>\n",
              "    </tr>\n",
              "    <tr>\n",
              "      <th>3</th>\n",
              "      <td>tự nhiên xuất hiện vết bầm kèm xuất huyết là b...</td>\n",
              "      <td>chào bác sĩgần 2 tháng trở lại đây em có triệu...</td>\n",
              "      <td>được giải đáp bởi bác sĩ lê thị thanh hương  b...</td>\n",
              "      <td>https://www.vinmec.com/vi/tin-tuc/hoi-dap-bac-...</td>\n",
              "      <td>[sĩgần, 2, trở_lại, đây, triệu_chứng, ngứa, da...</td>\n",
              "      <td>[giải_đáp, lê, thanh, hương, hồi_sức, cấp_cứu,...</td>\n",
              "    </tr>\n",
              "    <tr>\n",
              "      <th>4</th>\n",
              "      <td>điều trị dứt điểm huyết khối tĩnh mạch chi như...</td>\n",
              "      <td>chào bác sĩem bị huyết khối tĩnh mạch chi dưới...</td>\n",
              "      <td>chào bạnvới câu hỏi  bác sĩ xin được trả lời n...</td>\n",
              "      <td>https://www.vinmec.com/vi/tin-tuc/hoi-dap-bac-...</td>\n",
              "      <td>[sĩem, huyết, khối, tĩnh_mạch, chi, dưới, bên,...</td>\n",
              "      <td>[trả_lời, saubạn, trẻ, huyết, khối, tĩnh_mạch,...</td>\n",
              "    </tr>\n",
              "    <tr>\n",
              "      <th>...</th>\n",
              "      <td>...</td>\n",
              "      <td>...</td>\n",
              "      <td>...</td>\n",
              "      <td>...</td>\n",
              "      <td>...</td>\n",
              "      <td>...</td>\n",
              "    </tr>\n",
              "    <tr>\n",
              "      <th>1011</th>\n",
              "      <td>none</td>\n",
              "      <td>tôi có tiền sử tiểu cầu thấp plt 130000140000 ...</td>\n",
              "      <td>chào anhtình trạng tiểu cầu của anh dưới ngưỡn...</td>\n",
              "      <td>https://vnexpress.net/tu-van-tiem-vaccine-covi...</td>\n",
              "      <td>[tiền_sử, tiểu_cầu, thấp, plt, 130000140000, c...</td>\n",
              "      <td>[anhtình, tiểu_cầu, anh, dưới, ngưỡng, 150, mứ...</td>\n",
              "    </tr>\n",
              "    <tr>\n",
              "      <th>1012</th>\n",
              "      <td>none</td>\n",
              "      <td>tôi bị huyết áp cao phải uống thuốc hàng ngày ...</td>\n",
              "      <td>chào anhviệc uống thuốc huyết áp duy trì hàng ...</td>\n",
              "      <td>https://vnexpress.net/tu-van-tiem-vaccine-covi...</td>\n",
              "      <td>[huyết_áp_cao]</td>\n",
              "      <td>[anhviệc, huyết_áp, duy_trì, cần_thiết, bệnh_l...</td>\n",
              "    </tr>\n",
              "    <tr>\n",
              "      <th>1013</th>\n",
              "      <td>none</td>\n",
              "      <td>vaccine astrazeneca tôi thấy ở nước ngoài chỉ ...</td>\n",
              "      <td>chào bạntheo thông tin kê toa của nhà sản xuất...</td>\n",
              "      <td>https://vnexpress.net/tu-van-tiem-vaccine-covi...</td>\n",
              "      <td>[astrazeneca, ở, nước_ngoài, chỉ_định, chích, ...</td>\n",
              "      <td>[bạntheo, thông_tin, kê, toa, nhà, sản_xuất, h...</td>\n",
              "    </tr>\n",
              "    <tr>\n",
              "      <th>1014</th>\n",
              "      <td>none</td>\n",
              "      <td>em 33 tuổi cao 168 m nặng 90 kg bị dị ứng với ...</td>\n",
              "      <td>chào anhchịtheo mô tả thì trường hợp dị ứng củ...</td>\n",
              "      <td>https://vnexpress.net/tu-van-tiem-vaccine-covi...</td>\n",
              "      <td>[33, cao, 168, m, nặng, 90, kg, dị_ứng, con, h...</td>\n",
              "      <td>[anhchịtheo, mô_tả, trường_hợp, dị_ứng, anhchị...</td>\n",
              "    </tr>\n",
              "    <tr>\n",
              "      <th>1015</th>\n",
              "      <td>none</td>\n",
              "      <td>tôi thỉnh thoảng bị dị ứng ngứa nổi mẩn đặc bi...</td>\n",
              "      <td>chào anhtheo hướng dẫn của bộ y tế anh thuộc đ...</td>\n",
              "      <td>https://vnexpress.net/tu-van-tiem-vaccine-covi...</td>\n",
              "      <td>[thỉnh_thoảng, dị_ứng, ngứa, nổi, mẩn, đặc_biệ...</td>\n",
              "      <td>[anhtheo, hướng_dẫn, y_tế, anh, đối_tượng, cẩn...</td>\n",
              "    </tr>\n",
              "  </tbody>\n",
              "</table>\n",
              "<p>1016 rows × 6 columns</p>\n",
              "</div>\n",
              "      <button class=\"colab-df-convert\" onclick=\"convertToInteractive('df-6d881461-bff5-45f4-af78-f348e5979347')\"\n",
              "              title=\"Convert this dataframe to an interactive table.\"\n",
              "              style=\"display:none;\">\n",
              "        \n",
              "  <svg xmlns=\"http://www.w3.org/2000/svg\" height=\"24px\"viewBox=\"0 0 24 24\"\n",
              "       width=\"24px\">\n",
              "    <path d=\"M0 0h24v24H0V0z\" fill=\"none\"/>\n",
              "    <path d=\"M18.56 5.44l.94 2.06.94-2.06 2.06-.94-2.06-.94-.94-2.06-.94 2.06-2.06.94zm-11 1L8.5 8.5l.94-2.06 2.06-.94-2.06-.94L8.5 2.5l-.94 2.06-2.06.94zm10 10l.94 2.06.94-2.06 2.06-.94-2.06-.94-.94-2.06-.94 2.06-2.06.94z\"/><path d=\"M17.41 7.96l-1.37-1.37c-.4-.4-.92-.59-1.43-.59-.52 0-1.04.2-1.43.59L10.3 9.45l-7.72 7.72c-.78.78-.78 2.05 0 2.83L4 21.41c.39.39.9.59 1.41.59.51 0 1.02-.2 1.41-.59l7.78-7.78 2.81-2.81c.8-.78.8-2.07 0-2.86zM5.41 20L4 18.59l7.72-7.72 1.47 1.35L5.41 20z\"/>\n",
              "  </svg>\n",
              "      </button>\n",
              "      \n",
              "  <style>\n",
              "    .colab-df-container {\n",
              "      display:flex;\n",
              "      flex-wrap:wrap;\n",
              "      gap: 12px;\n",
              "    }\n",
              "\n",
              "    .colab-df-convert {\n",
              "      background-color: #E8F0FE;\n",
              "      border: none;\n",
              "      border-radius: 50%;\n",
              "      cursor: pointer;\n",
              "      display: none;\n",
              "      fill: #1967D2;\n",
              "      height: 32px;\n",
              "      padding: 0 0 0 0;\n",
              "      width: 32px;\n",
              "    }\n",
              "\n",
              "    .colab-df-convert:hover {\n",
              "      background-color: #E2EBFA;\n",
              "      box-shadow: 0px 1px 2px rgba(60, 64, 67, 0.3), 0px 1px 3px 1px rgba(60, 64, 67, 0.15);\n",
              "      fill: #174EA6;\n",
              "    }\n",
              "\n",
              "    [theme=dark] .colab-df-convert {\n",
              "      background-color: #3B4455;\n",
              "      fill: #D2E3FC;\n",
              "    }\n",
              "\n",
              "    [theme=dark] .colab-df-convert:hover {\n",
              "      background-color: #434B5C;\n",
              "      box-shadow: 0px 1px 3px 1px rgba(0, 0, 0, 0.15);\n",
              "      filter: drop-shadow(0px 1px 2px rgba(0, 0, 0, 0.3));\n",
              "      fill: #FFFFFF;\n",
              "    }\n",
              "  </style>\n",
              "\n",
              "      <script>\n",
              "        const buttonEl =\n",
              "          document.querySelector('#df-6d881461-bff5-45f4-af78-f348e5979347 button.colab-df-convert');\n",
              "        buttonEl.style.display =\n",
              "          google.colab.kernel.accessAllowed ? 'block' : 'none';\n",
              "\n",
              "        async function convertToInteractive(key) {\n",
              "          const element = document.querySelector('#df-6d881461-bff5-45f4-af78-f348e5979347');\n",
              "          const dataTable =\n",
              "            await google.colab.kernel.invokeFunction('convertToInteractive',\n",
              "                                                     [key], {});\n",
              "          if (!dataTable) return;\n",
              "\n",
              "          const docLinkHtml = 'Like what you see? Visit the ' +\n",
              "            '<a target=\"_blank\" href=https://colab.research.google.com/notebooks/data_table.ipynb>data table notebook</a>'\n",
              "            + ' to learn more about interactive tables.';\n",
              "          element.innerHTML = '';\n",
              "          dataTable['output_type'] = 'display_data';\n",
              "          await google.colab.output.renderOutput(dataTable, element);\n",
              "          const docLink = document.createElement('div');\n",
              "          docLink.innerHTML = docLinkHtml;\n",
              "          element.appendChild(docLink);\n",
              "        }\n",
              "      </script>\n",
              "    </div>\n",
              "  </div>\n",
              "  "
            ],
            "text/plain": [
              "                                         short_question  \\\n",
              "0     bìu dương vật sưng to cứng và tinh hoàn không ...   \n",
              "1     trẻ sơ sinh vàng da vàng mắt mức độ nhẹ có đán...   \n",
              "2     bị đau mắt đỏ nhỏ thuốc mỡ chlorocinah có khỏi...   \n",
              "3     tự nhiên xuất hiện vết bầm kèm xuất huyết là b...   \n",
              "4     điều trị dứt điểm huyết khối tĩnh mạch chi như...   \n",
              "...                                                 ...   \n",
              "1011                                               none   \n",
              "1012                                               none   \n",
              "1013                                               none   \n",
              "1014                                               none   \n",
              "1015                                               none   \n",
              "\n",
              "                                          long_question  \\\n",
              "0     xin chào bác sĩ cho em hỏi bìu dương vật sưng ...   \n",
              "1     em chào bác sĩ bé gái nhà em khi sinh được 36 ...   \n",
              "2     chào dược sĩ con tôi bị đau mắt đỏ dược  sĩ ch...   \n",
              "3     chào bác sĩgần 2 tháng trở lại đây em có triệu...   \n",
              "4     chào bác sĩem bị huyết khối tĩnh mạch chi dưới...   \n",
              "...                                                 ...   \n",
              "1011  tôi có tiền sử tiểu cầu thấp plt 130000140000 ...   \n",
              "1012  tôi bị huyết áp cao phải uống thuốc hàng ngày ...   \n",
              "1013  vaccine astrazeneca tôi thấy ở nước ngoài chỉ ...   \n",
              "1014  em 33 tuổi cao 168 m nặng 90 kg bị dị ứng với ...   \n",
              "1015  tôi thỉnh thoảng bị dị ứng ngứa nổi mẩn đặc bi...   \n",
              "\n",
              "                                                 answer  \\\n",
              "0     chào em với câu hỏi bìu dương vật sưng to cứng...   \n",
              "1     chào bạn vàng da là tình trạng rất phổ biến ở ...   \n",
              "2     chào bạn với câu hỏi của bạn dược sĩ xin tư vấ...   \n",
              "3     được giải đáp bởi bác sĩ lê thị thanh hương  b...   \n",
              "4     chào bạnvới câu hỏi  bác sĩ xin được trả lời n...   \n",
              "...                                                 ...   \n",
              "1011  chào anhtình trạng tiểu cầu của anh dưới ngưỡn...   \n",
              "1012  chào anhviệc uống thuốc huyết áp duy trì hàng ...   \n",
              "1013  chào bạntheo thông tin kê toa của nhà sản xuất...   \n",
              "1014  chào anhchịtheo mô tả thì trường hợp dị ứng củ...   \n",
              "1015  chào anhtheo hướng dẫn của bộ y tế anh thuộc đ...   \n",
              "\n",
              "                                                   link  \\\n",
              "0     https://www.vinmec.com/vi/tin-tuc/hoi-dap-bac-...   \n",
              "1     https://www.vinmec.com/vi/tin-tuc/hoi-dap-bac-...   \n",
              "2     https://www.vinmec.com/vi/tin-tuc/hoi-dap-bac-...   \n",
              "3     https://www.vinmec.com/vi/tin-tuc/hoi-dap-bac-...   \n",
              "4     https://www.vinmec.com/vi/tin-tuc/hoi-dap-bac-...   \n",
              "...                                                 ...   \n",
              "1011  https://vnexpress.net/tu-van-tiem-vaccine-covi...   \n",
              "1012  https://vnexpress.net/tu-van-tiem-vaccine-covi...   \n",
              "1013  https://vnexpress.net/tu-van-tiem-vaccine-covi...   \n",
              "1014  https://vnexpress.net/tu-van-tiem-vaccine-covi...   \n",
              "1015  https://vnexpress.net/tu-van-tiem-vaccine-covi...   \n",
              "\n",
              "                                          long_tokenize  \\\n",
              "0     [bìu, dương_vật, sưng, to, cứng, tinh_hoàn, câ...   \n",
              "1     [bé, gái, nhà, 36, tuần, 2, bình_thường, thứ, ...   \n",
              "2     [dược_sĩ, con, mắt, đỏ, dược_sĩ, mắt, đỏ, nhỏ,...   \n",
              "3     [sĩgần, 2, trở_lại, đây, triệu_chứng, ngứa, da...   \n",
              "4     [sĩem, huyết, khối, tĩnh_mạch, chi, dưới, bên,...   \n",
              "...                                                 ...   \n",
              "1011  [tiền_sử, tiểu_cầu, thấp, plt, 130000140000, c...   \n",
              "1012                                     [huyết_áp_cao]   \n",
              "1013  [astrazeneca, ở, nước_ngoài, chỉ_định, chích, ...   \n",
              "1014  [33, cao, 168, m, nặng, 90, kg, dị_ứng, con, h...   \n",
              "1015  [thỉnh_thoảng, dị_ứng, ngứa, nổi, mẩn, đặc_biệ...   \n",
              "\n",
              "                                        answer_tokenize  \n",
              "0     [bìu, dương_vật, sưng, to, cứng, tinh_hoàn, câ...  \n",
              "1     [vàng, da, tình_trạng, phổ_biến, ở, trẻ, sơ_si...  \n",
              "2     [dược_sĩ, sauthuốc, mỡ, mắt, chlorocinah, chứa...  \n",
              "3     [giải_đáp, lê, thanh, hương, hồi_sức, cấp_cứu,...  \n",
              "4     [trả_lời, saubạn, trẻ, huyết, khối, tĩnh_mạch,...  \n",
              "...                                                 ...  \n",
              "1011  [anhtình, tiểu_cầu, anh, dưới, ngưỡng, 150, mứ...  \n",
              "1012  [anhviệc, huyết_áp, duy_trì, cần_thiết, bệnh_l...  \n",
              "1013  [bạntheo, thông_tin, kê, toa, nhà, sản_xuất, h...  \n",
              "1014  [anhchịtheo, mô_tả, trường_hợp, dị_ứng, anhchị...  \n",
              "1015  [anhtheo, hướng_dẫn, y_tế, anh, đối_tượng, cẩn...  \n",
              "\n",
              "[1016 rows x 6 columns]"
            ]
          },
          "metadata": {},
          "execution_count": 106
        }
      ]
    },
    {
      "cell_type": "markdown",
      "source": [
        "## BM25"
      ],
      "metadata": {
        "id": "_X77MR8k1d_F"
      }
    },
    {
      "cell_type": "code",
      "source": [
        "!pip install rank_bm25"
      ],
      "metadata": {
        "colab": {
          "base_uri": "https://localhost:8080/"
        },
        "id": "PTfgVe-02pK6",
        "outputId": "3d62c9a1-fa2b-4187-8edb-581b7b9e93e3"
      },
      "execution_count": 107,
      "outputs": [
        {
          "output_type": "stream",
          "name": "stdout",
          "text": [
            "Requirement already satisfied: rank_bm25 in /usr/local/lib/python3.7/dist-packages (0.2.2)\n",
            "Requirement already satisfied: numpy in /usr/local/lib/python3.7/dist-packages (from rank_bm25) (1.21.5)\n"
          ]
        }
      ]
    },
    {
      "cell_type": "code",
      "source": [
        "from rank_bm25 import BM25Okapi\n",
        "import numpy as np\n",
        "\n",
        "bm25_index = BM25Okapi(df_train.long_tokenize)\n",
        "\n",
        "def search(search_string, num_results=10):\n",
        "    search_tokens = ViTokenizer.tokenize(search_string)\n",
        "    search_tokens = search_tokens.split()\n",
        "    scores = bm25_index.get_scores(search_tokens)\n",
        "    top_indexes = np.argsort(scores)[::-1][:num_results]\n",
        "    return top_indexes\n",
        "\n",
        "indexes = search('mất khứu giác sau gãy sống mũi vỡ xương trán có ngửi lại được không')\n",
        "indexes"
      ],
      "metadata": {
        "colab": {
          "base_uri": "https://localhost:8080/"
        },
        "id": "Fn3ry5hMLmgO",
        "outputId": "d1e0514a-e701-4786-8adc-adf04527ea27"
      },
      "execution_count": 108,
      "outputs": [
        {
          "output_type": "execute_result",
          "data": {
            "text/plain": [
              "array([549, 711, 201,  69, 309, 273,  64, 233, 636, 592])"
            ]
          },
          "metadata": {},
          "execution_count": 108
        }
      ]
    },
    {
      "cell_type": "code",
      "source": [
        "df_train['short_question'][549]"
      ],
      "metadata": {
        "colab": {
          "base_uri": "https://localhost:8080/",
          "height": 35
        },
        "id": "30xvzFEY-sJy",
        "outputId": "9c72754e-9812-4f07-c658-c894ee555c51"
      },
      "execution_count": 109,
      "outputs": [
        {
          "output_type": "execute_result",
          "data": {
            "application/vnd.google.colaboratory.intrinsic+json": {
              "type": "string"
            },
            "text/plain": [
              "'mất khứu giác sau gãy sống mũi vỡ xương trán có ngửi lại được không'"
            ]
          },
          "metadata": {},
          "execution_count": 109
        }
      ]
    },
    {
      "cell_type": "code",
      "source": [
        "for i in indexes:\n",
        "  print('<', df_train['answer'][i])"
      ],
      "metadata": {
        "colab": {
          "base_uri": "https://localhost:8080/"
        },
        "id": "q_N3vR682waQ",
        "outputId": "262ab43b-d5bc-4409-bc24-dbbf63bb7b44"
      },
      "execution_count": 110,
      "outputs": [
        {
          "output_type": "stream",
          "name": "stdout",
          "text": [
            "< chào em mất khứu giác sau chấn thương 1 năm tốt nhất em nên khám chuyên khoa tai  mũi  họng tại bệnh viện thuộc hệ thống y tế vinmec để được chỉ định nội soi chụp phim đánh giá bệnh lý như thế nào từ đó mới có thể đưa ra hướng điều trị phù hợp cho em đượcrất mong có thể sớm gặp em tại vinmec để có những trao đổi cụ thể chúc em luôn có sức khỏe tốt trân trọng\n",
            "< được giải đáp bởi thạc sĩ bác sĩ vũ song linh  bác sĩ khoa ngoại chấn thương chỉnh hình  khoa ngoại tổng hợp bệnh viện đa khoa quốc tế vinmec times citychào bạnvới câu hỏi  bác sĩ xin giải đáp như saubạn không nói rõ lồi cầu trong xương đùi hay cánh tay vì thế bác sĩ chưa thể tư vấn chính xác cho bạn được xương cố định 2 tháng chưa liền vững cánh tay 3 tháng còn đùi phải 6 tháng ngoài ra còn đánh giá tình trạng cal xương từng thời điểm việc thực hiện một số bài tập phục hồi chức năng gãy lồi cầu xương cần được chú trọng song song với quá trình tái cố định xương nguyên tắc của phục hồi chức năng gãy lồi cầu xương là tạo điều kiện tốt nhất cho quá trình liền xươnggiảm sưng nề giảm đau chống rối loạn tuần hoàn chống kết dính khớp ngừa hội chứng đau vùng hội chứng rối loạn dinh dưỡng giao cảm phản xạ hay còn gọi hội chứng sudeckduy trì lực cơ và tầm vận động khớpnội dung của các bài tập phục hồi chức năng gãy lồi cầu xương có thể bao gồm thư giãn mô mềmcải thiện sức cơthiết kế các môn thể thao phù hợpmột kế hoạch rèn luyện lâu dài trong tương laivì vậy bạn nên đến thăm khám bác sĩ để được tư vấn điều trị phục hồi sau gãy xương lồi cầunếu bạn còn thắc mắc về sau bắt vít vỡ xương lồi cầu 2 tháng có thể chơi bóng đá bạn có thể đến bệnh viện thuộc hệ thống y tế vinmec để kiểm tra và tư vấn thêm cảm ơn bạn đã tin tưởng và gửi câu hỏi đến vinmec chúc bạn có thật nhiều sức khỏetrân trọng\n",
            "< được giải đáp bởi bác sĩ chuyên khoa ii mai anh kha  khoa ngoại tổng hợp bệnh viện đa khoa quốc tế vinmec đà nẵngchào bạnvới câu hỏi  bác sĩ xin giải đáp như sautrường hợp này là bình thường không có gì phải lo lắng khi bạn ngồi và tập vận động ban đầu sẽ sưng và nề bàn chân vì vậy bạn lưu ý nằm kê chân cao sẽ hết phù nề và thời gian sau sẽ hếtnếu bạn còn thắc mắc về vỡ xương gót chân bạn có thể đến bệnh viện thuộc hệ thống y tế vinmec để kiểm tra và tư vấn thêm cảm ơn bạn đã tin tưởng và gửi câu hỏi đến vinmec chúc bạn có thật nhiều sức khỏetrân trọng\n",
            "< chào bạn cảm ơn bạn đã gửi thắc mắc về website có khả năng xương đùi chưa liền vững mà bạn tác động lực nhiều gây đau bạn nên đi kiểm tra để bác sĩ đánh giá chính xác và cho lời khuyênbác sĩ ckii mai anh kha  khoa ngoại tổng hợp  bệnh viện đa khoa quốc tế vinmec đà nẵng\n",
            "< xin chào bạn trẻ bị ngã chụp ct bị tụ máu dưới màng cứng não kèm vỡ xương là khá nghiêm trọng con bạn cần được bác sĩ theo dõi sát để có thể can thiệp kịp thời khi bé trở nặng lên bạn có thể đưa con đi khám tại các bệnh viện thuộc hệ thống y tế vinmec để được bác sĩ chuyên môn thăm khám kịp thời cảm ơn bạn đã gửi câu hỏi đến vinmec trân trọngthạc sĩ bác sĩ nguyễn minh tuấn  bác sĩ nhi  khoa nhi  sơ sinh  bệnh viện đa khoa quốc tế vinmec đà nẵng\n",
            "< chào em em mới mổ được 3 tháng nên cần có chế độ tập luyện sau mổ và theo dõi quá trình lành xương qua việc chụp x quang việc tháo nẹp vít chỉ được đặt ra khi xương đã lành tốt để tránh trường hợp biến chứng chân cao chân thấp em nên tái khám định kỳ để bác sĩ theo dõibác sĩ cki võ khắc khôi nguyên  khoa ngoại tổng hợp  bệnh viện đa khoa quốc tế vinmec central park\n",
            "< chào bạn cảm ơn bạn đã gửi thắc mắc về hệ thống y tế vinmec bạn nên đi khám răng ngay bác sĩ sẽ khám chụp film răng để đáng giá tình trạng tiêu xương tình trạng của các răng và sẽ tư vấn về cách điều trị cho bạnthạc sĩ bác sĩ lại đỗ quyên  khoa liên chuyên khoa  bệnh viện đa khoa quốc tế vinmec times city\n",
            "< được giải đáp bởi thạc sĩ bác sĩ lê quang minh  bác sĩ chấn thương chỉnh hình  khoa ngoại tổng hợp  bệnh viện đa khoa quốc tế vinmec đà nẵngchào bạnvới câu hỏi  bác sĩ xin giải đáp như sautình trạng hiện tại cánh tay của bạn bị cong sau khi bị gãy xương lúc nhỏ có thể chỉnh lại cho thẳng hơn bằng cách phẫu thuật cắt xương chỉnh trục thời gian hồi phục là khoảng 36 tháng việc tiến hành phẫu thuật thông thường sẽ có một số biến chứng tuy tỉ lệ rất thấp nhưng có thể xảy ra như nhiễm trùng chậm hoặc không liền xương tổn thương thần kinh bạn nên thu xếp đi khám tại các trung tâm chấn thương chỉnh hình để bác sĩ có thể khám đánh giá cụ thể và đưa ra lời khuyên chính xác cho bạnnếu bạn còn thắc mắc về việc phẫu thuật lại khuỷu tay đã bó bột bạn có thể đến bệnh viện thuộc hệ thống y tế vinmec để kiểm tra và tư vấn thêm cảm ơn bạn đã tin tưởng và gửi câu hỏi đến vinmec chúc bạn có thật nhiều sức khỏetrân trọng\n",
            "< chào em bác sĩ xin được giải đáp câu hỏi như sauhiện tại bác sĩ rất muốn biết tổn thương cụ thể của em như thế nào em bị gãy xương nào tình trạng gãy có phức tạp hay không có tổn thương phần mềm gân cơ dây chằng mạch máu thần kinh kèm theo không xương đã có biểu hiện liền xương chưa có kèm rối loạn tuần hoàn chân bên dưới vùng tổn thương yếu cơ teo cơ cứng khớp việc tập luyện trong thời gian qua như thế nào tùy theo vấn đề được phát hiện từ đó bác sĩ mới chỉ định cho em phương pháp điều trị cụ thể toàn diện được vì vậy trước hết em nên đi khám lại với bác sĩ chấn thương để được kiểm tra lại vùng xương gãy sau đó sẽ thăm khám với bác sĩ phục hồi chức năng để được tư vấn điều trị tập luyệnem có thể đến cơ sở y tế gần nhất hoặc bệnh viện thuộc hệ thống y tế vinmec để được các bác sĩ thăm khám và tư vấn kỹ hơn trân trọng\n",
            "< được giải đáp bởi thạc sĩ bác sĩ chuyên khoa ii đặng thị thùy trang  bác sĩ tai mũi họng  khoa khám bệnh  nội khoa bệnh viện đa khoa quốc tế vinmec central parkchào bạnvới câu hỏi  bác sĩ xin giải đáp như saubạn bị ngứa mũi hắt xì hơi kèm chảy nước mũi khi ngửi mùi hương đậm đặc là triệu chứng của phản ứng dị ứng xảy ra ở những người có cơ địa dị ứng hoặc quá mẫn cảm với các chất lạ như khói bụi hơi hóa chất trong đó có nước hoakhi không tiếp xúc các chất trên triệu chứng thường sẽ khỏi tuy nhiên nếu tiếp xúc nhiều lần có thể sẽ bị viêm mũi dị ứng nếu nặng hơn có thể gây cơn hen suyễn lúc đó bạn nên đến bác sĩ tai mũi họng khám và tư vấn điều trịnếu bạn còn thắc mắc về ngứa mũi hắt hơi kèm chảy nước mũi khi ngửi mùi hương đậm đặc bạn có thể đến bệnh viện thuộc hệ thống y tế vinmec để kiểm tra và tư vấn thêm cảm ơn bạn đã tin tưởng và gửi câu hỏi đến vinmec chúc bạn có thật nhiều sức khỏetrân trọng\n"
          ]
        }
      ]
    },
    {
      "cell_type": "code",
      "source": [
        ""
      ],
      "metadata": {
        "id": "GHlvIvXa2zHD"
      },
      "execution_count": 110,
      "outputs": []
    }
  ]
}