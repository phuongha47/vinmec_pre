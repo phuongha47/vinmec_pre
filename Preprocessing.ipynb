{
  "nbformat": 4,
  "nbformat_minor": 0,
  "metadata": {
    "colab": {
      "name": "Preprocessing.ipynb",
      "provenance": [],
      "collapsed_sections": [],
      "mount_file_id": "1ZOaULQeG3pgdw5iEHdWruWf1gQr52Vnn",
      "authorship_tag": "ABX9TyMAT+zM5yfHxB4fGyK7B6rQ",
      "include_colab_link": true
    },
    "kernelspec": {
      "name": "python3",
      "display_name": "Python 3"
    },
    "language_info": {
      "name": "python"
    }
  },
  "cells": [
    {
      "cell_type": "markdown",
      "metadata": {
        "id": "view-in-github",
        "colab_type": "text"
      },
      "source": [
        "<a href=\"https://colab.research.google.com/github/phuongha47/vinmec_pre/blob/main/Preprocessing.ipynb\" target=\"_parent\"><img src=\"https://colab.research.google.com/assets/colab-badge.svg\" alt=\"Open In Colab\"/></a>"
      ]
    },
    {
      "cell_type": "markdown",
      "source": [
        "# Read data"
      ],
      "metadata": {
        "id": "qjxN8Sx35WOe"
      }
    },
    {
      "cell_type": "code",
      "source": [
        "pip install underthesea"
      ],
      "metadata": {
        "colab": {
          "base_uri": "https://localhost:8080/"
        },
        "id": "jfjLpWXdsJpP",
        "outputId": "b73c99bd-e4f8-443a-f137-f7db18b3516f"
      },
      "execution_count": null,
      "outputs": [
        {
          "output_type": "stream",
          "name": "stdout",
          "text": [
            "Requirement already satisfied: underthesea in /usr/local/lib/python3.7/dist-packages (1.3.4)\n",
            "Requirement already satisfied: python-crfsuite>=0.9.6 in /usr/local/lib/python3.7/dist-packages (from underthesea) (0.9.7)\n",
            "Requirement already satisfied: requests in /usr/local/lib/python3.7/dist-packages (from underthesea) (2.23.0)\n",
            "Requirement already satisfied: nltk in /usr/local/lib/python3.7/dist-packages (from underthesea) (3.2.5)\n",
            "Requirement already satisfied: unidecode in /usr/local/lib/python3.7/dist-packages (from underthesea) (1.3.3)\n",
            "Requirement already satisfied: joblib in /usr/local/lib/python3.7/dist-packages (from underthesea) (1.1.0)\n",
            "Requirement already satisfied: Click>=6.0 in /usr/local/lib/python3.7/dist-packages (from underthesea) (7.1.2)\n",
            "Requirement already satisfied: tqdm in /usr/local/lib/python3.7/dist-packages (from underthesea) (4.63.0)\n",
            "Requirement already satisfied: scikit-learn in /usr/local/lib/python3.7/dist-packages (from underthesea) (1.0.2)\n",
            "Requirement already satisfied: PyYAML in /usr/local/lib/python3.7/dist-packages (from underthesea) (3.13)\n",
            "Requirement already satisfied: underthesea-core==0.0.4_alpha.10 in /usr/local/lib/python3.7/dist-packages (from underthesea) (0.0.4a10)\n",
            "Requirement already satisfied: six in /usr/local/lib/python3.7/dist-packages (from nltk->underthesea) (1.15.0)\n",
            "Requirement already satisfied: chardet<4,>=3.0.2 in /usr/local/lib/python3.7/dist-packages (from requests->underthesea) (3.0.4)\n",
            "Requirement already satisfied: certifi>=2017.4.17 in /usr/local/lib/python3.7/dist-packages (from requests->underthesea) (2021.10.8)\n",
            "Requirement already satisfied: urllib3!=1.25.0,!=1.25.1,<1.26,>=1.21.1 in /usr/local/lib/python3.7/dist-packages (from requests->underthesea) (1.24.3)\n",
            "Requirement already satisfied: idna<3,>=2.5 in /usr/local/lib/python3.7/dist-packages (from requests->underthesea) (2.10)\n",
            "Requirement already satisfied: scipy>=1.1.0 in /usr/local/lib/python3.7/dist-packages (from scikit-learn->underthesea) (1.4.1)\n",
            "Requirement already satisfied: threadpoolctl>=2.0.0 in /usr/local/lib/python3.7/dist-packages (from scikit-learn->underthesea) (3.1.0)\n",
            "Requirement already satisfied: numpy>=1.14.6 in /usr/local/lib/python3.7/dist-packages (from scikit-learn->underthesea) (1.21.5)\n"
          ]
        }
      ]
    },
    {
      "cell_type": "code",
      "source": [
        "import pandas as pd\n",
        "import re\n",
        "from underthesea import sent_tokenize"
      ],
      "metadata": {
        "id": "Nks4iJFV5jvg"
      },
      "execution_count": null,
      "outputs": []
    },
    {
      "cell_type": "code",
      "source": [
        "df_train = pd.read_csv(r'/content/drive/MyDrive/QA_KLTN/Dataset/Data_preprocess/Data merged/train.csv')\n",
        "df_test = pd.read_csv(r'/content/drive/MyDrive/QA_KLTN/Dataset/Data_preprocess/Data merged/test.csv')\n",
        "df_val = pd.read_csv(r'/content/drive/MyDrive/QA_KLTN/Dataset/Data_preprocess/Data merged/val.csv')\n"
      ],
      "metadata": {
        "id": "85xzk8Cji3xC"
      },
      "execution_count": null,
      "outputs": []
    },
    {
      "cell_type": "code",
      "source": [
        "s1 = u'ÀÁÂÃÈÉÊÌÍÒÓÔÕÙÚÝàáâãèéêìíòóôõùúýĂăĐđĨĩŨũƠơƯưẠạẢảẤấẦầẨẩẪẫẬậẮắẰằẲẳẴẵẶặẸẹẺẻẼẽẾếỀềỂểỄễỆệỈỉỊịỌọỎỏỐốỒồỔổỖỗỘộỚớỜờỞởỠỡỢợỤụỦủỨứỪừỬửỮữỰựỲỳỴỵỶỷỸỹ'\n",
        "s0 = u'AAAAEEEIIOOOOUUYaaaaeeeiioooouuyAaDdIiUuOoUuAaAaAaAaAaAaAaAaAaAaAaAaEeEeEeEeEeEeEeEeIiIiOoOoOoOoOoOoOoOoOoOoOoOoUuUuUuUuUuUuUuYyYyYyYy'\n",
        "def remove_accents(text):\n",
        "\tfor c in text:\n",
        "\t\tif c in s1:\n",
        "\t\t\t text = text.replace(c,s0[s1.index(c)])\n",
        "\treturn text"
      ],
      "metadata": {
        "id": "hobS7lZw1n_O"
      },
      "execution_count": null,
      "outputs": []
    },
    {
      "cell_type": "code",
      "source": [
        "# for i in range(len(df_train[\"long_question\"])):\n",
        "#   try: \n",
        "#     df_train[\"long_question\"][i] = remove_accents(df_train[\"long_question\"][i])\n",
        "#   except:\n",
        "#     print ('') \n",
        "# for i in range(len(df_train[\"answer\"])):\n",
        "#   try: \n",
        "#     df_train[\"answer\"][i] = remove_accents(df_train[\"answer\"][i])\n",
        "#   except:\n",
        "#     print ('') "
      ],
      "metadata": {
        "id": "rIzs91TB9Vqp"
      },
      "execution_count": null,
      "outputs": []
    },
    {
      "cell_type": "markdown",
      "source": [
        "# Data understand"
      ],
      "metadata": {
        "id": "9RcJLp1VvJtK"
      }
    },
    {
      "cell_type": "markdown",
      "source": [
        "## Size "
      ],
      "metadata": {
        "id": "rKgMdIoDvyZa"
      }
    },
    {
      "cell_type": "code",
      "source": [
        "print('Size TRAIN:', len(df_train))\n",
        "print('Size TEST:', len(df_test))\n",
        "print('Size VAL:', len(df_val))"
      ],
      "metadata": {
        "colab": {
          "base_uri": "https://localhost:8080/"
        },
        "id": "laMjdg2-jd7t",
        "outputId": "a44a911b-6615-4bd2-8d15-37d987d1f236"
      },
      "execution_count": null,
      "outputs": [
        {
          "output_type": "stream",
          "name": "stdout",
          "text": [
            "Size TRAIN: 8201\n",
            "Size TEST: 1025\n",
            "Size VAL: 1016\n"
          ]
        }
      ]
    },
    {
      "cell_type": "markdown",
      "source": [
        "## Document statistics by number of sentences"
      ],
      "metadata": {
        "id": "o6qrE4b7u7KX"
      }
    },
    {
      "cell_type": "markdown",
      "source": [
        "### Answer"
      ],
      "metadata": {
        "id": "X606hmrEwy5b"
      }
    },
    {
      "cell_type": "code",
      "source": [
        "import matplotlib.pyplot as plt\n",
        "\n",
        "plt.hist([len(sent_tokenize(s)) for s in df_train['answer']], 50)\n",
        "plt.xlabel('Number of sentence')\n",
        "plt.ylabel('COUNT')\n",
        "plt.title('Distribution of the number of sentences in the ANSWER passage')\n",
        "plt.show()"
      ],
      "metadata": {
        "colab": {
          "base_uri": "https://localhost:8080/",
          "height": 295
        },
        "outputId": "1c4e8bd5-3b77-4c3f-b393-f2d21d5bff38",
        "id": "cfXDGVh9w4mD"
      },
      "execution_count": null,
      "outputs": [
        {
          "output_type": "display_data",
          "data": {
            "image/png": "[encoded data removed]",
            "text/plain": [
              "<Figure size 432x288 with 1 Axes>"
            ]
          },
          "metadata": {
            "needs_background": "light"
          }
        }
      ]
    },
    {
      "cell_type": "code",
      "source": [
        "sen5 = sen10 = sen15 = sen20 = 0\n",
        "for text in df_train['answer']:\n",
        "  if len(sent_tokenize(text)) < 5:\n",
        "    sen5 += 1\n",
        "  elif len(sent_tokenize(text)) >= 5 and len(sent_tokenize(text)) < 10:\n",
        "    sen10 += 1\n",
        "  elif len(sent_tokenize(text)) >= 10 and len(sent_tokenize(text)) < 15:\n",
        "    sen15 += 1\n",
        "  else:\n",
        "    sen20 += 1"
      ],
      "metadata": {
        "id": "VeEZxEzdw4mE"
      },
      "execution_count": null,
      "outputs": []
    },
    {
      "cell_type": "code",
      "source": [
        "from tabulate import tabulate\n",
        "\n",
        "leng = len(df_train)\n",
        "print(tabulate([['<5', sen5], ['[5:10)', sen10], ['[10:15)', sen15], ['[15:~)', sen20]], headers=['Sentences', 'Count']))"
      ],
      "metadata": {
        "colab": {
          "base_uri": "https://localhost:8080/"
        },
        "id": "kaVClVFINdqV",
        "outputId": "07d861bb-5575-41e6-a327-853ef5b63cea"
      },
      "execution_count": null,
      "outputs": [
        {
          "output_type": "stream",
          "name": "stdout",
          "text": [
            "Sentences      Count\n",
            "-----------  -------\n",
            "<5              3491\n",
            "[5:10)          4273\n",
            "[10:15)          348\n",
            "[15:~)            89\n"
          ]
        }
      ]
    },
    {
      "cell_type": "code",
      "source": [
        "print(tabulate([['<5', sen5/leng*100], ['[5:10)', sen10/leng*100], ['[10:15)', sen15/leng*100], ['[15:~)', sen20/leng*100]], headers=['Sentences', 'Count']))"
      ],
      "metadata": {
        "colab": {
          "base_uri": "https://localhost:8080/"
        },
        "outputId": "96237ee7-a84d-459f-a221-07661c3ca154",
        "id": "h3wRvL0gw4mE"
      },
      "execution_count": null,
      "outputs": [
        {
          "output_type": "stream",
          "name": "stdout",
          "text": [
            "Sentences       Count\n",
            "-----------  --------\n",
            "<5           42.568\n",
            "[5:10)       52.1034\n",
            "[10:15)       4.24338\n",
            "[15:~)        1.08523\n"
          ]
        }
      ]
    },
    {
      "cell_type": "markdown",
      "source": [
        "### Long question\n"
      ],
      "metadata": {
        "id": "aTzFnYeiwsyZ"
      }
    },
    {
      "cell_type": "code",
      "source": [
        "import matplotlib.pyplot as plt\n",
        "\n",
        "plt.hist([len(sent_tokenize(s)) for s in df_train['long_question']], 50)\n",
        "plt.xlabel('Number of sentence')\n",
        "plt.ylabel('COUNT')\n",
        "plt.title('Distribution of the number of sentences in the LONG QUESTION passage')\n",
        "plt.show()"
      ],
      "metadata": {
        "colab": {
          "base_uri": "https://localhost:8080/",
          "height": 295
        },
        "id": "2dzdlCTes1lY",
        "outputId": "b8e3b4dd-07e9-401b-ec3a-d2bfe149ac54"
      },
      "execution_count": null,
      "outputs": [
        {
          "output_type": "display_data",
          "data": {
            "image/png": "[encoded data removed]",
            "text/plain": [
              "<Figure size 432x288 with 1 Axes>"
            ]
          },
          "metadata": {
            "needs_background": "light"
          }
        }
      ]
    },
    {
      "cell_type": "code",
      "source": [
        "sen5 = sen10 = sen15 = sen20 = 0\n",
        "for text in df_train['long_question']:\n",
        "  if len(sent_tokenize(text)) < 5:\n",
        "    sen5 += 1\n",
        "  elif len(sent_tokenize(text)) >= 5 and len(sent_tokenize(text)) < 10:\n",
        "    sen10 += 1\n",
        "  elif len(sent_tokenize(text)) >= 10 and len(sent_tokenize(text)) < 15:\n",
        "    sen15 += 1\n",
        "  else:\n",
        "    sen20 += 1"
      ],
      "metadata": {
        "id": "56ioBMaus_zq"
      },
      "execution_count": null,
      "outputs": []
    },
    {
      "cell_type": "code",
      "source": [
        "print(tabulate([['<5', sen5], ['[5:10)', sen10], ['[10:15)', sen15], ['[15:~)', sen20]], headers=['Sentences', 'Count']))"
      ],
      "metadata": {
        "colab": {
          "base_uri": "https://localhost:8080/"
        },
        "id": "zHGZ3TccNQSe",
        "outputId": "06ce28aa-dc47-41a4-e89e-01dbbe4e662a"
      },
      "execution_count": null,
      "outputs": [
        {
          "output_type": "stream",
          "name": "stdout",
          "text": [
            "Sentences      Count\n",
            "-----------  -------\n",
            "<5              4905\n",
            "[5:10)          3131\n",
            "[10:15)          152\n",
            "[15:~)            13\n"
          ]
        }
      ]
    },
    {
      "cell_type": "code",
      "source": [
        "print(tabulate([['<5', sen5/leng*100], ['[5:10)', sen10/leng*100], ['[10:15)', sen15/leng*100], ['[15:~)', sen20/leng*100]], headers=['Sentences', 'Count']))"
      ],
      "metadata": {
        "colab": {
          "base_uri": "https://localhost:8080/"
        },
        "id": "LZMiJekAt8GQ",
        "outputId": "2da2dca1-505b-46d7-a751-5f9575e637a7"
      },
      "execution_count": null,
      "outputs": [
        {
          "output_type": "stream",
          "name": "stdout",
          "text": [
            "Sentences        Count\n",
            "-----------  ---------\n",
            "<5           59.8098\n",
            "[5:10)       38.1783\n",
            "[10:15)       1.85343\n",
            "[15:~)        0.158517\n"
          ]
        }
      ]
    },
    {
      "cell_type": "markdown",
      "source": [
        "## Number of documents by word length"
      ],
      "metadata": {
        "id": "2HIXy3wlw4mF"
      }
    },
    {
      "cell_type": "markdown",
      "source": [
        "### Answer"
      ],
      "metadata": {
        "id": "_eMKT0Eeyfpd"
      }
    },
    {
      "cell_type": "code",
      "source": [
        "import matplotlib.pyplot as plt\n",
        "\n",
        "plt.hist([len(str(s)) for s in df_train['answer']], 50)\n",
        "plt.xlabel('Length of a sample')\n",
        "plt.ylabel('Number of samples')\n",
        "plt.title('Distribution Of Answer Length')\n",
        "plt.show()"
      ],
      "metadata": {
        "colab": {
          "base_uri": "https://localhost:8080/",
          "height": 295
        },
        "id": "yUbehN7dx3DF",
        "outputId": "2800574a-4c9d-43f4-df23-46fc82f62788"
      },
      "execution_count": null,
      "outputs": [
        {
          "output_type": "display_data",
          "data": {
            "image/png": "[encoded data removed]",
            "text/plain": [
              "<Figure size 432x288 with 1 Axes>"
            ]
          },
          "metadata": {
            "needs_background": "light"
          }
        }
      ]
    },
    {
      "cell_type": "code",
      "source": [
        "count100 = count300 = count500 = count700 = count1000 = count10000 = 0\n",
        "for s in df_train['answer']:\n",
        "  if (len(str(s)) < 100):\n",
        "    count100 += 1\n",
        "  elif (len(str(s)) >= 100 and len(str(s)) < 300):\n",
        "    count300 += 1\n",
        "  elif (len(str(s)) >= 300 and len(str(s)) < 500):\n",
        "    count500 += 1\n",
        "  elif (len(str(s)) >= 500 and len(str(s)) < 700):\n",
        "    count700 += 1\n",
        "  elif (len(str(s)) >= 700 and len(str(s)) < 1000):\n",
        "    count1000 += 1\n",
        "  else:\n",
        "    count10000 += 1"
      ],
      "metadata": {
        "id": "6TV3ahGTw4mF"
      },
      "execution_count": null,
      "outputs": []
    },
    {
      "cell_type": "code",
      "source": [
        "leng = len(df_train)\n",
        "print(tabulate([['<100', count100], ['[100:300)', count300], ['[300:500)', count500], ['[500:700)', count700], ['[700:1000)', count1000], ['[1000:~)', count10000]], headers=['Length', 'Count']))"
      ],
      "metadata": {
        "colab": {
          "base_uri": "https://localhost:8080/"
        },
        "id": "97EwWvGLLzDA",
        "outputId": "3280bd7a-f04e-4e43-d045-4976c96bb38b"
      },
      "execution_count": null,
      "outputs": [
        {
          "output_type": "stream",
          "name": "stdout",
          "text": [
            "Length        Count\n",
            "----------  -------\n",
            "<100              1\n",
            "[100:300)       504\n",
            "[300:500)      1668\n",
            "[500:700)      2229\n",
            "[700:1000)     2127\n",
            "[1000:~)       1672\n"
          ]
        }
      ]
    },
    {
      "cell_type": "code",
      "source": [
        "print(tabulate([['<100', round(count100/leng*100, 2)], ['[100:300)', round(count300/leng*100, 2)], ['[300:500)', round(count500/leng*100, 2)], ['[500:700)', round(count700/leng*100, 2)], ['[700:1000)', round(count1000/leng*100, 2)], ['[1000:~)', round(count10000/leng*100, 2)]], headers=['Length', '%']))"
      ],
      "metadata": {
        "colab": {
          "base_uri": "https://localhost:8080/"
        },
        "outputId": "64fe62db-4fc3-43c9-9337-794bd0cf0752",
        "id": "55vV9NuYw4mF"
      },
      "execution_count": null,
      "outputs": [
        {
          "output_type": "stream",
          "name": "stdout",
          "text": [
            "Length          %\n",
            "----------  -----\n",
            "<100         0.01\n",
            "[100:300)    6.15\n",
            "[300:500)   20.34\n",
            "[500:700)   27.18\n",
            "[700:1000)  25.94\n",
            "[1000:~)    20.39\n"
          ]
        }
      ]
    },
    {
      "cell_type": "markdown",
      "source": [
        "### Long question"
      ],
      "metadata": {
        "id": "tOqkj4kouipG"
      }
    },
    {
      "cell_type": "code",
      "source": [
        "import matplotlib.pyplot as plt\n",
        "\n",
        "plt.hist([len(str(s)) for s in df_train['long_question']], 50)\n",
        "plt.xlabel('Length of a sample')\n",
        "plt.ylabel('Number of samples')\n",
        "plt.title('Distribution Of Questions By Question Length')\n",
        "plt.show()"
      ],
      "metadata": {
        "colab": {
          "base_uri": "https://localhost:8080/",
          "height": 295
        },
        "id": "4bsh-gOItq8Z",
        "outputId": "baa0d616-07b0-4d8b-cc37-816468c726f9"
      },
      "execution_count": null,
      "outputs": [
        {
          "output_type": "display_data",
          "data": {
            "image/png": "[encoded data removed]",
            "text/plain": [
              "<Figure size 432x288 with 1 Axes>"
            ]
          },
          "metadata": {
            "needs_background": "light"
          }
        }
      ]
    },
    {
      "cell_type": "code",
      "source": [
        "count100 = count300 = count500 = count700 = count1000 = count10000 = 0\n",
        "for s in df_train['long_question']:\n",
        "  if (len(str(s)) < 100):\n",
        "    count100 += 1\n",
        "  elif (len(str(s)) > 100 and len(str(s)) < 300):\n",
        "    count300 += 1\n",
        "  elif (len(str(s)) > 300 and len(str(s)) < 500):\n",
        "    count500 += 1\n",
        "  elif (len(str(s)) > 500 and len(str(s)) < 700):\n",
        "    count700 += 1\n",
        "  elif (len(str(s)) > 700 and len(str(s)) < 1000):\n",
        "    count1000 += 1\n",
        "  else:\n",
        "    count10000 += 1"
      ],
      "metadata": {
        "id": "gIgbH3NZKyg4"
      },
      "execution_count": null,
      "outputs": []
    },
    {
      "cell_type": "code",
      "source": [
        "print(tabulate([['<100', count100], ['[100:300)', count300], ['[300:500)', count500], ['[500:700)', count700], ['[700:1000)', count1000], ['[1000:~)', count10000]], headers=['Length', 'Count']))"
      ],
      "metadata": {
        "colab": {
          "base_uri": "https://localhost:8080/"
        },
        "id": "UvM4wyLE2JU2",
        "outputId": "9380f4c1-8ab6-4817-e424-c07bbfa3945a"
      },
      "execution_count": null,
      "outputs": [
        {
          "output_type": "stream",
          "name": "stdout",
          "text": [
            "Length        Count\n",
            "----------  -------\n",
            "<100            396\n",
            "[100:300)      4443\n",
            "[300:500)      2522\n",
            "[500:700)       568\n",
            "[700:1000)      184\n",
            "[1000:~)         88\n"
          ]
        }
      ]
    },
    {
      "cell_type": "code",
      "source": [
        "print(tabulate([['<100', round(count100/leng*100, 2)], ['[100:300)', round(count300/leng*100, 2)], ['[300:500)', round(count500/leng*100, 2)], ['[500:700)', round(count700/leng*100, 2)], ['[700:1000)', round(count1000/leng*100, 2)], ['[1000:~)', round(count10000/leng*100, 2)]], headers=['Length', '%']))"
      ],
      "metadata": {
        "colab": {
          "base_uri": "https://localhost:8080/"
        },
        "id": "JSKDyOcTk3Vs",
        "outputId": "b9acf17f-f944-42f5-f16e-f0df2514b5e2"
      },
      "execution_count": null,
      "outputs": [
        {
          "output_type": "stream",
          "name": "stdout",
          "text": [
            "Length          %\n",
            "----------  -----\n",
            "<100         4.83\n",
            "[100:300)   54.18\n",
            "[300:500)   30.75\n",
            "[500:700)    6.93\n",
            "[700:1000)   2.24\n",
            "[1000:~)     1.07\n"
          ]
        }
      ]
    },
    {
      "cell_type": "markdown",
      "source": [
        "# Preprocessing"
      ],
      "metadata": {
        "id": "D_XeEVqM7wJG"
      }
    },
    {
      "cell_type": "code",
      "source": [
        "# train\n",
        "for i in range(len(df_train)):\n",
        "  begin = 0\n",
        "  end = 0\n",
        "  if (type(df_train['answer'][i])== str):\n",
        "    for j in range(len(df_train['answer'][i])):\n",
        "        if df_train['answer'][i][j] == '“':\n",
        "          begin = j\n",
        "        if df_train['answer'][i][j] == '”':\n",
        "          end = j\n",
        "    if begin!=0 and end!=0:\n",
        "      df_train['answer'][i] = df_train['answer'][i].replace(df_train['answer'][i][begin:end+2],\"\")\n"
      ],
      "metadata": {
        "id": "I_Hw5_6dBl19"
      },
      "execution_count": null,
      "outputs": []
    },
    {
      "cell_type": "code",
      "source": [
        "# test\n",
        "for i in range(len(df_test)):\n",
        "  begin = 0\n",
        "  end = 0\n",
        "  if (type(df_test['answer'][i])== str):\n",
        "    for j in range(len(df_test['answer'][i])):\n",
        "        if df_test['answer'][i][j] == '“':\n",
        "          begin = j\n",
        "        if df_test['answer'][i][j] == '”':\n",
        "          end = j\n",
        "    if begin!=0 and end!=0:\n",
        "      df_test['answer'][i] = df_test['answer'][i].replace(df_test['answer'][i][begin:end+2],\"\")"
      ],
      "metadata": {
        "id": "Y4V4H2vDXt4C"
      },
      "execution_count": null,
      "outputs": []
    },
    {
      "cell_type": "code",
      "source": [
        "# val\n",
        "for i in range(len(df_val)):\n",
        "  begin = 0\n",
        "  end = 0\n",
        "  if (type(df_val['answer'][i])== str):\n",
        "    for j in range(len(df_val['answer'][i])):\n",
        "        if df_val['answer'][i][j] == '“':\n",
        "          begin = j\n",
        "        if df_val['answer'][i][j] == '”':\n",
        "          end = j\n",
        "    if begin!=0 and end!=0:\n",
        "      df_val['answer'][i] = df_val['answer'][i].replace(df_val['answer'][i][begin:end+2],\"\")"
      ],
      "metadata": {
        "id": "MfI7T7KgCA6m"
      },
      "execution_count": null,
      "outputs": []
    },
    {
      "cell_type": "code",
      "source": [
        "df_train = df_train[df_train.answer != 'None']\n",
        "df_train = df_train[df_train.answer != 'none']\n",
        "df_train = df_train[df_train.answer != ' ']\n",
        "df_train = df_train[df_train.answer != '']\n",
        "\n",
        "df_test = df_test[df_test.answer != 'None']\n",
        "df_test = df_test[df_test.answer != 'none']\n",
        "df_test = df_test[df_test.answer != ' ']\n",
        "df_test = df_test[df_test.answer != '']\n",
        "\n",
        "df_val = df_val[df_val.answer != 'None']\n",
        "df_val = df_val[df_val.answer != 'none']\n",
        "df_val = df_val[df_val.answer != ' ']\n",
        "df_val = df_val[df_val.answer != '']"
      ],
      "metadata": {
        "id": "sRE6Vy09uo1n"
      },
      "execution_count": null,
      "outputs": []
    },
    {
      "cell_type": "code",
      "source": [
        "df_train.tail()"
      ],
      "metadata": {
        "colab": {
          "base_uri": "https://localhost:8080/",
          "height": 337
        },
        "id": "jGPvrl2PjiCD",
        "outputId": "6cd1cd5f-3fb3-44e8-ec98-52c8abbe3916"
      },
      "execution_count": null,
      "outputs": [
        {
          "output_type": "execute_result",
          "data": {
            "text/html": [
              "\n",
              "  <div id=\"df-1062909c-c7f0-46be-8868-be9e635a2c07\">\n",
              "    <div class=\"colab-df-container\">\n",
              "      <div>\n",
              "<style scoped>\n",
              "    .dataframe tbody tr th:only-of-type {\n",
              "        vertical-align: middle;\n",
              "    }\n",
              "\n",
              "    .dataframe tbody tr th {\n",
              "        vertical-align: top;\n",
              "    }\n",
              "\n",
              "    .dataframe thead th {\n",
              "        text-align: right;\n",
              "    }\n",
              "</style>\n",
              "<table border=\"1\" class=\"dataframe\">\n",
              "  <thead>\n",
              "    <tr style=\"text-align: right;\">\n",
              "      <th></th>\n",
              "      <th>short_question</th>\n",
              "      <th>long_question</th>\n",
              "      <th>answer</th>\n",
              "      <th>link</th>\n",
              "    </tr>\n",
              "  </thead>\n",
              "  <tbody>\n",
              "    <tr>\n",
              "      <th>8196</th>\n",
              "      <td>None</td>\n",
              "      <td>Tôi vừa chích ngừa Vaccine Covid-19 thì 10 ngà...</td>\n",
              "      <td>Chào chị \\nTheo khuyến cáo của Tổ chức Y tế Th...</td>\n",
              "      <td>https://vnexpress.net/tu-van-tiem-vaccine-covi...</td>\n",
              "    </tr>\n",
              "    <tr>\n",
              "      <th>8197</th>\n",
              "      <td>None</td>\n",
              "      <td>Tôi bị nhịp xoang chậm, khoảng 6 tháng đến một...</td>\n",
              "      <td>Chào chị, Với tiền sử bệnh lý về tim mạch, chị...</td>\n",
              "      <td>https://vnexpress.net/tu-van-tiem-vaccine-covi...</td>\n",
              "    </tr>\n",
              "    <tr>\n",
              "      <th>8198</th>\n",
              "      <td>None</td>\n",
              "      <td>VNVC đã có vaccine Pfizer hay Moderna chưa ạ?</td>\n",
              "      <td>Chào anh, chị Theo thông tin từ Bộ Y tế, hơn 9...</td>\n",
              "      <td>https://vnexpress.net/tu-van-tiem-vaccine-covi...</td>\n",
              "    </tr>\n",
              "    <tr>\n",
              "      <th>8199</th>\n",
              "      <td>None</td>\n",
              "      <td>Tôi bị bệnh hen suyễn, hiện đang phải uống thu...</td>\n",
              "      <td>Chào Anh/Chị,\\nAnh/Chị có tiền sử hen phế quản...</td>\n",
              "      <td>https://vnexpress.net/tu-van-tiem-vaccine-covi...</td>\n",
              "    </tr>\n",
              "    <tr>\n",
              "      <th>8200</th>\n",
              "      <td>None</td>\n",
              "      <td>Tôi năm nay 41 tuổi, đi khám bệnh viên tim đượ...</td>\n",
              "      <td>Chào anh \\nAnh có nhịp nhanh kịch phát trên th...</td>\n",
              "      <td>https://vnexpress.net/tu-van-tiem-vaccine-covi...</td>\n",
              "    </tr>\n",
              "  </tbody>\n",
              "</table>\n",
              "</div>\n",
              "      <button class=\"colab-df-convert\" onclick=\"convertToInteractive('df-1062909c-c7f0-46be-8868-be9e635a2c07')\"\n",
              "              title=\"Convert this dataframe to an interactive table.\"\n",
              "              style=\"display:none;\">\n",
              "        \n",
              "  <svg xmlns=\"http://www.w3.org/2000/svg\" height=\"24px\"viewBox=\"0 0 24 24\"\n",
              "       width=\"24px\">\n",
              "    <path d=\"M0 0h24v24H0V0z\" fill=\"none\"/>\n",
              "    <path d=\"M18.56 5.44l.94 2.06.94-2.06 2.06-.94-2.06-.94-.94-2.06-.94 2.06-2.06.94zm-11 1L8.5 8.5l.94-2.06 2.06-.94-2.06-.94L8.5 2.5l-.94 2.06-2.06.94zm10 10l.94 2.06.94-2.06 2.06-.94-2.06-.94-.94-2.06-.94 2.06-2.06.94z\"/><path d=\"M17.41 7.96l-1.37-1.37c-.4-.4-.92-.59-1.43-.59-.52 0-1.04.2-1.43.59L10.3 9.45l-7.72 7.72c-.78.78-.78 2.05 0 2.83L4 21.41c.39.39.9.59 1.41.59.51 0 1.02-.2 1.41-.59l7.78-7.78 2.81-2.81c.8-.78.8-2.07 0-2.86zM5.41 20L4 18.59l7.72-7.72 1.47 1.35L5.41 20z\"/>\n",
              "  </svg>\n",
              "      </button>\n",
              "      \n",
              "  <style>\n",
              "    .colab-df-container {\n",
              "      display:flex;\n",
              "      flex-wrap:wrap;\n",
              "      gap: 12px;\n",
              "    }\n",
              "\n",
              "    .colab-df-convert {\n",
              "      background-color: #E8F0FE;\n",
              "      border: none;\n",
              "      border-radius: 50%;\n",
              "      cursor: pointer;\n",
              "      display: none;\n",
              "      fill: #1967D2;\n",
              "      height: 32px;\n",
              "      padding: 0 0 0 0;\n",
              "      width: 32px;\n",
              "    }\n",
              "\n",
              "    .colab-df-convert:hover {\n",
              "      background-color: #E2EBFA;\n",
              "      box-shadow: 0px 1px 2px rgba(60, 64, 67, 0.3), 0px 1px 3px 1px rgba(60, 64, 67, 0.15);\n",
              "      fill: #174EA6;\n",
              "    }\n",
              "\n",
              "    [theme=dark] .colab-df-convert {\n",
              "      background-color: #3B4455;\n",
              "      fill: #D2E3FC;\n",
              "    }\n",
              "\n",
              "    [theme=dark] .colab-df-convert:hover {\n",
              "      background-color: #434B5C;\n",
              "      box-shadow: 0px 1px 3px 1px rgba(0, 0, 0, 0.15);\n",
              "      filter: drop-shadow(0px 1px 2px rgba(0, 0, 0, 0.3));\n",
              "      fill: #FFFFFF;\n",
              "    }\n",
              "  </style>\n",
              "\n",
              "      <script>\n",
              "        const buttonEl =\n",
              "          document.querySelector('#df-1062909c-c7f0-46be-8868-be9e635a2c07 button.colab-df-convert');\n",
              "        buttonEl.style.display =\n",
              "          google.colab.kernel.accessAllowed ? 'block' : 'none';\n",
              "\n",
              "        async function convertToInteractive(key) {\n",
              "          const element = document.querySelector('#df-1062909c-c7f0-46be-8868-be9e635a2c07');\n",
              "          const dataTable =\n",
              "            await google.colab.kernel.invokeFunction('convertToInteractive',\n",
              "                                                     [key], {});\n",
              "          if (!dataTable) return;\n",
              "\n",
              "          const docLinkHtml = 'Like what you see? Visit the ' +\n",
              "            '<a target=\"_blank\" href=https://colab.research.google.com/notebooks/data_table.ipynb>data table notebook</a>'\n",
              "            + ' to learn more about interactive tables.';\n",
              "          element.innerHTML = '';\n",
              "          dataTable['output_type'] = 'display_data';\n",
              "          await google.colab.output.renderOutput(dataTable, element);\n",
              "          const docLink = document.createElement('div');\n",
              "          docLink.innerHTML = docLinkHtml;\n",
              "          element.appendChild(docLink);\n",
              "        }\n",
              "      </script>\n",
              "    </div>\n",
              "  </div>\n",
              "  "
            ],
            "text/plain": [
              "     short_question                                      long_question  \\\n",
              "8196           None  Tôi vừa chích ngừa Vaccine Covid-19 thì 10 ngà...   \n",
              "8197           None  Tôi bị nhịp xoang chậm, khoảng 6 tháng đến một...   \n",
              "8198           None      VNVC đã có vaccine Pfizer hay Moderna chưa ạ?   \n",
              "8199           None  Tôi bị bệnh hen suyễn, hiện đang phải uống thu...   \n",
              "8200           None  Tôi năm nay 41 tuổi, đi khám bệnh viên tim đượ...   \n",
              "\n",
              "                                                 answer  \\\n",
              "8196  Chào chị \\nTheo khuyến cáo của Tổ chức Y tế Th...   \n",
              "8197  Chào chị, Với tiền sử bệnh lý về tim mạch, chị...   \n",
              "8198  Chào anh, chị Theo thông tin từ Bộ Y tế, hơn 9...   \n",
              "8199  Chào Anh/Chị,\\nAnh/Chị có tiền sử hen phế quản...   \n",
              "8200  Chào anh \\nAnh có nhịp nhanh kịch phát trên th...   \n",
              "\n",
              "                                                   link  \n",
              "8196  https://vnexpress.net/tu-van-tiem-vaccine-covi...  \n",
              "8197  https://vnexpress.net/tu-van-tiem-vaccine-covi...  \n",
              "8198  https://vnexpress.net/tu-van-tiem-vaccine-covi...  \n",
              "8199  https://vnexpress.net/tu-van-tiem-vaccine-covi...  \n",
              "8200  https://vnexpress.net/tu-van-tiem-vaccine-covi...  "
            ]
          },
          "metadata": {},
          "execution_count": 26
        }
      ]
    },
    {
      "cell_type": "code",
      "source": [
        "# train\n",
        "for i in range(len(df_train)):\n",
        "  # short_question\n",
        "  df_train['short_question'][i] = df_train['short_question'][i].strip()\n",
        "  df_train['short_question'][i] = df_train['short_question'][i].lower()\n",
        "  df_train['short_question'][i] = df_train['short_question'][i].replace(\"\\n\", \"\")\n",
        "  df_train['short_question'][i] = re.sub(r'[^\\w\\s]','', df_train['short_question'][i])\n",
        "  # long_question\n",
        "  df_train['long_question'][i] = df_train['long_question'][i].strip()\n",
        "  df_train['long_question'][i] = df_train['long_question'][i].lower()\n",
        "  df_train['long_question'][i] = df_train['long_question'][i].replace(\"\\n\", \"\")\n",
        "  df_train['long_question'][i] = re.sub(r'[^\\w\\s]','', df_train['long_question'][i])\n",
        "  # answer\n",
        "  df_train['answer'][i] = df_train['answer'][i].strip()\n",
        "  df_train['answer'][i] = df_train['answer'][i].lower()\n",
        "  df_train['answer'][i] = df_train['answer'][i].replace(\"\\n\", \"\")\n",
        "  df_train['answer'][i] = re.sub(r'[^\\w\\s]','', df_train['answer'][i])\n",
        "\n",
        "\n",
        "# val\n",
        "for i in range(len(df_val)):\n",
        "  # short_question\n",
        "  df_val['short_question'][i] = df_val['short_question'][i].strip()\n",
        "  df_val['short_question'][i] = df_val['short_question'][i].lower()\n",
        "  df_val['short_question'][i] = df_val['short_question'][i].replace(\"\\n\", \"\")\n",
        "  df_val['short_question'][i] = re.sub(r'[^\\w\\s]','', df_val['short_question'][i])\n",
        "  # long_question\n",
        "  df_val['long_question'][i] = df_val['long_question'][i].strip()\n",
        "  df_val['long_question'][i] = df_val['long_question'][i].lower()\n",
        "  df_val['long_question'][i] = df_val['long_question'][i].replace(\"\\n\", \"\")\n",
        "  df_val['long_question'][i] = re.sub(r'[^\\w\\s]','', df_val['long_question'][i])\n",
        "  # answer\n",
        "  df_val['answer'][i] = df_val['answer'][i].strip()\n",
        "  df_val['answer'][i] = df_val['answer'][i].lower()\n",
        "  df_val['answer'][i] = df_val['answer'][i].replace(\"\\n\", \"\")\n",
        "  df_val['answer'][i] = re.sub(r'[^\\w\\s]','', df_val['answer'][i])\n",
        "\n"
      ],
      "metadata": {
        "id": "nPeY6FyQ6NVK"
      },
      "execution_count": null,
      "outputs": []
    },
    {
      "cell_type": "code",
      "source": [
        "# test\n",
        "for i in range(len(df_test)):\n",
        "  # short_question\n",
        "  df_test['short_question'][i] = df_test['short_question'][i].strip()\n",
        "  df_test['short_question'][i] = df_test['short_question'][i].lower()\n",
        "  df_test['short_question'][i] = df_test['short_question'][i].replace(\"\\n\", \"\")\n",
        "  df_test['short_question'][i] = re.sub(r'[^\\w\\s]','', df_test['short_question'][i])\n",
        "  # long_question\n",
        "  df_test['long_question'][i] = df_test['long_question'][i].strip()\n",
        "  df_test['long_question'][i] = df_test['long_question'][i].lower()\n",
        "  df_test['long_question'][i] = df_test['long_question'][i].replace(\"\\n\", \"\")\n",
        "  df_test['long_question'][i] = re.sub(r'[^\\w\\s]','', df_test['long_question'][i])\n",
        "  # answer\n",
        "  df_test['answer'][i] = df_test['answer'][i].strip()\n",
        "  df_test['answer'][i] = df_test['answer'][i].lower()\n",
        "  df_test['answer'][i] = df_test['answer'][i].replace(\"\\n\", \"\")\n",
        "  df_test['answer'][i] = re.sub(r'[^\\w\\s]','', df_test['answer'][i])"
      ],
      "metadata": {
        "id": "meor5llsYGyL"
      },
      "execution_count": null,
      "outputs": []
    },
    {
      "cell_type": "code",
      "source": [
        "df_train = df_train.dropna()\n",
        "df_train = df_train.drop_duplicates()\n",
        "df_test = df_test.dropna()\n",
        "df_test = df_test.drop_duplicates()\n",
        "df_val = df_val.dropna()\n",
        "df_val = df_val.drop_duplicates()"
      ],
      "metadata": {
        "id": "2nZ3vXao71Ej"
      },
      "execution_count": null,
      "outputs": []
    },
    {
      "cell_type": "code",
      "source": [
        "len(df_train)"
      ],
      "metadata": {
        "id": "dAI0qtMJ84W4",
        "colab": {
          "base_uri": "https://localhost:8080/"
        },
        "outputId": "487f1a05-df1e-4bf2-93e8-224a16effaff"
      },
      "execution_count": null,
      "outputs": [
        {
          "output_type": "execute_result",
          "data": {
            "text/plain": [
              "8196"
            ]
          },
          "metadata": {},
          "execution_count": 29
        }
      ]
    },
    {
      "cell_type": "markdown",
      "source": [
        "### Tokenize"
      ],
      "metadata": {
        "id": "uhkXfIGfUM4u"
      }
    },
    {
      "cell_type": "code",
      "source": [
        "pip install pyvi\n"
      ],
      "metadata": {
        "colab": {
          "base_uri": "https://localhost:8080/"
        },
        "id": "oOFLn-ev17UI",
        "outputId": "5750ff0b-d60a-4532-963a-3ac72cb8c278"
      },
      "execution_count": null,
      "outputs": [
        {
          "output_type": "stream",
          "name": "stdout",
          "text": [
            "Requirement already satisfied: pyvi in /usr/local/lib/python3.7/dist-packages (0.1.1)\n",
            "Requirement already satisfied: sklearn-crfsuite in /usr/local/lib/python3.7/dist-packages (from pyvi) (0.3.6)\n",
            "Requirement already satisfied: scikit-learn in /usr/local/lib/python3.7/dist-packages (from pyvi) (1.0.2)\n",
            "Requirement already satisfied: scipy>=1.1.0 in /usr/local/lib/python3.7/dist-packages (from scikit-learn->pyvi) (1.4.1)\n",
            "Requirement already satisfied: threadpoolctl>=2.0.0 in /usr/local/lib/python3.7/dist-packages (from scikit-learn->pyvi) (3.1.0)\n",
            "Requirement already satisfied: numpy>=1.14.6 in /usr/local/lib/python3.7/dist-packages (from scikit-learn->pyvi) (1.21.5)\n",
            "Requirement already satisfied: joblib>=0.11 in /usr/local/lib/python3.7/dist-packages (from scikit-learn->pyvi) (1.1.0)\n",
            "Requirement already satisfied: six in /usr/local/lib/python3.7/dist-packages (from sklearn-crfsuite->pyvi) (1.15.0)\n",
            "Requirement already satisfied: tabulate in /usr/local/lib/python3.7/dist-packages (from sklearn-crfsuite->pyvi) (0.8.9)\n",
            "Requirement already satisfied: python-crfsuite>=0.8.3 in /usr/local/lib/python3.7/dist-packages (from sklearn-crfsuite->pyvi) (0.9.7)\n",
            "Requirement already satisfied: tqdm>=2.0 in /usr/local/lib/python3.7/dist-packages (from sklearn-crfsuite->pyvi) (4.63.0)\n"
          ]
        }
      ]
    },
    {
      "cell_type": "code",
      "source": [
        "from pyvi import ViTokenizer\n",
        "# train\n",
        "df_train[\"long_tokenize\"] = \"\"\n",
        "df_train[\"answer_tokenize\"] = \"\"\n",
        "for i in range(len(df_train[\"long_question\"])):\n",
        "  try:\n",
        "    df_train[\"long_tokenize\"][i] = ViTokenizer.tokenize(str(df_train[\"long_question\"][i]))\n",
        "  except:\n",
        "    print('..')\n",
        "for i in range(len(df_train[\"answer\"])):\n",
        "  try:\n",
        "    df_train[\"answer_tokenize\"][i] = ViTokenizer.tokenize(str(df_train[\"answer\"][i]))\n",
        "  except:\n",
        "    print('..')"
      ],
      "metadata": {
        "id": "j_uQEkKD2L1B",
        "colab": {
          "base_uri": "https://localhost:8080/"
        },
        "outputId": "86d064e1-0a76-4d29-d07f-60eddfbc81e7"
      },
      "execution_count": null,
      "outputs": [
        {
          "output_type": "stream",
          "name": "stdout",
          "text": [
            "..\n",
            "..\n",
            "..\n",
            "..\n",
            "..\n",
            "..\n",
            "..\n",
            "..\n",
            "..\n",
            "..\n"
          ]
        }
      ]
    },
    {
      "cell_type": "code",
      "source": [
        "from pyvi import ViTokenizer\n",
        "# val\n",
        "df_val[\"long_tokenize\"] = \"\"\n",
        "df_val[\"answer_tokenize\"] = \"\"\n",
        "for i in range(len(df_val[\"long_question\"])):\n",
        "  try:\n",
        "    df_val[\"long_tokenize\"][i] = ViTokenizer.tokenize(str(df_val[\"long_question\"][i]))\n",
        "  except:\n",
        "    print('..')\n",
        "for i in range(len(df_val[\"answer\"])):\n",
        "  try:\n",
        "    df_val[\"answer_tokenize\"][i] = ViTokenizer.tokenize(str(df_val[\"answer\"][i]))\n",
        "  except:\n",
        "    print('..')"
      ],
      "metadata": {
        "id": "VSz1WNELCkoP"
      },
      "execution_count": null,
      "outputs": []
    },
    {
      "cell_type": "code",
      "source": [
        "from pyvi import ViTokenizer\n",
        "# test\n",
        "df_test[\"long_tokenize\"] = \"\"\n",
        "df_test[\"answer_tokenize\"] = \"\"\n",
        "for i in range(len(df_test[\"long_question\"])):\n",
        "  try:\n",
        "    df_test[\"long_tokenize\"][i] = ViTokenizer.tokenize(str(df_test[\"long_question\"][i]))\n",
        "  except:\n",
        "    print('..')\n",
        "for i in range(len(df_test[\"answer\"])):\n",
        "  try:\n",
        "    df_test[\"answer_tokenize\"][i] = ViTokenizer.tokenize(str(df_test[\"answer\"][i]))\n",
        "  except:\n",
        "    print('..')"
      ],
      "metadata": {
        "id": "H3F6Amg8YJPh"
      },
      "execution_count": null,
      "outputs": []
    },
    {
      "cell_type": "code",
      "source": [
        "df_train"
      ],
      "metadata": {
        "colab": {
          "base_uri": "https://localhost:8080/",
          "height": 867
        },
        "id": "KW6y_Vw8Dvlx",
        "outputId": "e7000835-7018-4966-eadb-e41cdd8c5a70"
      },
      "execution_count": null,
      "outputs": [
        {
          "output_type": "execute_result",
          "data": {
            "text/html": [
              "\n",
              "  <div id=\"df-48b4cf0c-7fb9-4456-b1a3-44baaa2fe900\">\n",
              "    <div class=\"colab-df-container\">\n",
              "      <div>\n",
              "<style scoped>\n",
              "    .dataframe tbody tr th:only-of-type {\n",
              "        vertical-align: middle;\n",
              "    }\n",
              "\n",
              "    .dataframe tbody tr th {\n",
              "        vertical-align: top;\n",
              "    }\n",
              "\n",
              "    .dataframe thead th {\n",
              "        text-align: right;\n",
              "    }\n",
              "</style>\n",
              "<table border=\"1\" class=\"dataframe\">\n",
              "  <thead>\n",
              "    <tr style=\"text-align: right;\">\n",
              "      <th></th>\n",
              "      <th>short_question</th>\n",
              "      <th>long_question</th>\n",
              "      <th>answer</th>\n",
              "      <th>link</th>\n",
              "      <th>long_tokenize</th>\n",
              "      <th>answer_tokenize</th>\n",
              "    </tr>\n",
              "  </thead>\n",
              "  <tbody>\n",
              "    <tr>\n",
              "      <th>0</th>\n",
              "      <td>thường xuyên co giật sau khi sử dụng rượu bia ...</td>\n",
              "      <td>chào bác sĩ  em năm nay 25 tuổi  em bị co giật...</td>\n",
              "      <td>chào em rượu là một chất kích thích tác động t...</td>\n",
              "      <td>https://www.vinmec.com/vi/tin-tuc/hoi-dap-bac-...</td>\n",
              "      <td>chào bác_sĩ em năm nay 25 tuổi em bị co_giật s...</td>\n",
              "      <td>chào em rượu là một chất kích_thích tác_động t...</td>\n",
              "    </tr>\n",
              "    <tr>\n",
              "      <th>1</th>\n",
              "      <td>dùng thuốc điều trị thiếu máu do thiếu sắt như...</td>\n",
              "      <td>chào bác sĩlúc trước em bị thiếu máu thiếu sắt...</td>\n",
              "      <td>được giải đáp bởi tiến sĩ bác sĩ trương ngọc h...</td>\n",
              "      <td>https://www.vinmec.com/vi/tin-tuc/hoi-dap-bac-...</td>\n",
              "      <td>chào bác sĩlúc trước em bị thiếu máu thiếu sắt...</td>\n",
              "      <td>được giải_đáp bởi tiến_sĩ bác_sĩ trương ngọc h...</td>\n",
              "    </tr>\n",
              "    <tr>\n",
              "      <th>2</th>\n",
              "      <td>thường xuyên đau nhức vùng gáy là biểu hiện củ...</td>\n",
              "      <td>chào bác sĩ dạo gần đây em thường xuyên bị đau...</td>\n",
              "      <td>chào em đau vùng sau gáy không sưng đỏ không đ...</td>\n",
              "      <td>https://www.vinmec.com/vi/tin-tuc/hoi-dap-bac-...</td>\n",
              "      <td>chào bác_sĩ dạo gần đây em thường_xuyên bị đau...</td>\n",
              "      <td>chào em đau vùng sau gáy không sưng đỏ không đ...</td>\n",
              "    </tr>\n",
              "    <tr>\n",
              "      <th>3</th>\n",
              "      <td>đã tháo bột điều trị gãy mắt cá ngoài chân 1 t...</td>\n",
              "      <td>chào bác sĩ cách đây 2 tháng em bị gãy mắt cá ...</td>\n",
              "      <td>chào bạn gãy mắt cá chân là một loại tổn thươn...</td>\n",
              "      <td>https://www.vinmec.com/vi/tin-tuc/hoi-dap-bac-...</td>\n",
              "      <td>chào bác_sĩ cách đây 2 tháng em bị gãy mắt_cá ...</td>\n",
              "      <td>chào bạn gãy mắt_cá chân là một loại tổn_thươn...</td>\n",
              "    </tr>\n",
              "    <tr>\n",
              "      <th>4</th>\n",
              "      <td>hỏi đáp điều trị sỏi mật bằng phương pháp nội ...</td>\n",
              "      <td>chào bác sĩ tôi muốn hỏi điều trị sỏi mật bằng...</td>\n",
              "      <td>chào bạn điều trị sỏi mật bằng phương pháp nội...</td>\n",
              "      <td>https://www.vinmec.com/vi/tin-tuc/hoi-dap-bac-...</td>\n",
              "      <td>chào bác_sĩ tôi muốn hỏi điều_trị sỏi mật bằng...</td>\n",
              "      <td>chào bạn điều_trị sỏi mật bằng phương_pháp nội...</td>\n",
              "    </tr>\n",
              "    <tr>\n",
              "      <th>...</th>\n",
              "      <td>...</td>\n",
              "      <td>...</td>\n",
              "      <td>...</td>\n",
              "      <td>...</td>\n",
              "      <td>...</td>\n",
              "      <td>...</td>\n",
              "    </tr>\n",
              "    <tr>\n",
              "      <th>8196</th>\n",
              "      <td>none</td>\n",
              "      <td>tôi vừa chích ngừa vaccine covid19 thì 10 ngày...</td>\n",
              "      <td>chào chị theo khuyến cáo của tổ chức y tế thế ...</td>\n",
              "      <td>https://vnexpress.net/tu-van-tiem-vaccine-covi...</td>\n",
              "      <td></td>\n",
              "      <td></td>\n",
              "    </tr>\n",
              "    <tr>\n",
              "      <th>8197</th>\n",
              "      <td>none</td>\n",
              "      <td>tôi bị nhịp xoang chậm khoảng 6 tháng đến một ...</td>\n",
              "      <td>chào chị với tiền sử bệnh lý về tim mạch chị v...</td>\n",
              "      <td>https://vnexpress.net/tu-van-tiem-vaccine-covi...</td>\n",
              "      <td></td>\n",
              "      <td></td>\n",
              "    </tr>\n",
              "    <tr>\n",
              "      <th>8198</th>\n",
              "      <td>none</td>\n",
              "      <td>vnvc đã có vaccine pfizer hay moderna chưa ạ</td>\n",
              "      <td>chào anh chị theo thông tin từ bộ y tế hơn 900...</td>\n",
              "      <td>https://vnexpress.net/tu-van-tiem-vaccine-covi...</td>\n",
              "      <td></td>\n",
              "      <td></td>\n",
              "    </tr>\n",
              "    <tr>\n",
              "      <th>8199</th>\n",
              "      <td>none</td>\n",
              "      <td>tôi bị bệnh hen suyễn hiện đang phải uống thuố...</td>\n",
              "      <td>chào anhchịanhchị có tiền sử hen phế quản đang...</td>\n",
              "      <td>https://vnexpress.net/tu-van-tiem-vaccine-covi...</td>\n",
              "      <td></td>\n",
              "      <td></td>\n",
              "    </tr>\n",
              "    <tr>\n",
              "      <th>8200</th>\n",
              "      <td>none</td>\n",
              "      <td>tôi năm nay 41 tuổi đi khám bệnh viên tim được...</td>\n",
              "      <td>chào anh anh có nhịp nhanh kịch phát trên thất...</td>\n",
              "      <td>https://vnexpress.net/tu-van-tiem-vaccine-covi...</td>\n",
              "      <td></td>\n",
              "      <td></td>\n",
              "    </tr>\n",
              "  </tbody>\n",
              "</table>\n",
              "<p>8196 rows × 6 columns</p>\n",
              "</div>\n",
              "      <button class=\"colab-df-convert\" onclick=\"convertToInteractive('df-48b4cf0c-7fb9-4456-b1a3-44baaa2fe900')\"\n",
              "              title=\"Convert this dataframe to an interactive table.\"\n",
              "              style=\"display:none;\">\n",
              "        \n",
              "  <svg xmlns=\"http://www.w3.org/2000/svg\" height=\"24px\"viewBox=\"0 0 24 24\"\n",
              "       width=\"24px\">\n",
              "    <path d=\"M0 0h24v24H0V0z\" fill=\"none\"/>\n",
              "    <path d=\"M18.56 5.44l.94 2.06.94-2.06 2.06-.94-2.06-.94-.94-2.06-.94 2.06-2.06.94zm-11 1L8.5 8.5l.94-2.06 2.06-.94-2.06-.94L8.5 2.5l-.94 2.06-2.06.94zm10 10l.94 2.06.94-2.06 2.06-.94-2.06-.94-.94-2.06-.94 2.06-2.06.94z\"/><path d=\"M17.41 7.96l-1.37-1.37c-.4-.4-.92-.59-1.43-.59-.52 0-1.04.2-1.43.59L10.3 9.45l-7.72 7.72c-.78.78-.78 2.05 0 2.83L4 21.41c.39.39.9.59 1.41.59.51 0 1.02-.2 1.41-.59l7.78-7.78 2.81-2.81c.8-.78.8-2.07 0-2.86zM5.41 20L4 18.59l7.72-7.72 1.47 1.35L5.41 20z\"/>\n",
              "  </svg>\n",
              "      </button>\n",
              "      \n",
              "  <style>\n",
              "    .colab-df-container {\n",
              "      display:flex;\n",
              "      flex-wrap:wrap;\n",
              "      gap: 12px;\n",
              "    }\n",
              "\n",
              "    .colab-df-convert {\n",
              "      background-color: #E8F0FE;\n",
              "      border: none;\n",
              "      border-radius: 50%;\n",
              "      cursor: pointer;\n",
              "      display: none;\n",
              "      fill: #1967D2;\n",
              "      height: 32px;\n",
              "      padding: 0 0 0 0;\n",
              "      width: 32px;\n",
              "    }\n",
              "\n",
              "    .colab-df-convert:hover {\n",
              "      background-color: #E2EBFA;\n",
              "      box-shadow: 0px 1px 2px rgba(60, 64, 67, 0.3), 0px 1px 3px 1px rgba(60, 64, 67, 0.15);\n",
              "      fill: #174EA6;\n",
              "    }\n",
              "\n",
              "    [theme=dark] .colab-df-convert {\n",
              "      background-color: #3B4455;\n",
              "      fill: #D2E3FC;\n",
              "    }\n",
              "\n",
              "    [theme=dark] .colab-df-convert:hover {\n",
              "      background-color: #434B5C;\n",
              "      box-shadow: 0px 1px 3px 1px rgba(0, 0, 0, 0.15);\n",
              "      filter: drop-shadow(0px 1px 2px rgba(0, 0, 0, 0.3));\n",
              "      fill: #FFFFFF;\n",
              "    }\n",
              "  </style>\n",
              "\n",
              "      <script>\n",
              "        const buttonEl =\n",
              "          document.querySelector('#df-48b4cf0c-7fb9-4456-b1a3-44baaa2fe900 button.colab-df-convert');\n",
              "        buttonEl.style.display =\n",
              "          google.colab.kernel.accessAllowed ? 'block' : 'none';\n",
              "\n",
              "        async function convertToInteractive(key) {\n",
              "          const element = document.querySelector('#df-48b4cf0c-7fb9-4456-b1a3-44baaa2fe900');\n",
              "          const dataTable =\n",
              "            await google.colab.kernel.invokeFunction('convertToInteractive',\n",
              "                                                     [key], {});\n",
              "          if (!dataTable) return;\n",
              "\n",
              "          const docLinkHtml = 'Like what you see? Visit the ' +\n",
              "            '<a target=\"_blank\" href=https://colab.research.google.com/notebooks/data_table.ipynb>data table notebook</a>'\n",
              "            + ' to learn more about interactive tables.';\n",
              "          element.innerHTML = '';\n",
              "          dataTable['output_type'] = 'display_data';\n",
              "          await google.colab.output.renderOutput(dataTable, element);\n",
              "          const docLink = document.createElement('div');\n",
              "          docLink.innerHTML = docLinkHtml;\n",
              "          element.appendChild(docLink);\n",
              "        }\n",
              "      </script>\n",
              "    </div>\n",
              "  </div>\n",
              "  "
            ],
            "text/plain": [
              "                                         short_question  \\\n",
              "0     thường xuyên co giật sau khi sử dụng rượu bia ...   \n",
              "1     dùng thuốc điều trị thiếu máu do thiếu sắt như...   \n",
              "2     thường xuyên đau nhức vùng gáy là biểu hiện củ...   \n",
              "3     đã tháo bột điều trị gãy mắt cá ngoài chân 1 t...   \n",
              "4     hỏi đáp điều trị sỏi mật bằng phương pháp nội ...   \n",
              "...                                                 ...   \n",
              "8196                                               none   \n",
              "8197                                               none   \n",
              "8198                                               none   \n",
              "8199                                               none   \n",
              "8200                                               none   \n",
              "\n",
              "                                          long_question  \\\n",
              "0     chào bác sĩ  em năm nay 25 tuổi  em bị co giật...   \n",
              "1     chào bác sĩlúc trước em bị thiếu máu thiếu sắt...   \n",
              "2     chào bác sĩ dạo gần đây em thường xuyên bị đau...   \n",
              "3     chào bác sĩ cách đây 2 tháng em bị gãy mắt cá ...   \n",
              "4     chào bác sĩ tôi muốn hỏi điều trị sỏi mật bằng...   \n",
              "...                                                 ...   \n",
              "8196  tôi vừa chích ngừa vaccine covid19 thì 10 ngày...   \n",
              "8197  tôi bị nhịp xoang chậm khoảng 6 tháng đến một ...   \n",
              "8198       vnvc đã có vaccine pfizer hay moderna chưa ạ   \n",
              "8199  tôi bị bệnh hen suyễn hiện đang phải uống thuố...   \n",
              "8200  tôi năm nay 41 tuổi đi khám bệnh viên tim được...   \n",
              "\n",
              "                                                 answer  \\\n",
              "0     chào em rượu là một chất kích thích tác động t...   \n",
              "1     được giải đáp bởi tiến sĩ bác sĩ trương ngọc h...   \n",
              "2     chào em đau vùng sau gáy không sưng đỏ không đ...   \n",
              "3     chào bạn gãy mắt cá chân là một loại tổn thươn...   \n",
              "4     chào bạn điều trị sỏi mật bằng phương pháp nội...   \n",
              "...                                                 ...   \n",
              "8196  chào chị theo khuyến cáo của tổ chức y tế thế ...   \n",
              "8197  chào chị với tiền sử bệnh lý về tim mạch chị v...   \n",
              "8198  chào anh chị theo thông tin từ bộ y tế hơn 900...   \n",
              "8199  chào anhchịanhchị có tiền sử hen phế quản đang...   \n",
              "8200  chào anh anh có nhịp nhanh kịch phát trên thất...   \n",
              "\n",
              "                                                   link  \\\n",
              "0     https://www.vinmec.com/vi/tin-tuc/hoi-dap-bac-...   \n",
              "1     https://www.vinmec.com/vi/tin-tuc/hoi-dap-bac-...   \n",
              "2     https://www.vinmec.com/vi/tin-tuc/hoi-dap-bac-...   \n",
              "3     https://www.vinmec.com/vi/tin-tuc/hoi-dap-bac-...   \n",
              "4     https://www.vinmec.com/vi/tin-tuc/hoi-dap-bac-...   \n",
              "...                                                 ...   \n",
              "8196  https://vnexpress.net/tu-van-tiem-vaccine-covi...   \n",
              "8197  https://vnexpress.net/tu-van-tiem-vaccine-covi...   \n",
              "8198  https://vnexpress.net/tu-van-tiem-vaccine-covi...   \n",
              "8199  https://vnexpress.net/tu-van-tiem-vaccine-covi...   \n",
              "8200  https://vnexpress.net/tu-van-tiem-vaccine-covi...   \n",
              "\n",
              "                                          long_tokenize  \\\n",
              "0     chào bác_sĩ em năm nay 25 tuổi em bị co_giật s...   \n",
              "1     chào bác sĩlúc trước em bị thiếu máu thiếu sắt...   \n",
              "2     chào bác_sĩ dạo gần đây em thường_xuyên bị đau...   \n",
              "3     chào bác_sĩ cách đây 2 tháng em bị gãy mắt_cá ...   \n",
              "4     chào bác_sĩ tôi muốn hỏi điều_trị sỏi mật bằng...   \n",
              "...                                                 ...   \n",
              "8196                                                      \n",
              "8197                                                      \n",
              "8198                                                      \n",
              "8199                                                      \n",
              "8200                                                      \n",
              "\n",
              "                                        answer_tokenize  \n",
              "0     chào em rượu là một chất kích_thích tác_động t...  \n",
              "1     được giải_đáp bởi tiến_sĩ bác_sĩ trương ngọc h...  \n",
              "2     chào em đau vùng sau gáy không sưng đỏ không đ...  \n",
              "3     chào bạn gãy mắt_cá chân là một loại tổn_thươn...  \n",
              "4     chào bạn điều_trị sỏi mật bằng phương_pháp nội...  \n",
              "...                                                 ...  \n",
              "8196                                                     \n",
              "8197                                                     \n",
              "8198                                                     \n",
              "8199                                                     \n",
              "8200                                                     \n",
              "\n",
              "[8196 rows x 6 columns]"
            ]
          },
          "metadata": {},
          "execution_count": 33
        }
      ]
    },
    {
      "cell_type": "markdown",
      "source": [
        "### Write stopwords list to file"
      ],
      "metadata": {
        "id": "WPe6q1AhUbQO"
      }
    },
    {
      "cell_type": "code",
      "source": [
        "def get_stopwords(documents, threshold=3):\n",
        "    \"\"\"\n",
        "    :param documents: list of documents\n",
        "    :param threshold:\n",
        "    :return: list of words has idf <= threshold\n",
        "    \"\"\"\n",
        "    tfidf = TfidfVectorizer(min_df=5)\n",
        "    tfidf_matrix = tfidf.fit_transform(documents)\n",
        "    features = tfidf.get_feature_names()\n",
        "    stopwords = []\n",
        "    print(min(tfidf.idf_), max(tfidf.idf_), len(features))\n",
        "    for index, feature in enumerate(features):\n",
        "        if tfidf.idf_[index] <= threshold:\n",
        "            stopwords.append(feature)\n",
        "    return stopwords"
      ],
      "metadata": {
        "id": "5Wd-zFiNcMjz"
      },
      "execution_count": null,
      "outputs": []
    },
    {
      "cell_type": "code",
      "source": [
        "# from sklearn.feature_extraction.text import TfidfVectorizer\n",
        "# from nltk.corpus import stopwords\n",
        "\n",
        "# stopwords = get_stopwords(df_train[\"long_tokenize\"], threshold=3)\n",
        "# stopwords = stopwords + get_stopwords(df_train[\"long_question\"], threshold=3)\n",
        "# stopwords = stopwords + get_stopwords(df_train[\"answer\"], threshold=3)\n",
        "# with open('stopwords.txt', 'w', encoding='utf8') as fp:\n",
        "#     for word in stopwords:\n",
        "#         fp.write(word + '\\n')"
      ],
      "metadata": {
        "id": "0wo00joRC53J"
      },
      "execution_count": null,
      "outputs": []
    },
    {
      "cell_type": "markdown",
      "source": [
        "### Read stopword file"
      ],
      "metadata": {
        "id": "5ssRoCQlUoEg"
      }
    },
    {
      "cell_type": "code",
      "source": [
        "# train\n",
        "for i in range(len(df_train[\"long_tokenize\"])):\n",
        "  try:\n",
        "    df_train[\"long_tokenize\"][i] = df_train[\"long_tokenize\"][i].split(\" \")\n",
        "  except:\n",
        "    print('ok')\n",
        "for i in range(len(df_train[\"answer_tokenize\"])):\n",
        "  try:\n",
        "    df_train[\"answer_tokenize\"][i] = df_train[\"answer_tokenize\"][i].split(\" \")\n",
        "  except:\n",
        "    print('ok')\n",
        "\n",
        "# val\n",
        "for i in range(len(df_val[\"long_tokenize\"])):\n",
        "  try:\n",
        "    df_val[\"long_tokenize\"][i] = df_val[\"long_tokenize\"][i].split(\" \")\n",
        "  except:\n",
        "    print('ok')\n",
        "for i in range(len(df_val[\"answer_tokenize\"])):\n",
        "  try:\n",
        "    df_val[\"answer_tokenize\"][i] = df_val[\"answer_tokenize\"][i].split(\" \")\n",
        "  except:\n",
        "    print('ok')"
      ],
      "metadata": {
        "id": "3YVlMKwqFAPf",
        "colab": {
          "base_uri": "https://localhost:8080/"
        },
        "outputId": "15ea02cd-d6b9-4bd4-f8fc-88f9e4222896"
      },
      "execution_count": null,
      "outputs": [
        {
          "output_type": "stream",
          "name": "stdout",
          "text": [
            "ok\n",
            "ok\n",
            "ok\n",
            "ok\n",
            "ok\n",
            "ok\n",
            "ok\n",
            "ok\n",
            "ok\n",
            "ok\n"
          ]
        }
      ]
    },
    {
      "cell_type": "code",
      "source": [
        "# test\n",
        "for i in range(len(df_test[\"long_tokenize\"])):\n",
        "  try:\n",
        "    df_test[\"long_tokenize\"][i] = df_test[\"long_tokenize\"][i].split(\" \")\n",
        "  except:\n",
        "    print('ok')\n",
        "for i in range(len(df_test[\"answer_tokenize\"])):\n",
        "  try:\n",
        "    df_test[\"answer_tokenize\"][i] = df_test[\"answer_tokenize\"][i].split(\" \")\n",
        "  except:\n",
        "    print('ok')"
      ],
      "metadata": {
        "id": "9v8NveMmYRCK"
      },
      "execution_count": null,
      "outputs": []
    },
    {
      "cell_type": "code",
      "source": [
        "with open('/content/drive/MyDrive/QA_KLTN/Dataset/stopwords.txt') as f:\n",
        "    lines = f.readlines()\n"
      ],
      "metadata": {
        "id": "dh8t5RgqJd14"
      },
      "execution_count": null,
      "outputs": []
    },
    {
      "cell_type": "code",
      "source": [
        "for i in range(len(lines)):\n",
        "  lines[i] = (lines[i].rstrip(\"\\n\"))"
      ],
      "metadata": {
        "id": "Yqqq2LZfUAOE"
      },
      "execution_count": null,
      "outputs": []
    },
    {
      "cell_type": "code",
      "source": [
        "len(lines)"
      ],
      "metadata": {
        "id": "rISjDRYkcjAv",
        "colab": {
          "base_uri": "https://localhost:8080/"
        },
        "outputId": "1eed12b3-ec84-48a0-d473-a223bb274976"
      },
      "execution_count": null,
      "outputs": [
        {
          "output_type": "execute_result",
          "data": {
            "text/plain": [
              "315"
            ]
          },
          "metadata": {},
          "execution_count": 39
        }
      ]
    },
    {
      "cell_type": "markdown",
      "source": [
        "### Remove stopwords"
      ],
      "metadata": {
        "id": "4uxBzCkQU7KI"
      }
    },
    {
      "cell_type": "code",
      "source": [
        "import re\n",
        "long_tokenize = ''\n",
        "answer_tokenize = ''\n",
        "# train\n",
        "for i in range(len(df_train[\"long_tokenize\"])):\n",
        "  try:\n",
        "    for word in df_train[\"long_tokenize\"][i]:\n",
        "      #remove stopword\n",
        "      if (word in lines):\n",
        "        long_tokenize = [word for word in df_train[\"long_tokenize\"][i] if word not in lines]\n",
        "    df_train[\"long_tokenize\"][i] = long_tokenize\n",
        "  except: \n",
        "    print('err')\n",
        "for i in range(len(df_train[\"answer_tokenize\"])):\n",
        "  try:\n",
        "    for word in df_train[\"answer_tokenize\"][i]:\n",
        "      #remove stopword\n",
        "      if (word in lines):\n",
        "        answer_tokenize = [word for word in df_train[\"answer_tokenize\"][i] if word not in lines]  \n",
        "    df_train[\"answer_tokenize\"][i] = answer_tokenize \n",
        "  except: \n",
        "    print('err')\n",
        "\n",
        "\n",
        "# val\n",
        "for i in range(len(df_val[\"long_tokenize\"])):\n",
        "  try:\n",
        "    for word in df_val[\"long_tokenize\"][i]:\n",
        "      #remove stopword\n",
        "      if (word in lines):\n",
        "        long_tokenize = [word for word in df_val[\"long_tokenize\"][i] if word not in lines]\n",
        "    df_val[\"long_tokenize\"][i] = long_tokenize\n",
        "  except: \n",
        "    print('err')\n",
        "for i in range(len(df_val[\"answer_tokenize\"])):\n",
        "  try:\n",
        "    for word in df_val[\"answer_tokenize\"][i]:\n",
        "      #remove stopword\n",
        "      if (word in lines):\n",
        "        answer_tokenize = [word for word in df_val[\"answer_tokenize\"][i] if word not in lines]  \n",
        "    df_val[\"answer_tokenize\"][i] = answer_tokenize \n",
        "  except: \n",
        "    print('err')"
      ],
      "metadata": {
        "id": "TiG_GCFzOEAA",
        "colab": {
          "base_uri": "https://localhost:8080/"
        },
        "outputId": "35128cf9-6c8d-406e-cc1e-71f1af608b00"
      },
      "execution_count": null,
      "outputs": [
        {
          "output_type": "stream",
          "name": "stdout",
          "text": [
            "err\n",
            "err\n",
            "err\n",
            "err\n",
            "err\n",
            "err\n",
            "err\n",
            "err\n",
            "err\n",
            "err\n"
          ]
        }
      ]
    },
    {
      "cell_type": "code",
      "source": [
        "# test\n",
        "for i in range(len(df_test[\"long_tokenize\"])):\n",
        "  try:\n",
        "    for word in df_test[\"long_tokenize\"][i]:\n",
        "      #remove stopword\n",
        "      if (word in lines):\n",
        "        long_tokenize = [word for word in df_test[\"long_tokenize\"][i] if word not in lines]\n",
        "    df_test[\"long_tokenize\"][i] = long_tokenize\n",
        "  except: \n",
        "    print('err')\n",
        "for i in range(len(df_test[\"answer_tokenize\"])):\n",
        "  try:\n",
        "    for word in df_test[\"answer_tokenize\"][i]:\n",
        "      #remove stopword\n",
        "      if (word in lines):\n",
        "        answer_tokenize = [word for word in df_test[\"answer_tokenize\"][i] if word not in lines]  \n",
        "    df_test[\"answer_tokenize\"][i] = answer_tokenize \n",
        "  except: \n",
        "    print('err')"
      ],
      "metadata": {
        "id": "eVNx3BM4YWvr"
      },
      "execution_count": null,
      "outputs": []
    },
    {
      "cell_type": "code",
      "source": [
        "lines"
      ],
      "metadata": {
        "colab": {
          "base_uri": "https://localhost:8080/"
        },
        "id": "ZdEDnqFQYPZv",
        "outputId": "1adafc02-c6b3-4fd4-a70b-fa2f60023529"
      },
      "execution_count": null,
      "outputs": [
        {
          "output_type": "execute_result",
          "data": {
            "text/plain": [
              "['bác',\n",
              " 'bác_sĩ',\n",
              " 'bệnh',\n",
              " 'bị',\n",
              " 'cho',\n",
              " 'chào',\n",
              " 'cháu',\n",
              " 'covid19',\n",
              " 'có',\n",
              " 'có_thể',\n",
              " 'cảm_ơn',\n",
              " 'của',\n",
              " 'em',\n",
              " 'giúp',\n",
              " 'gì',\n",
              " 'hay',\n",
              " 'hỏi',\n",
              " 'hỏichào',\n",
              " 'khi',\n",
              " 'khám',\n",
              " 'không',\n",
              " 'là',\n",
              " 'làm',\n",
              " 'lại',\n",
              " 'mong',\n",
              " 'nay',\n",
              " 'ngày',\n",
              " 'nhiều',\n",
              " 'như',\n",
              " 'nhưng',\n",
              " 'nên',\n",
              " 'năm',\n",
              " 'phải',\n",
              " 'rất',\n",
              " 'sau',\n",
              " 'thuốc',\n",
              " 'tháng',\n",
              " 'thì',\n",
              " 'tiêm',\n",
              " 'tuổi',\n",
              " 'tôi',\n",
              " 'tư_vấn',\n",
              " 'uống',\n",
              " 'vaccine',\n",
              " 'viêm',\n",
              " 'và',\n",
              " 'vậy',\n",
              " 'xin',\n",
              " 'đang',\n",
              " 'đau',\n",
              " 'đi',\n",
              " 'điều_trị',\n",
              " 'đã',\n",
              " 'được',\n",
              " 'đến',\n",
              " 'để',\n",
              " 'ẩn_danh',\n",
              " 'bác',\n",
              " 'bệnh',\n",
              " 'bị',\n",
              " 'cho',\n",
              " 'chào',\n",
              " 'cháu',\n",
              " 'covid19',\n",
              " 'có',\n",
              " 'cảm',\n",
              " 'của',\n",
              " 'danh',\n",
              " 'em',\n",
              " 'giúp',\n",
              " 'gì',\n",
              " 'hay',\n",
              " 'hiện',\n",
              " 'hàng',\n",
              " 'hỏi',\n",
              " 'hỏichào',\n",
              " 'khi',\n",
              " 'khám',\n",
              " 'không',\n",
              " 'là',\n",
              " 'làm',\n",
              " 'lại',\n",
              " 'mong',\n",
              " 'nay',\n",
              " 'ngày',\n",
              " 'nhiều',\n",
              " 'như',\n",
              " 'nhưng',\n",
              " 'nào',\n",
              " 'nên',\n",
              " 'năm',\n",
              " 'phải',\n",
              " 'rất',\n",
              " 'sao',\n",
              " 'sau',\n",
              " 'sinh',\n",
              " 'sĩ',\n",
              " 'thuốc',\n",
              " 'tháng',\n",
              " 'thì',\n",
              " 'thường',\n",
              " 'thấy',\n",
              " 'thế',\n",
              " 'thể',\n",
              " 'tiêm',\n",
              " 'trị',\n",
              " 'tuổi',\n",
              " 'tôi',\n",
              " 'tư',\n",
              " 'uống',\n",
              " 'vaccine',\n",
              " 'viêm',\n",
              " 'và',\n",
              " 'vấn',\n",
              " 'vậy',\n",
              " 'xin',\n",
              " 'đang',\n",
              " 'đau',\n",
              " 'đi',\n",
              " 'điều',\n",
              " 'đã',\n",
              " 'được',\n",
              " 'đầu',\n",
              " 'đến',\n",
              " 'để',\n",
              " 'ơn',\n",
              " 'ẩn',\n",
              " 'bác',\n",
              " 'bình',\n",
              " 'bạn',\n",
              " 'bạnvới',\n",
              " 'bệnh',\n",
              " 'bị',\n",
              " 'bộ',\n",
              " 'bởi',\n",
              " 'cho',\n",
              " 'chuyên',\n",
              " 'chào',\n",
              " 'chính',\n",
              " 'chúc',\n",
              " 'chưa',\n",
              " 'chẩn',\n",
              " 'chỉ',\n",
              " 'chứng',\n",
              " 'covid19',\n",
              " 'các',\n",
              " 'câu',\n",
              " 'còn',\n",
              " 'có',\n",
              " 'cũng',\n",
              " 'cơ',\n",
              " 'cảm',\n",
              " 'cấp',\n",
              " 'cần',\n",
              " 'cụ',\n",
              " 'của',\n",
              " 'do',\n",
              " 'dẫn',\n",
              " 'dụng',\n",
              " 'giá',\n",
              " 'giải',\n",
              " 'gây',\n",
              " 'gì',\n",
              " 'gặp',\n",
              " 'gửi',\n",
              " 'hay',\n",
              " 'hiện',\n",
              " 'hiệu',\n",
              " 'hoặc',\n",
              " 'hơn',\n",
              " 'hướng',\n",
              " 'hệ',\n",
              " 'hỏi',\n",
              " 'hợp',\n",
              " 'khi',\n",
              " 'khoa',\n",
              " 'khác',\n",
              " 'khám',\n",
              " 'không',\n",
              " 'khỏe',\n",
              " 'khỏetrân',\n",
              " 'kinh',\n",
              " 'kiểm',\n",
              " 'kết',\n",
              " 'liên',\n",
              " 'loại',\n",
              " 'là',\n",
              " 'làm',\n",
              " 'lý',\n",
              " 'lại',\n",
              " 'mà',\n",
              " 'máu',\n",
              " 'mắc',\n",
              " 'một',\n",
              " 'nghiệm',\n",
              " 'ngoài',\n",
              " 'nguyên',\n",
              " 'nguyễn',\n",
              " 'ngày',\n",
              " 'người',\n",
              " 'nhiên',\n",
              " 'nhiều',\n",
              " 'nhiễm',\n",
              " 'nhân',\n",
              " 'như',\n",
              " 'nhưng',\n",
              " 'nhất',\n",
              " 'những',\n",
              " 'nào',\n",
              " 'này',\n",
              " 'nên',\n",
              " 'năng',\n",
              " 'nếu',\n",
              " 'nội',\n",
              " 'pháp',\n",
              " 'phát',\n",
              " 'phòng',\n",
              " 'phù',\n",
              " 'phương',\n",
              " 'phải',\n",
              " 'quan',\n",
              " 'quả',\n",
              " 'quốc',\n",
              " 'ra',\n",
              " 'rất',\n",
              " 'sau',\n",
              " 'sinh',\n",
              " 'sĩ',\n",
              " 'sẽ',\n",
              " 'số',\n",
              " 'sở',\n",
              " 'sức',\n",
              " 'sử',\n",
              " 'theo',\n",
              " 'thuốc',\n",
              " 'thuộc',\n",
              " 'thêm',\n",
              " 'thì',\n",
              " 'thông',\n",
              " 'thăm',\n",
              " 'thường',\n",
              " 'thạc',\n",
              " 'thật',\n",
              " 'thắc',\n",
              " 'thế',\n",
              " 'thể',\n",
              " 'thị',\n",
              " 'thống',\n",
              " 'thời',\n",
              " 'thực',\n",
              " 'tin',\n",
              " 'tiêm',\n",
              " 'tiếp',\n",
              " 'tiết',\n",
              " 'toàn',\n",
              " 'tra',\n",
              " 'triệu',\n",
              " 'trong',\n",
              " 'trân',\n",
              " 'trên',\n",
              " 'trước',\n",
              " 'trường',\n",
              " 'trạng',\n",
              " 'trị',\n",
              " 'trọng',\n",
              " 'trọngđược',\n",
              " 'tuy',\n",
              " 'tình',\n",
              " 'tính',\n",
              " 'tư',\n",
              " 'tưởng',\n",
              " 'tại',\n",
              " 'tế',\n",
              " 'tốt',\n",
              " 'tổng',\n",
              " 'tới',\n",
              " 'từ',\n",
              " 'vaccine',\n",
              " 'vinmec',\n",
              " 'viêm',\n",
              " 'việc',\n",
              " 'viện',\n",
              " 'và',\n",
              " 'vào',\n",
              " 'vì',\n",
              " 'vấn',\n",
              " 'vẫn',\n",
              " 'vậy',\n",
              " 'về',\n",
              " 'với',\n",
              " 'xin',\n",
              " 'xác',\n",
              " 'xét',\n",
              " 'đa',\n",
              " 'đang',\n",
              " 'đau',\n",
              " 'đi',\n",
              " 'điều',\n",
              " 'đoán',\n",
              " 'đánh',\n",
              " 'đáp',\n",
              " 'đã',\n",
              " 'đó',\n",
              " 'đưa',\n",
              " 'được',\n",
              " 'đầu',\n",
              " 'đặt',\n",
              " 'đến',\n",
              " 'để',\n",
              " 'định',\n",
              " 'đối',\n",
              " 'độ',\n",
              " 'đủ',\n",
              " 'ơn',\n",
              " 'ứng']"
            ]
          },
          "metadata": {},
          "execution_count": 41
        }
      ]
    },
    {
      "cell_type": "code",
      "source": [
        "df_train.tail()"
      ],
      "metadata": {
        "colab": {
          "base_uri": "https://localhost:8080/",
          "height": 389
        },
        "id": "09FSEnq10NFR",
        "outputId": "c7376008-7e36-48f0-9c0c-59f5f3b43a59"
      },
      "execution_count": null,
      "outputs": [
        {
          "output_type": "execute_result",
          "data": {
            "text/html": [
              "\n",
              "  <div id=\"df-bf7ede8b-4d9e-4645-b62b-519d6b1ecb28\">\n",
              "    <div class=\"colab-df-container\">\n",
              "      <div>\n",
              "<style scoped>\n",
              "    .dataframe tbody tr th:only-of-type {\n",
              "        vertical-align: middle;\n",
              "    }\n",
              "\n",
              "    .dataframe tbody tr th {\n",
              "        vertical-align: top;\n",
              "    }\n",
              "\n",
              "    .dataframe thead th {\n",
              "        text-align: right;\n",
              "    }\n",
              "</style>\n",
              "<table border=\"1\" class=\"dataframe\">\n",
              "  <thead>\n",
              "    <tr style=\"text-align: right;\">\n",
              "      <th></th>\n",
              "      <th>short_question</th>\n",
              "      <th>long_question</th>\n",
              "      <th>answer</th>\n",
              "      <th>link</th>\n",
              "      <th>long_tokenize</th>\n",
              "      <th>answer_tokenize</th>\n",
              "    </tr>\n",
              "  </thead>\n",
              "  <tbody>\n",
              "    <tr>\n",
              "      <th>8196</th>\n",
              "      <td>none</td>\n",
              "      <td>tôi vừa chích ngừa vaccine covid19 thì 10 ngày...</td>\n",
              "      <td>chào chị theo khuyến cáo của tổ chức y tế thế ...</td>\n",
              "      <td>https://vnexpress.net/tu-van-tiem-vaccine-covi...</td>\n",
              "      <td></td>\n",
              "      <td></td>\n",
              "    </tr>\n",
              "    <tr>\n",
              "      <th>8197</th>\n",
              "      <td>none</td>\n",
              "      <td>tôi bị nhịp xoang chậm khoảng 6 tháng đến một ...</td>\n",
              "      <td>chào chị với tiền sử bệnh lý về tim mạch chị v...</td>\n",
              "      <td>https://vnexpress.net/tu-van-tiem-vaccine-covi...</td>\n",
              "      <td></td>\n",
              "      <td></td>\n",
              "    </tr>\n",
              "    <tr>\n",
              "      <th>8198</th>\n",
              "      <td>none</td>\n",
              "      <td>vnvc đã có vaccine pfizer hay moderna chưa ạ</td>\n",
              "      <td>chào anh chị theo thông tin từ bộ y tế hơn 900...</td>\n",
              "      <td>https://vnexpress.net/tu-van-tiem-vaccine-covi...</td>\n",
              "      <td></td>\n",
              "      <td></td>\n",
              "    </tr>\n",
              "    <tr>\n",
              "      <th>8199</th>\n",
              "      <td>none</td>\n",
              "      <td>tôi bị bệnh hen suyễn hiện đang phải uống thuố...</td>\n",
              "      <td>chào anhchịanhchị có tiền sử hen phế quản đang...</td>\n",
              "      <td>https://vnexpress.net/tu-van-tiem-vaccine-covi...</td>\n",
              "      <td></td>\n",
              "      <td></td>\n",
              "    </tr>\n",
              "    <tr>\n",
              "      <th>8200</th>\n",
              "      <td>none</td>\n",
              "      <td>tôi năm nay 41 tuổi đi khám bệnh viên tim được...</td>\n",
              "      <td>chào anh anh có nhịp nhanh kịch phát trên thất...</td>\n",
              "      <td>https://vnexpress.net/tu-van-tiem-vaccine-covi...</td>\n",
              "      <td></td>\n",
              "      <td></td>\n",
              "    </tr>\n",
              "  </tbody>\n",
              "</table>\n",
              "</div>\n",
              "      <button class=\"colab-df-convert\" onclick=\"convertToInteractive('df-bf7ede8b-4d9e-4645-b62b-519d6b1ecb28')\"\n",
              "              title=\"Convert this dataframe to an interactive table.\"\n",
              "              style=\"display:none;\">\n",
              "        \n",
              "  <svg xmlns=\"http://www.w3.org/2000/svg\" height=\"24px\"viewBox=\"0 0 24 24\"\n",
              "       width=\"24px\">\n",
              "    <path d=\"M0 0h24v24H0V0z\" fill=\"none\"/>\n",
              "    <path d=\"M18.56 5.44l.94 2.06.94-2.06 2.06-.94-2.06-.94-.94-2.06-.94 2.06-2.06.94zm-11 1L8.5 8.5l.94-2.06 2.06-.94-2.06-.94L8.5 2.5l-.94 2.06-2.06.94zm10 10l.94 2.06.94-2.06 2.06-.94-2.06-.94-.94-2.06-.94 2.06-2.06.94z\"/><path d=\"M17.41 7.96l-1.37-1.37c-.4-.4-.92-.59-1.43-.59-.52 0-1.04.2-1.43.59L10.3 9.45l-7.72 7.72c-.78.78-.78 2.05 0 2.83L4 21.41c.39.39.9.59 1.41.59.51 0 1.02-.2 1.41-.59l7.78-7.78 2.81-2.81c.8-.78.8-2.07 0-2.86zM5.41 20L4 18.59l7.72-7.72 1.47 1.35L5.41 20z\"/>\n",
              "  </svg>\n",
              "      </button>\n",
              "      \n",
              "  <style>\n",
              "    .colab-df-container {\n",
              "      display:flex;\n",
              "      flex-wrap:wrap;\n",
              "      gap: 12px;\n",
              "    }\n",
              "\n",
              "    .colab-df-convert {\n",
              "      background-color: #E8F0FE;\n",
              "      border: none;\n",
              "      border-radius: 50%;\n",
              "      cursor: pointer;\n",
              "      display: none;\n",
              "      fill: #1967D2;\n",
              "      height: 32px;\n",
              "      padding: 0 0 0 0;\n",
              "      width: 32px;\n",
              "    }\n",
              "\n",
              "    .colab-df-convert:hover {\n",
              "      background-color: #E2EBFA;\n",
              "      box-shadow: 0px 1px 2px rgba(60, 64, 67, 0.3), 0px 1px 3px 1px rgba(60, 64, 67, 0.15);\n",
              "      fill: #174EA6;\n",
              "    }\n",
              "\n",
              "    [theme=dark] .colab-df-convert {\n",
              "      background-color: #3B4455;\n",
              "      fill: #D2E3FC;\n",
              "    }\n",
              "\n",
              "    [theme=dark] .colab-df-convert:hover {\n",
              "      background-color: #434B5C;\n",
              "      box-shadow: 0px 1px 3px 1px rgba(0, 0, 0, 0.15);\n",
              "      filter: drop-shadow(0px 1px 2px rgba(0, 0, 0, 0.3));\n",
              "      fill: #FFFFFF;\n",
              "    }\n",
              "  </style>\n",
              "\n",
              "      <script>\n",
              "        const buttonEl =\n",
              "          document.querySelector('#df-bf7ede8b-4d9e-4645-b62b-519d6b1ecb28 button.colab-df-convert');\n",
              "        buttonEl.style.display =\n",
              "          google.colab.kernel.accessAllowed ? 'block' : 'none';\n",
              "\n",
              "        async function convertToInteractive(key) {\n",
              "          const element = document.querySelector('#df-bf7ede8b-4d9e-4645-b62b-519d6b1ecb28');\n",
              "          const dataTable =\n",
              "            await google.colab.kernel.invokeFunction('convertToInteractive',\n",
              "                                                     [key], {});\n",
              "          if (!dataTable) return;\n",
              "\n",
              "          const docLinkHtml = 'Like what you see? Visit the ' +\n",
              "            '<a target=\"_blank\" href=https://colab.research.google.com/notebooks/data_table.ipynb>data table notebook</a>'\n",
              "            + ' to learn more about interactive tables.';\n",
              "          element.innerHTML = '';\n",
              "          dataTable['output_type'] = 'display_data';\n",
              "          await google.colab.output.renderOutput(dataTable, element);\n",
              "          const docLink = document.createElement('div');\n",
              "          docLink.innerHTML = docLinkHtml;\n",
              "          element.appendChild(docLink);\n",
              "        }\n",
              "      </script>\n",
              "    </div>\n",
              "  </div>\n",
              "  "
            ],
            "text/plain": [
              "     short_question                                      long_question  \\\n",
              "8196           none  tôi vừa chích ngừa vaccine covid19 thì 10 ngày...   \n",
              "8197           none  tôi bị nhịp xoang chậm khoảng 6 tháng đến một ...   \n",
              "8198           none       vnvc đã có vaccine pfizer hay moderna chưa ạ   \n",
              "8199           none  tôi bị bệnh hen suyễn hiện đang phải uống thuố...   \n",
              "8200           none  tôi năm nay 41 tuổi đi khám bệnh viên tim được...   \n",
              "\n",
              "                                                 answer  \\\n",
              "8196  chào chị theo khuyến cáo của tổ chức y tế thế ...   \n",
              "8197  chào chị với tiền sử bệnh lý về tim mạch chị v...   \n",
              "8198  chào anh chị theo thông tin từ bộ y tế hơn 900...   \n",
              "8199  chào anhchịanhchị có tiền sử hen phế quản đang...   \n",
              "8200  chào anh anh có nhịp nhanh kịch phát trên thất...   \n",
              "\n",
              "                                                   link long_tokenize  \\\n",
              "8196  https://vnexpress.net/tu-van-tiem-vaccine-covi...                 \n",
              "8197  https://vnexpress.net/tu-van-tiem-vaccine-covi...                 \n",
              "8198  https://vnexpress.net/tu-van-tiem-vaccine-covi...                 \n",
              "8199  https://vnexpress.net/tu-van-tiem-vaccine-covi...                 \n",
              "8200  https://vnexpress.net/tu-van-tiem-vaccine-covi...                 \n",
              "\n",
              "     answer_tokenize  \n",
              "8196                  \n",
              "8197                  \n",
              "8198                  \n",
              "8199                  \n",
              "8200                  "
            ]
          },
          "metadata": {},
          "execution_count": 42
        }
      ]
    },
    {
      "cell_type": "code",
      "source": [
        "# df_train.to_csv(r'/content/drive/MyDrive/QA_KLTN/Dataset/Data_preprocess/Preprocessed data/Preprocessed_val.csv', index=False, header=True)\n"
      ],
      "metadata": {
        "id": "NPueTemSf2tk"
      },
      "execution_count": null,
      "outputs": []
    },
    {
      "cell_type": "code",
      "source": [
        "df_train"
      ],
      "metadata": {
        "colab": {
          "base_uri": "https://localhost:8080/",
          "height": 867
        },
        "id": "dIXYwC-MGPSj",
        "outputId": "4fe6562c-80cd-4025-9392-af37ef6500c9"
      },
      "execution_count": null,
      "outputs": [
        {
          "output_type": "execute_result",
          "data": {
            "text/html": [
              "\n",
              "  <div id=\"df-c663ff54-8c09-4bfc-8ecb-4426f635ed09\">\n",
              "    <div class=\"colab-df-container\">\n",
              "      <div>\n",
              "<style scoped>\n",
              "    .dataframe tbody tr th:only-of-type {\n",
              "        vertical-align: middle;\n",
              "    }\n",
              "\n",
              "    .dataframe tbody tr th {\n",
              "        vertical-align: top;\n",
              "    }\n",
              "\n",
              "    .dataframe thead th {\n",
              "        text-align: right;\n",
              "    }\n",
              "</style>\n",
              "<table border=\"1\" class=\"dataframe\">\n",
              "  <thead>\n",
              "    <tr style=\"text-align: right;\">\n",
              "      <th></th>\n",
              "      <th>short_question</th>\n",
              "      <th>long_question</th>\n",
              "      <th>answer</th>\n",
              "      <th>link</th>\n",
              "      <th>long_tokenize</th>\n",
              "      <th>answer_tokenize</th>\n",
              "    </tr>\n",
              "  </thead>\n",
              "  <tbody>\n",
              "    <tr>\n",
              "      <th>0</th>\n",
              "      <td>thường xuyên co giật sau khi sử dụng rượu bia ...</td>\n",
              "      <td>chào bác sĩ  em năm nay 25 tuổi  em bị co giật...</td>\n",
              "      <td>chào em rượu là một chất kích thích tác động t...</td>\n",
              "      <td>https://www.vinmec.com/vi/tin-tuc/hoi-dap-bac-...</td>\n",
              "      <td>[25, co_giật, mỗi, bia, rượu, 2, 3, ăn, tái_ph...</td>\n",
              "      <td>[rượu, chất, kích_thích, tác_động, trực_tiếp, ...</td>\n",
              "    </tr>\n",
              "    <tr>\n",
              "      <th>1</th>\n",
              "      <td>dùng thuốc điều trị thiếu máu do thiếu sắt như...</td>\n",
              "      <td>chào bác sĩlúc trước em bị thiếu máu thiếu sắt...</td>\n",
              "      <td>được giải đáp bởi tiến sĩ bác sĩ trương ngọc h...</td>\n",
              "      <td>https://www.vinmec.com/vi/tin-tuc/hoi-dap-bac-...</td>\n",
              "      <td>[sĩlúc, thiếu, thiếu, sắt, kê, đơn, hemopoly, ...</td>\n",
              "      <td>[giải_đáp, tiến_sĩ, trương, ngọc, hải, hồi_sức...</td>\n",
              "    </tr>\n",
              "    <tr>\n",
              "      <th>2</th>\n",
              "      <td>thường xuyên đau nhức vùng gáy là biểu hiện củ...</td>\n",
              "      <td>chào bác sĩ dạo gần đây em thường xuyên bị đau...</td>\n",
              "      <td>chào em đau vùng sau gáy không sưng đỏ không đ...</td>\n",
              "      <td>https://www.vinmec.com/vi/tin-tuc/hoi-dap-bac-...</td>\n",
              "      <td>[dạo, gần, đây, thường_xuyên, nhức, vùng, gáy,...</td>\n",
              "      <td>[vùng, gáy, sưng, đỏ, liên_tục, từng, đợt, một...</td>\n",
              "    </tr>\n",
              "    <tr>\n",
              "      <th>3</th>\n",
              "      <td>đã tháo bột điều trị gãy mắt cá ngoài chân 1 t...</td>\n",
              "      <td>chào bác sĩ cách đây 2 tháng em bị gãy mắt cá ...</td>\n",
              "      <td>chào bạn gãy mắt cá chân là một loại tổn thươn...</td>\n",
              "      <td>https://www.vinmec.com/vi/tin-tuc/hoi-dap-bac-...</td>\n",
              "      <td>[cách, đây, 2, gãy, mắt_cá, chân, trái, phẫu_t...</td>\n",
              "      <td>[gãy, mắt_cá, chân, tổn_thương, xương, mức_độ,...</td>\n",
              "    </tr>\n",
              "    <tr>\n",
              "      <th>4</th>\n",
              "      <td>hỏi đáp điều trị sỏi mật bằng phương pháp nội ...</td>\n",
              "      <td>chào bác sĩ tôi muốn hỏi điều trị sỏi mật bằng...</td>\n",
              "      <td>chào bạn điều trị sỏi mật bằng phương pháp nội...</td>\n",
              "      <td>https://www.vinmec.com/vi/tin-tuc/hoi-dap-bac-...</td>\n",
              "      <td>[muốn, sỏi, mật, bằng, phương_pháp, nội_soi, ố...</td>\n",
              "      <td>[sỏi, mật, bằng, phương_pháp, nội_soi, ống, mề...</td>\n",
              "    </tr>\n",
              "    <tr>\n",
              "      <th>...</th>\n",
              "      <td>...</td>\n",
              "      <td>...</td>\n",
              "      <td>...</td>\n",
              "      <td>...</td>\n",
              "      <td>...</td>\n",
              "      <td>...</td>\n",
              "    </tr>\n",
              "    <tr>\n",
              "      <th>8196</th>\n",
              "      <td>none</td>\n",
              "      <td>tôi vừa chích ngừa vaccine covid19 thì 10 ngày...</td>\n",
              "      <td>chào chị theo khuyến cáo của tổ chức y tế thế ...</td>\n",
              "      <td>https://vnexpress.net/tu-van-tiem-vaccine-covi...</td>\n",
              "      <td></td>\n",
              "      <td></td>\n",
              "    </tr>\n",
              "    <tr>\n",
              "      <th>8197</th>\n",
              "      <td>none</td>\n",
              "      <td>tôi bị nhịp xoang chậm khoảng 6 tháng đến một ...</td>\n",
              "      <td>chào chị với tiền sử bệnh lý về tim mạch chị v...</td>\n",
              "      <td>https://vnexpress.net/tu-van-tiem-vaccine-covi...</td>\n",
              "      <td></td>\n",
              "      <td></td>\n",
              "    </tr>\n",
              "    <tr>\n",
              "      <th>8198</th>\n",
              "      <td>none</td>\n",
              "      <td>vnvc đã có vaccine pfizer hay moderna chưa ạ</td>\n",
              "      <td>chào anh chị theo thông tin từ bộ y tế hơn 900...</td>\n",
              "      <td>https://vnexpress.net/tu-van-tiem-vaccine-covi...</td>\n",
              "      <td></td>\n",
              "      <td></td>\n",
              "    </tr>\n",
              "    <tr>\n",
              "      <th>8199</th>\n",
              "      <td>none</td>\n",
              "      <td>tôi bị bệnh hen suyễn hiện đang phải uống thuố...</td>\n",
              "      <td>chào anhchịanhchị có tiền sử hen phế quản đang...</td>\n",
              "      <td>https://vnexpress.net/tu-van-tiem-vaccine-covi...</td>\n",
              "      <td></td>\n",
              "      <td></td>\n",
              "    </tr>\n",
              "    <tr>\n",
              "      <th>8200</th>\n",
              "      <td>none</td>\n",
              "      <td>tôi năm nay 41 tuổi đi khám bệnh viên tim được...</td>\n",
              "      <td>chào anh anh có nhịp nhanh kịch phát trên thất...</td>\n",
              "      <td>https://vnexpress.net/tu-van-tiem-vaccine-covi...</td>\n",
              "      <td></td>\n",
              "      <td></td>\n",
              "    </tr>\n",
              "  </tbody>\n",
              "</table>\n",
              "<p>8196 rows × 6 columns</p>\n",
              "</div>\n",
              "      <button class=\"colab-df-convert\" onclick=\"convertToInteractive('df-c663ff54-8c09-4bfc-8ecb-4426f635ed09')\"\n",
              "              title=\"Convert this dataframe to an interactive table.\"\n",
              "              style=\"display:none;\">\n",
              "        \n",
              "  <svg xmlns=\"http://www.w3.org/2000/svg\" height=\"24px\"viewBox=\"0 0 24 24\"\n",
              "       width=\"24px\">\n",
              "    <path d=\"M0 0h24v24H0V0z\" fill=\"none\"/>\n",
              "    <path d=\"M18.56 5.44l.94 2.06.94-2.06 2.06-.94-2.06-.94-.94-2.06-.94 2.06-2.06.94zm-11 1L8.5 8.5l.94-2.06 2.06-.94-2.06-.94L8.5 2.5l-.94 2.06-2.06.94zm10 10l.94 2.06.94-2.06 2.06-.94-2.06-.94-.94-2.06-.94 2.06-2.06.94z\"/><path d=\"M17.41 7.96l-1.37-1.37c-.4-.4-.92-.59-1.43-.59-.52 0-1.04.2-1.43.59L10.3 9.45l-7.72 7.72c-.78.78-.78 2.05 0 2.83L4 21.41c.39.39.9.59 1.41.59.51 0 1.02-.2 1.41-.59l7.78-7.78 2.81-2.81c.8-.78.8-2.07 0-2.86zM5.41 20L4 18.59l7.72-7.72 1.47 1.35L5.41 20z\"/>\n",
              "  </svg>\n",
              "      </button>\n",
              "      \n",
              "  <style>\n",
              "    .colab-df-container {\n",
              "      display:flex;\n",
              "      flex-wrap:wrap;\n",
              "      gap: 12px;\n",
              "    }\n",
              "\n",
              "    .colab-df-convert {\n",
              "      background-color: #E8F0FE;\n",
              "      border: none;\n",
              "      border-radius: 50%;\n",
              "      cursor: pointer;\n",
              "      display: none;\n",
              "      fill: #1967D2;\n",
              "      height: 32px;\n",
              "      padding: 0 0 0 0;\n",
              "      width: 32px;\n",
              "    }\n",
              "\n",
              "    .colab-df-convert:hover {\n",
              "      background-color: #E2EBFA;\n",
              "      box-shadow: 0px 1px 2px rgba(60, 64, 67, 0.3), 0px 1px 3px 1px rgba(60, 64, 67, 0.15);\n",
              "      fill: #174EA6;\n",
              "    }\n",
              "\n",
              "    [theme=dark] .colab-df-convert {\n",
              "      background-color: #3B4455;\n",
              "      fill: #D2E3FC;\n",
              "    }\n",
              "\n",
              "    [theme=dark] .colab-df-convert:hover {\n",
              "      background-color: #434B5C;\n",
              "      box-shadow: 0px 1px 3px 1px rgba(0, 0, 0, 0.15);\n",
              "      filter: drop-shadow(0px 1px 2px rgba(0, 0, 0, 0.3));\n",
              "      fill: #FFFFFF;\n",
              "    }\n",
              "  </style>\n",
              "\n",
              "      <script>\n",
              "        const buttonEl =\n",
              "          document.querySelector('#df-c663ff54-8c09-4bfc-8ecb-4426f635ed09 button.colab-df-convert');\n",
              "        buttonEl.style.display =\n",
              "          google.colab.kernel.accessAllowed ? 'block' : 'none';\n",
              "\n",
              "        async function convertToInteractive(key) {\n",
              "          const element = document.querySelector('#df-c663ff54-8c09-4bfc-8ecb-4426f635ed09');\n",
              "          const dataTable =\n",
              "            await google.colab.kernel.invokeFunction('convertToInteractive',\n",
              "                                                     [key], {});\n",
              "          if (!dataTable) return;\n",
              "\n",
              "          const docLinkHtml = 'Like what you see? Visit the ' +\n",
              "            '<a target=\"_blank\" href=https://colab.research.google.com/notebooks/data_table.ipynb>data table notebook</a>'\n",
              "            + ' to learn more about interactive tables.';\n",
              "          element.innerHTML = '';\n",
              "          dataTable['output_type'] = 'display_data';\n",
              "          await google.colab.output.renderOutput(dataTable, element);\n",
              "          const docLink = document.createElement('div');\n",
              "          docLink.innerHTML = docLinkHtml;\n",
              "          element.appendChild(docLink);\n",
              "        }\n",
              "      </script>\n",
              "    </div>\n",
              "  </div>\n",
              "  "
            ],
            "text/plain": [
              "                                         short_question  \\\n",
              "0     thường xuyên co giật sau khi sử dụng rượu bia ...   \n",
              "1     dùng thuốc điều trị thiếu máu do thiếu sắt như...   \n",
              "2     thường xuyên đau nhức vùng gáy là biểu hiện củ...   \n",
              "3     đã tháo bột điều trị gãy mắt cá ngoài chân 1 t...   \n",
              "4     hỏi đáp điều trị sỏi mật bằng phương pháp nội ...   \n",
              "...                                                 ...   \n",
              "8196                                               none   \n",
              "8197                                               none   \n",
              "8198                                               none   \n",
              "8199                                               none   \n",
              "8200                                               none   \n",
              "\n",
              "                                          long_question  \\\n",
              "0     chào bác sĩ  em năm nay 25 tuổi  em bị co giật...   \n",
              "1     chào bác sĩlúc trước em bị thiếu máu thiếu sắt...   \n",
              "2     chào bác sĩ dạo gần đây em thường xuyên bị đau...   \n",
              "3     chào bác sĩ cách đây 2 tháng em bị gãy mắt cá ...   \n",
              "4     chào bác sĩ tôi muốn hỏi điều trị sỏi mật bằng...   \n",
              "...                                                 ...   \n",
              "8196  tôi vừa chích ngừa vaccine covid19 thì 10 ngày...   \n",
              "8197  tôi bị nhịp xoang chậm khoảng 6 tháng đến một ...   \n",
              "8198       vnvc đã có vaccine pfizer hay moderna chưa ạ   \n",
              "8199  tôi bị bệnh hen suyễn hiện đang phải uống thuố...   \n",
              "8200  tôi năm nay 41 tuổi đi khám bệnh viên tim được...   \n",
              "\n",
              "                                                 answer  \\\n",
              "0     chào em rượu là một chất kích thích tác động t...   \n",
              "1     được giải đáp bởi tiến sĩ bác sĩ trương ngọc h...   \n",
              "2     chào em đau vùng sau gáy không sưng đỏ không đ...   \n",
              "3     chào bạn gãy mắt cá chân là một loại tổn thươn...   \n",
              "4     chào bạn điều trị sỏi mật bằng phương pháp nội...   \n",
              "...                                                 ...   \n",
              "8196  chào chị theo khuyến cáo của tổ chức y tế thế ...   \n",
              "8197  chào chị với tiền sử bệnh lý về tim mạch chị v...   \n",
              "8198  chào anh chị theo thông tin từ bộ y tế hơn 900...   \n",
              "8199  chào anhchịanhchị có tiền sử hen phế quản đang...   \n",
              "8200  chào anh anh có nhịp nhanh kịch phát trên thất...   \n",
              "\n",
              "                                                   link  \\\n",
              "0     https://www.vinmec.com/vi/tin-tuc/hoi-dap-bac-...   \n",
              "1     https://www.vinmec.com/vi/tin-tuc/hoi-dap-bac-...   \n",
              "2     https://www.vinmec.com/vi/tin-tuc/hoi-dap-bac-...   \n",
              "3     https://www.vinmec.com/vi/tin-tuc/hoi-dap-bac-...   \n",
              "4     https://www.vinmec.com/vi/tin-tuc/hoi-dap-bac-...   \n",
              "...                                                 ...   \n",
              "8196  https://vnexpress.net/tu-van-tiem-vaccine-covi...   \n",
              "8197  https://vnexpress.net/tu-van-tiem-vaccine-covi...   \n",
              "8198  https://vnexpress.net/tu-van-tiem-vaccine-covi...   \n",
              "8199  https://vnexpress.net/tu-van-tiem-vaccine-covi...   \n",
              "8200  https://vnexpress.net/tu-van-tiem-vaccine-covi...   \n",
              "\n",
              "                                          long_tokenize  \\\n",
              "0     [25, co_giật, mỗi, bia, rượu, 2, 3, ăn, tái_ph...   \n",
              "1     [sĩlúc, thiếu, thiếu, sắt, kê, đơn, hemopoly, ...   \n",
              "2     [dạo, gần, đây, thường_xuyên, nhức, vùng, gáy,...   \n",
              "3     [cách, đây, 2, gãy, mắt_cá, chân, trái, phẫu_t...   \n",
              "4     [muốn, sỏi, mật, bằng, phương_pháp, nội_soi, ố...   \n",
              "...                                                 ...   \n",
              "8196                                                      \n",
              "8197                                                      \n",
              "8198                                                      \n",
              "8199                                                      \n",
              "8200                                                      \n",
              "\n",
              "                                        answer_tokenize  \n",
              "0     [rượu, chất, kích_thích, tác_động, trực_tiếp, ...  \n",
              "1     [giải_đáp, tiến_sĩ, trương, ngọc, hải, hồi_sức...  \n",
              "2     [vùng, gáy, sưng, đỏ, liên_tục, từng, đợt, một...  \n",
              "3     [gãy, mắt_cá, chân, tổn_thương, xương, mức_độ,...  \n",
              "4     [sỏi, mật, bằng, phương_pháp, nội_soi, ống, mề...  \n",
              "...                                                 ...  \n",
              "8196                                                     \n",
              "8197                                                     \n",
              "8198                                                     \n",
              "8199                                                     \n",
              "8200                                                     \n",
              "\n",
              "[8196 rows x 6 columns]"
            ]
          },
          "metadata": {},
          "execution_count": 44
        }
      ]
    },
    {
      "cell_type": "markdown",
      "source": [
        "# Data visualization"
      ],
      "metadata": {
        "id": "AdKW_Agy0QiT"
      }
    },
    {
      "cell_type": "markdown",
      "source": [
        "### Word_cloudcloud"
      ],
      "metadata": {
        "id": "S4Tr_jOTUTIk"
      }
    },
    {
      "cell_type": "code",
      "source": [
        "# Start with one review:\n",
        "from wordcloud import WordCloud \n",
        "\n",
        "text = df_train.long_question\t\n",
        "\n",
        "# Create and generate a word cloud image:\n",
        "wordcloud = WordCloud().generate(str(text))\n",
        "\n",
        "# Display the generated image:\n",
        "plt.imshow(wordcloud, interpolation='bilinear')\n",
        "plt.axis(\"off\")\n",
        "plt.show()"
      ],
      "metadata": {
        "id": "19gQX-VP_Y8q",
        "colab": {
          "base_uri": "https://localhost:8080/",
          "height": 198
        },
        "outputId": "08177100-3f4e-497c-eac1-d903f1ab5eb3"
      },
      "execution_count": null,
      "outputs": [
        {
          "output_type": "display_data",
          "data": {
            "image/png": "[encoded data removed]",
            "text/plain": [
              "<Figure size 432x288 with 1 Axes>"
            ]
          },
          "metadata": {
            "needs_background": "light"
          }
        }
      ]
    },
    {
      "cell_type": "markdown",
      "source": [
        "Word_cloud after removing stopwords"
      ],
      "metadata": {
        "id": "EUOmxmiPVAx6"
      }
    },
    {
      "cell_type": "code",
      "source": [
        "from wordcloud import WordCloud \n",
        "\n",
        "# Start with one review:\n",
        "text = df_train.long_tokenize\n",
        "\n",
        "# Create and generate a word cloud image:\n",
        "wordcloud = WordCloud().generate(str(text))\n",
        "\n",
        "# Display the generated image:\n",
        "plt.imshow(wordcloud, interpolation='bilinear')\n",
        "plt.axis(\"off\")\n",
        "plt.show()"
      ],
      "metadata": {
        "id": "N5CT3ZdgOQM2",
        "colab": {
          "base_uri": "https://localhost:8080/",
          "height": 198
        },
        "outputId": "a580bf09-95d7-441f-889f-702be6113849"
      },
      "execution_count": null,
      "outputs": [
        {
          "output_type": "display_data",
          "data": {
            "image/png": "[encoded data removed]",
            "text/plain": [
              "<Figure size 432x288 with 1 Axes>"
            ]
          },
          "metadata": {
            "needs_background": "light"
          }
        }
      ]
    },
    {
      "cell_type": "markdown",
      "source": [
        "# Models"
      ],
      "metadata": {
        "id": "Xx4YvoF51b0P"
      }
    },
    {
      "cell_type": "code",
      "source": [
        "df_train"
      ],
      "metadata": {
        "id": "Ur5cvmkv2atg",
        "colab": {
          "base_uri": "https://localhost:8080/",
          "height": 867
        },
        "outputId": "31dd9141-a43f-4b6e-e445-7860300b458d"
      },
      "execution_count": null,
      "outputs": [
        {
          "output_type": "execute_result",
          "data": {
            "text/html": [
              "\n",
              "  <div id=\"df-18665854-14f1-4455-b2dd-09e7cd2e965f\">\n",
              "    <div class=\"colab-df-container\">\n",
              "      <div>\n",
              "<style scoped>\n",
              "    .dataframe tbody tr th:only-of-type {\n",
              "        vertical-align: middle;\n",
              "    }\n",
              "\n",
              "    .dataframe tbody tr th {\n",
              "        vertical-align: top;\n",
              "    }\n",
              "\n",
              "    .dataframe thead th {\n",
              "        text-align: right;\n",
              "    }\n",
              "</style>\n",
              "<table border=\"1\" class=\"dataframe\">\n",
              "  <thead>\n",
              "    <tr style=\"text-align: right;\">\n",
              "      <th></th>\n",
              "      <th>short_question</th>\n",
              "      <th>long_question</th>\n",
              "      <th>answer</th>\n",
              "      <th>link</th>\n",
              "      <th>long_tokenize</th>\n",
              "      <th>answer_tokenize</th>\n",
              "    </tr>\n",
              "  </thead>\n",
              "  <tbody>\n",
              "    <tr>\n",
              "      <th>0</th>\n",
              "      <td>thường xuyên co giật sau khi sử dụng rượu bia ...</td>\n",
              "      <td>chào bác sĩ  em năm nay 25 tuổi  em bị co giật...</td>\n",
              "      <td>chào em rượu là một chất kích thích tác động t...</td>\n",
              "      <td>https://www.vinmec.com/vi/tin-tuc/hoi-dap-bac-...</td>\n",
              "      <td>[25, co_giật, mỗi, bia, rượu, 2, 3, ăn, tái_ph...</td>\n",
              "      <td>[rượu, chất, kích_thích, tác_động, trực_tiếp, ...</td>\n",
              "    </tr>\n",
              "    <tr>\n",
              "      <th>1</th>\n",
              "      <td>dùng thuốc điều trị thiếu máu do thiếu sắt như...</td>\n",
              "      <td>chào bác sĩlúc trước em bị thiếu máu thiếu sắt...</td>\n",
              "      <td>được giải đáp bởi tiến sĩ bác sĩ trương ngọc h...</td>\n",
              "      <td>https://www.vinmec.com/vi/tin-tuc/hoi-dap-bac-...</td>\n",
              "      <td>[sĩlúc, thiếu, thiếu, sắt, kê, đơn, hemopoly, ...</td>\n",
              "      <td>[giải_đáp, tiến_sĩ, trương, ngọc, hải, hồi_sức...</td>\n",
              "    </tr>\n",
              "    <tr>\n",
              "      <th>2</th>\n",
              "      <td>thường xuyên đau nhức vùng gáy là biểu hiện củ...</td>\n",
              "      <td>chào bác sĩ dạo gần đây em thường xuyên bị đau...</td>\n",
              "      <td>chào em đau vùng sau gáy không sưng đỏ không đ...</td>\n",
              "      <td>https://www.vinmec.com/vi/tin-tuc/hoi-dap-bac-...</td>\n",
              "      <td>[dạo, gần, đây, thường_xuyên, nhức, vùng, gáy,...</td>\n",
              "      <td>[vùng, gáy, sưng, đỏ, liên_tục, từng, đợt, một...</td>\n",
              "    </tr>\n",
              "    <tr>\n",
              "      <th>3</th>\n",
              "      <td>đã tháo bột điều trị gãy mắt cá ngoài chân 1 t...</td>\n",
              "      <td>chào bác sĩ cách đây 2 tháng em bị gãy mắt cá ...</td>\n",
              "      <td>chào bạn gãy mắt cá chân là một loại tổn thươn...</td>\n",
              "      <td>https://www.vinmec.com/vi/tin-tuc/hoi-dap-bac-...</td>\n",
              "      <td>[cách, đây, 2, gãy, mắt_cá, chân, trái, phẫu_t...</td>\n",
              "      <td>[gãy, mắt_cá, chân, tổn_thương, xương, mức_độ,...</td>\n",
              "    </tr>\n",
              "    <tr>\n",
              "      <th>4</th>\n",
              "      <td>hỏi đáp điều trị sỏi mật bằng phương pháp nội ...</td>\n",
              "      <td>chào bác sĩ tôi muốn hỏi điều trị sỏi mật bằng...</td>\n",
              "      <td>chào bạn điều trị sỏi mật bằng phương pháp nội...</td>\n",
              "      <td>https://www.vinmec.com/vi/tin-tuc/hoi-dap-bac-...</td>\n",
              "      <td>[muốn, sỏi, mật, bằng, phương_pháp, nội_soi, ố...</td>\n",
              "      <td>[sỏi, mật, bằng, phương_pháp, nội_soi, ống, mề...</td>\n",
              "    </tr>\n",
              "    <tr>\n",
              "      <th>...</th>\n",
              "      <td>...</td>\n",
              "      <td>...</td>\n",
              "      <td>...</td>\n",
              "      <td>...</td>\n",
              "      <td>...</td>\n",
              "      <td>...</td>\n",
              "    </tr>\n",
              "    <tr>\n",
              "      <th>8196</th>\n",
              "      <td>none</td>\n",
              "      <td>tôi vừa chích ngừa vaccine covid19 thì 10 ngày...</td>\n",
              "      <td>chào chị theo khuyến cáo của tổ chức y tế thế ...</td>\n",
              "      <td>https://vnexpress.net/tu-van-tiem-vaccine-covi...</td>\n",
              "      <td></td>\n",
              "      <td></td>\n",
              "    </tr>\n",
              "    <tr>\n",
              "      <th>8197</th>\n",
              "      <td>none</td>\n",
              "      <td>tôi bị nhịp xoang chậm khoảng 6 tháng đến một ...</td>\n",
              "      <td>chào chị với tiền sử bệnh lý về tim mạch chị v...</td>\n",
              "      <td>https://vnexpress.net/tu-van-tiem-vaccine-covi...</td>\n",
              "      <td></td>\n",
              "      <td></td>\n",
              "    </tr>\n",
              "    <tr>\n",
              "      <th>8198</th>\n",
              "      <td>none</td>\n",
              "      <td>vnvc đã có vaccine pfizer hay moderna chưa ạ</td>\n",
              "      <td>chào anh chị theo thông tin từ bộ y tế hơn 900...</td>\n",
              "      <td>https://vnexpress.net/tu-van-tiem-vaccine-covi...</td>\n",
              "      <td></td>\n",
              "      <td></td>\n",
              "    </tr>\n",
              "    <tr>\n",
              "      <th>8199</th>\n",
              "      <td>none</td>\n",
              "      <td>tôi bị bệnh hen suyễn hiện đang phải uống thuố...</td>\n",
              "      <td>chào anhchịanhchị có tiền sử hen phế quản đang...</td>\n",
              "      <td>https://vnexpress.net/tu-van-tiem-vaccine-covi...</td>\n",
              "      <td></td>\n",
              "      <td></td>\n",
              "    </tr>\n",
              "    <tr>\n",
              "      <th>8200</th>\n",
              "      <td>none</td>\n",
              "      <td>tôi năm nay 41 tuổi đi khám bệnh viên tim được...</td>\n",
              "      <td>chào anh anh có nhịp nhanh kịch phát trên thất...</td>\n",
              "      <td>https://vnexpress.net/tu-van-tiem-vaccine-covi...</td>\n",
              "      <td></td>\n",
              "      <td></td>\n",
              "    </tr>\n",
              "  </tbody>\n",
              "</table>\n",
              "<p>8196 rows × 6 columns</p>\n",
              "</div>\n",
              "      <button class=\"colab-df-convert\" onclick=\"convertToInteractive('df-18665854-14f1-4455-b2dd-09e7cd2e965f')\"\n",
              "              title=\"Convert this dataframe to an interactive table.\"\n",
              "              style=\"display:none;\">\n",
              "        \n",
              "  <svg xmlns=\"http://www.w3.org/2000/svg\" height=\"24px\"viewBox=\"0 0 24 24\"\n",
              "       width=\"24px\">\n",
              "    <path d=\"M0 0h24v24H0V0z\" fill=\"none\"/>\n",
              "    <path d=\"M18.56 5.44l.94 2.06.94-2.06 2.06-.94-2.06-.94-.94-2.06-.94 2.06-2.06.94zm-11 1L8.5 8.5l.94-2.06 2.06-.94-2.06-.94L8.5 2.5l-.94 2.06-2.06.94zm10 10l.94 2.06.94-2.06 2.06-.94-2.06-.94-.94-2.06-.94 2.06-2.06.94z\"/><path d=\"M17.41 7.96l-1.37-1.37c-.4-.4-.92-.59-1.43-.59-.52 0-1.04.2-1.43.59L10.3 9.45l-7.72 7.72c-.78.78-.78 2.05 0 2.83L4 21.41c.39.39.9.59 1.41.59.51 0 1.02-.2 1.41-.59l7.78-7.78 2.81-2.81c.8-.78.8-2.07 0-2.86zM5.41 20L4 18.59l7.72-7.72 1.47 1.35L5.41 20z\"/>\n",
              "  </svg>\n",
              "      </button>\n",
              "      \n",
              "  <style>\n",
              "    .colab-df-container {\n",
              "      display:flex;\n",
              "      flex-wrap:wrap;\n",
              "      gap: 12px;\n",
              "    }\n",
              "\n",
              "    .colab-df-convert {\n",
              "      background-color: #E8F0FE;\n",
              "      border: none;\n",
              "      border-radius: 50%;\n",
              "      cursor: pointer;\n",
              "      display: none;\n",
              "      fill: #1967D2;\n",
              "      height: 32px;\n",
              "      padding: 0 0 0 0;\n",
              "      width: 32px;\n",
              "    }\n",
              "\n",
              "    .colab-df-convert:hover {\n",
              "      background-color: #E2EBFA;\n",
              "      box-shadow: 0px 1px 2px rgba(60, 64, 67, 0.3), 0px 1px 3px 1px rgba(60, 64, 67, 0.15);\n",
              "      fill: #174EA6;\n",
              "    }\n",
              "\n",
              "    [theme=dark] .colab-df-convert {\n",
              "      background-color: #3B4455;\n",
              "      fill: #D2E3FC;\n",
              "    }\n",
              "\n",
              "    [theme=dark] .colab-df-convert:hover {\n",
              "      background-color: #434B5C;\n",
              "      box-shadow: 0px 1px 3px 1px rgba(0, 0, 0, 0.15);\n",
              "      filter: drop-shadow(0px 1px 2px rgba(0, 0, 0, 0.3));\n",
              "      fill: #FFFFFF;\n",
              "    }\n",
              "  </style>\n",
              "\n",
              "      <script>\n",
              "        const buttonEl =\n",
              "          document.querySelector('#df-18665854-14f1-4455-b2dd-09e7cd2e965f button.colab-df-convert');\n",
              "        buttonEl.style.display =\n",
              "          google.colab.kernel.accessAllowed ? 'block' : 'none';\n",
              "\n",
              "        async function convertToInteractive(key) {\n",
              "          const element = document.querySelector('#df-18665854-14f1-4455-b2dd-09e7cd2e965f');\n",
              "          const dataTable =\n",
              "            await google.colab.kernel.invokeFunction('convertToInteractive',\n",
              "                                                     [key], {});\n",
              "          if (!dataTable) return;\n",
              "\n",
              "          const docLinkHtml = 'Like what you see? Visit the ' +\n",
              "            '<a target=\"_blank\" href=https://colab.research.google.com/notebooks/data_table.ipynb>data table notebook</a>'\n",
              "            + ' to learn more about interactive tables.';\n",
              "          element.innerHTML = '';\n",
              "          dataTable['output_type'] = 'display_data';\n",
              "          await google.colab.output.renderOutput(dataTable, element);\n",
              "          const docLink = document.createElement('div');\n",
              "          docLink.innerHTML = docLinkHtml;\n",
              "          element.appendChild(docLink);\n",
              "        }\n",
              "      </script>\n",
              "    </div>\n",
              "  </div>\n",
              "  "
            ],
            "text/plain": [
              "                                         short_question  \\\n",
              "0     thường xuyên co giật sau khi sử dụng rượu bia ...   \n",
              "1     dùng thuốc điều trị thiếu máu do thiếu sắt như...   \n",
              "2     thường xuyên đau nhức vùng gáy là biểu hiện củ...   \n",
              "3     đã tháo bột điều trị gãy mắt cá ngoài chân 1 t...   \n",
              "4     hỏi đáp điều trị sỏi mật bằng phương pháp nội ...   \n",
              "...                                                 ...   \n",
              "8196                                               none   \n",
              "8197                                               none   \n",
              "8198                                               none   \n",
              "8199                                               none   \n",
              "8200                                               none   \n",
              "\n",
              "                                          long_question  \\\n",
              "0     chào bác sĩ  em năm nay 25 tuổi  em bị co giật...   \n",
              "1     chào bác sĩlúc trước em bị thiếu máu thiếu sắt...   \n",
              "2     chào bác sĩ dạo gần đây em thường xuyên bị đau...   \n",
              "3     chào bác sĩ cách đây 2 tháng em bị gãy mắt cá ...   \n",
              "4     chào bác sĩ tôi muốn hỏi điều trị sỏi mật bằng...   \n",
              "...                                                 ...   \n",
              "8196  tôi vừa chích ngừa vaccine covid19 thì 10 ngày...   \n",
              "8197  tôi bị nhịp xoang chậm khoảng 6 tháng đến một ...   \n",
              "8198       vnvc đã có vaccine pfizer hay moderna chưa ạ   \n",
              "8199  tôi bị bệnh hen suyễn hiện đang phải uống thuố...   \n",
              "8200  tôi năm nay 41 tuổi đi khám bệnh viên tim được...   \n",
              "\n",
              "                                                 answer  \\\n",
              "0     chào em rượu là một chất kích thích tác động t...   \n",
              "1     được giải đáp bởi tiến sĩ bác sĩ trương ngọc h...   \n",
              "2     chào em đau vùng sau gáy không sưng đỏ không đ...   \n",
              "3     chào bạn gãy mắt cá chân là một loại tổn thươn...   \n",
              "4     chào bạn điều trị sỏi mật bằng phương pháp nội...   \n",
              "...                                                 ...   \n",
              "8196  chào chị theo khuyến cáo của tổ chức y tế thế ...   \n",
              "8197  chào chị với tiền sử bệnh lý về tim mạch chị v...   \n",
              "8198  chào anh chị theo thông tin từ bộ y tế hơn 900...   \n",
              "8199  chào anhchịanhchị có tiền sử hen phế quản đang...   \n",
              "8200  chào anh anh có nhịp nhanh kịch phát trên thất...   \n",
              "\n",
              "                                                   link  \\\n",
              "0     https://www.vinmec.com/vi/tin-tuc/hoi-dap-bac-...   \n",
              "1     https://www.vinmec.com/vi/tin-tuc/hoi-dap-bac-...   \n",
              "2     https://www.vinmec.com/vi/tin-tuc/hoi-dap-bac-...   \n",
              "3     https://www.vinmec.com/vi/tin-tuc/hoi-dap-bac-...   \n",
              "4     https://www.vinmec.com/vi/tin-tuc/hoi-dap-bac-...   \n",
              "...                                                 ...   \n",
              "8196  https://vnexpress.net/tu-van-tiem-vaccine-covi...   \n",
              "8197  https://vnexpress.net/tu-van-tiem-vaccine-covi...   \n",
              "8198  https://vnexpress.net/tu-van-tiem-vaccine-covi...   \n",
              "8199  https://vnexpress.net/tu-van-tiem-vaccine-covi...   \n",
              "8200  https://vnexpress.net/tu-van-tiem-vaccine-covi...   \n",
              "\n",
              "                                          long_tokenize  \\\n",
              "0     [25, co_giật, mỗi, bia, rượu, 2, 3, ăn, tái_ph...   \n",
              "1     [sĩlúc, thiếu, thiếu, sắt, kê, đơn, hemopoly, ...   \n",
              "2     [dạo, gần, đây, thường_xuyên, nhức, vùng, gáy,...   \n",
              "3     [cách, đây, 2, gãy, mắt_cá, chân, trái, phẫu_t...   \n",
              "4     [muốn, sỏi, mật, bằng, phương_pháp, nội_soi, ố...   \n",
              "...                                                 ...   \n",
              "8196                                                      \n",
              "8197                                                      \n",
              "8198                                                      \n",
              "8199                                                      \n",
              "8200                                                      \n",
              "\n",
              "                                        answer_tokenize  \n",
              "0     [rượu, chất, kích_thích, tác_động, trực_tiếp, ...  \n",
              "1     [giải_đáp, tiến_sĩ, trương, ngọc, hải, hồi_sức...  \n",
              "2     [vùng, gáy, sưng, đỏ, liên_tục, từng, đợt, một...  \n",
              "3     [gãy, mắt_cá, chân, tổn_thương, xương, mức_độ,...  \n",
              "4     [sỏi, mật, bằng, phương_pháp, nội_soi, ống, mề...  \n",
              "...                                                 ...  \n",
              "8196                                                     \n",
              "8197                                                     \n",
              "8198                                                     \n",
              "8199                                                     \n",
              "8200                                                     \n",
              "\n",
              "[8196 rows x 6 columns]"
            ]
          },
          "metadata": {},
          "execution_count": 47
        }
      ]
    },
    {
      "cell_type": "markdown",
      "source": [
        "## BM25"
      ],
      "metadata": {
        "id": "_X77MR8k1d_F"
      }
    },
    {
      "cell_type": "code",
      "source": [
        "!pip install rank_bm25"
      ],
      "metadata": {
        "colab": {
          "base_uri": "https://localhost:8080/"
        },
        "id": "PTfgVe-02pK6",
        "outputId": "5ee975d8-bdc9-4fd0-d9d1-c72483520469"
      },
      "execution_count": null,
      "outputs": [
        {
          "output_type": "stream",
          "name": "stdout",
          "text": [
            "Collecting rank_bm25\n",
            "  Downloading rank_bm25-0.2.2-py3-none-any.whl (8.6 kB)\n",
            "Requirement already satisfied: numpy in /usr/local/lib/python3.7/dist-packages (from rank_bm25) (1.21.5)\n",
            "Installing collected packages: rank-bm25\n",
            "Successfully installed rank-bm25-0.2.2\n"
          ]
        }
      ]
    },
    {
      "cell_type": "code",
      "source": [
        "from rank_bm25 import BM25Okapi\n",
        "import numpy as np\n",
        "# fit\n",
        "bm25_index = BM25Okapi(df_train.long_tokenize)\n",
        "\n",
        "# def search(search_string, num_results=10):\n",
        "#     search_tokens = ViTokenizer.tokenize(search_string)\n",
        "#     search_tokens = search_tokens.split()\n",
        "#     scores = bm25_index.get_scores(search_tokens)\n",
        "#     top_indexes = np.argsort(scores)[::-1][:num_results]\n",
        "#     return top_indexes\n",
        "\n",
        "# indexes = search('mất khứu giác sau gãy sống mũi vỡ xương trán có ngửi lại được không')\n",
        "# indexes"
      ],
      "metadata": {
        "id": "Fn3ry5hMLmgO"
      },
      "execution_count": null,
      "outputs": []
    },
    {
      "cell_type": "code",
      "source": [
        "val = pd.read_csv('/content/val.csv')\n",
        "train = pd.read_csv('/content/train.csv')\n",
        "test = pd.read_csv('/content/test.csv')"
      ],
      "metadata": {
        "id": "ATs3L_n4VM3t"
      },
      "execution_count": null,
      "outputs": []
    },
    {
      "cell_type": "code",
      "source": [
        "train = train[train.answer!='none']\n",
        "train = train[train.answer!='']\n",
        "train = train[train.answer!='None']\n",
        "train = train[train.answer!=' ']\n",
        "train = train[train.answer !=' tới vinmec. ']\n",
        "train = train[train.answer !='.cảm ơn bạn đã tin tưởng và chia sẻ những lo lắng tới vinmec. được giải đáp bởi bác sĩ chuyên khoa ii phạm tiến ngọc - bác sĩ cấp cứu - khoa hồi sức cấp cứu - bệnh viện đa khoa quốc tế vinmec central park']\n",
        "train = train[train.answer !=' tới hệ thống y tế vinmec. ']\n",
        "train = train[train.answer !='cảm ơn bạn đã đặt câu hỏi tới hệ thống y tế vinmec. ']\n",
        "train = train[train.answer !='rất mong có thể gặp bạn tại vinmec để có những trao đổi chuyên sâu. ']\n",
        "train = train[train.answer !='rất mong có thể gặp gia đình bạn tại vinmec để có những trao đổi chuyên sâu. ']\n",
        "train = train[train.answer !=' chúc bé luôn có sức khỏe tốt.']\n",
        "train = train[train.question!='none']\n",
        "train = train[train.question!='']\n",
        "train = train[train.question!='None']\n",
        "train = train[train.question!=' ']\n",
        "train = train[train.question!='nan']\n",
        "train = train[train.question!=' chúc bé nhà bạn luôn có sức khỏe tốt']\n",
        "train = train[train.question!=' tới vinmec']\n",
        "train = train[train.question!=' chúc bạn có một thai kỳ khỏe mạnh']\n",
        "train.dropna(inplace=True)"
      ],
      "metadata": {
        "id": "HLK_vT9jyImc"
      },
      "execution_count": null,
      "outputs": []
    },
    {
      "cell_type": "code",
      "source": [
        "val = val[val.answer!='none']\n",
        "val = val[val.answer!='']\n",
        "val = val[val.answer!='None']\n",
        "val = val[val.answer!=' ']\n",
        "val = val[val.answer !=' tới vinmec. ']\n",
        "val = val[val.answer !='.cảm ơn bạn đã tin tưởng và chia sẻ những lo lắng tới vinmec. được giải đáp bởi bác sĩ chuyên khoa ii phạm tiến ngọc - bác sĩ cấp cứu - khoa hồi sức cấp cứu - bệnh viện đa khoa quốc tế vinmec central park']\n",
        "val = val[val.answer !=' tới hệ thống y tế vinmec. ']\n",
        "val = val[val.answer !='cảm ơn bạn đã đặt câu hỏi tới hệ thống y tế vinmec. ']\n",
        "val = val[val.answer !='rất mong có thể gặp bạn tại vinmec để có những trao đổi chuyên sâu. ']\n",
        "val = val[val.answer !='rất mong có thể gặp gia đình bạn tại vinmec để có những trao đổi chuyên sâu. ']\n",
        "val = val[val.answer !=' chúc bé luôn có sức khỏe tốt.']\n",
        "val = val[val.question!='none']\n",
        "val = val[val.question!='']\n",
        "val = val[val.question!='None']\n",
        "val = val[val.question!=' ']\n",
        "val = val[val.question!='nan']\n",
        "val = val[val.question!=' chúc bé nhà bạn luôn có sức khỏe tốt']\n",
        "val = val[val.question!=' tới vinmec']\n",
        "val = val[val.question!=' chúc bạn có một thai kỳ khỏe mạnh']\n",
        "val.dropna(inplace=True)"
      ],
      "metadata": {
        "id": "rRYjabcpyLoW"
      },
      "execution_count": null,
      "outputs": []
    },
    {
      "cell_type": "code",
      "source": [
        "test = test[test.answer!='none']\n",
        "test = test[test.answer!='']\n",
        "test = test[test.answer!='None']\n",
        "test = test[test.answer!=' ']\n",
        "test = test[test.answer !=' tới vinmec. ']\n",
        "test = test[test.answer !='.cảm ơn bạn đã tin tưởng và chia sẻ những lo lắng tới vinmec. được giải đáp bởi bác sĩ chuyên khoa ii phạm tiến ngọc - bác sĩ cấp cứu - khoa hồi sức cấp cứu - bệnh viện đa khoa quốc tế vinmec central park']\n",
        "test = test[test.answer !=' tới hệ thống y tế vinmec. ']\n",
        "test = test[test.answer !='cảm ơn bạn đã đặt câu hỏi tới hệ thống y tế vinmec. ']\n",
        "test = test[test.answer !='rất mong có thể gặp bạn tại vinmec để có những trao đổi chuyên sâu. ']\n",
        "test = test[test.answer !='rất mong có thể gặp gia đình bạn tại vinmec để có những trao đổi chuyên sâu. ']\n",
        "test = test[test.answer !=' chúc bé luôn có sức khỏe tốt.']\n",
        "test = test[test.question!='none']\n",
        "test = test[test.question!='']\n",
        "test = test[test.question!='None']\n",
        "test = test[test.question!=' ']\n",
        "test = test[test.question!='nan']\n",
        "test = test[test.question!=' chúc bé nhà bạn luôn có sức khỏe tốt']\n",
        "test = test[test.question!=' tới vinmec']\n",
        "test = test[test.question!=' chúc bạn có một thai kỳ khỏe mạnh']\n",
        "test.dropna(inplace=True)"
      ],
      "metadata": {
        "id": "V4R8C-2qyOQy"
      },
      "execution_count": null,
      "outputs": []
    },
    {
      "cell_type": "code",
      "source": [
        "train = train.reset_index(drop=True)\n",
        "val = val.reset_index(drop=True)\n",
        "test = test.reset_index(drop=True)"
      ],
      "metadata": {
        "id": "Ig3xMNYNyP--"
      },
      "execution_count": null,
      "outputs": []
    },
    {
      "cell_type": "code",
      "source": [
        "from pyvi import ViTokenizer\n",
        "# train\n",
        "train[\"long_tokenize\"] = \"\"\n",
        "train[\"answer_tokenize\"] = \"\"\n",
        "for i in range(len(train[\"question\"])):\n",
        "  try:\n",
        "    train[\"long_tokenize\"][i] = ViTokenizer.tokenize(str(train[\"question\"][i]))\n",
        "  except:\n",
        "    print('..')\n",
        "for i in range(len(train[\"answer\"])):\n",
        "  try:\n",
        "    train[\"answer_tokenize\"][i] = ViTokenizer.tokenize(str(train[\"answer\"][i]))\n",
        "  except:\n",
        "    print('..')"
      ],
      "metadata": {
        "colab": {
          "base_uri": "https://localhost:8080/"
        },
        "outputId": "ae821077-dad9-4e7e-bb83-30f558841a38",
        "id": "vgZDZB5hef0Z"
      },
      "execution_count": null,
      "outputs": [
        {
          "output_type": "stream",
          "name": "stderr",
          "text": [
            "/usr/local/lib/python3.7/dist-packages/ipykernel_launcher.py:7: SettingWithCopyWarning: \n",
            "A value is trying to be set on a copy of a slice from a DataFrame\n",
            "\n",
            "See the caveats in the documentation: https://pandas.pydata.org/pandas-docs/stable/user_guide/indexing.html#returning-a-view-versus-a-copy\n",
            "  import sys\n",
            "/usr/local/lib/python3.7/dist-packages/ipykernel_launcher.py:12: SettingWithCopyWarning: \n",
            "A value is trying to be set on a copy of a slice from a DataFrame\n",
            "\n",
            "See the caveats in the documentation: https://pandas.pydata.org/pandas-docs/stable/user_guide/indexing.html#returning-a-view-versus-a-copy\n",
            "  if sys.path[0] == '':\n"
          ]
        }
      ]
    },
    {
      "cell_type": "code",
      "source": [
        "from pyvi import ViTokenizer\n",
        "# val\n",
        "val[\"long_tokenize\"] = \"\"\n",
        "val[\"answer_tokenize\"] = \"\"\n",
        "for i in range(len(val[\"question\"])):\n",
        "  try:\n",
        "    val[\"long_tokenize\"][i] = ViTokenizer.tokenize(str(val[\"question\"][i]))\n",
        "  except:\n",
        "    print('..')\n",
        "for i in range(len(val[\"answer\"])):\n",
        "  try:\n",
        "    val[\"answer_tokenize\"][i] = ViTokenizer.tokenize(str(val[\"answer\"][i]))\n",
        "  except:\n",
        "    print('..')"
      ],
      "metadata": {
        "colab": {
          "base_uri": "https://localhost:8080/"
        },
        "id": "W4hGUYAxef0a",
        "outputId": "685481f6-b5e0-4516-edc2-a982c9b72520"
      },
      "execution_count": null,
      "outputs": [
        {
          "output_type": "stream",
          "name": "stderr",
          "text": [
            "/usr/local/lib/python3.7/dist-packages/ipykernel_launcher.py:7: SettingWithCopyWarning: \n",
            "A value is trying to be set on a copy of a slice from a DataFrame\n",
            "\n",
            "See the caveats in the documentation: https://pandas.pydata.org/pandas-docs/stable/user_guide/indexing.html#returning-a-view-versus-a-copy\n",
            "  import sys\n",
            "/usr/local/lib/python3.7/dist-packages/ipykernel_launcher.py:12: SettingWithCopyWarning: \n",
            "A value is trying to be set on a copy of a slice from a DataFrame\n",
            "\n",
            "See the caveats in the documentation: https://pandas.pydata.org/pandas-docs/stable/user_guide/indexing.html#returning-a-view-versus-a-copy\n",
            "  if sys.path[0] == '':\n"
          ]
        }
      ]
    },
    {
      "cell_type": "code",
      "source": [
        "from pyvi import ViTokenizer\n",
        "# test\n",
        "test[\"long_tokenize\"] = \"\"\n",
        "test[\"answer_tokenize\"] = \"\"\n",
        "for i in range(len(test[\"question\"])):\n",
        "  try:\n",
        "    test[\"long_tokenize\"][i] = ViTokenizer.tokenize(str(test[\"question\"][i]))\n",
        "  except:\n",
        "    print('..')\n",
        "for i in range(len(test[\"answer\"])):\n",
        "  try:\n",
        "    test[\"answer_tokenize\"][i] = ViTokenizer.tokenize(str(test[\"answer\"][i]))\n",
        "  except:\n",
        "    print('..')"
      ],
      "metadata": {
        "colab": {
          "base_uri": "https://localhost:8080/"
        },
        "id": "SMmTYrcaef0a",
        "outputId": "91caf790-d3f9-4421-a091-4b05d6b0aa2c"
      },
      "execution_count": null,
      "outputs": [
        {
          "output_type": "stream",
          "name": "stderr",
          "text": [
            "/usr/local/lib/python3.7/dist-packages/ipykernel_launcher.py:7: SettingWithCopyWarning: \n",
            "A value is trying to be set on a copy of a slice from a DataFrame\n",
            "\n",
            "See the caveats in the documentation: https://pandas.pydata.org/pandas-docs/stable/user_guide/indexing.html#returning-a-view-versus-a-copy\n",
            "  import sys\n",
            "/usr/local/lib/python3.7/dist-packages/ipykernel_launcher.py:12: SettingWithCopyWarning: \n",
            "A value is trying to be set on a copy of a slice from a DataFrame\n",
            "\n",
            "See the caveats in the documentation: https://pandas.pydata.org/pandas-docs/stable/user_guide/indexing.html#returning-a-view-versus-a-copy\n",
            "  if sys.path[0] == '':\n"
          ]
        }
      ]
    },
    {
      "cell_type": "code",
      "source": [
        "corpus = val['answer_tokenize'].tolist()"
      ],
      "metadata": {
        "id": "e0JYVP5gfK2l"
      },
      "execution_count": null,
      "outputs": []
    },
    {
      "cell_type": "code",
      "source": [
        "tokenized_corpus = [doc.split(\" \") for doc in corpus]\n",
        "\n",
        "bm25 = BM25Okapi(tokenized_corpus)"
      ],
      "metadata": {
        "id": "NXk68kJuqZJA"
      },
      "execution_count": null,
      "outputs": []
    },
    {
      "cell_type": "code",
      "source": [
        "def Bm25_k(k, data, corpus):\n",
        "  topK = []\n",
        "  count = 0\n",
        "  for i in range(len(data['long_tokenize'])):\n",
        "    tokenized_query = data['long_tokenize'][i].split(\" \")\n",
        "    doc_scores = bm25.get_scores(tokenized_query)\n",
        "    topK = bm25.get_top_n(tokenized_query, corpus, n=k)\n",
        "    for j in topK:\n",
        "      if data['answer_tokenize'][i] == j:\n",
        "        count += 1\n",
        "        break\n",
        "  return count"
      ],
      "metadata": {
        "id": "Xe9bEvPnE088"
      },
      "execution_count": null,
      "outputs": []
    },
    {
      "cell_type": "code",
      "source": [
        "print(\"Val:\")\n",
        "for i in range(1,11):\n",
        "  print('K = ', i, '->', Bm25_k(i)/len(val))"
      ],
      "metadata": {
        "colab": {
          "base_uri": "https://localhost:8080/"
        },
        "id": "af9c7vY0N9LH",
        "outputId": "2f97a8c3-34e7-4ae3-feda-b6ff7bc78cd6"
      },
      "execution_count": null,
      "outputs": [
        {
          "output_type": "stream",
          "name": "stdout",
          "text": [
            "Val:\n",
            "K =  1 -> 0.47150259067357514\n",
            "K =  2 -> 0.5544041450777202\n",
            "K =  3 -> 0.5889464594127807\n",
            "K =  4 -> 0.6234887737478411\n",
            "K =  5 -> 0.646804835924007\n",
            "K =  6 -> 0.6666666666666666\n",
            "K =  7 -> 0.6848013816925734\n",
            "K =  8 -> 0.6917098445595855\n",
            "K =  9 -> 0.7003454231433506\n",
            "K =  10 -> 0.7081174438687392\n"
          ]
        }
      ]
    },
    {
      "cell_type": "code",
      "source": [
        "len(test['long_tokenize'])"
      ],
      "metadata": {
        "colab": {
          "base_uri": "https://localhost:8080/"
        },
        "id": "NTyWTd8BEhni",
        "outputId": "a5897881-4386-4309-aacc-7c4da4bfd560"
      },
      "execution_count": null,
      "outputs": [
        {
          "output_type": "execute_result",
          "data": {
            "text/plain": [
              "1171"
            ]
          },
          "metadata": {},
          "execution_count": 214
        }
      ]
    },
    {
      "cell_type": "code",
      "source": [
        "print(\"Test:\")\n",
        "for i in range(1,11):\n",
        "  print('K = ', i, '->', Bm25_k_test(i)/len(test))"
      ],
      "metadata": {
        "outputId": "e6180ed2-1ede-4108-d845-99db77c66dcf",
        "colab": {
          "base_uri": "https://localhost:8080/"
        },
        "id": "6tK88CIk3Jcf"
      },
      "execution_count": null,
      "outputs": [
        {
          "output_type": "stream",
          "name": "stdout",
          "text": [
            "Test:\n",
            "K =  1 -> 0.46883005977796754\n",
            "K =  2 -> 0.4961571306575576\n",
            "K =  3 -> 0.5704526046114432\n",
            "K =  4 -> 0.5841161400512382\n",
            "K =  5 -> 0.6242527754056362\n",
            "K =  6 -> 0.6396242527754057\n",
            "K =  7 -> 0.6549957301451751\n",
            "K =  8 -> 0.6635354397950469\n",
            "K =  9 -> 0.677198975234842\n",
            "K =  10 -> 0.6806148590947908\n"
          ]
        }
      ]
    }
  ]
}