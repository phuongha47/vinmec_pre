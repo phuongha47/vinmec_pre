{
  "nbformat": 4,
  "nbformat_minor": 0,
  "metadata": {
    "colab": {
      "name": "Preprocessing.ipynb",
      "provenance": [],
      "collapsed_sections": [],
      "mount_file_id": "1ZOaULQeG3pgdw5iEHdWruWf1gQr52Vnn",
      "authorship_tag": "ABX9TyPE/doflaYyGwezQgu8lX5a",
      "include_colab_link": true
    },
    "kernelspec": {
      "name": "python3",
      "display_name": "Python 3"
    },
    "language_info": {
      "name": "python"
    }
  },
  "cells": [
    {
      "cell_type": "markdown",
      "metadata": {
        "id": "view-in-github",
        "colab_type": "text"
      },
      "source": [
        "<a href=\"https://colab.research.google.com/github/phuongha47/vinmec_pre/blob/main/Preprocessing.ipynb\" target=\"_parent\"><img src=\"https://colab.research.google.com/assets/colab-badge.svg\" alt=\"Open In Colab\"/></a>"
      ]
    },
    {
      "cell_type": "markdown",
      "source": [
        "# Read data"
      ],
      "metadata": {
        "id": "qjxN8Sx35WOe"
      }
    },
    {
      "cell_type": "code",
      "source": [
        "pip install underthesea"
      ],
      "metadata": {
        "colab": {
          "base_uri": "https://localhost:8080/"
        },
        "id": "jfjLpWXdsJpP",
        "outputId": "515627f2-cb4d-4b5e-a4fe-9c0b59fcbab9"
      },
      "execution_count": 1,
      "outputs": [
        {
          "output_type": "stream",
          "name": "stdout",
          "text": [
            "Collecting underthesea\n",
            "  Downloading underthesea-1.3.4-py3-none-any.whl (7.6 MB)\n",
            "\u001b[K     |████████████████████████████████| 7.6 MB 3.2 MB/s \n",
            "\u001b[?25hRequirement already satisfied: joblib in /usr/local/lib/python3.7/dist-packages (from underthesea) (1.1.0)\n",
            "Requirement already satisfied: scikit-learn in /usr/local/lib/python3.7/dist-packages (from underthesea) (1.0.2)\n",
            "Collecting python-crfsuite>=0.9.6\n",
            "  Downloading python_crfsuite-0.9.7-cp37-cp37m-manylinux1_x86_64.whl (743 kB)\n",
            "\u001b[K     |████████████████████████████████| 743 kB 8.4 MB/s \n",
            "\u001b[?25hRequirement already satisfied: nltk in /usr/local/lib/python3.7/dist-packages (from underthesea) (3.2.5)\n",
            "Collecting unidecode\n",
            "  Downloading Unidecode-1.3.3-py3-none-any.whl (235 kB)\n",
            "\u001b[K     |████████████████████████████████| 235 kB 46.5 MB/s \n",
            "\u001b[?25hRequirement already satisfied: tqdm in /usr/local/lib/python3.7/dist-packages (from underthesea) (4.63.0)\n",
            "Requirement already satisfied: PyYAML in /usr/local/lib/python3.7/dist-packages (from underthesea) (3.13)\n",
            "Requirement already satisfied: requests in /usr/local/lib/python3.7/dist-packages (from underthesea) (2.23.0)\n",
            "Requirement already satisfied: Click>=6.0 in /usr/local/lib/python3.7/dist-packages (from underthesea) (7.1.2)\n",
            "Collecting underthesea-core==0.0.4_alpha.10\n",
            "  Downloading underthesea_core-0.0.4_alpha.10-cp37-cp37m-manylinux2010_x86_64.whl (581 kB)\n",
            "\u001b[K     |████████████████████████████████| 581 kB 19.4 MB/s \n",
            "\u001b[?25hRequirement already satisfied: six in /usr/local/lib/python3.7/dist-packages (from nltk->underthesea) (1.15.0)\n",
            "Requirement already satisfied: idna<3,>=2.5 in /usr/local/lib/python3.7/dist-packages (from requests->underthesea) (2.10)\n",
            "Requirement already satisfied: urllib3!=1.25.0,!=1.25.1,<1.26,>=1.21.1 in /usr/local/lib/python3.7/dist-packages (from requests->underthesea) (1.24.3)\n",
            "Requirement already satisfied: chardet<4,>=3.0.2 in /usr/local/lib/python3.7/dist-packages (from requests->underthesea) (3.0.4)\n",
            "Requirement already satisfied: certifi>=2017.4.17 in /usr/local/lib/python3.7/dist-packages (from requests->underthesea) (2021.10.8)\n",
            "Requirement already satisfied: threadpoolctl>=2.0.0 in /usr/local/lib/python3.7/dist-packages (from scikit-learn->underthesea) (3.1.0)\n",
            "Requirement already satisfied: scipy>=1.1.0 in /usr/local/lib/python3.7/dist-packages (from scikit-learn->underthesea) (1.4.1)\n",
            "Requirement already satisfied: numpy>=1.14.6 in /usr/local/lib/python3.7/dist-packages (from scikit-learn->underthesea) (1.21.5)\n",
            "Installing collected packages: unidecode, underthesea-core, python-crfsuite, underthesea\n",
            "Successfully installed python-crfsuite-0.9.7 underthesea-1.3.4 underthesea-core-0.0.4a10 unidecode-1.3.3\n"
          ]
        }
      ]
    },
    {
      "cell_type": "code",
      "source": [
        "import pandas as pd\n",
        "import re\n",
        "from underthesea import sent_tokenize"
      ],
      "metadata": {
        "id": "Nks4iJFV5jvg"
      },
      "execution_count": 2,
      "outputs": []
    },
    {
      "cell_type": "code",
      "source": [
        "df_val = pd.read_csv(r'/content/drive/MyDrive/QA_KLTN/Dataset/Data_preprocess/Data merged/train.csv')\n",
        "df_test = pd.read_csv(r'/content/drive/MyDrive/QA_KLTN/Dataset/Data_preprocess/Data merged/test.csv')\n",
        "df_train = pd.read_csv(r'/content/drive/MyDrive/QA_KLTN/Dataset/Data_preprocess/Data merged/val.csv')\n"
      ],
      "metadata": {
        "id": "85xzk8Cji3xC"
      },
      "execution_count": 3,
      "outputs": []
    },
    {
      "cell_type": "code",
      "source": [
        "s1 = u'ÀÁÂÃÈÉÊÌÍÒÓÔÕÙÚÝàáâãèéêìíòóôõùúýĂăĐđĨĩŨũƠơƯưẠạẢảẤấẦầẨẩẪẫẬậẮắẰằẲẳẴẵẶặẸẹẺẻẼẽẾếỀềỂểỄễỆệỈỉỊịỌọỎỏỐốỒồỔổỖỗỘộỚớỜờỞởỠỡỢợỤụỦủỨứỪừỬửỮữỰựỲỳỴỵỶỷỸỹ'\n",
        "s0 = u'AAAAEEEIIOOOOUUYaaaaeeeiioooouuyAaDdIiUuOoUuAaAaAaAaAaAaAaAaAaAaAaAaEeEeEeEeEeEeEeEeIiIiOoOoOoOoOoOoOoOoOoOoOoOoUuUuUuUuUuUuUuYyYyYyYy'\n",
        "def remove_accents(text):\n",
        "\tfor c in text:\n",
        "\t\tif c in s1:\n",
        "\t\t\t text = text.replace(c,s0[s1.index(c)])\n",
        "\treturn text"
      ],
      "metadata": {
        "id": "hobS7lZw1n_O"
      },
      "execution_count": 4,
      "outputs": []
    },
    {
      "cell_type": "code",
      "source": [
        "# for i in range(len(df_train[\"long_question\"])):\n",
        "#   try: \n",
        "#     df_train[\"long_question\"][i] = remove_accents(df_train[\"long_question\"][i])\n",
        "#   except:\n",
        "#     print ('') \n",
        "# for i in range(len(df_train[\"answer\"])):\n",
        "#   try: \n",
        "#     df_train[\"answer\"][i] = remove_accents(df_train[\"answer\"][i])\n",
        "#   except:\n",
        "#     print ('') "
      ],
      "metadata": {
        "id": "rIzs91TB9Vqp"
      },
      "execution_count": 5,
      "outputs": []
    },
    {
      "cell_type": "markdown",
      "source": [
        "# Data understand"
      ],
      "metadata": {
        "id": "9RcJLp1VvJtK"
      }
    },
    {
      "cell_type": "markdown",
      "source": [
        "## Size "
      ],
      "metadata": {
        "id": "rKgMdIoDvyZa"
      }
    },
    {
      "cell_type": "code",
      "source": [
        "print('Size TRAIN:', len(df_train))\n",
        "print('Size TEST:', len(df_test))\n",
        "print('Size VAL:', len(df_val))"
      ],
      "metadata": {
        "colab": {
          "base_uri": "https://localhost:8080/"
        },
        "id": "laMjdg2-jd7t",
        "outputId": "fff8bd8f-aac9-4de4-fbbc-07de1cfc2a8a"
      },
      "execution_count": 6,
      "outputs": [
        {
          "output_type": "stream",
          "name": "stdout",
          "text": [
            "Size TRAIN: 1016\n",
            "Size TEST: 1025\n",
            "Size VAL: 8201\n"
          ]
        }
      ]
    },
    {
      "cell_type": "markdown",
      "source": [
        "## Document statistics by number of sentences"
      ],
      "metadata": {
        "id": "o6qrE4b7u7KX"
      }
    },
    {
      "cell_type": "markdown",
      "source": [
        "### Answer"
      ],
      "metadata": {
        "id": "X606hmrEwy5b"
      }
    },
    {
      "cell_type": "code",
      "source": [
        "import matplotlib.pyplot as plt\n",
        "\n",
        "plt.hist([len(sent_tokenize(s)) for s in df_train['answer']], 50)\n",
        "plt.xlabel('Length of a sample')\n",
        "plt.ylabel('Number of samples')\n",
        "plt.title('Sample length distribution')\n",
        "plt.show()"
      ],
      "metadata": {
        "colab": {
          "base_uri": "https://localhost:8080/",
          "height": 295
        },
        "outputId": "f5066d00-0f13-4276-e4af-a168d07de241",
        "id": "cfXDGVh9w4mD"
      },
      "execution_count": 7,
      "outputs": [
        {
          "output_type": "display_data",
          "data": {
            "image/png": "[encoded data removed]",
            "text/plain": [
              "<Figure size 432x288 with 1 Axes>"
            ]
          },
          "metadata": {
            "needs_background": "light"
          }
        }
      ]
    },
    {
      "cell_type": "code",
      "source": [
        "sen5 = sen10 = sen15 = sen20 = 0\n",
        "for text in df_train['answer']:\n",
        "  if len(sent_tokenize(text)) < 5:\n",
        "    sen5 += 1\n",
        "  elif len(sent_tokenize(text)) >= 5 and len(sent_tokenize(text)) < 10:\n",
        "    sen10 += 1\n",
        "  elif len(sent_tokenize(text)) >= 10 and len(sent_tokenize(text)) < 15:\n",
        "    sen15 += 1\n",
        "  else:\n",
        "    sen20 += 1"
      ],
      "metadata": {
        "id": "VeEZxEzdw4mE"
      },
      "execution_count": 8,
      "outputs": []
    },
    {
      "cell_type": "code",
      "source": [
        "leng = len(df_train)\n",
        "numdict = {\n",
        "  \"<5\": sen5,\n",
        "  \"[5:10)\": sen10,\n",
        "  \"[10:15)\": sen15,\n",
        "  \"[15:~)\": sen20,\n",
        "}\n",
        "for key in numdict:\n",
        "  print(key, ':', numdict[key])"
      ],
      "metadata": {
        "colab": {
          "base_uri": "https://localhost:8080/"
        },
        "id": "kaVClVFINdqV",
        "outputId": "e3b9fe06-2d87-45c3-e94b-b9ca8e65bd03"
      },
      "execution_count": 9,
      "outputs": [
        {
          "output_type": "stream",
          "name": "stdout",
          "text": [
            "<5 : 451\n",
            "[5:10) : 512\n",
            "[10:15) : 47\n",
            "[15:~) : 6\n"
          ]
        }
      ]
    },
    {
      "cell_type": "code",
      "source": [
        "leng = len(df_train)\n",
        "thisdict = {\n",
        "  \"<5\": sen5/leng*100,\n",
        "  \"[5:10)\": sen10/leng*100,\n",
        "  \"[10:15)\": sen15/leng*100,\n",
        "  \"[15:~)\": sen20/leng*100,\n",
        "}\n",
        "for key in thisdict:\n",
        "  print(key, ':', thisdict[key])"
      ],
      "metadata": {
        "colab": {
          "base_uri": "https://localhost:8080/"
        },
        "outputId": "95a60032-d22f-4c67-fdfe-a55933e4d9db",
        "id": "h3wRvL0gw4mE"
      },
      "execution_count": 10,
      "outputs": [
        {
          "output_type": "stream",
          "name": "stdout",
          "text": [
            "<5 : 44.389763779527556\n",
            "[5:10) : 50.39370078740157\n",
            "[10:15) : 4.625984251968504\n",
            "[15:~) : 0.5905511811023622\n"
          ]
        }
      ]
    },
    {
      "cell_type": "markdown",
      "source": [
        "### Long question\n"
      ],
      "metadata": {
        "id": "aTzFnYeiwsyZ"
      }
    },
    {
      "cell_type": "code",
      "source": [
        "import matplotlib.pyplot as plt\n",
        "\n",
        "plt.hist([len(sent_tokenize(s)) for s in df_train['long_question']], 50)\n",
        "plt.xlabel('Length of a sample')\n",
        "plt.ylabel('Number of samples')\n",
        "plt.title('Sample length distribution')\n",
        "plt.show()"
      ],
      "metadata": {
        "colab": {
          "base_uri": "https://localhost:8080/",
          "height": 295
        },
        "id": "2dzdlCTes1lY",
        "outputId": "14043da1-deed-43c3-b4eb-df0e4c462172"
      },
      "execution_count": 11,
      "outputs": [
        {
          "output_type": "display_data",
          "data": {
            "image/png": "[encoded data removed]",
            "text/plain": [
              "<Figure size 432x288 with 1 Axes>"
            ]
          },
          "metadata": {
            "needs_background": "light"
          }
        }
      ]
    },
    {
      "cell_type": "code",
      "source": [
        "sen5 = sen10 = sen15 = sen20 = 0\n",
        "for text in df_train['long_question']:\n",
        "  if len(sent_tokenize(text)) < 5:\n",
        "    sen5 += 1\n",
        "  elif len(sent_tokenize(text)) >= 5 and len(sent_tokenize(text)) < 10:\n",
        "    sen10 += 1\n",
        "  elif len(sent_tokenize(text)) >= 10 and len(sent_tokenize(text)) < 15:\n",
        "    sen15 += 1\n",
        "  else:\n",
        "    sen20 += 1"
      ],
      "metadata": {
        "id": "56ioBMaus_zq"
      },
      "execution_count": 12,
      "outputs": []
    },
    {
      "cell_type": "code",
      "source": [
        "leng = len(df_train)\n",
        "numdict = {\n",
        "  \"<5\": sen5,\n",
        "  \"[5:10)\": sen10,\n",
        "  \"[10:15)\": sen15,\n",
        "  \"[15:~)\": sen20,\n",
        "}\n",
        "for key in numdict:\n",
        "  print(key, ':', numdict[key])"
      ],
      "metadata": {
        "colab": {
          "base_uri": "https://localhost:8080/"
        },
        "id": "zHGZ3TccNQSe",
        "outputId": "e8a7f723-3478-42e3-bcca-979d6a68681d"
      },
      "execution_count": 13,
      "outputs": [
        {
          "output_type": "stream",
          "name": "stdout",
          "text": [
            "<5 : 626\n",
            "[5:10) : 374\n",
            "[10:15) : 15\n",
            "[15:~) : 1\n"
          ]
        }
      ]
    },
    {
      "cell_type": "code",
      "source": [
        "leng = len(df_train)\n",
        "thisdict = {\n",
        "  \"<5\": sen5/leng*100,\n",
        "  \"[5:10)\": sen10/leng*100,\n",
        "  \"[10:15)\": sen15/leng*100,\n",
        "  \"[15:~)\": sen20/leng*100,\n",
        "}\n",
        "for key in thisdict:\n",
        "  print(key, ':', thisdict[key])"
      ],
      "metadata": {
        "colab": {
          "base_uri": "https://localhost:8080/"
        },
        "id": "LZMiJekAt8GQ",
        "outputId": "d3bbedc2-2fd7-4d72-f37e-b68dddfeab03"
      },
      "execution_count": 14,
      "outputs": [
        {
          "output_type": "stream",
          "name": "stdout",
          "text": [
            "<5 : 61.61417322834646\n",
            "[5:10) : 36.811023622047244\n",
            "[10:15) : 1.4763779527559056\n",
            "[15:~) : 0.09842519685039369\n"
          ]
        }
      ]
    },
    {
      "cell_type": "markdown",
      "source": [
        "## Number of documents by word length"
      ],
      "metadata": {
        "id": "2HIXy3wlw4mF"
      }
    },
    {
      "cell_type": "markdown",
      "source": [
        "### Answer"
      ],
      "metadata": {
        "id": "_eMKT0Eeyfpd"
      }
    },
    {
      "cell_type": "code",
      "source": [
        "import matplotlib.pyplot as plt\n",
        "\n",
        "plt.hist([len(str(s)) for s in df_train['answer']], 50)\n",
        "plt.xlabel('Length of a sample')\n",
        "plt.ylabel('Number of samples')\n",
        "plt.title('Sample length distribution')\n",
        "plt.show()"
      ],
      "metadata": {
        "colab": {
          "base_uri": "https://localhost:8080/",
          "height": 295
        },
        "id": "yUbehN7dx3DF",
        "outputId": "cc9e8744-46a9-45a5-bb25-a74a506aff9f"
      },
      "execution_count": 15,
      "outputs": [
        {
          "output_type": "display_data",
          "data": {
            "image/png": "[encoded data removed]",
            "text/plain": [
              "<Figure size 432x288 with 1 Axes>"
            ]
          },
          "metadata": {
            "needs_background": "light"
          }
        }
      ]
    },
    {
      "cell_type": "code",
      "source": [
        "count100 = count300 = count500 = count700 = count1000 = count10000 = 0\n",
        "for s in df_train['answer']:\n",
        "  if (len(str(s)) < 100):\n",
        "    count100 += 1\n",
        "  elif (len(str(s)) >= 100 and len(str(s)) < 300):\n",
        "    count300 += 1\n",
        "  elif (len(str(s)) >= 300 and len(str(s)) < 500):\n",
        "    count500 += 1\n",
        "  elif (len(str(s)) >= 500 and len(str(s)) < 700):\n",
        "    count700 += 1\n",
        "  elif (len(str(s)) >= 700 and len(str(s)) < 1000):\n",
        "    count1000 += 1\n",
        "  else:\n",
        "    count10000 += 1"
      ],
      "metadata": {
        "id": "6TV3ahGTw4mF"
      },
      "execution_count": 16,
      "outputs": []
    },
    {
      "cell_type": "code",
      "source": [
        "leng = len(df_train)\n",
        "numdict = {\n",
        "  \"<100\": count100,\n",
        "  \"[100:300)\": count300,\n",
        "  \"[300:500)\": count500,\n",
        "  \"[500:700)\": count700,\n",
        "  \"[700:1000)\": count1000,\n",
        "  \"[1000:~)\": count10000,\n",
        "}\n",
        "for key in numdict:\n",
        "  print(key, ':', numdict[key])"
      ],
      "metadata": {
        "colab": {
          "base_uri": "https://localhost:8080/"
        },
        "id": "97EwWvGLLzDA",
        "outputId": "3900542f-9c17-4160-ae60-92bfd7501eab"
      },
      "execution_count": 17,
      "outputs": [
        {
          "output_type": "stream",
          "name": "stdout",
          "text": [
            "<100 : 0\n",
            "[100:300) : 61\n",
            "[300:500) : 212\n",
            "[500:700) : 277\n",
            "[700:1000) : 251\n",
            "[1000:~) : 215\n"
          ]
        }
      ]
    },
    {
      "cell_type": "code",
      "source": [
        "leng = len(df_train)\n",
        "thisdict = {\n",
        "  \"<100\": count100/leng*100,\n",
        "  \"[100:300)\": count300/leng*100,\n",
        "  \"[300:500)\": count500/leng*100,\n",
        "  \"[500:700)\": count700/leng*100,\n",
        "  \"[700:1000)\": count1000/leng*100,\n",
        "  \"[1000:~)\": count10000/leng*100,\n",
        "}\n",
        "for key in thisdict:\n",
        "  print(key, ':', thisdict[key])"
      ],
      "metadata": {
        "colab": {
          "base_uri": "https://localhost:8080/"
        },
        "outputId": "b58f850e-39d5-451b-b168-80b887dfdb6d",
        "id": "55vV9NuYw4mF"
      },
      "execution_count": 18,
      "outputs": [
        {
          "output_type": "stream",
          "name": "stdout",
          "text": [
            "<100 : 0.0\n",
            "[100:300) : 6.003937007874016\n",
            "[300:500) : 20.866141732283463\n",
            "[500:700) : 27.263779527559056\n",
            "[700:1000) : 24.70472440944882\n",
            "[1000:~) : 21.161417322834648\n"
          ]
        }
      ]
    },
    {
      "cell_type": "markdown",
      "source": [
        "### Long question"
      ],
      "metadata": {
        "id": "tOqkj4kouipG"
      }
    },
    {
      "cell_type": "code",
      "source": [
        "import matplotlib.pyplot as plt\n",
        "\n",
        "plt.hist([len(str(s)) for s in df_train['long_question']], 50)\n",
        "plt.xlabel('Length of a sample')\n",
        "plt.ylabel('Number of samples')\n",
        "plt.title('Sample length distribution')\n",
        "plt.show()"
      ],
      "metadata": {
        "colab": {
          "base_uri": "https://localhost:8080/",
          "height": 295
        },
        "id": "4bsh-gOItq8Z",
        "outputId": "a6c6e620-d916-44ef-a017-9199bc168578"
      },
      "execution_count": 19,
      "outputs": [
        {
          "output_type": "display_data",
          "data": {
            "image/png": "[encoded data removed]",
            "text/plain": [
              "<Figure size 432x288 with 1 Axes>"
            ]
          },
          "metadata": {
            "needs_background": "light"
          }
        }
      ]
    },
    {
      "cell_type": "code",
      "source": [
        "count100 = count300 = count500 = count700 = count1000 = count10000 = 0\n",
        "for s in df_train['long_question']:\n",
        "  if (len(str(s)) < 100):\n",
        "    count100 += 1\n",
        "  elif (len(str(s)) > 100 and len(str(s)) < 300):\n",
        "    count300 += 1\n",
        "  elif (len(str(s)) > 300 and len(str(s)) < 500):\n",
        "    count500 += 1\n",
        "  elif (len(str(s)) > 500 and len(str(s)) < 700):\n",
        "    count700 += 1\n",
        "  elif (len(str(s)) > 700 and len(str(s)) < 1000):\n",
        "    count1000 += 1\n",
        "  else:\n",
        "    count10000 += 1"
      ],
      "metadata": {
        "id": "gIgbH3NZKyg4"
      },
      "execution_count": 20,
      "outputs": []
    },
    {
      "cell_type": "code",
      "source": [
        "leng = len(df_train)\n",
        "numdict = {\n",
        "  \"<100\": count100,\n",
        "  \"[100:300)\": count300,\n",
        "  \"[300:500)\": count500,\n",
        "  \"[500:700)\": count700,\n",
        "  \"[700:1000)\": count1000,\n",
        "  \"[1000:~)\": count10000,\n",
        "}\n",
        "for key in numdict:\n",
        "  print(key, ':', numdict[key])"
      ],
      "metadata": {
        "colab": {
          "base_uri": "https://localhost:8080/"
        },
        "id": "4lXBE6mQNHVY",
        "outputId": "b8bb7a4c-b2c8-4790-f1a7-d01e1166026e"
      },
      "execution_count": 21,
      "outputs": [
        {
          "output_type": "stream",
          "name": "stdout",
          "text": [
            "<100 : 55\n",
            "[100:300) : 553\n",
            "[300:500) : 308\n",
            "[500:700) : 69\n",
            "[700:1000) : 20\n",
            "[1000:~) : 11\n"
          ]
        }
      ]
    },
    {
      "cell_type": "code",
      "source": [
        "leng = len(df_train)\n",
        "thisdict = {\n",
        "  \"<100\": count100/leng*100,\n",
        "  \"(100:300)\": count300/leng*100,\n",
        "  \"(300:500)\": count500/leng*100,\n",
        "  \"(500:700)\": count700/leng*100,\n",
        "  \"(700:1000)\": count1000/leng*100,\n",
        "  \"(1000:~)\": count10000/leng*100,\n",
        "}\n",
        "for key in thisdict:\n",
        "  print(key, ':', thisdict[key])"
      ],
      "metadata": {
        "colab": {
          "base_uri": "https://localhost:8080/"
        },
        "id": "JSKDyOcTk3Vs",
        "outputId": "43123e4e-d82c-49b9-9718-55092643da97"
      },
      "execution_count": 22,
      "outputs": [
        {
          "output_type": "stream",
          "name": "stdout",
          "text": [
            "<100 : 5.413385826771654\n",
            "(100:300) : 54.42913385826772\n",
            "(300:500) : 30.314960629921263\n",
            "(500:700) : 6.791338582677166\n",
            "(700:1000) : 1.968503937007874\n",
            "(1000:~) : 1.0826771653543308\n"
          ]
        }
      ]
    },
    {
      "cell_type": "markdown",
      "source": [
        "# Preprocessing"
      ],
      "metadata": {
        "id": "D_XeEVqM7wJG"
      }
    },
    {
      "cell_type": "code",
      "source": [
        "# important\n",
        "for i in range(len(df_train)):\n",
        "  begin = 0\n",
        "  end = 0\n",
        "  if (type(df_train['answer'][i])== str):\n",
        "    for j in range(len(df_train['answer'][i])):\n",
        "        if df_train['answer'][i][j] == '“':\n",
        "          begin = j\n",
        "        if df_train['answer'][i][j] == '”':\n",
        "          end = j\n",
        "    if begin!=0 and end!=0:\n",
        "      df_train['answer'][i] = df_train['answer'][i].replace(df_train['answer'][i][begin:end+2],\"\")\n"
      ],
      "metadata": {
        "id": "I_Hw5_6dBl19"
      },
      "execution_count": 23,
      "outputs": []
    },
    {
      "cell_type": "code",
      "source": [
        "df_train = df_train[df_train.answer != 'None']\n",
        "df_train = df_train[df_train.answer != 'none']\n",
        "df_train = df_train[df_train.answer != ' ']\n",
        "df_train = df_train[df_train.answer != '']\n",
        "\n",
        "df_test = df_test[df_test.answer != 'None']\n",
        "df_test = df_test[df_test.answer != 'none']\n",
        "df_test = df_test[df_test.answer != ' ']\n",
        "df_test = df_test[df_test.answer != '']\n",
        "\n",
        "df_val = df_val[df_val.answer != 'None']\n",
        "df_val = df_val[df_val.answer != 'none']\n",
        "df_val = df_val[df_val.answer != ' ']\n",
        "df_val = df_val[df_val.answer != '']"
      ],
      "metadata": {
        "id": "sRE6Vy09uo1n"
      },
      "execution_count": 24,
      "outputs": []
    },
    {
      "cell_type": "code",
      "source": [
        "df_train.tail()"
      ],
      "metadata": {
        "colab": {
          "base_uri": "https://localhost:8080/",
          "height": 337
        },
        "id": "jGPvrl2PjiCD",
        "outputId": "fbd321ba-fc95-4e15-d74a-be54ad7dde78"
      },
      "execution_count": 25,
      "outputs": [
        {
          "output_type": "execute_result",
          "data": {
            "text/html": [
              "\n",
              "  <div id=\"df-981d48dc-c055-4a18-a76a-b7aa2dda6d23\">\n",
              "    <div class=\"colab-df-container\">\n",
              "      <div>\n",
              "<style scoped>\n",
              "    .dataframe tbody tr th:only-of-type {\n",
              "        vertical-align: middle;\n",
              "    }\n",
              "\n",
              "    .dataframe tbody tr th {\n",
              "        vertical-align: top;\n",
              "    }\n",
              "\n",
              "    .dataframe thead th {\n",
              "        text-align: right;\n",
              "    }\n",
              "</style>\n",
              "<table border=\"1\" class=\"dataframe\">\n",
              "  <thead>\n",
              "    <tr style=\"text-align: right;\">\n",
              "      <th></th>\n",
              "      <th>short_question</th>\n",
              "      <th>long_question</th>\n",
              "      <th>answer</th>\n",
              "      <th>link</th>\n",
              "    </tr>\n",
              "  </thead>\n",
              "  <tbody>\n",
              "    <tr>\n",
              "      <th>1011</th>\n",
              "      <td>None</td>\n",
              "      <td>Tôi có tiền sử tiểu cầu thấp, PLT 130.000-140....</td>\n",
              "      <td>Chào anh,Tình trạng tiểu cầu của anh dưới ngưỡ...</td>\n",
              "      <td>https://vnexpress.net/tu-van-tiem-vaccine-covi...</td>\n",
              "    </tr>\n",
              "    <tr>\n",
              "      <th>1012</th>\n",
              "      <td>None</td>\n",
              "      <td>Tôi bị huyết áp cao phải uống thuốc hàng ngày,...</td>\n",
              "      <td>Chào anh,\\nViệc uống thuốc huyết áp duy trì hà...</td>\n",
              "      <td>https://vnexpress.net/tu-van-tiem-vaccine-covi...</td>\n",
              "    </tr>\n",
              "    <tr>\n",
              "      <th>1013</th>\n",
              "      <td>None</td>\n",
              "      <td>Vaccine AstraZeneca tôi thấy ở nước ngoài chỉ ...</td>\n",
              "      <td>Chào bạn,\\nTheo thông tin kê toa của nhà sản x...</td>\n",
              "      <td>https://vnexpress.net/tu-van-tiem-vaccine-covi...</td>\n",
              "    </tr>\n",
              "    <tr>\n",
              "      <th>1014</th>\n",
              "      <td>None</td>\n",
              "      <td>Em 33 tuổi, cao 1,68 m, nặng 90 kg, bị dị ứng ...</td>\n",
              "      <td>Chào Anh/Chị,\\nTheo mô tả thì trường hợp dị ứn...</td>\n",
              "      <td>https://vnexpress.net/tu-van-tiem-vaccine-covi...</td>\n",
              "    </tr>\n",
              "    <tr>\n",
              "      <th>1015</th>\n",
              "      <td>None</td>\n",
              "      <td>Tôi thỉnh thoảng bị dị ứng ngứa nổi mẩn, đặc b...</td>\n",
              "      <td>Chào anh,\\nTheo hướng dẫn của Bộ Y tế, anh thu...</td>\n",
              "      <td>https://vnexpress.net/tu-van-tiem-vaccine-covi...</td>\n",
              "    </tr>\n",
              "  </tbody>\n",
              "</table>\n",
              "</div>\n",
              "      <button class=\"colab-df-convert\" onclick=\"convertToInteractive('df-981d48dc-c055-4a18-a76a-b7aa2dda6d23')\"\n",
              "              title=\"Convert this dataframe to an interactive table.\"\n",
              "              style=\"display:none;\">\n",
              "        \n",
              "  <svg xmlns=\"http://www.w3.org/2000/svg\" height=\"24px\"viewBox=\"0 0 24 24\"\n",
              "       width=\"24px\">\n",
              "    <path d=\"M0 0h24v24H0V0z\" fill=\"none\"/>\n",
              "    <path d=\"M18.56 5.44l.94 2.06.94-2.06 2.06-.94-2.06-.94-.94-2.06-.94 2.06-2.06.94zm-11 1L8.5 8.5l.94-2.06 2.06-.94-2.06-.94L8.5 2.5l-.94 2.06-2.06.94zm10 10l.94 2.06.94-2.06 2.06-.94-2.06-.94-.94-2.06-.94 2.06-2.06.94z\"/><path d=\"M17.41 7.96l-1.37-1.37c-.4-.4-.92-.59-1.43-.59-.52 0-1.04.2-1.43.59L10.3 9.45l-7.72 7.72c-.78.78-.78 2.05 0 2.83L4 21.41c.39.39.9.59 1.41.59.51 0 1.02-.2 1.41-.59l7.78-7.78 2.81-2.81c.8-.78.8-2.07 0-2.86zM5.41 20L4 18.59l7.72-7.72 1.47 1.35L5.41 20z\"/>\n",
              "  </svg>\n",
              "      </button>\n",
              "      \n",
              "  <style>\n",
              "    .colab-df-container {\n",
              "      display:flex;\n",
              "      flex-wrap:wrap;\n",
              "      gap: 12px;\n",
              "    }\n",
              "\n",
              "    .colab-df-convert {\n",
              "      background-color: #E8F0FE;\n",
              "      border: none;\n",
              "      border-radius: 50%;\n",
              "      cursor: pointer;\n",
              "      display: none;\n",
              "      fill: #1967D2;\n",
              "      height: 32px;\n",
              "      padding: 0 0 0 0;\n",
              "      width: 32px;\n",
              "    }\n",
              "\n",
              "    .colab-df-convert:hover {\n",
              "      background-color: #E2EBFA;\n",
              "      box-shadow: 0px 1px 2px rgba(60, 64, 67, 0.3), 0px 1px 3px 1px rgba(60, 64, 67, 0.15);\n",
              "      fill: #174EA6;\n",
              "    }\n",
              "\n",
              "    [theme=dark] .colab-df-convert {\n",
              "      background-color: #3B4455;\n",
              "      fill: #D2E3FC;\n",
              "    }\n",
              "\n",
              "    [theme=dark] .colab-df-convert:hover {\n",
              "      background-color: #434B5C;\n",
              "      box-shadow: 0px 1px 3px 1px rgba(0, 0, 0, 0.15);\n",
              "      filter: drop-shadow(0px 1px 2px rgba(0, 0, 0, 0.3));\n",
              "      fill: #FFFFFF;\n",
              "    }\n",
              "  </style>\n",
              "\n",
              "      <script>\n",
              "        const buttonEl =\n",
              "          document.querySelector('#df-981d48dc-c055-4a18-a76a-b7aa2dda6d23 button.colab-df-convert');\n",
              "        buttonEl.style.display =\n",
              "          google.colab.kernel.accessAllowed ? 'block' : 'none';\n",
              "\n",
              "        async function convertToInteractive(key) {\n",
              "          const element = document.querySelector('#df-981d48dc-c055-4a18-a76a-b7aa2dda6d23');\n",
              "          const dataTable =\n",
              "            await google.colab.kernel.invokeFunction('convertToInteractive',\n",
              "                                                     [key], {});\n",
              "          if (!dataTable) return;\n",
              "\n",
              "          const docLinkHtml = 'Like what you see? Visit the ' +\n",
              "            '<a target=\"_blank\" href=https://colab.research.google.com/notebooks/data_table.ipynb>data table notebook</a>'\n",
              "            + ' to learn more about interactive tables.';\n",
              "          element.innerHTML = '';\n",
              "          dataTable['output_type'] = 'display_data';\n",
              "          await google.colab.output.renderOutput(dataTable, element);\n",
              "          const docLink = document.createElement('div');\n",
              "          docLink.innerHTML = docLinkHtml;\n",
              "          element.appendChild(docLink);\n",
              "        }\n",
              "      </script>\n",
              "    </div>\n",
              "  </div>\n",
              "  "
            ],
            "text/plain": [
              "     short_question                                      long_question  \\\n",
              "1011           None  Tôi có tiền sử tiểu cầu thấp, PLT 130.000-140....   \n",
              "1012           None  Tôi bị huyết áp cao phải uống thuốc hàng ngày,...   \n",
              "1013           None  Vaccine AstraZeneca tôi thấy ở nước ngoài chỉ ...   \n",
              "1014           None  Em 33 tuổi, cao 1,68 m, nặng 90 kg, bị dị ứng ...   \n",
              "1015           None  Tôi thỉnh thoảng bị dị ứng ngứa nổi mẩn, đặc b...   \n",
              "\n",
              "                                                 answer  \\\n",
              "1011  Chào anh,Tình trạng tiểu cầu của anh dưới ngưỡ...   \n",
              "1012  Chào anh,\\nViệc uống thuốc huyết áp duy trì hà...   \n",
              "1013  Chào bạn,\\nTheo thông tin kê toa của nhà sản x...   \n",
              "1014  Chào Anh/Chị,\\nTheo mô tả thì trường hợp dị ứn...   \n",
              "1015  Chào anh,\\nTheo hướng dẫn của Bộ Y tế, anh thu...   \n",
              "\n",
              "                                                   link  \n",
              "1011  https://vnexpress.net/tu-van-tiem-vaccine-covi...  \n",
              "1012  https://vnexpress.net/tu-van-tiem-vaccine-covi...  \n",
              "1013  https://vnexpress.net/tu-van-tiem-vaccine-covi...  \n",
              "1014  https://vnexpress.net/tu-van-tiem-vaccine-covi...  \n",
              "1015  https://vnexpress.net/tu-van-tiem-vaccine-covi...  "
            ]
          },
          "metadata": {},
          "execution_count": 25
        }
      ]
    },
    {
      "cell_type": "code",
      "source": [
        "# short_question\n",
        "for i in range(len(df_train)):\n",
        "  df_train['short_question'][i] = df_train['short_question'][i].strip()\n",
        "  df_train['short_question'][i] = df_train['short_question'][i].lower()\n",
        "  df_train['short_question'][i] = df_train['short_question'][i].replace(\"\\n\", \"\")\n",
        "  df_train['short_question'][i] = re.sub(r'[^\\w\\s]','', df_train['short_question'][i])\n",
        "  # long_question\n",
        "  df_train['long_question'][i] = df_train['long_question'][i].strip()\n",
        "  df_train['long_question'][i] = df_train['long_question'][i].lower()\n",
        "  df_train['long_question'][i] = df_train['long_question'][i].replace(\"\\n\", \"\")\n",
        "  df_train['long_question'][i] = re.sub(r'[^\\w\\s]','', df_train['long_question'][i])\n",
        "  # answer\n",
        "  df_train['answer'][i] = df_train['answer'][i].strip()\n",
        "  df_train['answer'][i] = df_train['answer'][i].lower()\n",
        "  df_train['answer'][i] = df_train['answer'][i].replace(\"\\n\", \"\")\n",
        "  df_train['answer'][i] = re.sub(r'[^\\w\\s]','', df_train['answer'][i])\n"
      ],
      "metadata": {
        "id": "nPeY6FyQ6NVK"
      },
      "execution_count": 26,
      "outputs": []
    },
    {
      "cell_type": "code",
      "source": [
        "df_train = df_train.dropna()\n",
        "df_train = df_train.drop_duplicates()\n",
        "df_test = df_test.dropna()\n",
        "df_test = df_test.drop_duplicates()\n",
        "df_val = df_val.dropna()\n",
        "df_val = df_val.drop_duplicates()"
      ],
      "metadata": {
        "id": "2nZ3vXao71Ej"
      },
      "execution_count": 27,
      "outputs": []
    },
    {
      "cell_type": "code",
      "source": [
        "len(df_train)"
      ],
      "metadata": {
        "id": "dAI0qtMJ84W4",
        "colab": {
          "base_uri": "https://localhost:8080/"
        },
        "outputId": "623b0698-377c-45ae-8f2c-c743564f2c9a"
      },
      "execution_count": 28,
      "outputs": [
        {
          "output_type": "execute_result",
          "data": {
            "text/plain": [
              "1016"
            ]
          },
          "metadata": {},
          "execution_count": 28
        }
      ]
    },
    {
      "cell_type": "markdown",
      "source": [
        "### Tokenize"
      ],
      "metadata": {
        "id": "uhkXfIGfUM4u"
      }
    },
    {
      "cell_type": "code",
      "source": [
        "pip install pyvi\n"
      ],
      "metadata": {
        "colab": {
          "base_uri": "https://localhost:8080/"
        },
        "id": "oOFLn-ev17UI",
        "outputId": "439109a3-bb49-436b-9eae-d1d237b498a7"
      },
      "execution_count": 29,
      "outputs": [
        {
          "output_type": "stream",
          "name": "stdout",
          "text": [
            "Collecting pyvi\n",
            "  Downloading pyvi-0.1.1-py2.py3-none-any.whl (8.5 MB)\n",
            "\u001b[K     |████████████████████████████████| 8.5 MB 2.9 MB/s \n",
            "\u001b[?25hRequirement already satisfied: scikit-learn in /usr/local/lib/python3.7/dist-packages (from pyvi) (1.0.2)\n",
            "Collecting sklearn-crfsuite\n",
            "  Downloading sklearn_crfsuite-0.3.6-py2.py3-none-any.whl (12 kB)\n",
            "Requirement already satisfied: threadpoolctl>=2.0.0 in /usr/local/lib/python3.7/dist-packages (from scikit-learn->pyvi) (3.1.0)\n",
            "Requirement already satisfied: scipy>=1.1.0 in /usr/local/lib/python3.7/dist-packages (from scikit-learn->pyvi) (1.4.1)\n",
            "Requirement already satisfied: joblib>=0.11 in /usr/local/lib/python3.7/dist-packages (from scikit-learn->pyvi) (1.1.0)\n",
            "Requirement already satisfied: numpy>=1.14.6 in /usr/local/lib/python3.7/dist-packages (from scikit-learn->pyvi) (1.21.5)\n",
            "Requirement already satisfied: tabulate in /usr/local/lib/python3.7/dist-packages (from sklearn-crfsuite->pyvi) (0.8.9)\n",
            "Requirement already satisfied: tqdm>=2.0 in /usr/local/lib/python3.7/dist-packages (from sklearn-crfsuite->pyvi) (4.63.0)\n",
            "Requirement already satisfied: python-crfsuite>=0.8.3 in /usr/local/lib/python3.7/dist-packages (from sklearn-crfsuite->pyvi) (0.9.7)\n",
            "Requirement already satisfied: six in /usr/local/lib/python3.7/dist-packages (from sklearn-crfsuite->pyvi) (1.15.0)\n",
            "Installing collected packages: sklearn-crfsuite, pyvi\n",
            "Successfully installed pyvi-0.1.1 sklearn-crfsuite-0.3.6\n"
          ]
        }
      ]
    },
    {
      "cell_type": "code",
      "source": [
        "from pyvi import ViTokenizer\n",
        "df_train[\"long_tokenize\"] = \"\"\n",
        "df_train[\"answer_tokenize\"] = \"\"\n",
        "for i in range(len(df_train[\"long_question\"])):\n",
        "  try:\n",
        "    df_train[\"long_tokenize\"][i] = ViTokenizer.tokenize(str(df_train[\"long_question\"][i]))\n",
        "  except:\n",
        "    print('..')\n",
        "for i in range(len(df_train[\"answer\"])):\n",
        "  try:\n",
        "    df_train[\"answer_tokenize\"][i] = ViTokenizer.tokenize(str(df_train[\"answer\"][i]))\n",
        "  except:\n",
        "    print('..')"
      ],
      "metadata": {
        "id": "j_uQEkKD2L1B"
      },
      "execution_count": 30,
      "outputs": []
    },
    {
      "cell_type": "code",
      "source": [
        "df_train"
      ],
      "metadata": {
        "colab": {
          "base_uri": "https://localhost:8080/",
          "height": 814
        },
        "id": "KW6y_Vw8Dvlx",
        "outputId": "05611dc1-1721-4728-c9b2-fb8a5ffcfdf4"
      },
      "execution_count": 31,
      "outputs": [
        {
          "output_type": "execute_result",
          "data": {
            "text/html": [
              "\n",
              "  <div id=\"df-ada5cff8-a78b-4709-9eec-63d406f88866\">\n",
              "    <div class=\"colab-df-container\">\n",
              "      <div>\n",
              "<style scoped>\n",
              "    .dataframe tbody tr th:only-of-type {\n",
              "        vertical-align: middle;\n",
              "    }\n",
              "\n",
              "    .dataframe tbody tr th {\n",
              "        vertical-align: top;\n",
              "    }\n",
              "\n",
              "    .dataframe thead th {\n",
              "        text-align: right;\n",
              "    }\n",
              "</style>\n",
              "<table border=\"1\" class=\"dataframe\">\n",
              "  <thead>\n",
              "    <tr style=\"text-align: right;\">\n",
              "      <th></th>\n",
              "      <th>short_question</th>\n",
              "      <th>long_question</th>\n",
              "      <th>answer</th>\n",
              "      <th>link</th>\n",
              "      <th>long_tokenize</th>\n",
              "      <th>answer_tokenize</th>\n",
              "    </tr>\n",
              "  </thead>\n",
              "  <tbody>\n",
              "    <tr>\n",
              "      <th>0</th>\n",
              "      <td>bìu dương vật sưng to cứng và tinh hoàn không ...</td>\n",
              "      <td>xin chào bác sĩ cho em hỏi bìu dương vật sưng ...</td>\n",
              "      <td>chào em với câu hỏi bìu dương vật sưng to cứng...</td>\n",
              "      <td>https://www.vinmec.com/vi/tin-tuc/hoi-dap-bac-...</td>\n",
              "      <td>xin chào bác_sĩ cho em hỏi bìu dương_vật sưng ...</td>\n",
              "      <td>chào em với câu hỏi bìu dương_vật sưng to cứng...</td>\n",
              "    </tr>\n",
              "    <tr>\n",
              "      <th>1</th>\n",
              "      <td>trẻ sơ sinh vàng da vàng mắt mức độ nhẹ có đán...</td>\n",
              "      <td>em chào bác sĩ bé gái nhà em khi sinh được 36 ...</td>\n",
              "      <td>chào bạn vàng da là tình trạng rất phổ biến ở ...</td>\n",
              "      <td>https://www.vinmec.com/vi/tin-tuc/hoi-dap-bac-...</td>\n",
              "      <td>em chào bác_sĩ bé gái nhà em khi sinh được 36 ...</td>\n",
              "      <td>chào bạn vàng da là tình_trạng rất phổ_biến ở ...</td>\n",
              "    </tr>\n",
              "    <tr>\n",
              "      <th>2</th>\n",
              "      <td>bị đau mắt đỏ nhỏ thuốc mỡ chlorocinah có khỏi...</td>\n",
              "      <td>chào dược sĩ con tôi bị đau mắt đỏ dược  sĩ ch...</td>\n",
              "      <td>chào bạn với câu hỏi của bạn dược sĩ xin tư vấ...</td>\n",
              "      <td>https://www.vinmec.com/vi/tin-tuc/hoi-dap-bac-...</td>\n",
              "      <td>chào dược_sĩ con tôi bị đau mắt đỏ dược_sĩ cho...</td>\n",
              "      <td>chào bạn với câu hỏi của bạn dược_sĩ xin tư_vấ...</td>\n",
              "    </tr>\n",
              "    <tr>\n",
              "      <th>3</th>\n",
              "      <td>tự nhiên xuất hiện vết bầm kèm xuất huyết là b...</td>\n",
              "      <td>chào bác sĩgần 2 tháng trở lại đây em có triệu...</td>\n",
              "      <td>được giải đáp bởi bác sĩ lê thị thanh hương  b...</td>\n",
              "      <td>https://www.vinmec.com/vi/tin-tuc/hoi-dap-bac-...</td>\n",
              "      <td>chào bác sĩgần 2 tháng trở_lại đây em có triệu...</td>\n",
              "      <td>được giải_đáp bởi bác_sĩ lê thị thanh hương bá...</td>\n",
              "    </tr>\n",
              "    <tr>\n",
              "      <th>4</th>\n",
              "      <td>điều trị dứt điểm huyết khối tĩnh mạch chi như...</td>\n",
              "      <td>chào bác sĩem bị huyết khối tĩnh mạch chi dưới...</td>\n",
              "      <td>chào bạnvới câu hỏi  bác sĩ xin được trả lời n...</td>\n",
              "      <td>https://www.vinmec.com/vi/tin-tuc/hoi-dap-bac-...</td>\n",
              "      <td>chào bác sĩem bị huyết khối tĩnh_mạch chi dưới...</td>\n",
              "      <td>chào bạnvới câu hỏi bác_sĩ xin được trả_lời nh...</td>\n",
              "    </tr>\n",
              "    <tr>\n",
              "      <th>...</th>\n",
              "      <td>...</td>\n",
              "      <td>...</td>\n",
              "      <td>...</td>\n",
              "      <td>...</td>\n",
              "      <td>...</td>\n",
              "      <td>...</td>\n",
              "    </tr>\n",
              "    <tr>\n",
              "      <th>1011</th>\n",
              "      <td>none</td>\n",
              "      <td>tôi có tiền sử tiểu cầu thấp plt 130000140000 ...</td>\n",
              "      <td>chào anhtình trạng tiểu cầu của anh dưới ngưỡn...</td>\n",
              "      <td>https://vnexpress.net/tu-van-tiem-vaccine-covi...</td>\n",
              "      <td>tôi có tiền_sử tiểu_cầu thấp plt 130000140000 ...</td>\n",
              "      <td>chào anhtình trạng tiểu_cầu của anh dưới ngưỡn...</td>\n",
              "    </tr>\n",
              "    <tr>\n",
              "      <th>1012</th>\n",
              "      <td>none</td>\n",
              "      <td>tôi bị huyết áp cao phải uống thuốc hàng ngày ...</td>\n",
              "      <td>chào anhviệc uống thuốc huyết áp duy trì hàng ...</td>\n",
              "      <td>https://vnexpress.net/tu-van-tiem-vaccine-covi...</td>\n",
              "      <td>tôi bị huyết_áp_cao phải uống thuốc hàng ngày ...</td>\n",
              "      <td>chào anhviệc uống thuốc huyết_áp duy_trì hàng ...</td>\n",
              "    </tr>\n",
              "    <tr>\n",
              "      <th>1013</th>\n",
              "      <td>none</td>\n",
              "      <td>vaccine astrazeneca tôi thấy ở nước ngoài chỉ ...</td>\n",
              "      <td>chào bạntheo thông tin kê toa của nhà sản xuất...</td>\n",
              "      <td>https://vnexpress.net/tu-van-tiem-vaccine-covi...</td>\n",
              "      <td>vaccine astrazeneca tôi thấy ở nước_ngoài chỉ_...</td>\n",
              "      <td>chào bạntheo thông_tin kê toa của nhà sản_xuất...</td>\n",
              "    </tr>\n",
              "    <tr>\n",
              "      <th>1014</th>\n",
              "      <td>none</td>\n",
              "      <td>em 33 tuổi cao 168 m nặng 90 kg bị dị ứng với ...</td>\n",
              "      <td>chào anhchịtheo mô tả thì trường hợp dị ứng củ...</td>\n",
              "      <td>https://vnexpress.net/tu-van-tiem-vaccine-covi...</td>\n",
              "      <td>em 33 tuổi cao 168 m nặng 90 kg bị dị_ứng với ...</td>\n",
              "      <td>chào anhchịtheo mô_tả thì trường_hợp dị_ứng củ...</td>\n",
              "    </tr>\n",
              "    <tr>\n",
              "      <th>1015</th>\n",
              "      <td>none</td>\n",
              "      <td>tôi thỉnh thoảng bị dị ứng ngứa nổi mẩn đặc bi...</td>\n",
              "      <td>chào anhtheo hướng dẫn của bộ y tế anh thuộc đ...</td>\n",
              "      <td>https://vnexpress.net/tu-van-tiem-vaccine-covi...</td>\n",
              "      <td>tôi thỉnh_thoảng bị dị_ứng ngứa nổi mẩn đặc_bi...</td>\n",
              "      <td>chào anhtheo hướng_dẫn của bộ y_tế anh thuộc đ...</td>\n",
              "    </tr>\n",
              "  </tbody>\n",
              "</table>\n",
              "<p>1016 rows × 6 columns</p>\n",
              "</div>\n",
              "      <button class=\"colab-df-convert\" onclick=\"convertToInteractive('df-ada5cff8-a78b-4709-9eec-63d406f88866')\"\n",
              "              title=\"Convert this dataframe to an interactive table.\"\n",
              "              style=\"display:none;\">\n",
              "        \n",
              "  <svg xmlns=\"http://www.w3.org/2000/svg\" height=\"24px\"viewBox=\"0 0 24 24\"\n",
              "       width=\"24px\">\n",
              "    <path d=\"M0 0h24v24H0V0z\" fill=\"none\"/>\n",
              "    <path d=\"M18.56 5.44l.94 2.06.94-2.06 2.06-.94-2.06-.94-.94-2.06-.94 2.06-2.06.94zm-11 1L8.5 8.5l.94-2.06 2.06-.94-2.06-.94L8.5 2.5l-.94 2.06-2.06.94zm10 10l.94 2.06.94-2.06 2.06-.94-2.06-.94-.94-2.06-.94 2.06-2.06.94z\"/><path d=\"M17.41 7.96l-1.37-1.37c-.4-.4-.92-.59-1.43-.59-.52 0-1.04.2-1.43.59L10.3 9.45l-7.72 7.72c-.78.78-.78 2.05 0 2.83L4 21.41c.39.39.9.59 1.41.59.51 0 1.02-.2 1.41-.59l7.78-7.78 2.81-2.81c.8-.78.8-2.07 0-2.86zM5.41 20L4 18.59l7.72-7.72 1.47 1.35L5.41 20z\"/>\n",
              "  </svg>\n",
              "      </button>\n",
              "      \n",
              "  <style>\n",
              "    .colab-df-container {\n",
              "      display:flex;\n",
              "      flex-wrap:wrap;\n",
              "      gap: 12px;\n",
              "    }\n",
              "\n",
              "    .colab-df-convert {\n",
              "      background-color: #E8F0FE;\n",
              "      border: none;\n",
              "      border-radius: 50%;\n",
              "      cursor: pointer;\n",
              "      display: none;\n",
              "      fill: #1967D2;\n",
              "      height: 32px;\n",
              "      padding: 0 0 0 0;\n",
              "      width: 32px;\n",
              "    }\n",
              "\n",
              "    .colab-df-convert:hover {\n",
              "      background-color: #E2EBFA;\n",
              "      box-shadow: 0px 1px 2px rgba(60, 64, 67, 0.3), 0px 1px 3px 1px rgba(60, 64, 67, 0.15);\n",
              "      fill: #174EA6;\n",
              "    }\n",
              "\n",
              "    [theme=dark] .colab-df-convert {\n",
              "      background-color: #3B4455;\n",
              "      fill: #D2E3FC;\n",
              "    }\n",
              "\n",
              "    [theme=dark] .colab-df-convert:hover {\n",
              "      background-color: #434B5C;\n",
              "      box-shadow: 0px 1px 3px 1px rgba(0, 0, 0, 0.15);\n",
              "      filter: drop-shadow(0px 1px 2px rgba(0, 0, 0, 0.3));\n",
              "      fill: #FFFFFF;\n",
              "    }\n",
              "  </style>\n",
              "\n",
              "      <script>\n",
              "        const buttonEl =\n",
              "          document.querySelector('#df-ada5cff8-a78b-4709-9eec-63d406f88866 button.colab-df-convert');\n",
              "        buttonEl.style.display =\n",
              "          google.colab.kernel.accessAllowed ? 'block' : 'none';\n",
              "\n",
              "        async function convertToInteractive(key) {\n",
              "          const element = document.querySelector('#df-ada5cff8-a78b-4709-9eec-63d406f88866');\n",
              "          const dataTable =\n",
              "            await google.colab.kernel.invokeFunction('convertToInteractive',\n",
              "                                                     [key], {});\n",
              "          if (!dataTable) return;\n",
              "\n",
              "          const docLinkHtml = 'Like what you see? Visit the ' +\n",
              "            '<a target=\"_blank\" href=https://colab.research.google.com/notebooks/data_table.ipynb>data table notebook</a>'\n",
              "            + ' to learn more about interactive tables.';\n",
              "          element.innerHTML = '';\n",
              "          dataTable['output_type'] = 'display_data';\n",
              "          await google.colab.output.renderOutput(dataTable, element);\n",
              "          const docLink = document.createElement('div');\n",
              "          docLink.innerHTML = docLinkHtml;\n",
              "          element.appendChild(docLink);\n",
              "        }\n",
              "      </script>\n",
              "    </div>\n",
              "  </div>\n",
              "  "
            ],
            "text/plain": [
              "                                         short_question  \\\n",
              "0     bìu dương vật sưng to cứng và tinh hoàn không ...   \n",
              "1     trẻ sơ sinh vàng da vàng mắt mức độ nhẹ có đán...   \n",
              "2     bị đau mắt đỏ nhỏ thuốc mỡ chlorocinah có khỏi...   \n",
              "3     tự nhiên xuất hiện vết bầm kèm xuất huyết là b...   \n",
              "4     điều trị dứt điểm huyết khối tĩnh mạch chi như...   \n",
              "...                                                 ...   \n",
              "1011                                               none   \n",
              "1012                                               none   \n",
              "1013                                               none   \n",
              "1014                                               none   \n",
              "1015                                               none   \n",
              "\n",
              "                                          long_question  \\\n",
              "0     xin chào bác sĩ cho em hỏi bìu dương vật sưng ...   \n",
              "1     em chào bác sĩ bé gái nhà em khi sinh được 36 ...   \n",
              "2     chào dược sĩ con tôi bị đau mắt đỏ dược  sĩ ch...   \n",
              "3     chào bác sĩgần 2 tháng trở lại đây em có triệu...   \n",
              "4     chào bác sĩem bị huyết khối tĩnh mạch chi dưới...   \n",
              "...                                                 ...   \n",
              "1011  tôi có tiền sử tiểu cầu thấp plt 130000140000 ...   \n",
              "1012  tôi bị huyết áp cao phải uống thuốc hàng ngày ...   \n",
              "1013  vaccine astrazeneca tôi thấy ở nước ngoài chỉ ...   \n",
              "1014  em 33 tuổi cao 168 m nặng 90 kg bị dị ứng với ...   \n",
              "1015  tôi thỉnh thoảng bị dị ứng ngứa nổi mẩn đặc bi...   \n",
              "\n",
              "                                                 answer  \\\n",
              "0     chào em với câu hỏi bìu dương vật sưng to cứng...   \n",
              "1     chào bạn vàng da là tình trạng rất phổ biến ở ...   \n",
              "2     chào bạn với câu hỏi của bạn dược sĩ xin tư vấ...   \n",
              "3     được giải đáp bởi bác sĩ lê thị thanh hương  b...   \n",
              "4     chào bạnvới câu hỏi  bác sĩ xin được trả lời n...   \n",
              "...                                                 ...   \n",
              "1011  chào anhtình trạng tiểu cầu của anh dưới ngưỡn...   \n",
              "1012  chào anhviệc uống thuốc huyết áp duy trì hàng ...   \n",
              "1013  chào bạntheo thông tin kê toa của nhà sản xuất...   \n",
              "1014  chào anhchịtheo mô tả thì trường hợp dị ứng củ...   \n",
              "1015  chào anhtheo hướng dẫn của bộ y tế anh thuộc đ...   \n",
              "\n",
              "                                                   link  \\\n",
              "0     https://www.vinmec.com/vi/tin-tuc/hoi-dap-bac-...   \n",
              "1     https://www.vinmec.com/vi/tin-tuc/hoi-dap-bac-...   \n",
              "2     https://www.vinmec.com/vi/tin-tuc/hoi-dap-bac-...   \n",
              "3     https://www.vinmec.com/vi/tin-tuc/hoi-dap-bac-...   \n",
              "4     https://www.vinmec.com/vi/tin-tuc/hoi-dap-bac-...   \n",
              "...                                                 ...   \n",
              "1011  https://vnexpress.net/tu-van-tiem-vaccine-covi...   \n",
              "1012  https://vnexpress.net/tu-van-tiem-vaccine-covi...   \n",
              "1013  https://vnexpress.net/tu-van-tiem-vaccine-covi...   \n",
              "1014  https://vnexpress.net/tu-van-tiem-vaccine-covi...   \n",
              "1015  https://vnexpress.net/tu-van-tiem-vaccine-covi...   \n",
              "\n",
              "                                          long_tokenize  \\\n",
              "0     xin chào bác_sĩ cho em hỏi bìu dương_vật sưng ...   \n",
              "1     em chào bác_sĩ bé gái nhà em khi sinh được 36 ...   \n",
              "2     chào dược_sĩ con tôi bị đau mắt đỏ dược_sĩ cho...   \n",
              "3     chào bác sĩgần 2 tháng trở_lại đây em có triệu...   \n",
              "4     chào bác sĩem bị huyết khối tĩnh_mạch chi dưới...   \n",
              "...                                                 ...   \n",
              "1011  tôi có tiền_sử tiểu_cầu thấp plt 130000140000 ...   \n",
              "1012  tôi bị huyết_áp_cao phải uống thuốc hàng ngày ...   \n",
              "1013  vaccine astrazeneca tôi thấy ở nước_ngoài chỉ_...   \n",
              "1014  em 33 tuổi cao 168 m nặng 90 kg bị dị_ứng với ...   \n",
              "1015  tôi thỉnh_thoảng bị dị_ứng ngứa nổi mẩn đặc_bi...   \n",
              "\n",
              "                                        answer_tokenize  \n",
              "0     chào em với câu hỏi bìu dương_vật sưng to cứng...  \n",
              "1     chào bạn vàng da là tình_trạng rất phổ_biến ở ...  \n",
              "2     chào bạn với câu hỏi của bạn dược_sĩ xin tư_vấ...  \n",
              "3     được giải_đáp bởi bác_sĩ lê thị thanh hương bá...  \n",
              "4     chào bạnvới câu hỏi bác_sĩ xin được trả_lời nh...  \n",
              "...                                                 ...  \n",
              "1011  chào anhtình trạng tiểu_cầu của anh dưới ngưỡn...  \n",
              "1012  chào anhviệc uống thuốc huyết_áp duy_trì hàng ...  \n",
              "1013  chào bạntheo thông_tin kê toa của nhà sản_xuất...  \n",
              "1014  chào anhchịtheo mô_tả thì trường_hợp dị_ứng củ...  \n",
              "1015  chào anhtheo hướng_dẫn của bộ y_tế anh thuộc đ...  \n",
              "\n",
              "[1016 rows x 6 columns]"
            ]
          },
          "metadata": {},
          "execution_count": 31
        }
      ]
    },
    {
      "cell_type": "markdown",
      "source": [
        "### Write stopwords list to file"
      ],
      "metadata": {
        "id": "WPe6q1AhUbQO"
      }
    },
    {
      "cell_type": "code",
      "source": [
        "def get_stopwords(documents, threshold=3):\n",
        "    \"\"\"\n",
        "    :param documents: list of documents\n",
        "    :param threshold:\n",
        "    :return: list of words has idf <= threshold\n",
        "    \"\"\"\n",
        "    tfidf = TfidfVectorizer(min_df=5)\n",
        "    tfidf_matrix = tfidf.fit_transform(documents)\n",
        "    features = tfidf.get_feature_names()\n",
        "    stopwords = []\n",
        "    print(min(tfidf.idf_), max(tfidf.idf_), len(features))\n",
        "    for index, feature in enumerate(features):\n",
        "        if tfidf.idf_[index] <= threshold:\n",
        "            stopwords.append(feature)\n",
        "    return stopwords"
      ],
      "metadata": {
        "id": "5Wd-zFiNcMjz"
      },
      "execution_count": 32,
      "outputs": []
    },
    {
      "cell_type": "code",
      "source": [
        "# from sklearn.feature_extraction.text import TfidfVectorizer\n",
        "# from nltk.corpus import stopwords\n",
        "\n",
        "# stopwords = get_stopwords(df_train[\"long_tokenize\"], threshold=3)\n",
        "# stopwords = stopwords + get_stopwords(df_train[\"long_question\"], threshold=3)\n",
        "# stopwords = stopwords + get_stopwords(df_train[\"answer\"], threshold=3)\n",
        "# with open('stopwords.txt', 'w', encoding='utf8') as fp:\n",
        "#     for word in stopwords:\n",
        "#         fp.write(word + '\\n')"
      ],
      "metadata": {
        "id": "0wo00joRC53J"
      },
      "execution_count": 33,
      "outputs": []
    },
    {
      "cell_type": "markdown",
      "source": [
        "### Read stopword file"
      ],
      "metadata": {
        "id": "5ssRoCQlUoEg"
      }
    },
    {
      "cell_type": "code",
      "source": [
        "for i in range(len(df_train[\"long_tokenize\"])):\n",
        "  try:\n",
        "    df_train[\"long_tokenize\"][i] = df_train[\"long_tokenize\"][i].split(\" \")\n",
        "  except:\n",
        "    print('ok')\n",
        "for i in range(len(df_train[\"answer_tokenize\"])):\n",
        "  try:\n",
        "    df_train[\"answer_tokenize\"][i] = df_train[\"answer_tokenize\"][i].split(\" \")\n",
        "  except:\n",
        "    print('ok')"
      ],
      "metadata": {
        "id": "3YVlMKwqFAPf"
      },
      "execution_count": 34,
      "outputs": []
    },
    {
      "cell_type": "code",
      "source": [
        "with open('/content/drive/MyDrive/QA_KLTN/Dataset/stopwords.txt') as f:\n",
        "    lines = f.readlines()\n"
      ],
      "metadata": {
        "id": "dh8t5RgqJd14"
      },
      "execution_count": 35,
      "outputs": []
    },
    {
      "cell_type": "code",
      "source": [
        "for i in range(len(lines)):\n",
        "  lines[i] = (lines[i].rstrip(\"\\n\"))"
      ],
      "metadata": {
        "id": "Yqqq2LZfUAOE"
      },
      "execution_count": 36,
      "outputs": []
    },
    {
      "cell_type": "code",
      "source": [
        "len(lines)"
      ],
      "metadata": {
        "colab": {
          "base_uri": "https://localhost:8080/"
        },
        "id": "rISjDRYkcjAv",
        "outputId": "b4a34207-d28a-43fc-b69e-a28bb7613d40"
      },
      "execution_count": 37,
      "outputs": [
        {
          "output_type": "execute_result",
          "data": {
            "text/plain": [
              "315"
            ]
          },
          "metadata": {},
          "execution_count": 37
        }
      ]
    },
    {
      "cell_type": "markdown",
      "source": [
        "### Remove stopwords"
      ],
      "metadata": {
        "id": "4uxBzCkQU7KI"
      }
    },
    {
      "cell_type": "code",
      "source": [
        "import re\n",
        "long_tokenize = ''\n",
        "answer_tokenize = ''\n",
        "for i in range(len(df_train[\"long_tokenize\"])):\n",
        "  try:\n",
        "    for word in df_train[\"long_tokenize\"][i]:\n",
        "      #remove stopword\n",
        "      if (word in lines):\n",
        "        long_tokenize = [word for word in df_train[\"long_tokenize\"][i] if word not in lines]\n",
        "    df_train[\"long_tokenize\"][i] = long_tokenize\n",
        "  except: \n",
        "    print('err')\n",
        "for i in range(len(df_train[\"answer_tokenize\"])):\n",
        "  try:\n",
        "    for word in df_train[\"answer_tokenize\"][i]:\n",
        "      #remove stopword\n",
        "      if (word in lines):\n",
        "        answer_tokenize = [word for word in df_train[\"answer_tokenize\"][i] if word not in lines]  \n",
        "    df_train[\"answer_tokenize\"][i] = answer_tokenize \n",
        "  except: \n",
        "    print('err')"
      ],
      "metadata": {
        "id": "TiG_GCFzOEAA"
      },
      "execution_count": 38,
      "outputs": []
    },
    {
      "cell_type": "code",
      "source": [
        "lines"
      ],
      "metadata": {
        "id": "ZdEDnqFQYPZv"
      },
      "execution_count": null,
      "outputs": []
    },
    {
      "cell_type": "code",
      "source": [
        "df_train.tail()"
      ],
      "metadata": {
        "colab": {
          "base_uri": "https://localhost:8080/",
          "height": 424
        },
        "id": "09FSEnq10NFR",
        "outputId": "93cfbdf1-5ee0-43f3-e649-da31083aa4fa"
      },
      "execution_count": 40,
      "outputs": [
        {
          "output_type": "execute_result",
          "data": {
            "text/html": [
              "\n",
              "  <div id=\"df-e2b01c59-075b-40c2-987f-22ec436ff09c\">\n",
              "    <div class=\"colab-df-container\">\n",
              "      <div>\n",
              "<style scoped>\n",
              "    .dataframe tbody tr th:only-of-type {\n",
              "        vertical-align: middle;\n",
              "    }\n",
              "\n",
              "    .dataframe tbody tr th {\n",
              "        vertical-align: top;\n",
              "    }\n",
              "\n",
              "    .dataframe thead th {\n",
              "        text-align: right;\n",
              "    }\n",
              "</style>\n",
              "<table border=\"1\" class=\"dataframe\">\n",
              "  <thead>\n",
              "    <tr style=\"text-align: right;\">\n",
              "      <th></th>\n",
              "      <th>short_question</th>\n",
              "      <th>long_question</th>\n",
              "      <th>answer</th>\n",
              "      <th>link</th>\n",
              "      <th>long_tokenize</th>\n",
              "      <th>answer_tokenize</th>\n",
              "    </tr>\n",
              "  </thead>\n",
              "  <tbody>\n",
              "    <tr>\n",
              "      <th>1011</th>\n",
              "      <td>none</td>\n",
              "      <td>tôi có tiền sử tiểu cầu thấp plt 130000140000 ...</td>\n",
              "      <td>chào anhtình trạng tiểu cầu của anh dưới ngưỡn...</td>\n",
              "      <td>https://vnexpress.net/tu-van-tiem-vaccine-covi...</td>\n",
              "      <td>[tiền_sử, tiểu_cầu, thấp, plt, 130000140000, c...</td>\n",
              "      <td>[anhtình, tiểu_cầu, anh, dưới, ngưỡng, 150, mứ...</td>\n",
              "    </tr>\n",
              "    <tr>\n",
              "      <th>1012</th>\n",
              "      <td>none</td>\n",
              "      <td>tôi bị huyết áp cao phải uống thuốc hàng ngày ...</td>\n",
              "      <td>chào anhviệc uống thuốc huyết áp duy trì hàng ...</td>\n",
              "      <td>https://vnexpress.net/tu-van-tiem-vaccine-covi...</td>\n",
              "      <td>[huyết_áp_cao]</td>\n",
              "      <td>[anhviệc, huyết_áp, duy_trì, cần_thiết, bệnh_l...</td>\n",
              "    </tr>\n",
              "    <tr>\n",
              "      <th>1013</th>\n",
              "      <td>none</td>\n",
              "      <td>vaccine astrazeneca tôi thấy ở nước ngoài chỉ ...</td>\n",
              "      <td>chào bạntheo thông tin kê toa của nhà sản xuất...</td>\n",
              "      <td>https://vnexpress.net/tu-van-tiem-vaccine-covi...</td>\n",
              "      <td>[astrazeneca, ở, nước_ngoài, chỉ_định, chích, ...</td>\n",
              "      <td>[bạntheo, thông_tin, kê, toa, nhà, sản_xuất, h...</td>\n",
              "    </tr>\n",
              "    <tr>\n",
              "      <th>1014</th>\n",
              "      <td>none</td>\n",
              "      <td>em 33 tuổi cao 168 m nặng 90 kg bị dị ứng với ...</td>\n",
              "      <td>chào anhchịtheo mô tả thì trường hợp dị ứng củ...</td>\n",
              "      <td>https://vnexpress.net/tu-van-tiem-vaccine-covi...</td>\n",
              "      <td>[33, cao, 168, m, nặng, 90, kg, dị_ứng, con, h...</td>\n",
              "      <td>[anhchịtheo, mô_tả, trường_hợp, dị_ứng, anhchị...</td>\n",
              "    </tr>\n",
              "    <tr>\n",
              "      <th>1015</th>\n",
              "      <td>none</td>\n",
              "      <td>tôi thỉnh thoảng bị dị ứng ngứa nổi mẩn đặc bi...</td>\n",
              "      <td>chào anhtheo hướng dẫn của bộ y tế anh thuộc đ...</td>\n",
              "      <td>https://vnexpress.net/tu-van-tiem-vaccine-covi...</td>\n",
              "      <td>[thỉnh_thoảng, dị_ứng, ngứa, nổi, mẩn, đặc_biệ...</td>\n",
              "      <td>[anhtheo, hướng_dẫn, y_tế, anh, đối_tượng, cẩn...</td>\n",
              "    </tr>\n",
              "  </tbody>\n",
              "</table>\n",
              "</div>\n",
              "      <button class=\"colab-df-convert\" onclick=\"convertToInteractive('df-e2b01c59-075b-40c2-987f-22ec436ff09c')\"\n",
              "              title=\"Convert this dataframe to an interactive table.\"\n",
              "              style=\"display:none;\">\n",
              "        \n",
              "  <svg xmlns=\"http://www.w3.org/2000/svg\" height=\"24px\"viewBox=\"0 0 24 24\"\n",
              "       width=\"24px\">\n",
              "    <path d=\"M0 0h24v24H0V0z\" fill=\"none\"/>\n",
              "    <path d=\"M18.56 5.44l.94 2.06.94-2.06 2.06-.94-2.06-.94-.94-2.06-.94 2.06-2.06.94zm-11 1L8.5 8.5l.94-2.06 2.06-.94-2.06-.94L8.5 2.5l-.94 2.06-2.06.94zm10 10l.94 2.06.94-2.06 2.06-.94-2.06-.94-.94-2.06-.94 2.06-2.06.94z\"/><path d=\"M17.41 7.96l-1.37-1.37c-.4-.4-.92-.59-1.43-.59-.52 0-1.04.2-1.43.59L10.3 9.45l-7.72 7.72c-.78.78-.78 2.05 0 2.83L4 21.41c.39.39.9.59 1.41.59.51 0 1.02-.2 1.41-.59l7.78-7.78 2.81-2.81c.8-.78.8-2.07 0-2.86zM5.41 20L4 18.59l7.72-7.72 1.47 1.35L5.41 20z\"/>\n",
              "  </svg>\n",
              "      </button>\n",
              "      \n",
              "  <style>\n",
              "    .colab-df-container {\n",
              "      display:flex;\n",
              "      flex-wrap:wrap;\n",
              "      gap: 12px;\n",
              "    }\n",
              "\n",
              "    .colab-df-convert {\n",
              "      background-color: #E8F0FE;\n",
              "      border: none;\n",
              "      border-radius: 50%;\n",
              "      cursor: pointer;\n",
              "      display: none;\n",
              "      fill: #1967D2;\n",
              "      height: 32px;\n",
              "      padding: 0 0 0 0;\n",
              "      width: 32px;\n",
              "    }\n",
              "\n",
              "    .colab-df-convert:hover {\n",
              "      background-color: #E2EBFA;\n",
              "      box-shadow: 0px 1px 2px rgba(60, 64, 67, 0.3), 0px 1px 3px 1px rgba(60, 64, 67, 0.15);\n",
              "      fill: #174EA6;\n",
              "    }\n",
              "\n",
              "    [theme=dark] .colab-df-convert {\n",
              "      background-color: #3B4455;\n",
              "      fill: #D2E3FC;\n",
              "    }\n",
              "\n",
              "    [theme=dark] .colab-df-convert:hover {\n",
              "      background-color: #434B5C;\n",
              "      box-shadow: 0px 1px 3px 1px rgba(0, 0, 0, 0.15);\n",
              "      filter: drop-shadow(0px 1px 2px rgba(0, 0, 0, 0.3));\n",
              "      fill: #FFFFFF;\n",
              "    }\n",
              "  </style>\n",
              "\n",
              "      <script>\n",
              "        const buttonEl =\n",
              "          document.querySelector('#df-e2b01c59-075b-40c2-987f-22ec436ff09c button.colab-df-convert');\n",
              "        buttonEl.style.display =\n",
              "          google.colab.kernel.accessAllowed ? 'block' : 'none';\n",
              "\n",
              "        async function convertToInteractive(key) {\n",
              "          const element = document.querySelector('#df-e2b01c59-075b-40c2-987f-22ec436ff09c');\n",
              "          const dataTable =\n",
              "            await google.colab.kernel.invokeFunction('convertToInteractive',\n",
              "                                                     [key], {});\n",
              "          if (!dataTable) return;\n",
              "\n",
              "          const docLinkHtml = 'Like what you see? Visit the ' +\n",
              "            '<a target=\"_blank\" href=https://colab.research.google.com/notebooks/data_table.ipynb>data table notebook</a>'\n",
              "            + ' to learn more about interactive tables.';\n",
              "          element.innerHTML = '';\n",
              "          dataTable['output_type'] = 'display_data';\n",
              "          await google.colab.output.renderOutput(dataTable, element);\n",
              "          const docLink = document.createElement('div');\n",
              "          docLink.innerHTML = docLinkHtml;\n",
              "          element.appendChild(docLink);\n",
              "        }\n",
              "      </script>\n",
              "    </div>\n",
              "  </div>\n",
              "  "
            ],
            "text/plain": [
              "     short_question                                      long_question  \\\n",
              "1011           none  tôi có tiền sử tiểu cầu thấp plt 130000140000 ...   \n",
              "1012           none  tôi bị huyết áp cao phải uống thuốc hàng ngày ...   \n",
              "1013           none  vaccine astrazeneca tôi thấy ở nước ngoài chỉ ...   \n",
              "1014           none  em 33 tuổi cao 168 m nặng 90 kg bị dị ứng với ...   \n",
              "1015           none  tôi thỉnh thoảng bị dị ứng ngứa nổi mẩn đặc bi...   \n",
              "\n",
              "                                                 answer  \\\n",
              "1011  chào anhtình trạng tiểu cầu của anh dưới ngưỡn...   \n",
              "1012  chào anhviệc uống thuốc huyết áp duy trì hàng ...   \n",
              "1013  chào bạntheo thông tin kê toa của nhà sản xuất...   \n",
              "1014  chào anhchịtheo mô tả thì trường hợp dị ứng củ...   \n",
              "1015  chào anhtheo hướng dẫn của bộ y tế anh thuộc đ...   \n",
              "\n",
              "                                                   link  \\\n",
              "1011  https://vnexpress.net/tu-van-tiem-vaccine-covi...   \n",
              "1012  https://vnexpress.net/tu-van-tiem-vaccine-covi...   \n",
              "1013  https://vnexpress.net/tu-van-tiem-vaccine-covi...   \n",
              "1014  https://vnexpress.net/tu-van-tiem-vaccine-covi...   \n",
              "1015  https://vnexpress.net/tu-van-tiem-vaccine-covi...   \n",
              "\n",
              "                                          long_tokenize  \\\n",
              "1011  [tiền_sử, tiểu_cầu, thấp, plt, 130000140000, c...   \n",
              "1012                                     [huyết_áp_cao]   \n",
              "1013  [astrazeneca, ở, nước_ngoài, chỉ_định, chích, ...   \n",
              "1014  [33, cao, 168, m, nặng, 90, kg, dị_ứng, con, h...   \n",
              "1015  [thỉnh_thoảng, dị_ứng, ngứa, nổi, mẩn, đặc_biệ...   \n",
              "\n",
              "                                        answer_tokenize  \n",
              "1011  [anhtình, tiểu_cầu, anh, dưới, ngưỡng, 150, mứ...  \n",
              "1012  [anhviệc, huyết_áp, duy_trì, cần_thiết, bệnh_l...  \n",
              "1013  [bạntheo, thông_tin, kê, toa, nhà, sản_xuất, h...  \n",
              "1014  [anhchịtheo, mô_tả, trường_hợp, dị_ứng, anhchị...  \n",
              "1015  [anhtheo, hướng_dẫn, y_tế, anh, đối_tượng, cẩn...  "
            ]
          },
          "metadata": {},
          "execution_count": 40
        }
      ]
    },
    {
      "cell_type": "code",
      "source": [
        "# df_train.to_csv(r'/content/drive/MyDrive/QA_KLTN/Dataset/Data_preprocess/Preprocessed data/Preprocessed_val.csv', index=False, header=True)\n"
      ],
      "metadata": {
        "id": "NPueTemSf2tk"
      },
      "execution_count": 41,
      "outputs": []
    },
    {
      "cell_type": "markdown",
      "source": [
        "# Data visualization"
      ],
      "metadata": {
        "id": "AdKW_Agy0QiT"
      }
    },
    {
      "cell_type": "markdown",
      "source": [
        "### Word_cloudcloud"
      ],
      "metadata": {
        "id": "S4Tr_jOTUTIk"
      }
    },
    {
      "cell_type": "code",
      "source": [
        "# Start with one review:\n",
        "from wordcloud import WordCloud \n",
        "\n",
        "text = df_train.long_question\t\n",
        "\n",
        "# Create and generate a word cloud image:\n",
        "wordcloud = WordCloud().generate(str(text))\n",
        "\n",
        "# Display the generated image:\n",
        "plt.imshow(wordcloud, interpolation='bilinear')\n",
        "plt.axis(\"off\")\n",
        "plt.show()"
      ],
      "metadata": {
        "colab": {
          "base_uri": "https://localhost:8080/",
          "height": 198
        },
        "id": "19gQX-VP_Y8q",
        "outputId": "d67ee87d-8f57-46cb-c19b-e0a870bc0e0c"
      },
      "execution_count": 42,
      "outputs": [
        {
          "output_type": "display_data",
          "data": {
            "image/png": "[encoded data removed]",
            "text/plain": [
              "<Figure size 432x288 with 1 Axes>"
            ]
          },
          "metadata": {
            "needs_background": "light"
          }
        }
      ]
    },
    {
      "cell_type": "markdown",
      "source": [
        "Word_cloud after removing stopwords"
      ],
      "metadata": {
        "id": "EUOmxmiPVAx6"
      }
    },
    {
      "cell_type": "code",
      "source": [
        "from wordcloud import WordCloud \n",
        "\n",
        "# Start with one review:\n",
        "text = df_train.long_tokenize\n",
        "\n",
        "# Create and generate a word cloud image:\n",
        "wordcloud = WordCloud().generate(str(text))\n",
        "\n",
        "# Display the generated image:\n",
        "plt.imshow(wordcloud, interpolation='bilinear')\n",
        "plt.axis(\"off\")\n",
        "plt.show()"
      ],
      "metadata": {
        "colab": {
          "base_uri": "https://localhost:8080/",
          "height": 198
        },
        "id": "N5CT3ZdgOQM2",
        "outputId": "b6b7dab2-36e0-4f8f-e224-94268259835b"
      },
      "execution_count": 43,
      "outputs": [
        {
          "output_type": "display_data",
          "data": {
            "image/png": "[encoded data removed]",
            "text/plain": [
              "<Figure size 432x288 with 1 Axes>"
            ]
          },
          "metadata": {
            "needs_background": "light"
          }
        }
      ]
    },
    {
      "cell_type": "markdown",
      "source": [
        "# Models"
      ],
      "metadata": {
        "id": "Xx4YvoF51b0P"
      }
    },
    {
      "cell_type": "code",
      "source": [
        "df_train"
      ],
      "metadata": {
        "colab": {
          "base_uri": "https://localhost:8080/",
          "height": 814
        },
        "id": "Ur5cvmkv2atg",
        "outputId": "7cf4180c-e630-4d58-f26d-eb5b6f277829"
      },
      "execution_count": 44,
      "outputs": [
        {
          "output_type": "execute_result",
          "data": {
            "text/html": [
              "\n",
              "  <div id=\"df-5b75f4a8-5b6a-4219-a2e1-34dc82a64376\">\n",
              "    <div class=\"colab-df-container\">\n",
              "      <div>\n",
              "<style scoped>\n",
              "    .dataframe tbody tr th:only-of-type {\n",
              "        vertical-align: middle;\n",
              "    }\n",
              "\n",
              "    .dataframe tbody tr th {\n",
              "        vertical-align: top;\n",
              "    }\n",
              "\n",
              "    .dataframe thead th {\n",
              "        text-align: right;\n",
              "    }\n",
              "</style>\n",
              "<table border=\"1\" class=\"dataframe\">\n",
              "  <thead>\n",
              "    <tr style=\"text-align: right;\">\n",
              "      <th></th>\n",
              "      <th>short_question</th>\n",
              "      <th>long_question</th>\n",
              "      <th>answer</th>\n",
              "      <th>link</th>\n",
              "      <th>long_tokenize</th>\n",
              "      <th>answer_tokenize</th>\n",
              "    </tr>\n",
              "  </thead>\n",
              "  <tbody>\n",
              "    <tr>\n",
              "      <th>0</th>\n",
              "      <td>bìu dương vật sưng to cứng và tinh hoàn không ...</td>\n",
              "      <td>xin chào bác sĩ cho em hỏi bìu dương vật sưng ...</td>\n",
              "      <td>chào em với câu hỏi bìu dương vật sưng to cứng...</td>\n",
              "      <td>https://www.vinmec.com/vi/tin-tuc/hoi-dap-bac-...</td>\n",
              "      <td>[bìu, dương_vật, sưng, to, cứng, tinh_hoàn, câ...</td>\n",
              "      <td>[bìu, dương_vật, sưng, to, cứng, tinh_hoàn, câ...</td>\n",
              "    </tr>\n",
              "    <tr>\n",
              "      <th>1</th>\n",
              "      <td>trẻ sơ sinh vàng da vàng mắt mức độ nhẹ có đán...</td>\n",
              "      <td>em chào bác sĩ bé gái nhà em khi sinh được 36 ...</td>\n",
              "      <td>chào bạn vàng da là tình trạng rất phổ biến ở ...</td>\n",
              "      <td>https://www.vinmec.com/vi/tin-tuc/hoi-dap-bac-...</td>\n",
              "      <td>[bé, gái, nhà, 36, tuần, 2, bình_thường, thứ, ...</td>\n",
              "      <td>[vàng, da, tình_trạng, phổ_biến, ở, trẻ, sơ_si...</td>\n",
              "    </tr>\n",
              "    <tr>\n",
              "      <th>2</th>\n",
              "      <td>bị đau mắt đỏ nhỏ thuốc mỡ chlorocinah có khỏi...</td>\n",
              "      <td>chào dược sĩ con tôi bị đau mắt đỏ dược  sĩ ch...</td>\n",
              "      <td>chào bạn với câu hỏi của bạn dược sĩ xin tư vấ...</td>\n",
              "      <td>https://www.vinmec.com/vi/tin-tuc/hoi-dap-bac-...</td>\n",
              "      <td>[dược_sĩ, con, mắt, đỏ, dược_sĩ, mắt, đỏ, nhỏ,...</td>\n",
              "      <td>[dược_sĩ, sauthuốc, mỡ, mắt, chlorocinah, chứa...</td>\n",
              "    </tr>\n",
              "    <tr>\n",
              "      <th>3</th>\n",
              "      <td>tự nhiên xuất hiện vết bầm kèm xuất huyết là b...</td>\n",
              "      <td>chào bác sĩgần 2 tháng trở lại đây em có triệu...</td>\n",
              "      <td>được giải đáp bởi bác sĩ lê thị thanh hương  b...</td>\n",
              "      <td>https://www.vinmec.com/vi/tin-tuc/hoi-dap-bac-...</td>\n",
              "      <td>[sĩgần, 2, trở_lại, đây, triệu_chứng, ngứa, da...</td>\n",
              "      <td>[giải_đáp, lê, thanh, hương, hồi_sức, cấp_cứu,...</td>\n",
              "    </tr>\n",
              "    <tr>\n",
              "      <th>4</th>\n",
              "      <td>điều trị dứt điểm huyết khối tĩnh mạch chi như...</td>\n",
              "      <td>chào bác sĩem bị huyết khối tĩnh mạch chi dưới...</td>\n",
              "      <td>chào bạnvới câu hỏi  bác sĩ xin được trả lời n...</td>\n",
              "      <td>https://www.vinmec.com/vi/tin-tuc/hoi-dap-bac-...</td>\n",
              "      <td>[sĩem, huyết, khối, tĩnh_mạch, chi, dưới, bên,...</td>\n",
              "      <td>[trả_lời, saubạn, trẻ, huyết, khối, tĩnh_mạch,...</td>\n",
              "    </tr>\n",
              "    <tr>\n",
              "      <th>...</th>\n",
              "      <td>...</td>\n",
              "      <td>...</td>\n",
              "      <td>...</td>\n",
              "      <td>...</td>\n",
              "      <td>...</td>\n",
              "      <td>...</td>\n",
              "    </tr>\n",
              "    <tr>\n",
              "      <th>1011</th>\n",
              "      <td>none</td>\n",
              "      <td>tôi có tiền sử tiểu cầu thấp plt 130000140000 ...</td>\n",
              "      <td>chào anhtình trạng tiểu cầu của anh dưới ngưỡn...</td>\n",
              "      <td>https://vnexpress.net/tu-van-tiem-vaccine-covi...</td>\n",
              "      <td>[tiền_sử, tiểu_cầu, thấp, plt, 130000140000, c...</td>\n",
              "      <td>[anhtình, tiểu_cầu, anh, dưới, ngưỡng, 150, mứ...</td>\n",
              "    </tr>\n",
              "    <tr>\n",
              "      <th>1012</th>\n",
              "      <td>none</td>\n",
              "      <td>tôi bị huyết áp cao phải uống thuốc hàng ngày ...</td>\n",
              "      <td>chào anhviệc uống thuốc huyết áp duy trì hàng ...</td>\n",
              "      <td>https://vnexpress.net/tu-van-tiem-vaccine-covi...</td>\n",
              "      <td>[huyết_áp_cao]</td>\n",
              "      <td>[anhviệc, huyết_áp, duy_trì, cần_thiết, bệnh_l...</td>\n",
              "    </tr>\n",
              "    <tr>\n",
              "      <th>1013</th>\n",
              "      <td>none</td>\n",
              "      <td>vaccine astrazeneca tôi thấy ở nước ngoài chỉ ...</td>\n",
              "      <td>chào bạntheo thông tin kê toa của nhà sản xuất...</td>\n",
              "      <td>https://vnexpress.net/tu-van-tiem-vaccine-covi...</td>\n",
              "      <td>[astrazeneca, ở, nước_ngoài, chỉ_định, chích, ...</td>\n",
              "      <td>[bạntheo, thông_tin, kê, toa, nhà, sản_xuất, h...</td>\n",
              "    </tr>\n",
              "    <tr>\n",
              "      <th>1014</th>\n",
              "      <td>none</td>\n",
              "      <td>em 33 tuổi cao 168 m nặng 90 kg bị dị ứng với ...</td>\n",
              "      <td>chào anhchịtheo mô tả thì trường hợp dị ứng củ...</td>\n",
              "      <td>https://vnexpress.net/tu-van-tiem-vaccine-covi...</td>\n",
              "      <td>[33, cao, 168, m, nặng, 90, kg, dị_ứng, con, h...</td>\n",
              "      <td>[anhchịtheo, mô_tả, trường_hợp, dị_ứng, anhchị...</td>\n",
              "    </tr>\n",
              "    <tr>\n",
              "      <th>1015</th>\n",
              "      <td>none</td>\n",
              "      <td>tôi thỉnh thoảng bị dị ứng ngứa nổi mẩn đặc bi...</td>\n",
              "      <td>chào anhtheo hướng dẫn của bộ y tế anh thuộc đ...</td>\n",
              "      <td>https://vnexpress.net/tu-van-tiem-vaccine-covi...</td>\n",
              "      <td>[thỉnh_thoảng, dị_ứng, ngứa, nổi, mẩn, đặc_biệ...</td>\n",
              "      <td>[anhtheo, hướng_dẫn, y_tế, anh, đối_tượng, cẩn...</td>\n",
              "    </tr>\n",
              "  </tbody>\n",
              "</table>\n",
              "<p>1016 rows × 6 columns</p>\n",
              "</div>\n",
              "      <button class=\"colab-df-convert\" onclick=\"convertToInteractive('df-5b75f4a8-5b6a-4219-a2e1-34dc82a64376')\"\n",
              "              title=\"Convert this dataframe to an interactive table.\"\n",
              "              style=\"display:none;\">\n",
              "        \n",
              "  <svg xmlns=\"http://www.w3.org/2000/svg\" height=\"24px\"viewBox=\"0 0 24 24\"\n",
              "       width=\"24px\">\n",
              "    <path d=\"M0 0h24v24H0V0z\" fill=\"none\"/>\n",
              "    <path d=\"M18.56 5.44l.94 2.06.94-2.06 2.06-.94-2.06-.94-.94-2.06-.94 2.06-2.06.94zm-11 1L8.5 8.5l.94-2.06 2.06-.94-2.06-.94L8.5 2.5l-.94 2.06-2.06.94zm10 10l.94 2.06.94-2.06 2.06-.94-2.06-.94-.94-2.06-.94 2.06-2.06.94z\"/><path d=\"M17.41 7.96l-1.37-1.37c-.4-.4-.92-.59-1.43-.59-.52 0-1.04.2-1.43.59L10.3 9.45l-7.72 7.72c-.78.78-.78 2.05 0 2.83L4 21.41c.39.39.9.59 1.41.59.51 0 1.02-.2 1.41-.59l7.78-7.78 2.81-2.81c.8-.78.8-2.07 0-2.86zM5.41 20L4 18.59l7.72-7.72 1.47 1.35L5.41 20z\"/>\n",
              "  </svg>\n",
              "      </button>\n",
              "      \n",
              "  <style>\n",
              "    .colab-df-container {\n",
              "      display:flex;\n",
              "      flex-wrap:wrap;\n",
              "      gap: 12px;\n",
              "    }\n",
              "\n",
              "    .colab-df-convert {\n",
              "      background-color: #E8F0FE;\n",
              "      border: none;\n",
              "      border-radius: 50%;\n",
              "      cursor: pointer;\n",
              "      display: none;\n",
              "      fill: #1967D2;\n",
              "      height: 32px;\n",
              "      padding: 0 0 0 0;\n",
              "      width: 32px;\n",
              "    }\n",
              "\n",
              "    .colab-df-convert:hover {\n",
              "      background-color: #E2EBFA;\n",
              "      box-shadow: 0px 1px 2px rgba(60, 64, 67, 0.3), 0px 1px 3px 1px rgba(60, 64, 67, 0.15);\n",
              "      fill: #174EA6;\n",
              "    }\n",
              "\n",
              "    [theme=dark] .colab-df-convert {\n",
              "      background-color: #3B4455;\n",
              "      fill: #D2E3FC;\n",
              "    }\n",
              "\n",
              "    [theme=dark] .colab-df-convert:hover {\n",
              "      background-color: #434B5C;\n",
              "      box-shadow: 0px 1px 3px 1px rgba(0, 0, 0, 0.15);\n",
              "      filter: drop-shadow(0px 1px 2px rgba(0, 0, 0, 0.3));\n",
              "      fill: #FFFFFF;\n",
              "    }\n",
              "  </style>\n",
              "\n",
              "      <script>\n",
              "        const buttonEl =\n",
              "          document.querySelector('#df-5b75f4a8-5b6a-4219-a2e1-34dc82a64376 button.colab-df-convert');\n",
              "        buttonEl.style.display =\n",
              "          google.colab.kernel.accessAllowed ? 'block' : 'none';\n",
              "\n",
              "        async function convertToInteractive(key) {\n",
              "          const element = document.querySelector('#df-5b75f4a8-5b6a-4219-a2e1-34dc82a64376');\n",
              "          const dataTable =\n",
              "            await google.colab.kernel.invokeFunction('convertToInteractive',\n",
              "                                                     [key], {});\n",
              "          if (!dataTable) return;\n",
              "\n",
              "          const docLinkHtml = 'Like what you see? Visit the ' +\n",
              "            '<a target=\"_blank\" href=https://colab.research.google.com/notebooks/data_table.ipynb>data table notebook</a>'\n",
              "            + ' to learn more about interactive tables.';\n",
              "          element.innerHTML = '';\n",
              "          dataTable['output_type'] = 'display_data';\n",
              "          await google.colab.output.renderOutput(dataTable, element);\n",
              "          const docLink = document.createElement('div');\n",
              "          docLink.innerHTML = docLinkHtml;\n",
              "          element.appendChild(docLink);\n",
              "        }\n",
              "      </script>\n",
              "    </div>\n",
              "  </div>\n",
              "  "
            ],
            "text/plain": [
              "                                         short_question  \\\n",
              "0     bìu dương vật sưng to cứng và tinh hoàn không ...   \n",
              "1     trẻ sơ sinh vàng da vàng mắt mức độ nhẹ có đán...   \n",
              "2     bị đau mắt đỏ nhỏ thuốc mỡ chlorocinah có khỏi...   \n",
              "3     tự nhiên xuất hiện vết bầm kèm xuất huyết là b...   \n",
              "4     điều trị dứt điểm huyết khối tĩnh mạch chi như...   \n",
              "...                                                 ...   \n",
              "1011                                               none   \n",
              "1012                                               none   \n",
              "1013                                               none   \n",
              "1014                                               none   \n",
              "1015                                               none   \n",
              "\n",
              "                                          long_question  \\\n",
              "0     xin chào bác sĩ cho em hỏi bìu dương vật sưng ...   \n",
              "1     em chào bác sĩ bé gái nhà em khi sinh được 36 ...   \n",
              "2     chào dược sĩ con tôi bị đau mắt đỏ dược  sĩ ch...   \n",
              "3     chào bác sĩgần 2 tháng trở lại đây em có triệu...   \n",
              "4     chào bác sĩem bị huyết khối tĩnh mạch chi dưới...   \n",
              "...                                                 ...   \n",
              "1011  tôi có tiền sử tiểu cầu thấp plt 130000140000 ...   \n",
              "1012  tôi bị huyết áp cao phải uống thuốc hàng ngày ...   \n",
              "1013  vaccine astrazeneca tôi thấy ở nước ngoài chỉ ...   \n",
              "1014  em 33 tuổi cao 168 m nặng 90 kg bị dị ứng với ...   \n",
              "1015  tôi thỉnh thoảng bị dị ứng ngứa nổi mẩn đặc bi...   \n",
              "\n",
              "                                                 answer  \\\n",
              "0     chào em với câu hỏi bìu dương vật sưng to cứng...   \n",
              "1     chào bạn vàng da là tình trạng rất phổ biến ở ...   \n",
              "2     chào bạn với câu hỏi của bạn dược sĩ xin tư vấ...   \n",
              "3     được giải đáp bởi bác sĩ lê thị thanh hương  b...   \n",
              "4     chào bạnvới câu hỏi  bác sĩ xin được trả lời n...   \n",
              "...                                                 ...   \n",
              "1011  chào anhtình trạng tiểu cầu của anh dưới ngưỡn...   \n",
              "1012  chào anhviệc uống thuốc huyết áp duy trì hàng ...   \n",
              "1013  chào bạntheo thông tin kê toa của nhà sản xuất...   \n",
              "1014  chào anhchịtheo mô tả thì trường hợp dị ứng củ...   \n",
              "1015  chào anhtheo hướng dẫn của bộ y tế anh thuộc đ...   \n",
              "\n",
              "                                                   link  \\\n",
              "0     https://www.vinmec.com/vi/tin-tuc/hoi-dap-bac-...   \n",
              "1     https://www.vinmec.com/vi/tin-tuc/hoi-dap-bac-...   \n",
              "2     https://www.vinmec.com/vi/tin-tuc/hoi-dap-bac-...   \n",
              "3     https://www.vinmec.com/vi/tin-tuc/hoi-dap-bac-...   \n",
              "4     https://www.vinmec.com/vi/tin-tuc/hoi-dap-bac-...   \n",
              "...                                                 ...   \n",
              "1011  https://vnexpress.net/tu-van-tiem-vaccine-covi...   \n",
              "1012  https://vnexpress.net/tu-van-tiem-vaccine-covi...   \n",
              "1013  https://vnexpress.net/tu-van-tiem-vaccine-covi...   \n",
              "1014  https://vnexpress.net/tu-van-tiem-vaccine-covi...   \n",
              "1015  https://vnexpress.net/tu-van-tiem-vaccine-covi...   \n",
              "\n",
              "                                          long_tokenize  \\\n",
              "0     [bìu, dương_vật, sưng, to, cứng, tinh_hoàn, câ...   \n",
              "1     [bé, gái, nhà, 36, tuần, 2, bình_thường, thứ, ...   \n",
              "2     [dược_sĩ, con, mắt, đỏ, dược_sĩ, mắt, đỏ, nhỏ,...   \n",
              "3     [sĩgần, 2, trở_lại, đây, triệu_chứng, ngứa, da...   \n",
              "4     [sĩem, huyết, khối, tĩnh_mạch, chi, dưới, bên,...   \n",
              "...                                                 ...   \n",
              "1011  [tiền_sử, tiểu_cầu, thấp, plt, 130000140000, c...   \n",
              "1012                                     [huyết_áp_cao]   \n",
              "1013  [astrazeneca, ở, nước_ngoài, chỉ_định, chích, ...   \n",
              "1014  [33, cao, 168, m, nặng, 90, kg, dị_ứng, con, h...   \n",
              "1015  [thỉnh_thoảng, dị_ứng, ngứa, nổi, mẩn, đặc_biệ...   \n",
              "\n",
              "                                        answer_tokenize  \n",
              "0     [bìu, dương_vật, sưng, to, cứng, tinh_hoàn, câ...  \n",
              "1     [vàng, da, tình_trạng, phổ_biến, ở, trẻ, sơ_si...  \n",
              "2     [dược_sĩ, sauthuốc, mỡ, mắt, chlorocinah, chứa...  \n",
              "3     [giải_đáp, lê, thanh, hương, hồi_sức, cấp_cứu,...  \n",
              "4     [trả_lời, saubạn, trẻ, huyết, khối, tĩnh_mạch,...  \n",
              "...                                                 ...  \n",
              "1011  [anhtình, tiểu_cầu, anh, dưới, ngưỡng, 150, mứ...  \n",
              "1012  [anhviệc, huyết_áp, duy_trì, cần_thiết, bệnh_l...  \n",
              "1013  [bạntheo, thông_tin, kê, toa, nhà, sản_xuất, h...  \n",
              "1014  [anhchịtheo, mô_tả, trường_hợp, dị_ứng, anhchị...  \n",
              "1015  [anhtheo, hướng_dẫn, y_tế, anh, đối_tượng, cẩn...  \n",
              "\n",
              "[1016 rows x 6 columns]"
            ]
          },
          "metadata": {},
          "execution_count": 44
        }
      ]
    },
    {
      "cell_type": "markdown",
      "source": [
        "## BM25"
      ],
      "metadata": {
        "id": "_X77MR8k1d_F"
      }
    },
    {
      "cell_type": "code",
      "source": [
        "!pip install rank_bm25"
      ],
      "metadata": {
        "colab": {
          "base_uri": "https://localhost:8080/"
        },
        "id": "PTfgVe-02pK6",
        "outputId": "6c338bc3-4d14-48d6-d8a2-824a60f704a4"
      },
      "execution_count": 45,
      "outputs": [
        {
          "output_type": "stream",
          "name": "stdout",
          "text": [
            "Collecting rank_bm25\n",
            "  Downloading rank_bm25-0.2.2-py3-none-any.whl (8.6 kB)\n",
            "Requirement already satisfied: numpy in /usr/local/lib/python3.7/dist-packages (from rank_bm25) (1.21.5)\n",
            "Installing collected packages: rank-bm25\n",
            "Successfully installed rank-bm25-0.2.2\n"
          ]
        }
      ]
    },
    {
      "cell_type": "code",
      "source": [
        "from rank_bm25 import BM25Okapi\n",
        "import numpy as np\n",
        "\n",
        "bm25_index = BM25Okapi(df_train.long_tokenize)\n",
        "\n",
        "def search(search_string, num_results=10):\n",
        "    search_tokens = ViTokenizer.tokenize(search_string)\n",
        "    search_tokens = search_tokens.split()\n",
        "    scores = bm25_index.get_scores(search_tokens)\n",
        "    top_indexes = np.argsort(scores)[::-1][:num_results]\n",
        "    return top_indexes\n",
        "\n",
        "indexes = search('mất khứu giác sau gãy sống mũi vỡ xương trán có ngửi lại được không')\n",
        "indexes"
      ],
      "metadata": {
        "colab": {
          "base_uri": "https://localhost:8080/"
        },
        "id": "Fn3ry5hMLmgO",
        "outputId": "b9dd922a-d975-42e6-d012-e1072c1e1990"
      },
      "execution_count": 46,
      "outputs": [
        {
          "output_type": "execute_result",
          "data": {
            "text/plain": [
              "array([549, 711, 201,  69, 309, 273,  64, 233, 636, 592])"
            ]
          },
          "metadata": {},
          "execution_count": 46
        }
      ]
    },
    {
      "cell_type": "code",
      "source": [
        "df_train['short_question'][549]"
      ],
      "metadata": {
        "colab": {
          "base_uri": "https://localhost:8080/",
          "height": 35
        },
        "id": "30xvzFEY-sJy",
        "outputId": "b3c269fd-5d11-492a-f154-2e1a9eef286f"
      },
      "execution_count": 47,
      "outputs": [
        {
          "output_type": "execute_result",
          "data": {
            "application/vnd.google.colaboratory.intrinsic+json": {
              "type": "string"
            },
            "text/plain": [
              "'mất khứu giác sau gãy sống mũi vỡ xương trán có ngửi lại được không'"
            ]
          },
          "metadata": {},
          "execution_count": 47
        }
      ]
    },
    {
      "cell_type": "code",
      "source": [
        "for i in indexes:\n",
        "  print('<', df_train['answer'][i])"
      ],
      "metadata": {
        "colab": {
          "base_uri": "https://localhost:8080/"
        },
        "id": "q_N3vR682waQ",
        "outputId": "e3bb0519-50fa-4aaa-922d-193857da6550"
      },
      "execution_count": 48,
      "outputs": [
        {
          "output_type": "stream",
          "name": "stdout",
          "text": [
            "< chào em mất khứu giác sau chấn thương 1 năm tốt nhất em nên khám chuyên khoa tai  mũi  họng tại bệnh viện thuộc hệ thống y tế vinmec để được chỉ định nội soi chụp phim đánh giá bệnh lý như thế nào từ đó mới có thể đưa ra hướng điều trị phù hợp cho em đượcrất mong có thể sớm gặp em tại vinmec để có những trao đổi cụ thể chúc em luôn có sức khỏe tốt trân trọng\n",
            "< được giải đáp bởi thạc sĩ bác sĩ vũ song linh  bác sĩ khoa ngoại chấn thương chỉnh hình  khoa ngoại tổng hợp bệnh viện đa khoa quốc tế vinmec times citychào bạnvới câu hỏi  bác sĩ xin giải đáp như saubạn không nói rõ lồi cầu trong xương đùi hay cánh tay vì thế bác sĩ chưa thể tư vấn chính xác cho bạn được xương cố định 2 tháng chưa liền vững cánh tay 3 tháng còn đùi phải 6 tháng ngoài ra còn đánh giá tình trạng cal xương từng thời điểm việc thực hiện một số bài tập phục hồi chức năng gãy lồi cầu xương cần được chú trọng song song với quá trình tái cố định xương nguyên tắc của phục hồi chức năng gãy lồi cầu xương là tạo điều kiện tốt nhất cho quá trình liền xươnggiảm sưng nề giảm đau chống rối loạn tuần hoàn chống kết dính khớp ngừa hội chứng đau vùng hội chứng rối loạn dinh dưỡng giao cảm phản xạ hay còn gọi hội chứng sudeckduy trì lực cơ và tầm vận động khớpnội dung của các bài tập phục hồi chức năng gãy lồi cầu xương có thể bao gồm thư giãn mô mềmcải thiện sức cơthiết kế các môn thể thao phù hợpmột kế hoạch rèn luyện lâu dài trong tương laivì vậy bạn nên đến thăm khám bác sĩ để được tư vấn điều trị phục hồi sau gãy xương lồi cầunếu bạn còn thắc mắc về sau bắt vít vỡ xương lồi cầu 2 tháng có thể chơi bóng đá bạn có thể đến bệnh viện thuộc hệ thống y tế vinmec để kiểm tra và tư vấn thêm cảm ơn bạn đã tin tưởng và gửi câu hỏi đến vinmec chúc bạn có thật nhiều sức khỏetrân trọng\n",
            "< được giải đáp bởi bác sĩ chuyên khoa ii mai anh kha  khoa ngoại tổng hợp bệnh viện đa khoa quốc tế vinmec đà nẵngchào bạnvới câu hỏi  bác sĩ xin giải đáp như sautrường hợp này là bình thường không có gì phải lo lắng khi bạn ngồi và tập vận động ban đầu sẽ sưng và nề bàn chân vì vậy bạn lưu ý nằm kê chân cao sẽ hết phù nề và thời gian sau sẽ hếtnếu bạn còn thắc mắc về vỡ xương gót chân bạn có thể đến bệnh viện thuộc hệ thống y tế vinmec để kiểm tra và tư vấn thêm cảm ơn bạn đã tin tưởng và gửi câu hỏi đến vinmec chúc bạn có thật nhiều sức khỏetrân trọng\n",
            "< chào bạn cảm ơn bạn đã gửi thắc mắc về website có khả năng xương đùi chưa liền vững mà bạn tác động lực nhiều gây đau bạn nên đi kiểm tra để bác sĩ đánh giá chính xác và cho lời khuyênbác sĩ ckii mai anh kha  khoa ngoại tổng hợp  bệnh viện đa khoa quốc tế vinmec đà nẵng\n",
            "< xin chào bạn trẻ bị ngã chụp ct bị tụ máu dưới màng cứng não kèm vỡ xương là khá nghiêm trọng con bạn cần được bác sĩ theo dõi sát để có thể can thiệp kịp thời khi bé trở nặng lên bạn có thể đưa con đi khám tại các bệnh viện thuộc hệ thống y tế vinmec để được bác sĩ chuyên môn thăm khám kịp thời cảm ơn bạn đã gửi câu hỏi đến vinmec trân trọngthạc sĩ bác sĩ nguyễn minh tuấn  bác sĩ nhi  khoa nhi  sơ sinh  bệnh viện đa khoa quốc tế vinmec đà nẵng\n",
            "< chào em em mới mổ được 3 tháng nên cần có chế độ tập luyện sau mổ và theo dõi quá trình lành xương qua việc chụp x quang việc tháo nẹp vít chỉ được đặt ra khi xương đã lành tốt để tránh trường hợp biến chứng chân cao chân thấp em nên tái khám định kỳ để bác sĩ theo dõibác sĩ cki võ khắc khôi nguyên  khoa ngoại tổng hợp  bệnh viện đa khoa quốc tế vinmec central park\n",
            "< chào bạn cảm ơn bạn đã gửi thắc mắc về hệ thống y tế vinmec bạn nên đi khám răng ngay bác sĩ sẽ khám chụp film răng để đáng giá tình trạng tiêu xương tình trạng của các răng và sẽ tư vấn về cách điều trị cho bạnthạc sĩ bác sĩ lại đỗ quyên  khoa liên chuyên khoa  bệnh viện đa khoa quốc tế vinmec times city\n",
            "< được giải đáp bởi thạc sĩ bác sĩ lê quang minh  bác sĩ chấn thương chỉnh hình  khoa ngoại tổng hợp  bệnh viện đa khoa quốc tế vinmec đà nẵngchào bạnvới câu hỏi  bác sĩ xin giải đáp như sautình trạng hiện tại cánh tay của bạn bị cong sau khi bị gãy xương lúc nhỏ có thể chỉnh lại cho thẳng hơn bằng cách phẫu thuật cắt xương chỉnh trục thời gian hồi phục là khoảng 36 tháng việc tiến hành phẫu thuật thông thường sẽ có một số biến chứng tuy tỉ lệ rất thấp nhưng có thể xảy ra như nhiễm trùng chậm hoặc không liền xương tổn thương thần kinh bạn nên thu xếp đi khám tại các trung tâm chấn thương chỉnh hình để bác sĩ có thể khám đánh giá cụ thể và đưa ra lời khuyên chính xác cho bạnnếu bạn còn thắc mắc về việc phẫu thuật lại khuỷu tay đã bó bột bạn có thể đến bệnh viện thuộc hệ thống y tế vinmec để kiểm tra và tư vấn thêm cảm ơn bạn đã tin tưởng và gửi câu hỏi đến vinmec chúc bạn có thật nhiều sức khỏetrân trọng\n",
            "< chào em bác sĩ xin được giải đáp câu hỏi như sauhiện tại bác sĩ rất muốn biết tổn thương cụ thể của em như thế nào em bị gãy xương nào tình trạng gãy có phức tạp hay không có tổn thương phần mềm gân cơ dây chằng mạch máu thần kinh kèm theo không xương đã có biểu hiện liền xương chưa có kèm rối loạn tuần hoàn chân bên dưới vùng tổn thương yếu cơ teo cơ cứng khớp việc tập luyện trong thời gian qua như thế nào tùy theo vấn đề được phát hiện từ đó bác sĩ mới chỉ định cho em phương pháp điều trị cụ thể toàn diện được vì vậy trước hết em nên đi khám lại với bác sĩ chấn thương để được kiểm tra lại vùng xương gãy sau đó sẽ thăm khám với bác sĩ phục hồi chức năng để được tư vấn điều trị tập luyệnem có thể đến cơ sở y tế gần nhất hoặc bệnh viện thuộc hệ thống y tế vinmec để được các bác sĩ thăm khám và tư vấn kỹ hơn trân trọng\n",
            "< được giải đáp bởi thạc sĩ bác sĩ chuyên khoa ii đặng thị thùy trang  bác sĩ tai mũi họng  khoa khám bệnh  nội khoa bệnh viện đa khoa quốc tế vinmec central parkchào bạnvới câu hỏi  bác sĩ xin giải đáp như saubạn bị ngứa mũi hắt xì hơi kèm chảy nước mũi khi ngửi mùi hương đậm đặc là triệu chứng của phản ứng dị ứng xảy ra ở những người có cơ địa dị ứng hoặc quá mẫn cảm với các chất lạ như khói bụi hơi hóa chất trong đó có nước hoakhi không tiếp xúc các chất trên triệu chứng thường sẽ khỏi tuy nhiên nếu tiếp xúc nhiều lần có thể sẽ bị viêm mũi dị ứng nếu nặng hơn có thể gây cơn hen suyễn lúc đó bạn nên đến bác sĩ tai mũi họng khám và tư vấn điều trịnếu bạn còn thắc mắc về ngứa mũi hắt hơi kèm chảy nước mũi khi ngửi mùi hương đậm đặc bạn có thể đến bệnh viện thuộc hệ thống y tế vinmec để kiểm tra và tư vấn thêm cảm ơn bạn đã tin tưởng và gửi câu hỏi đến vinmec chúc bạn có thật nhiều sức khỏetrân trọng\n"
          ]
        }
      ]
    },
    {
      "cell_type": "code",
      "source": [
        ""
      ],
      "metadata": {
        "id": "GHlvIvXa2zHD"
      },
      "execution_count": 48,
      "outputs": []
    }
  ]
}