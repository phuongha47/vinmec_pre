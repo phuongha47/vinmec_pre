{
  "nbformat": 4,
  "nbformat_minor": 0,
  "metadata": {
    "colab": {
      "name": "Preprocessing.ipynb",
      "provenance": [],
      "collapsed_sections": [],
      "mount_file_id": "1ZOaULQeG3pgdw5iEHdWruWf1gQr52Vnn",
      "authorship_tag": "ABX9TyMpLeq/sORUIN1sY+9h7V8C",
      "include_colab_link": true
    },
    "kernelspec": {
      "name": "python3",
      "display_name": "Python 3"
    },
    "language_info": {
      "name": "python"
    }
  },
  "cells": [
    {
      "cell_type": "markdown",
      "metadata": {
        "id": "view-in-github",
        "colab_type": "text"
      },
      "source": [
        "<a href=\"https://colab.research.google.com/github/phuongha47/vinmec_pre/blob/main/Preprocessing.ipynb\" target=\"_parent\"><img src=\"https://colab.research.google.com/assets/colab-badge.svg\" alt=\"Open In Colab\"/></a>"
      ]
    },
    {
      "cell_type": "markdown",
      "source": [
        "# Read data"
      ],
      "metadata": {
        "id": "qjxN8Sx35WOe"
      }
    },
    {
      "cell_type": "code",
      "source": [
        "# pip install underthesea"
      ],
      "metadata": {
        "id": "jfjLpWXdsJpP"
      },
      "execution_count": 246,
      "outputs": []
    },
    {
      "cell_type": "code",
      "source": [
        "import pandas as pd\n",
        "import re\n",
        "from underthesea import sent_tokenize"
      ],
      "metadata": {
        "id": "Nks4iJFV5jvg"
      },
      "execution_count": 247,
      "outputs": []
    },
    {
      "cell_type": "code",
      "source": [
        "df_train = pd.read_csv(r'/content/drive/MyDrive/QA_KLTN/Dataset/Data_preprocess/Data merged/train.csv')\n",
        "df_test = pd.read_csv(r'/content/drive/MyDrive/QA_KLTN/Dataset/Data_preprocess/Data merged/test.csv')\n",
        "df_val = pd.read_csv(r'/content/drive/MyDrive/QA_KLTN/Dataset/Data_preprocess/Data merged/val.csv')\n"
      ],
      "metadata": {
        "id": "85xzk8Cji3xC"
      },
      "execution_count": 285,
      "outputs": []
    },
    {
      "cell_type": "code",
      "source": [
        "s1 = u'ÀÁÂÃÈÉÊÌÍÒÓÔÕÙÚÝàáâãèéêìíòóôõùúýĂăĐđĨĩŨũƠơƯưẠạẢảẤấẦầẨẩẪẫẬậẮắẰằẲẳẴẵẶặẸẹẺẻẼẽẾếỀềỂểỄễỆệỈỉỊịỌọỎỏỐốỒồỔổỖỗỘộỚớỜờỞởỠỡỢợỤụỦủỨứỪừỬửỮữỰựỲỳỴỵỶỷỸỹ'\n",
        "s0 = u'AAAAEEEIIOOOOUUYaaaaeeeiioooouuyAaDdIiUuOoUuAaAaAaAaAaAaAaAaAaAaAaAaEeEeEeEeEeEeEeEeIiIiOoOoOoOoOoOoOoOoOoOoOoOoUuUuUuUuUuUuUuYyYyYyYy'\n",
        "def remove_accents(text):\n",
        "\tfor c in text:\n",
        "\t\tif c in s1:\n",
        "\t\t\t text = text.replace(c,s0[s1.index(c)])\n",
        "\treturn text"
      ],
      "metadata": {
        "id": "hobS7lZw1n_O"
      },
      "execution_count": 249,
      "outputs": []
    },
    {
      "cell_type": "code",
      "source": [
        "# for i in range(len(df_train[\"long_question\"])):\n",
        "#   try: \n",
        "#     df_train[\"long_question\"][i] = remove_accents(df_train[\"long_question\"][i])\n",
        "#   except:\n",
        "#     print ('') \n",
        "# for i in range(len(df_train[\"answer\"])):\n",
        "#   try: \n",
        "#     df_train[\"answer\"][i] = remove_accents(df_train[\"answer\"][i])\n",
        "#   except:\n",
        "#     print ('') "
      ],
      "metadata": {
        "id": "rIzs91TB9Vqp"
      },
      "execution_count": 250,
      "outputs": []
    },
    {
      "cell_type": "markdown",
      "source": [
        "# Data understand"
      ],
      "metadata": {
        "id": "9RcJLp1VvJtK"
      }
    },
    {
      "cell_type": "markdown",
      "source": [
        "## Size "
      ],
      "metadata": {
        "id": "rKgMdIoDvyZa"
      }
    },
    {
      "cell_type": "code",
      "source": [
        "print('Size TRAIN:', len(df_train))\n",
        "print('Size TEST:', len(df_test))\n",
        "print('Size VAL:', len(df_val))"
      ],
      "metadata": {
        "colab": {
          "base_uri": "https://localhost:8080/"
        },
        "id": "laMjdg2-jd7t",
        "outputId": "85cc6c1a-800f-4908-90d3-429765a45c40"
      },
      "execution_count": 286,
      "outputs": [
        {
          "output_type": "stream",
          "name": "stdout",
          "text": [
            "Size TRAIN: 8201\n",
            "Size TEST: 1025\n",
            "Size VAL: 1016\n"
          ]
        }
      ]
    },
    {
      "cell_type": "markdown",
      "source": [
        "## Document statistics by number of sentences"
      ],
      "metadata": {
        "id": "o6qrE4b7u7KX"
      }
    },
    {
      "cell_type": "markdown",
      "source": [
        "### Answer"
      ],
      "metadata": {
        "id": "X606hmrEwy5b"
      }
    },
    {
      "cell_type": "code",
      "source": [
        "import matplotlib.pyplot as plt\n",
        "\n",
        "plt.hist([len(sent_tokenize(s)) for s in df_train['answer']], 50)\n",
        "plt.xlabel('Length of a sample')\n",
        "plt.ylabel('Number of samples')\n",
        "plt.title('Sample length distribution')\n",
        "plt.show()"
      ],
      "metadata": {
        "colab": {
          "base_uri": "https://localhost:8080/",
          "height": 295
        },
        "outputId": "0e26a064-124e-444f-aebc-c7b753376096",
        "id": "cfXDGVh9w4mD"
      },
      "execution_count": 252,
      "outputs": [
        {
          "output_type": "display_data",
          "data": {
            "image/png": "[encoded data removed]",
            "text/plain": [
              "<Figure size 432x288 with 1 Axes>"
            ]
          },
          "metadata": {
            "needs_background": "light"
          }
        }
      ]
    },
    {
      "cell_type": "code",
      "source": [
        "sen5 = sen10 = sen15 = sen20 = 0\n",
        "for text in df_train['answer']:\n",
        "  if len(sent_tokenize(text)) < 5:\n",
        "    sen5 += 1\n",
        "  elif len(sent_tokenize(text)) >= 5 and len(sent_tokenize(text)) < 10:\n",
        "    sen10 += 1\n",
        "  elif len(sent_tokenize(text)) >= 10 and len(sent_tokenize(text)) < 15:\n",
        "    sen15 += 1\n",
        "  else:\n",
        "    sen20 += 1"
      ],
      "metadata": {
        "id": "VeEZxEzdw4mE"
      },
      "execution_count": 287,
      "outputs": []
    },
    {
      "cell_type": "code",
      "source": [
        "leng = len(df_train)\n",
        "thisdict = {\n",
        "  \"<5\": sen5/leng*100,\n",
        "  \"[5:10)\": sen10/leng*100,\n",
        "  \"[10:15)\": sen15/leng*100,\n",
        "  \"[15:~)\": sen20/leng*100,\n",
        "}\n",
        "for key in thisdict:\n",
        "  print(key, ':', thisdict[key])"
      ],
      "metadata": {
        "colab": {
          "base_uri": "https://localhost:8080/"
        },
        "outputId": "3084e268-5c0d-4434-b222-8b86d21b14ae",
        "id": "h3wRvL0gw4mE"
      },
      "execution_count": 288,
      "outputs": [
        {
          "output_type": "stream",
          "name": "stdout",
          "text": [
            "<5 : 42.567979514693334\n",
            "[5:10) : 52.1034020241434\n",
            "[10:15) : 4.243384953054505\n",
            "[15:~) : 1.0852335081087672\n"
          ]
        }
      ]
    },
    {
      "cell_type": "markdown",
      "source": [
        "### Long question\n"
      ],
      "metadata": {
        "id": "aTzFnYeiwsyZ"
      }
    },
    {
      "cell_type": "code",
      "source": [
        "import matplotlib.pyplot as plt\n",
        "\n",
        "plt.hist([len(sent_tokenize(s)) for s in df_train['long_question']], 50)\n",
        "plt.xlabel('Length of a sample')\n",
        "plt.ylabel('Number of samples')\n",
        "plt.title('Sample length distribution')\n",
        "plt.show()"
      ],
      "metadata": {
        "colab": {
          "base_uri": "https://localhost:8080/",
          "height": 295
        },
        "id": "2dzdlCTes1lY",
        "outputId": "de2aec83-83bb-4ebc-8a94-2928291abc01"
      },
      "execution_count": 289,
      "outputs": [
        {
          "output_type": "display_data",
          "data": {
            "image/png": "[encoded data removed]",
            "text/plain": [
              "<Figure size 432x288 with 1 Axes>"
            ]
          },
          "metadata": {
            "needs_background": "light"
          }
        }
      ]
    },
    {
      "cell_type": "code",
      "source": [
        "sen5 = sen10 = sen15 = sen20 = 0\n",
        "for text in df_train['long_question']:\n",
        "  if len(sent_tokenize(text)) < 5:\n",
        "    sen5 += 1\n",
        "  elif len(sent_tokenize(text)) >= 5 and len(sent_tokenize(text)) < 10:\n",
        "    sen10 += 1\n",
        "  elif len(sent_tokenize(text)) >= 10 and len(sent_tokenize(text)) < 15:\n",
        "    sen15 += 1\n",
        "  else:\n",
        "    sen20 += 1"
      ],
      "metadata": {
        "id": "56ioBMaus_zq"
      },
      "execution_count": 290,
      "outputs": []
    },
    {
      "cell_type": "code",
      "source": [
        "leng = len(df_train)\n",
        "thisdict = {\n",
        "  \"<5\": sen5/leng*100,\n",
        "  \"[5:10)\": sen10/leng*100,\n",
        "  \"[10:15)\": sen15/leng*100,\n",
        "  \"[15:~)\": sen20/leng*100,\n",
        "}\n",
        "for key in thisdict:\n",
        "  print(key, ':', thisdict[key])"
      ],
      "metadata": {
        "colab": {
          "base_uri": "https://localhost:8080/"
        },
        "id": "LZMiJekAt8GQ",
        "outputId": "bf21381e-b5dc-470d-f25f-b982b8eb0ae6"
      },
      "execution_count": 291,
      "outputs": [
        {
          "output_type": "stream",
          "name": "stdout",
          "text": [
            "<5 : 59.809779295207896\n",
            "[5:10) : 38.178270942567984\n",
            "[10:15) : 1.8534325082307037\n",
            "[15:~) : 0.15851725399341543\n"
          ]
        }
      ]
    },
    {
      "cell_type": "markdown",
      "source": [
        "## Number of documents by word length"
      ],
      "metadata": {
        "id": "2HIXy3wlw4mF"
      }
    },
    {
      "cell_type": "markdown",
      "source": [
        "### Answer"
      ],
      "metadata": {
        "id": "_eMKT0Eeyfpd"
      }
    },
    {
      "cell_type": "code",
      "source": [
        "import matplotlib.pyplot as plt\n",
        "\n",
        "plt.hist([len(str(s)) for s in df_train['answer']], 50)\n",
        "plt.xlabel('Length of a sample')\n",
        "plt.ylabel('Number of samples')\n",
        "plt.title('Sample length distribution')\n",
        "plt.show()"
      ],
      "metadata": {
        "colab": {
          "base_uri": "https://localhost:8080/",
          "height": 295
        },
        "id": "yUbehN7dx3DF",
        "outputId": "d2d8684f-6102-454b-b5df-fd0497a1b6ca"
      },
      "execution_count": 292,
      "outputs": [
        {
          "output_type": "display_data",
          "data": {
            "image/png": "[encoded data removed]",
            "text/plain": [
              "<Figure size 432x288 with 1 Axes>"
            ]
          },
          "metadata": {
            "needs_background": "light"
          }
        }
      ]
    },
    {
      "cell_type": "code",
      "source": [
        "count100 = count300 = count500 = count700 = count1000 = count10000 = 0\n",
        "for s in df_train['answer']:\n",
        "  if (len(str(s)) < 100):\n",
        "    count100 += 1\n",
        "  elif (len(str(s)) >= 100 and len(str(s)) < 300):\n",
        "    count300 += 1\n",
        "  elif (len(str(s)) >= 300 and len(str(s)) < 500):\n",
        "    count500 += 1\n",
        "  elif (len(str(s)) >= 500 and len(str(s)) < 700):\n",
        "    count700 += 1\n",
        "  elif (len(str(s)) >= 700 and len(str(s)) < 1000):\n",
        "    count1000 += 1\n",
        "  else:\n",
        "    count10000 += 1"
      ],
      "metadata": {
        "id": "6TV3ahGTw4mF"
      },
      "execution_count": 293,
      "outputs": []
    },
    {
      "cell_type": "code",
      "source": [
        "leng = len(df_train)\n",
        "thisdict = {\n",
        "  \"<100\": count100/leng*100,\n",
        "  \"[100:300)\": count300/leng*100,\n",
        "  \"[300:500)\": count500/leng*100,\n",
        "  \"[500:700)\": count700/leng*100,\n",
        "  \"[700:1000)\": count1000/leng*100,\n",
        "  \"[1000:~)\": count10000/leng*100,\n",
        "}\n",
        "for key in thisdict:\n",
        "  print(key, ':', thisdict[key])"
      ],
      "metadata": {
        "colab": {
          "base_uri": "https://localhost:8080/"
        },
        "outputId": "da72735f-8a36-4c42-f112-3dace1155d1a",
        "id": "55vV9NuYw4mF"
      },
      "execution_count": 294,
      "outputs": [
        {
          "output_type": "stream",
          "name": "stdout",
          "text": [
            "<100 : 0.01219363492257042\n",
            "[100:300) : 6.1455920009754905\n",
            "[300:500) : 20.33898305084746\n",
            "[500:700) : 27.179612242409462\n",
            "[700:1000) : 25.93586148030728\n",
            "[1000:~) : 20.38775759053774\n"
          ]
        }
      ]
    },
    {
      "cell_type": "markdown",
      "source": [
        "### Long question"
      ],
      "metadata": {
        "id": "tOqkj4kouipG"
      }
    },
    {
      "cell_type": "code",
      "source": [
        "import matplotlib.pyplot as plt\n",
        "\n",
        "plt.hist([len(str(s)) for s in df_train['long_question']], 50)\n",
        "plt.xlabel('Length of a sample')\n",
        "plt.ylabel('Number of samples')\n",
        "plt.title('Sample length distribution')\n",
        "plt.show()"
      ],
      "metadata": {
        "colab": {
          "base_uri": "https://localhost:8080/",
          "height": 295
        },
        "id": "4bsh-gOItq8Z",
        "outputId": "cfddf0ec-837b-4f6c-e1b0-faa57f046a79"
      },
      "execution_count": 295,
      "outputs": [
        {
          "output_type": "display_data",
          "data": {
            "image/png": "[encoded data removed]",
            "text/plain": [
              "<Figure size 432x288 with 1 Axes>"
            ]
          },
          "metadata": {
            "needs_background": "light"
          }
        }
      ]
    },
    {
      "cell_type": "code",
      "source": [
        "count100 = count300 = count500 = count700 = count1000 = count10000 = 0\n",
        "for s in df_train['long_question']:\n",
        "  if (len(str(s)) < 100):\n",
        "    count100 += 1\n",
        "  elif (len(str(s)) > 100 and len(str(s)) < 300):\n",
        "    count300 += 1\n",
        "  elif (len(str(s)) > 300 and len(str(s)) < 500):\n",
        "    count500 += 1\n",
        "  elif (len(str(s)) > 500 and len(str(s)) < 700):\n",
        "    count700 += 1\n",
        "  elif (len(str(s)) > 700 and len(str(s)) < 1000):\n",
        "    count1000 += 1\n",
        "  else:\n",
        "    count10000 += 1"
      ],
      "metadata": {
        "id": "gIgbH3NZKyg4"
      },
      "execution_count": 296,
      "outputs": []
    },
    {
      "cell_type": "code",
      "source": [
        "leng = len(df_train)\n",
        "thisdict = {\n",
        "  \"<100\": count100/leng*100,\n",
        "  \"(100:300)\": count300/leng*100,\n",
        "  \"(300:500)\": count500/leng*100,\n",
        "  \"(500:700)\": count700/leng*100,\n",
        "  \"(700:1000)\": count1000/leng*100,\n",
        "  \"(1000:~)\": count10000/leng*100,\n",
        "}\n",
        "for key in thisdict:\n",
        "  print(key, ':', thisdict[key])"
      ],
      "metadata": {
        "colab": {
          "base_uri": "https://localhost:8080/"
        },
        "id": "JSKDyOcTk3Vs",
        "outputId": "5850d62a-6a47-48a4-9ea0-dcd6de13ac76"
      },
      "execution_count": 297,
      "outputs": [
        {
          "output_type": "stream",
          "name": "stdout",
          "text": [
            "<100 : 4.828679429337885\n",
            "(100:300) : 54.176319960980365\n",
            "(300:500) : 30.752347274722595\n",
            "(500:700) : 6.925984636019998\n",
            "(700:1000) : 2.243628825752957\n",
            "(1000:~) : 1.0730398731861968\n"
          ]
        }
      ]
    },
    {
      "cell_type": "markdown",
      "source": [
        "# Preprocessing"
      ],
      "metadata": {
        "id": "D_XeEVqM7wJG"
      }
    },
    {
      "cell_type": "code",
      "source": [
        "df_train = df_train[df_train.answer != 'None']\n",
        "df_train = df_train[df_train.answer != 'none']\n",
        "df_train = df_train[df_train.answer != ' ']\n",
        "df_train = df_train[df_train.answer != '']\n",
        "\n",
        "df_test = df_test[df_test.answer != 'None']\n",
        "df_test = df_test[df_test.answer != 'none']\n",
        "df_test = df_test[df_test.answer != ' ']\n",
        "df_test = df_test[df_test.answer != '']\n",
        "\n",
        "df_val = df_val[df_val.answer != 'None']\n",
        "df_val = df_val[df_val.answer != 'none']\n",
        "df_val = df_val[df_val.answer != ' ']\n",
        "df_val = df_val[df_val.answer != '']"
      ],
      "metadata": {
        "id": "sRE6Vy09uo1n"
      },
      "execution_count": 264,
      "outputs": []
    },
    {
      "cell_type": "code",
      "source": [
        "df_train.tail()"
      ],
      "metadata": {
        "colab": {
          "base_uri": "https://localhost:8080/",
          "height": 337
        },
        "id": "jGPvrl2PjiCD",
        "outputId": "7c5a812a-9403-4f7d-b2fb-251ac146f529"
      },
      "execution_count": 265,
      "outputs": [
        {
          "output_type": "execute_result",
          "data": {
            "text/html": [
              "\n",
              "  <div id=\"df-f4cfa014-c69e-49cc-afc9-7350d91a3f1b\">\n",
              "    <div class=\"colab-df-container\">\n",
              "      <div>\n",
              "<style scoped>\n",
              "    .dataframe tbody tr th:only-of-type {\n",
              "        vertical-align: middle;\n",
              "    }\n",
              "\n",
              "    .dataframe tbody tr th {\n",
              "        vertical-align: top;\n",
              "    }\n",
              "\n",
              "    .dataframe thead th {\n",
              "        text-align: right;\n",
              "    }\n",
              "</style>\n",
              "<table border=\"1\" class=\"dataframe\">\n",
              "  <thead>\n",
              "    <tr style=\"text-align: right;\">\n",
              "      <th></th>\n",
              "      <th>short_question</th>\n",
              "      <th>long_question</th>\n",
              "      <th>answer</th>\n",
              "      <th>link</th>\n",
              "    </tr>\n",
              "  </thead>\n",
              "  <tbody>\n",
              "    <tr>\n",
              "      <th>1011</th>\n",
              "      <td>None</td>\n",
              "      <td>Tôi có tiền sử tiểu cầu thấp, PLT 130.000-140....</td>\n",
              "      <td>Chào anh,Tình trạng tiểu cầu của anh dưới ngưỡ...</td>\n",
              "      <td>https://vnexpress.net/tu-van-tiem-vaccine-covi...</td>\n",
              "    </tr>\n",
              "    <tr>\n",
              "      <th>1012</th>\n",
              "      <td>None</td>\n",
              "      <td>Tôi bị huyết áp cao phải uống thuốc hàng ngày,...</td>\n",
              "      <td>Chào anh,\\nViệc uống thuốc huyết áp duy trì hà...</td>\n",
              "      <td>https://vnexpress.net/tu-van-tiem-vaccine-covi...</td>\n",
              "    </tr>\n",
              "    <tr>\n",
              "      <th>1013</th>\n",
              "      <td>None</td>\n",
              "      <td>Vaccine AstraZeneca tôi thấy ở nước ngoài chỉ ...</td>\n",
              "      <td>Chào bạn,\\nTheo thông tin kê toa của nhà sản x...</td>\n",
              "      <td>https://vnexpress.net/tu-van-tiem-vaccine-covi...</td>\n",
              "    </tr>\n",
              "    <tr>\n",
              "      <th>1014</th>\n",
              "      <td>None</td>\n",
              "      <td>Em 33 tuổi, cao 1,68 m, nặng 90 kg, bị dị ứng ...</td>\n",
              "      <td>Chào Anh/Chị,\\nTheo mô tả thì trường hợp dị ứn...</td>\n",
              "      <td>https://vnexpress.net/tu-van-tiem-vaccine-covi...</td>\n",
              "    </tr>\n",
              "    <tr>\n",
              "      <th>1015</th>\n",
              "      <td>None</td>\n",
              "      <td>Tôi thỉnh thoảng bị dị ứng ngứa nổi mẩn, đặc b...</td>\n",
              "      <td>Chào anh,\\nTheo hướng dẫn của Bộ Y tế, anh thu...</td>\n",
              "      <td>https://vnexpress.net/tu-van-tiem-vaccine-covi...</td>\n",
              "    </tr>\n",
              "  </tbody>\n",
              "</table>\n",
              "</div>\n",
              "      <button class=\"colab-df-convert\" onclick=\"convertToInteractive('df-f4cfa014-c69e-49cc-afc9-7350d91a3f1b')\"\n",
              "              title=\"Convert this dataframe to an interactive table.\"\n",
              "              style=\"display:none;\">\n",
              "        \n",
              "  <svg xmlns=\"http://www.w3.org/2000/svg\" height=\"24px\"viewBox=\"0 0 24 24\"\n",
              "       width=\"24px\">\n",
              "    <path d=\"M0 0h24v24H0V0z\" fill=\"none\"/>\n",
              "    <path d=\"M18.56 5.44l.94 2.06.94-2.06 2.06-.94-2.06-.94-.94-2.06-.94 2.06-2.06.94zm-11 1L8.5 8.5l.94-2.06 2.06-.94-2.06-.94L8.5 2.5l-.94 2.06-2.06.94zm10 10l.94 2.06.94-2.06 2.06-.94-2.06-.94-.94-2.06-.94 2.06-2.06.94z\"/><path d=\"M17.41 7.96l-1.37-1.37c-.4-.4-.92-.59-1.43-.59-.52 0-1.04.2-1.43.59L10.3 9.45l-7.72 7.72c-.78.78-.78 2.05 0 2.83L4 21.41c.39.39.9.59 1.41.59.51 0 1.02-.2 1.41-.59l7.78-7.78 2.81-2.81c.8-.78.8-2.07 0-2.86zM5.41 20L4 18.59l7.72-7.72 1.47 1.35L5.41 20z\"/>\n",
              "  </svg>\n",
              "      </button>\n",
              "      \n",
              "  <style>\n",
              "    .colab-df-container {\n",
              "      display:flex;\n",
              "      flex-wrap:wrap;\n",
              "      gap: 12px;\n",
              "    }\n",
              "\n",
              "    .colab-df-convert {\n",
              "      background-color: #E8F0FE;\n",
              "      border: none;\n",
              "      border-radius: 50%;\n",
              "      cursor: pointer;\n",
              "      display: none;\n",
              "      fill: #1967D2;\n",
              "      height: 32px;\n",
              "      padding: 0 0 0 0;\n",
              "      width: 32px;\n",
              "    }\n",
              "\n",
              "    .colab-df-convert:hover {\n",
              "      background-color: #E2EBFA;\n",
              "      box-shadow: 0px 1px 2px rgba(60, 64, 67, 0.3), 0px 1px 3px 1px rgba(60, 64, 67, 0.15);\n",
              "      fill: #174EA6;\n",
              "    }\n",
              "\n",
              "    [theme=dark] .colab-df-convert {\n",
              "      background-color: #3B4455;\n",
              "      fill: #D2E3FC;\n",
              "    }\n",
              "\n",
              "    [theme=dark] .colab-df-convert:hover {\n",
              "      background-color: #434B5C;\n",
              "      box-shadow: 0px 1px 3px 1px rgba(0, 0, 0, 0.15);\n",
              "      filter: drop-shadow(0px 1px 2px rgba(0, 0, 0, 0.3));\n",
              "      fill: #FFFFFF;\n",
              "    }\n",
              "  </style>\n",
              "\n",
              "      <script>\n",
              "        const buttonEl =\n",
              "          document.querySelector('#df-f4cfa014-c69e-49cc-afc9-7350d91a3f1b button.colab-df-convert');\n",
              "        buttonEl.style.display =\n",
              "          google.colab.kernel.accessAllowed ? 'block' : 'none';\n",
              "\n",
              "        async function convertToInteractive(key) {\n",
              "          const element = document.querySelector('#df-f4cfa014-c69e-49cc-afc9-7350d91a3f1b');\n",
              "          const dataTable =\n",
              "            await google.colab.kernel.invokeFunction('convertToInteractive',\n",
              "                                                     [key], {});\n",
              "          if (!dataTable) return;\n",
              "\n",
              "          const docLinkHtml = 'Like what you see? Visit the ' +\n",
              "            '<a target=\"_blank\" href=https://colab.research.google.com/notebooks/data_table.ipynb>data table notebook</a>'\n",
              "            + ' to learn more about interactive tables.';\n",
              "          element.innerHTML = '';\n",
              "          dataTable['output_type'] = 'display_data';\n",
              "          await google.colab.output.renderOutput(dataTable, element);\n",
              "          const docLink = document.createElement('div');\n",
              "          docLink.innerHTML = docLinkHtml;\n",
              "          element.appendChild(docLink);\n",
              "        }\n",
              "      </script>\n",
              "    </div>\n",
              "  </div>\n",
              "  "
            ],
            "text/plain": [
              "     short_question                                      long_question  \\\n",
              "1011           None  Tôi có tiền sử tiểu cầu thấp, PLT 130.000-140....   \n",
              "1012           None  Tôi bị huyết áp cao phải uống thuốc hàng ngày,...   \n",
              "1013           None  Vaccine AstraZeneca tôi thấy ở nước ngoài chỉ ...   \n",
              "1014           None  Em 33 tuổi, cao 1,68 m, nặng 90 kg, bị dị ứng ...   \n",
              "1015           None  Tôi thỉnh thoảng bị dị ứng ngứa nổi mẩn, đặc b...   \n",
              "\n",
              "                                                 answer  \\\n",
              "1011  Chào anh,Tình trạng tiểu cầu của anh dưới ngưỡ...   \n",
              "1012  Chào anh,\\nViệc uống thuốc huyết áp duy trì hà...   \n",
              "1013  Chào bạn,\\nTheo thông tin kê toa của nhà sản x...   \n",
              "1014  Chào Anh/Chị,\\nTheo mô tả thì trường hợp dị ứn...   \n",
              "1015  Chào anh,\\nTheo hướng dẫn của Bộ Y tế, anh thu...   \n",
              "\n",
              "                                                   link  \n",
              "1011  https://vnexpress.net/tu-van-tiem-vaccine-covi...  \n",
              "1012  https://vnexpress.net/tu-van-tiem-vaccine-covi...  \n",
              "1013  https://vnexpress.net/tu-van-tiem-vaccine-covi...  \n",
              "1014  https://vnexpress.net/tu-van-tiem-vaccine-covi...  \n",
              "1015  https://vnexpress.net/tu-van-tiem-vaccine-covi...  "
            ]
          },
          "metadata": {},
          "execution_count": 265
        }
      ]
    },
    {
      "cell_type": "code",
      "source": [
        "# short_question\n",
        "for i in range(len(df_train)):\n",
        "  df_train['short_question'][i] = df_train['short_question'][i].strip()\n",
        "  df_train['short_question'][i] = df_train['short_question'][i].lower()\n",
        "  df_train['short_question'][i] = df_train['short_question'][i].replace(\"\\n\", \"\")\n",
        "  df_train['short_question'][i] = re.sub(r'[^\\w\\s]','', df_train['short_question'][i])\n",
        "# long_question\n",
        "for i in range(len(df_train)):\n",
        "  df_train['long_question'][i] = df_train['long_question'][i].strip()\n",
        "  df_train['long_question'][i] = df_train['long_question'][i].lower()\n",
        "  df_train['long_question'][i] = df_train['long_question'][i].replace(\"\\n\", \"\")\n",
        "  df_train['long_question'][i] = re.sub(r'[^\\w\\s]','', df_train['long_question'][i])\n",
        "# answer\n",
        "for i in range(len(df_train)):\n",
        "  df_train['answer'][i] = df_train['answer'][i].strip()\n",
        "  df_train['answer'][i] = df_train['answer'][i].lower()\n",
        "  df_train['answer'][i] = df_train['answer'][i].replace(\"\\n\", \"\")\n",
        "  df_train['answer'][i] = re.sub(r'[^\\w\\s]','', df_train['answer'][i])\n"
      ],
      "metadata": {
        "id": "nPeY6FyQ6NVK"
      },
      "execution_count": 266,
      "outputs": []
    },
    {
      "cell_type": "code",
      "source": [
        "df_train = df_train.dropna()\n",
        "df_train = df_train.drop_duplicates()\n",
        "df_test = df_test.dropna()\n",
        "df_test = df_test.drop_duplicates()\n",
        "df_val = df_val.dropna()\n",
        "df_val = df_val.drop_duplicates()"
      ],
      "metadata": {
        "id": "2nZ3vXao71Ej"
      },
      "execution_count": 267,
      "outputs": []
    },
    {
      "cell_type": "code",
      "source": [
        "len(df_train)"
      ],
      "metadata": {
        "id": "dAI0qtMJ84W4",
        "colab": {
          "base_uri": "https://localhost:8080/"
        },
        "outputId": "91f9ceb1-810a-4ece-ae13-d7471a7b4c0d"
      },
      "execution_count": 268,
      "outputs": [
        {
          "output_type": "execute_result",
          "data": {
            "text/plain": [
              "1016"
            ]
          },
          "metadata": {},
          "execution_count": 268
        }
      ]
    },
    {
      "cell_type": "markdown",
      "source": [
        "### Tokenize"
      ],
      "metadata": {
        "id": "uhkXfIGfUM4u"
      }
    },
    {
      "cell_type": "code",
      "source": [
        "# pip install pyvi\n"
      ],
      "metadata": {
        "id": "oOFLn-ev17UI"
      },
      "execution_count": 269,
      "outputs": []
    },
    {
      "cell_type": "code",
      "source": [
        "from pyvi import ViTokenizer\n",
        "df_train[\"long_tokenize\"] = \"\"\n",
        "df_train[\"answer_tokenize\"] = \"\"\n",
        "for i in range(len(df_train[\"long_question\"])):\n",
        "  try:\n",
        "    df_train[\"long_tokenize\"][i] = ViTokenizer.tokenize(str(df_train[\"long_question\"][i]))\n",
        "  except:\n",
        "    print('..')\n",
        "for i in range(len(df_train[\"answer\"])):\n",
        "  try:\n",
        "    df_train[\"answer_tokenize\"][i] = ViTokenizer.tokenize(str(df_train[\"answer\"][i]))\n",
        "  except:\n",
        "    print('..')"
      ],
      "metadata": {
        "id": "j_uQEkKD2L1B"
      },
      "execution_count": 270,
      "outputs": []
    },
    {
      "cell_type": "code",
      "source": [
        "df_train"
      ],
      "metadata": {
        "colab": {
          "base_uri": "https://localhost:8080/",
          "height": 814
        },
        "id": "KW6y_Vw8Dvlx",
        "outputId": "bb3bd89f-0196-49da-a706-c3dd4fe2264e"
      },
      "execution_count": 271,
      "outputs": [
        {
          "output_type": "execute_result",
          "data": {
            "text/html": [
              "\n",
              "  <div id=\"df-af835f88-53c5-4479-9b9e-e3b4e381c584\">\n",
              "    <div class=\"colab-df-container\">\n",
              "      <div>\n",
              "<style scoped>\n",
              "    .dataframe tbody tr th:only-of-type {\n",
              "        vertical-align: middle;\n",
              "    }\n",
              "\n",
              "    .dataframe tbody tr th {\n",
              "        vertical-align: top;\n",
              "    }\n",
              "\n",
              "    .dataframe thead th {\n",
              "        text-align: right;\n",
              "    }\n",
              "</style>\n",
              "<table border=\"1\" class=\"dataframe\">\n",
              "  <thead>\n",
              "    <tr style=\"text-align: right;\">\n",
              "      <th></th>\n",
              "      <th>short_question</th>\n",
              "      <th>long_question</th>\n",
              "      <th>answer</th>\n",
              "      <th>link</th>\n",
              "      <th>long_tokenize</th>\n",
              "      <th>answer_tokenize</th>\n",
              "    </tr>\n",
              "  </thead>\n",
              "  <tbody>\n",
              "    <tr>\n",
              "      <th>0</th>\n",
              "      <td>bìu dương vật sưng to cứng và tinh hoàn không ...</td>\n",
              "      <td>xin chào bác sĩ cho em hỏi bìu dương vật sưng ...</td>\n",
              "      <td>chào em với câu hỏi bìu dương vật sưng to cứng...</td>\n",
              "      <td>https://www.vinmec.com/vi/tin-tuc/hoi-dap-bac-...</td>\n",
              "      <td>xin chào bác_sĩ cho em hỏi bìu dương_vật sưng ...</td>\n",
              "      <td>chào em với câu hỏi bìu dương_vật sưng to cứng...</td>\n",
              "    </tr>\n",
              "    <tr>\n",
              "      <th>1</th>\n",
              "      <td>trẻ sơ sinh vàng da vàng mắt mức độ nhẹ có đán...</td>\n",
              "      <td>em chào bác sĩ bé gái nhà em khi sinh được 36 ...</td>\n",
              "      <td>chào bạn vàng da là tình trạng rất phổ biến ở ...</td>\n",
              "      <td>https://www.vinmec.com/vi/tin-tuc/hoi-dap-bac-...</td>\n",
              "      <td>em chào bác_sĩ bé gái nhà em khi sinh được 36 ...</td>\n",
              "      <td>chào bạn vàng da là tình_trạng rất phổ_biến ở ...</td>\n",
              "    </tr>\n",
              "    <tr>\n",
              "      <th>2</th>\n",
              "      <td>bị đau mắt đỏ nhỏ thuốc mỡ chlorocinah có khỏi...</td>\n",
              "      <td>chào dược sĩ con tôi bị đau mắt đỏ dược  sĩ ch...</td>\n",
              "      <td>chào bạn với câu hỏi bị đau mắt đỏ nhỏ thuốc m...</td>\n",
              "      <td>https://www.vinmec.com/vi/tin-tuc/hoi-dap-bac-...</td>\n",
              "      <td>chào dược_sĩ con tôi bị đau mắt đỏ dược_sĩ cho...</td>\n",
              "      <td>chào bạn với câu hỏi bị đau mắt đỏ nhỏ thuốc_m...</td>\n",
              "    </tr>\n",
              "    <tr>\n",
              "      <th>3</th>\n",
              "      <td>tự nhiên xuất hiện vết bầm kèm xuất huyết là b...</td>\n",
              "      <td>chào bác sĩgần 2 tháng trở lại đây em có triệu...</td>\n",
              "      <td>được giải đáp bởi bác sĩ lê thị thanh hương  b...</td>\n",
              "      <td>https://www.vinmec.com/vi/tin-tuc/hoi-dap-bac-...</td>\n",
              "      <td>chào bác sĩgần 2 tháng trở_lại đây em có triệu...</td>\n",
              "      <td>được giải_đáp bởi bác_sĩ lê thị thanh hương bá...</td>\n",
              "    </tr>\n",
              "    <tr>\n",
              "      <th>4</th>\n",
              "      <td>điều trị dứt điểm huyết khối tĩnh mạch chi như...</td>\n",
              "      <td>chào bác sĩem bị huyết khối tĩnh mạch chi dưới...</td>\n",
              "      <td>chào bạnvới câu hỏi điều trị dứt điểm huyết kh...</td>\n",
              "      <td>https://www.vinmec.com/vi/tin-tuc/hoi-dap-bac-...</td>\n",
              "      <td>chào bác sĩem bị huyết khối tĩnh_mạch chi dưới...</td>\n",
              "      <td>chào bạnvới câu hỏi điều_trị dứt_điểm huyết kh...</td>\n",
              "    </tr>\n",
              "    <tr>\n",
              "      <th>...</th>\n",
              "      <td>...</td>\n",
              "      <td>...</td>\n",
              "      <td>...</td>\n",
              "      <td>...</td>\n",
              "      <td>...</td>\n",
              "      <td>...</td>\n",
              "    </tr>\n",
              "    <tr>\n",
              "      <th>1011</th>\n",
              "      <td>none</td>\n",
              "      <td>tôi có tiền sử tiểu cầu thấp plt 130000140000 ...</td>\n",
              "      <td>chào anhtình trạng tiểu cầu của anh dưới ngưỡn...</td>\n",
              "      <td>https://vnexpress.net/tu-van-tiem-vaccine-covi...</td>\n",
              "      <td>tôi có tiền_sử tiểu_cầu thấp plt 130000140000 ...</td>\n",
              "      <td>chào anhtình trạng tiểu_cầu của anh dưới ngưỡn...</td>\n",
              "    </tr>\n",
              "    <tr>\n",
              "      <th>1012</th>\n",
              "      <td>none</td>\n",
              "      <td>tôi bị huyết áp cao phải uống thuốc hàng ngày ...</td>\n",
              "      <td>chào anhviệc uống thuốc huyết áp duy trì hàng ...</td>\n",
              "      <td>https://vnexpress.net/tu-van-tiem-vaccine-covi...</td>\n",
              "      <td>tôi bị huyết_áp_cao phải uống thuốc hàng ngày ...</td>\n",
              "      <td>chào anhviệc uống thuốc huyết_áp duy_trì hàng ...</td>\n",
              "    </tr>\n",
              "    <tr>\n",
              "      <th>1013</th>\n",
              "      <td>none</td>\n",
              "      <td>vaccine astrazeneca tôi thấy ở nước ngoài chỉ ...</td>\n",
              "      <td>chào bạntheo thông tin kê toa của nhà sản xuất...</td>\n",
              "      <td>https://vnexpress.net/tu-van-tiem-vaccine-covi...</td>\n",
              "      <td>vaccine astrazeneca tôi thấy ở nước_ngoài chỉ_...</td>\n",
              "      <td>chào bạntheo thông_tin kê toa của nhà sản_xuất...</td>\n",
              "    </tr>\n",
              "    <tr>\n",
              "      <th>1014</th>\n",
              "      <td>none</td>\n",
              "      <td>em 33 tuổi cao 168 m nặng 90 kg bị dị ứng với ...</td>\n",
              "      <td>chào anhchịtheo mô tả thì trường hợp dị ứng củ...</td>\n",
              "      <td>https://vnexpress.net/tu-van-tiem-vaccine-covi...</td>\n",
              "      <td>em 33 tuổi cao 168 m nặng 90 kg bị dị_ứng với ...</td>\n",
              "      <td>chào anhchịtheo mô_tả thì trường_hợp dị_ứng củ...</td>\n",
              "    </tr>\n",
              "    <tr>\n",
              "      <th>1015</th>\n",
              "      <td>none</td>\n",
              "      <td>tôi thỉnh thoảng bị dị ứng ngứa nổi mẩn đặc bi...</td>\n",
              "      <td>chào anhtheo hướng dẫn của bộ y tế anh thuộc đ...</td>\n",
              "      <td>https://vnexpress.net/tu-van-tiem-vaccine-covi...</td>\n",
              "      <td>tôi thỉnh_thoảng bị dị_ứng ngứa nổi mẩn đặc_bi...</td>\n",
              "      <td>chào anhtheo hướng_dẫn của bộ y_tế anh thuộc đ...</td>\n",
              "    </tr>\n",
              "  </tbody>\n",
              "</table>\n",
              "<p>1016 rows × 6 columns</p>\n",
              "</div>\n",
              "      <button class=\"colab-df-convert\" onclick=\"convertToInteractive('df-af835f88-53c5-4479-9b9e-e3b4e381c584')\"\n",
              "              title=\"Convert this dataframe to an interactive table.\"\n",
              "              style=\"display:none;\">\n",
              "        \n",
              "  <svg xmlns=\"http://www.w3.org/2000/svg\" height=\"24px\"viewBox=\"0 0 24 24\"\n",
              "       width=\"24px\">\n",
              "    <path d=\"M0 0h24v24H0V0z\" fill=\"none\"/>\n",
              "    <path d=\"M18.56 5.44l.94 2.06.94-2.06 2.06-.94-2.06-.94-.94-2.06-.94 2.06-2.06.94zm-11 1L8.5 8.5l.94-2.06 2.06-.94-2.06-.94L8.5 2.5l-.94 2.06-2.06.94zm10 10l.94 2.06.94-2.06 2.06-.94-2.06-.94-.94-2.06-.94 2.06-2.06.94z\"/><path d=\"M17.41 7.96l-1.37-1.37c-.4-.4-.92-.59-1.43-.59-.52 0-1.04.2-1.43.59L10.3 9.45l-7.72 7.72c-.78.78-.78 2.05 0 2.83L4 21.41c.39.39.9.59 1.41.59.51 0 1.02-.2 1.41-.59l7.78-7.78 2.81-2.81c.8-.78.8-2.07 0-2.86zM5.41 20L4 18.59l7.72-7.72 1.47 1.35L5.41 20z\"/>\n",
              "  </svg>\n",
              "      </button>\n",
              "      \n",
              "  <style>\n",
              "    .colab-df-container {\n",
              "      display:flex;\n",
              "      flex-wrap:wrap;\n",
              "      gap: 12px;\n",
              "    }\n",
              "\n",
              "    .colab-df-convert {\n",
              "      background-color: #E8F0FE;\n",
              "      border: none;\n",
              "      border-radius: 50%;\n",
              "      cursor: pointer;\n",
              "      display: none;\n",
              "      fill: #1967D2;\n",
              "      height: 32px;\n",
              "      padding: 0 0 0 0;\n",
              "      width: 32px;\n",
              "    }\n",
              "\n",
              "    .colab-df-convert:hover {\n",
              "      background-color: #E2EBFA;\n",
              "      box-shadow: 0px 1px 2px rgba(60, 64, 67, 0.3), 0px 1px 3px 1px rgba(60, 64, 67, 0.15);\n",
              "      fill: #174EA6;\n",
              "    }\n",
              "\n",
              "    [theme=dark] .colab-df-convert {\n",
              "      background-color: #3B4455;\n",
              "      fill: #D2E3FC;\n",
              "    }\n",
              "\n",
              "    [theme=dark] .colab-df-convert:hover {\n",
              "      background-color: #434B5C;\n",
              "      box-shadow: 0px 1px 3px 1px rgba(0, 0, 0, 0.15);\n",
              "      filter: drop-shadow(0px 1px 2px rgba(0, 0, 0, 0.3));\n",
              "      fill: #FFFFFF;\n",
              "    }\n",
              "  </style>\n",
              "\n",
              "      <script>\n",
              "        const buttonEl =\n",
              "          document.querySelector('#df-af835f88-53c5-4479-9b9e-e3b4e381c584 button.colab-df-convert');\n",
              "        buttonEl.style.display =\n",
              "          google.colab.kernel.accessAllowed ? 'block' : 'none';\n",
              "\n",
              "        async function convertToInteractive(key) {\n",
              "          const element = document.querySelector('#df-af835f88-53c5-4479-9b9e-e3b4e381c584');\n",
              "          const dataTable =\n",
              "            await google.colab.kernel.invokeFunction('convertToInteractive',\n",
              "                                                     [key], {});\n",
              "          if (!dataTable) return;\n",
              "\n",
              "          const docLinkHtml = 'Like what you see? Visit the ' +\n",
              "            '<a target=\"_blank\" href=https://colab.research.google.com/notebooks/data_table.ipynb>data table notebook</a>'\n",
              "            + ' to learn more about interactive tables.';\n",
              "          element.innerHTML = '';\n",
              "          dataTable['output_type'] = 'display_data';\n",
              "          await google.colab.output.renderOutput(dataTable, element);\n",
              "          const docLink = document.createElement('div');\n",
              "          docLink.innerHTML = docLinkHtml;\n",
              "          element.appendChild(docLink);\n",
              "        }\n",
              "      </script>\n",
              "    </div>\n",
              "  </div>\n",
              "  "
            ],
            "text/plain": [
              "                                         short_question  \\\n",
              "0     bìu dương vật sưng to cứng và tinh hoàn không ...   \n",
              "1     trẻ sơ sinh vàng da vàng mắt mức độ nhẹ có đán...   \n",
              "2     bị đau mắt đỏ nhỏ thuốc mỡ chlorocinah có khỏi...   \n",
              "3     tự nhiên xuất hiện vết bầm kèm xuất huyết là b...   \n",
              "4     điều trị dứt điểm huyết khối tĩnh mạch chi như...   \n",
              "...                                                 ...   \n",
              "1011                                               none   \n",
              "1012                                               none   \n",
              "1013                                               none   \n",
              "1014                                               none   \n",
              "1015                                               none   \n",
              "\n",
              "                                          long_question  \\\n",
              "0     xin chào bác sĩ cho em hỏi bìu dương vật sưng ...   \n",
              "1     em chào bác sĩ bé gái nhà em khi sinh được 36 ...   \n",
              "2     chào dược sĩ con tôi bị đau mắt đỏ dược  sĩ ch...   \n",
              "3     chào bác sĩgần 2 tháng trở lại đây em có triệu...   \n",
              "4     chào bác sĩem bị huyết khối tĩnh mạch chi dưới...   \n",
              "...                                                 ...   \n",
              "1011  tôi có tiền sử tiểu cầu thấp plt 130000140000 ...   \n",
              "1012  tôi bị huyết áp cao phải uống thuốc hàng ngày ...   \n",
              "1013  vaccine astrazeneca tôi thấy ở nước ngoài chỉ ...   \n",
              "1014  em 33 tuổi cao 168 m nặng 90 kg bị dị ứng với ...   \n",
              "1015  tôi thỉnh thoảng bị dị ứng ngứa nổi mẩn đặc bi...   \n",
              "\n",
              "                                                 answer  \\\n",
              "0     chào em với câu hỏi bìu dương vật sưng to cứng...   \n",
              "1     chào bạn vàng da là tình trạng rất phổ biến ở ...   \n",
              "2     chào bạn với câu hỏi bị đau mắt đỏ nhỏ thuốc m...   \n",
              "3     được giải đáp bởi bác sĩ lê thị thanh hương  b...   \n",
              "4     chào bạnvới câu hỏi điều trị dứt điểm huyết kh...   \n",
              "...                                                 ...   \n",
              "1011  chào anhtình trạng tiểu cầu của anh dưới ngưỡn...   \n",
              "1012  chào anhviệc uống thuốc huyết áp duy trì hàng ...   \n",
              "1013  chào bạntheo thông tin kê toa của nhà sản xuất...   \n",
              "1014  chào anhchịtheo mô tả thì trường hợp dị ứng củ...   \n",
              "1015  chào anhtheo hướng dẫn của bộ y tế anh thuộc đ...   \n",
              "\n",
              "                                                   link  \\\n",
              "0     https://www.vinmec.com/vi/tin-tuc/hoi-dap-bac-...   \n",
              "1     https://www.vinmec.com/vi/tin-tuc/hoi-dap-bac-...   \n",
              "2     https://www.vinmec.com/vi/tin-tuc/hoi-dap-bac-...   \n",
              "3     https://www.vinmec.com/vi/tin-tuc/hoi-dap-bac-...   \n",
              "4     https://www.vinmec.com/vi/tin-tuc/hoi-dap-bac-...   \n",
              "...                                                 ...   \n",
              "1011  https://vnexpress.net/tu-van-tiem-vaccine-covi...   \n",
              "1012  https://vnexpress.net/tu-van-tiem-vaccine-covi...   \n",
              "1013  https://vnexpress.net/tu-van-tiem-vaccine-covi...   \n",
              "1014  https://vnexpress.net/tu-van-tiem-vaccine-covi...   \n",
              "1015  https://vnexpress.net/tu-van-tiem-vaccine-covi...   \n",
              "\n",
              "                                          long_tokenize  \\\n",
              "0     xin chào bác_sĩ cho em hỏi bìu dương_vật sưng ...   \n",
              "1     em chào bác_sĩ bé gái nhà em khi sinh được 36 ...   \n",
              "2     chào dược_sĩ con tôi bị đau mắt đỏ dược_sĩ cho...   \n",
              "3     chào bác sĩgần 2 tháng trở_lại đây em có triệu...   \n",
              "4     chào bác sĩem bị huyết khối tĩnh_mạch chi dưới...   \n",
              "...                                                 ...   \n",
              "1011  tôi có tiền_sử tiểu_cầu thấp plt 130000140000 ...   \n",
              "1012  tôi bị huyết_áp_cao phải uống thuốc hàng ngày ...   \n",
              "1013  vaccine astrazeneca tôi thấy ở nước_ngoài chỉ_...   \n",
              "1014  em 33 tuổi cao 168 m nặng 90 kg bị dị_ứng với ...   \n",
              "1015  tôi thỉnh_thoảng bị dị_ứng ngứa nổi mẩn đặc_bi...   \n",
              "\n",
              "                                        answer_tokenize  \n",
              "0     chào em với câu hỏi bìu dương_vật sưng to cứng...  \n",
              "1     chào bạn vàng da là tình_trạng rất phổ_biến ở ...  \n",
              "2     chào bạn với câu hỏi bị đau mắt đỏ nhỏ thuốc_m...  \n",
              "3     được giải_đáp bởi bác_sĩ lê thị thanh hương bá...  \n",
              "4     chào bạnvới câu hỏi điều_trị dứt_điểm huyết kh...  \n",
              "...                                                 ...  \n",
              "1011  chào anhtình trạng tiểu_cầu của anh dưới ngưỡn...  \n",
              "1012  chào anhviệc uống thuốc huyết_áp duy_trì hàng ...  \n",
              "1013  chào bạntheo thông_tin kê toa của nhà sản_xuất...  \n",
              "1014  chào anhchịtheo mô_tả thì trường_hợp dị_ứng củ...  \n",
              "1015  chào anhtheo hướng_dẫn của bộ y_tế anh thuộc đ...  \n",
              "\n",
              "[1016 rows x 6 columns]"
            ]
          },
          "metadata": {},
          "execution_count": 271
        }
      ]
    },
    {
      "cell_type": "markdown",
      "source": [
        "### Write stopwords list to file"
      ],
      "metadata": {
        "id": "WPe6q1AhUbQO"
      }
    },
    {
      "cell_type": "code",
      "source": [
        "def get_stopwords(documents, threshold=3):\n",
        "    \"\"\"\n",
        "    :param documents: list of documents\n",
        "    :param threshold:\n",
        "    :return: list of words has idf <= threshold\n",
        "    \"\"\"\n",
        "    tfidf = TfidfVectorizer(min_df=5)\n",
        "    tfidf_matrix = tfidf.fit_transform(documents)\n",
        "    features = tfidf.get_feature_names()\n",
        "    stopwords = []\n",
        "    print(min(tfidf.idf_), max(tfidf.idf_), len(features))\n",
        "    for index, feature in enumerate(features):\n",
        "        if tfidf.idf_[index] <= threshold:\n",
        "            stopwords.append(feature)\n",
        "    return stopwords"
      ],
      "metadata": {
        "id": "5Wd-zFiNcMjz"
      },
      "execution_count": 272,
      "outputs": []
    },
    {
      "cell_type": "code",
      "source": [
        "from sklearn.feature_extraction.text import TfidfVectorizer\n",
        "from nltk.corpus import stopwords\n",
        "\n",
        "stopwords = get_stopwords(df_train[\"long_tokenize\"], threshold=3)\n",
        "stopwords = stopwords + get_stopwords(df_train[\"long_question\"], threshold=3)\n",
        "stopwords = stopwords + get_stopwords(df_train[\"answer\"], threshold=3)\n",
        "with open('stopwords.txt', 'w', encoding='utf8') as fp:\n",
        "    for word in stopwords:\n",
        "        fp.write(word + '\\n')"
      ],
      "metadata": {
        "colab": {
          "base_uri": "https://localhost:8080/"
        },
        "id": "0wo00joRC53J",
        "outputId": "3ea7c3e3-41d4-4525-ba0d-733b68b4e410"
      },
      "execution_count": 273,
      "outputs": [
        {
          "output_type": "stream",
          "name": "stderr",
          "text": [
            "/usr/local/lib/python3.7/dist-packages/sklearn/utils/deprecation.py:87: FutureWarning: Function get_feature_names is deprecated; get_feature_names is deprecated in 1.0 and will be removed in 1.2. Please use get_feature_names_out instead.\n",
            "  warnings.warn(msg, category=FutureWarning)\n"
          ]
        },
        {
          "output_type": "stream",
          "name": "stdout",
          "text": [
            "1.2325286535419315 6.1328529268205045 1033\n"
          ]
        },
        {
          "output_type": "stream",
          "name": "stderr",
          "text": [
            "/usr/local/lib/python3.7/dist-packages/sklearn/utils/deprecation.py:87: FutureWarning: Function get_feature_names is deprecated; get_feature_names is deprecated in 1.0 and will be removed in 1.2. Please use get_feature_names_out instead.\n",
            "  warnings.warn(msg, category=FutureWarning)\n"
          ]
        },
        {
          "output_type": "stream",
          "name": "stdout",
          "text": [
            "1.2068077010248688 6.1328529268205045 1054\n"
          ]
        },
        {
          "output_type": "stream",
          "name": "stderr",
          "text": [
            "/usr/local/lib/python3.7/dist-packages/sklearn/utils/deprecation.py:87: FutureWarning: Function get_feature_names is deprecated; get_feature_names is deprecated in 1.0 and will be removed in 1.2. Please use get_feature_names_out instead.\n",
            "  warnings.warn(msg, category=FutureWarning)\n"
          ]
        },
        {
          "output_type": "stream",
          "name": "stdout",
          "text": [
            "1.0808624470423354 6.1328529268205045 1434\n"
          ]
        }
      ]
    },
    {
      "cell_type": "code",
      "source": [
        "for i in range(len(df_train[\"long_tokenize\"])):\n",
        "  try:\n",
        "    df_train[\"long_tokenize\"][i] = df_train[\"long_tokenize\"][i].split(\" \")\n",
        "  except:\n",
        "    print('ok')\n",
        "for i in range(len(df_train[\"answer_tokenize\"])):\n",
        "  try:\n",
        "    df_train[\"answer_tokenize\"][i] = df_train[\"answer_tokenize\"][i].split(\" \")\n",
        "  except:\n",
        "    print('ok')"
      ],
      "metadata": {
        "id": "3YVlMKwqFAPf"
      },
      "execution_count": 274,
      "outputs": []
    },
    {
      "cell_type": "markdown",
      "source": [
        "### Read stopword file"
      ],
      "metadata": {
        "id": "5ssRoCQlUoEg"
      }
    },
    {
      "cell_type": "code",
      "source": [
        "with open('/content/stopwords.txt') as f:\n",
        "    lines = f.readlines()\n"
      ],
      "metadata": {
        "id": "dh8t5RgqJd14"
      },
      "execution_count": 276,
      "outputs": []
    },
    {
      "cell_type": "code",
      "source": [
        "for i in range(len(lines)):\n",
        "  lines[i] = (lines[i].rstrip(\"\\n\"))"
      ],
      "metadata": {
        "id": "Yqqq2LZfUAOE"
      },
      "execution_count": 277,
      "outputs": []
    },
    {
      "cell_type": "code",
      "source": [
        "len(lines)"
      ],
      "metadata": {
        "colab": {
          "base_uri": "https://localhost:8080/"
        },
        "id": "rISjDRYkcjAv",
        "outputId": "b773d7e6-4191-42fb-efa7-ec961d614443"
      },
      "execution_count": 278,
      "outputs": [
        {
          "output_type": "execute_result",
          "data": {
            "text/plain": [
              "312"
            ]
          },
          "metadata": {},
          "execution_count": 278
        }
      ]
    },
    {
      "cell_type": "markdown",
      "source": [
        "### Remove stopworstopwords"
      ],
      "metadata": {
        "id": "4uxBzCkQU7KI"
      }
    },
    {
      "cell_type": "code",
      "source": [
        "import re\n",
        "long_tokenize = ''\n",
        "answer_tokenize = ''\n",
        "for i in range(len(df_train[\"long_tokenize\"])):\n",
        "  try:\n",
        "    for word in df_train[\"long_tokenize\"][i]:\n",
        "      #remove stopword\n",
        "      if (word in lines):\n",
        "        long_tokenize = [word for word in df_train[\"long_tokenize\"][i] if word not in lines]\n",
        "    df_train[\"long_tokenize\"][i] = long_tokenize\n",
        "  except: \n",
        "    print('err')\n",
        "for i in range(len(df_train[\"answer_tokenize\"])):\n",
        "  try:\n",
        "    for word in df_train[\"answer_tokenize\"][i]:\n",
        "      #remove stopword\n",
        "      if (word in lines):\n",
        "        answer_tokenize = [word for word in df_train[\"answer_tokenize\"][i] if word not in lines]  \n",
        "    df_train[\"answer_tokenize\"][i] = answer_tokenize \n",
        "  except: \n",
        "    print('err')"
      ],
      "metadata": {
        "id": "TiG_GCFzOEAA"
      },
      "execution_count": 279,
      "outputs": []
    },
    {
      "cell_type": "code",
      "source": [
        "df_train.head()"
      ],
      "metadata": {
        "colab": {
          "base_uri": "https://localhost:8080/",
          "height": 424
        },
        "id": "09FSEnq10NFR",
        "outputId": "af9ae29a-6133-4215-b6a8-acdb3f0ab4b1"
      },
      "execution_count": 280,
      "outputs": [
        {
          "output_type": "execute_result",
          "data": {
            "text/html": [
              "\n",
              "  <div id=\"df-0c5eb285-12bd-4857-9332-44555c573418\">\n",
              "    <div class=\"colab-df-container\">\n",
              "      <div>\n",
              "<style scoped>\n",
              "    .dataframe tbody tr th:only-of-type {\n",
              "        vertical-align: middle;\n",
              "    }\n",
              "\n",
              "    .dataframe tbody tr th {\n",
              "        vertical-align: top;\n",
              "    }\n",
              "\n",
              "    .dataframe thead th {\n",
              "        text-align: right;\n",
              "    }\n",
              "</style>\n",
              "<table border=\"1\" class=\"dataframe\">\n",
              "  <thead>\n",
              "    <tr style=\"text-align: right;\">\n",
              "      <th></th>\n",
              "      <th>short_question</th>\n",
              "      <th>long_question</th>\n",
              "      <th>answer</th>\n",
              "      <th>link</th>\n",
              "      <th>long_tokenize</th>\n",
              "      <th>answer_tokenize</th>\n",
              "    </tr>\n",
              "  </thead>\n",
              "  <tbody>\n",
              "    <tr>\n",
              "      <th>0</th>\n",
              "      <td>bìu dương vật sưng to cứng và tinh hoàn không ...</td>\n",
              "      <td>xin chào bác sĩ cho em hỏi bìu dương vật sưng ...</td>\n",
              "      <td>chào em với câu hỏi bìu dương vật sưng to cứng...</td>\n",
              "      <td>https://www.vinmec.com/vi/tin-tuc/hoi-dap-bac-...</td>\n",
              "      <td>[bìu, dương_vật, sưng, to, cứng, tinh_hoàn, câ...</td>\n",
              "      <td>[bìu, dương_vật, sưng, to, cứng, tinh_hoàn, câ...</td>\n",
              "    </tr>\n",
              "    <tr>\n",
              "      <th>1</th>\n",
              "      <td>trẻ sơ sinh vàng da vàng mắt mức độ nhẹ có đán...</td>\n",
              "      <td>em chào bác sĩ bé gái nhà em khi sinh được 36 ...</td>\n",
              "      <td>chào bạn vàng da là tình trạng rất phổ biến ở ...</td>\n",
              "      <td>https://www.vinmec.com/vi/tin-tuc/hoi-dap-bac-...</td>\n",
              "      <td>[bé, gái, nhà, 36, tuần, 2, bình_thường, thứ, ...</td>\n",
              "      <td>[vàng, da, tình_trạng, phổ_biến, ở, trẻ, sơ_si...</td>\n",
              "    </tr>\n",
              "    <tr>\n",
              "      <th>2</th>\n",
              "      <td>bị đau mắt đỏ nhỏ thuốc mỡ chlorocinah có khỏi...</td>\n",
              "      <td>chào dược sĩ con tôi bị đau mắt đỏ dược  sĩ ch...</td>\n",
              "      <td>chào bạn với câu hỏi bị đau mắt đỏ nhỏ thuốc m...</td>\n",
              "      <td>https://www.vinmec.com/vi/tin-tuc/hoi-dap-bac-...</td>\n",
              "      <td>[dược_sĩ, con, mắt, đỏ, dược_sĩ, mắt, đỏ, nhỏ,...</td>\n",
              "      <td>[mắt, đỏ, nhỏ, thuốc_mỡ, chlorocinah, khỏi, dư...</td>\n",
              "    </tr>\n",
              "    <tr>\n",
              "      <th>3</th>\n",
              "      <td>tự nhiên xuất hiện vết bầm kèm xuất huyết là b...</td>\n",
              "      <td>chào bác sĩgần 2 tháng trở lại đây em có triệu...</td>\n",
              "      <td>được giải đáp bởi bác sĩ lê thị thanh hương  b...</td>\n",
              "      <td>https://www.vinmec.com/vi/tin-tuc/hoi-dap-bac-...</td>\n",
              "      <td>[sĩgần, 2, trở_lại, triệu_chứng, ngứa, da, ở, ...</td>\n",
              "      <td>[giải_đáp, lê, thanh, hương, hồi_sức, cấp_cứu,...</td>\n",
              "    </tr>\n",
              "    <tr>\n",
              "      <th>4</th>\n",
              "      <td>điều trị dứt điểm huyết khối tĩnh mạch chi như...</td>\n",
              "      <td>chào bác sĩem bị huyết khối tĩnh mạch chi dưới...</td>\n",
              "      <td>chào bạnvới câu hỏi điều trị dứt điểm huyết kh...</td>\n",
              "      <td>https://www.vinmec.com/vi/tin-tuc/hoi-dap-bac-...</td>\n",
              "      <td>[sĩem, huyết, khối, tĩnh_mạch, chi, dưới, bên,...</td>\n",
              "      <td>[dứt_điểm, huyết, khối, tĩnh_mạch, chi, thế_nà...</td>\n",
              "    </tr>\n",
              "  </tbody>\n",
              "</table>\n",
              "</div>\n",
              "      <button class=\"colab-df-convert\" onclick=\"convertToInteractive('df-0c5eb285-12bd-4857-9332-44555c573418')\"\n",
              "              title=\"Convert this dataframe to an interactive table.\"\n",
              "              style=\"display:none;\">\n",
              "        \n",
              "  <svg xmlns=\"http://www.w3.org/2000/svg\" height=\"24px\"viewBox=\"0 0 24 24\"\n",
              "       width=\"24px\">\n",
              "    <path d=\"M0 0h24v24H0V0z\" fill=\"none\"/>\n",
              "    <path d=\"M18.56 5.44l.94 2.06.94-2.06 2.06-.94-2.06-.94-.94-2.06-.94 2.06-2.06.94zm-11 1L8.5 8.5l.94-2.06 2.06-.94-2.06-.94L8.5 2.5l-.94 2.06-2.06.94zm10 10l.94 2.06.94-2.06 2.06-.94-2.06-.94-.94-2.06-.94 2.06-2.06.94z\"/><path d=\"M17.41 7.96l-1.37-1.37c-.4-.4-.92-.59-1.43-.59-.52 0-1.04.2-1.43.59L10.3 9.45l-7.72 7.72c-.78.78-.78 2.05 0 2.83L4 21.41c.39.39.9.59 1.41.59.51 0 1.02-.2 1.41-.59l7.78-7.78 2.81-2.81c.8-.78.8-2.07 0-2.86zM5.41 20L4 18.59l7.72-7.72 1.47 1.35L5.41 20z\"/>\n",
              "  </svg>\n",
              "      </button>\n",
              "      \n",
              "  <style>\n",
              "    .colab-df-container {\n",
              "      display:flex;\n",
              "      flex-wrap:wrap;\n",
              "      gap: 12px;\n",
              "    }\n",
              "\n",
              "    .colab-df-convert {\n",
              "      background-color: #E8F0FE;\n",
              "      border: none;\n",
              "      border-radius: 50%;\n",
              "      cursor: pointer;\n",
              "      display: none;\n",
              "      fill: #1967D2;\n",
              "      height: 32px;\n",
              "      padding: 0 0 0 0;\n",
              "      width: 32px;\n",
              "    }\n",
              "\n",
              "    .colab-df-convert:hover {\n",
              "      background-color: #E2EBFA;\n",
              "      box-shadow: 0px 1px 2px rgba(60, 64, 67, 0.3), 0px 1px 3px 1px rgba(60, 64, 67, 0.15);\n",
              "      fill: #174EA6;\n",
              "    }\n",
              "\n",
              "    [theme=dark] .colab-df-convert {\n",
              "      background-color: #3B4455;\n",
              "      fill: #D2E3FC;\n",
              "    }\n",
              "\n",
              "    [theme=dark] .colab-df-convert:hover {\n",
              "      background-color: #434B5C;\n",
              "      box-shadow: 0px 1px 3px 1px rgba(0, 0, 0, 0.15);\n",
              "      filter: drop-shadow(0px 1px 2px rgba(0, 0, 0, 0.3));\n",
              "      fill: #FFFFFF;\n",
              "    }\n",
              "  </style>\n",
              "\n",
              "      <script>\n",
              "        const buttonEl =\n",
              "          document.querySelector('#df-0c5eb285-12bd-4857-9332-44555c573418 button.colab-df-convert');\n",
              "        buttonEl.style.display =\n",
              "          google.colab.kernel.accessAllowed ? 'block' : 'none';\n",
              "\n",
              "        async function convertToInteractive(key) {\n",
              "          const element = document.querySelector('#df-0c5eb285-12bd-4857-9332-44555c573418');\n",
              "          const dataTable =\n",
              "            await google.colab.kernel.invokeFunction('convertToInteractive',\n",
              "                                                     [key], {});\n",
              "          if (!dataTable) return;\n",
              "\n",
              "          const docLinkHtml = 'Like what you see? Visit the ' +\n",
              "            '<a target=\"_blank\" href=https://colab.research.google.com/notebooks/data_table.ipynb>data table notebook</a>'\n",
              "            + ' to learn more about interactive tables.';\n",
              "          element.innerHTML = '';\n",
              "          dataTable['output_type'] = 'display_data';\n",
              "          await google.colab.output.renderOutput(dataTable, element);\n",
              "          const docLink = document.createElement('div');\n",
              "          docLink.innerHTML = docLinkHtml;\n",
              "          element.appendChild(docLink);\n",
              "        }\n",
              "      </script>\n",
              "    </div>\n",
              "  </div>\n",
              "  "
            ],
            "text/plain": [
              "                                      short_question  \\\n",
              "0  bìu dương vật sưng to cứng và tinh hoàn không ...   \n",
              "1  trẻ sơ sinh vàng da vàng mắt mức độ nhẹ có đán...   \n",
              "2  bị đau mắt đỏ nhỏ thuốc mỡ chlorocinah có khỏi...   \n",
              "3  tự nhiên xuất hiện vết bầm kèm xuất huyết là b...   \n",
              "4  điều trị dứt điểm huyết khối tĩnh mạch chi như...   \n",
              "\n",
              "                                       long_question  \\\n",
              "0  xin chào bác sĩ cho em hỏi bìu dương vật sưng ...   \n",
              "1  em chào bác sĩ bé gái nhà em khi sinh được 36 ...   \n",
              "2  chào dược sĩ con tôi bị đau mắt đỏ dược  sĩ ch...   \n",
              "3  chào bác sĩgần 2 tháng trở lại đây em có triệu...   \n",
              "4  chào bác sĩem bị huyết khối tĩnh mạch chi dưới...   \n",
              "\n",
              "                                              answer  \\\n",
              "0  chào em với câu hỏi bìu dương vật sưng to cứng...   \n",
              "1  chào bạn vàng da là tình trạng rất phổ biến ở ...   \n",
              "2  chào bạn với câu hỏi bị đau mắt đỏ nhỏ thuốc m...   \n",
              "3  được giải đáp bởi bác sĩ lê thị thanh hương  b...   \n",
              "4  chào bạnvới câu hỏi điều trị dứt điểm huyết kh...   \n",
              "\n",
              "                                                link  \\\n",
              "0  https://www.vinmec.com/vi/tin-tuc/hoi-dap-bac-...   \n",
              "1  https://www.vinmec.com/vi/tin-tuc/hoi-dap-bac-...   \n",
              "2  https://www.vinmec.com/vi/tin-tuc/hoi-dap-bac-...   \n",
              "3  https://www.vinmec.com/vi/tin-tuc/hoi-dap-bac-...   \n",
              "4  https://www.vinmec.com/vi/tin-tuc/hoi-dap-bac-...   \n",
              "\n",
              "                                       long_tokenize  \\\n",
              "0  [bìu, dương_vật, sưng, to, cứng, tinh_hoàn, câ...   \n",
              "1  [bé, gái, nhà, 36, tuần, 2, bình_thường, thứ, ...   \n",
              "2  [dược_sĩ, con, mắt, đỏ, dược_sĩ, mắt, đỏ, nhỏ,...   \n",
              "3  [sĩgần, 2, trở_lại, triệu_chứng, ngứa, da, ở, ...   \n",
              "4  [sĩem, huyết, khối, tĩnh_mạch, chi, dưới, bên,...   \n",
              "\n",
              "                                     answer_tokenize  \n",
              "0  [bìu, dương_vật, sưng, to, cứng, tinh_hoàn, câ...  \n",
              "1  [vàng, da, tình_trạng, phổ_biến, ở, trẻ, sơ_si...  \n",
              "2  [mắt, đỏ, nhỏ, thuốc_mỡ, chlorocinah, khỏi, dư...  \n",
              "3  [giải_đáp, lê, thanh, hương, hồi_sức, cấp_cứu,...  \n",
              "4  [dứt_điểm, huyết, khối, tĩnh_mạch, chi, thế_nà...  "
            ]
          },
          "metadata": {},
          "execution_count": 280
        }
      ]
    },
    {
      "cell_type": "code",
      "source": [
        "df_train.to_csv(r'/content/drive/MyDrive/QA_KLTN/Dataset/Data_preprocess/Preprocessed data/Preprocessed_train.csv', index=False, header=True)\n"
      ],
      "metadata": {
        "id": "NPueTemSf2tk"
      },
      "execution_count": 281,
      "outputs": []
    },
    {
      "cell_type": "markdown",
      "source": [
        "### Remove accent"
      ],
      "metadata": {
        "id": "40rrR5Py1jZB"
      }
    },
    {
      "cell_type": "code",
      "source": [
        "df_train"
      ],
      "metadata": {
        "colab": {
          "base_uri": "https://localhost:8080/",
          "height": 814
        },
        "id": "2wSNrTYh-gMl",
        "outputId": "1e5109a4-0b5f-40ce-ee49-eec8c8c4393e"
      },
      "execution_count": 282,
      "outputs": [
        {
          "output_type": "execute_result",
          "data": {
            "text/html": [
              "\n",
              "  <div id=\"df-36a82b0d-f2ef-4dbf-821b-6b7080cb6c39\">\n",
              "    <div class=\"colab-df-container\">\n",
              "      <div>\n",
              "<style scoped>\n",
              "    .dataframe tbody tr th:only-of-type {\n",
              "        vertical-align: middle;\n",
              "    }\n",
              "\n",
              "    .dataframe tbody tr th {\n",
              "        vertical-align: top;\n",
              "    }\n",
              "\n",
              "    .dataframe thead th {\n",
              "        text-align: right;\n",
              "    }\n",
              "</style>\n",
              "<table border=\"1\" class=\"dataframe\">\n",
              "  <thead>\n",
              "    <tr style=\"text-align: right;\">\n",
              "      <th></th>\n",
              "      <th>short_question</th>\n",
              "      <th>long_question</th>\n",
              "      <th>answer</th>\n",
              "      <th>link</th>\n",
              "      <th>long_tokenize</th>\n",
              "      <th>answer_tokenize</th>\n",
              "    </tr>\n",
              "  </thead>\n",
              "  <tbody>\n",
              "    <tr>\n",
              "      <th>0</th>\n",
              "      <td>bìu dương vật sưng to cứng và tinh hoàn không ...</td>\n",
              "      <td>xin chào bác sĩ cho em hỏi bìu dương vật sưng ...</td>\n",
              "      <td>chào em với câu hỏi bìu dương vật sưng to cứng...</td>\n",
              "      <td>https://www.vinmec.com/vi/tin-tuc/hoi-dap-bac-...</td>\n",
              "      <td>[bìu, dương_vật, sưng, to, cứng, tinh_hoàn, câ...</td>\n",
              "      <td>[bìu, dương_vật, sưng, to, cứng, tinh_hoàn, câ...</td>\n",
              "    </tr>\n",
              "    <tr>\n",
              "      <th>1</th>\n",
              "      <td>trẻ sơ sinh vàng da vàng mắt mức độ nhẹ có đán...</td>\n",
              "      <td>em chào bác sĩ bé gái nhà em khi sinh được 36 ...</td>\n",
              "      <td>chào bạn vàng da là tình trạng rất phổ biến ở ...</td>\n",
              "      <td>https://www.vinmec.com/vi/tin-tuc/hoi-dap-bac-...</td>\n",
              "      <td>[bé, gái, nhà, 36, tuần, 2, bình_thường, thứ, ...</td>\n",
              "      <td>[vàng, da, tình_trạng, phổ_biến, ở, trẻ, sơ_si...</td>\n",
              "    </tr>\n",
              "    <tr>\n",
              "      <th>2</th>\n",
              "      <td>bị đau mắt đỏ nhỏ thuốc mỡ chlorocinah có khỏi...</td>\n",
              "      <td>chào dược sĩ con tôi bị đau mắt đỏ dược  sĩ ch...</td>\n",
              "      <td>chào bạn với câu hỏi bị đau mắt đỏ nhỏ thuốc m...</td>\n",
              "      <td>https://www.vinmec.com/vi/tin-tuc/hoi-dap-bac-...</td>\n",
              "      <td>[dược_sĩ, con, mắt, đỏ, dược_sĩ, mắt, đỏ, nhỏ,...</td>\n",
              "      <td>[mắt, đỏ, nhỏ, thuốc_mỡ, chlorocinah, khỏi, dư...</td>\n",
              "    </tr>\n",
              "    <tr>\n",
              "      <th>3</th>\n",
              "      <td>tự nhiên xuất hiện vết bầm kèm xuất huyết là b...</td>\n",
              "      <td>chào bác sĩgần 2 tháng trở lại đây em có triệu...</td>\n",
              "      <td>được giải đáp bởi bác sĩ lê thị thanh hương  b...</td>\n",
              "      <td>https://www.vinmec.com/vi/tin-tuc/hoi-dap-bac-...</td>\n",
              "      <td>[sĩgần, 2, trở_lại, triệu_chứng, ngứa, da, ở, ...</td>\n",
              "      <td>[giải_đáp, lê, thanh, hương, hồi_sức, cấp_cứu,...</td>\n",
              "    </tr>\n",
              "    <tr>\n",
              "      <th>4</th>\n",
              "      <td>điều trị dứt điểm huyết khối tĩnh mạch chi như...</td>\n",
              "      <td>chào bác sĩem bị huyết khối tĩnh mạch chi dưới...</td>\n",
              "      <td>chào bạnvới câu hỏi điều trị dứt điểm huyết kh...</td>\n",
              "      <td>https://www.vinmec.com/vi/tin-tuc/hoi-dap-bac-...</td>\n",
              "      <td>[sĩem, huyết, khối, tĩnh_mạch, chi, dưới, bên,...</td>\n",
              "      <td>[dứt_điểm, huyết, khối, tĩnh_mạch, chi, thế_nà...</td>\n",
              "    </tr>\n",
              "    <tr>\n",
              "      <th>...</th>\n",
              "      <td>...</td>\n",
              "      <td>...</td>\n",
              "      <td>...</td>\n",
              "      <td>...</td>\n",
              "      <td>...</td>\n",
              "      <td>...</td>\n",
              "    </tr>\n",
              "    <tr>\n",
              "      <th>1011</th>\n",
              "      <td>none</td>\n",
              "      <td>tôi có tiền sử tiểu cầu thấp plt 130000140000 ...</td>\n",
              "      <td>chào anhtình trạng tiểu cầu của anh dưới ngưỡn...</td>\n",
              "      <td>https://vnexpress.net/tu-van-tiem-vaccine-covi...</td>\n",
              "      <td>[tiền_sử, tiểu_cầu, thấp, plt, 130000140000, c...</td>\n",
              "      <td>[anhtình, tiểu_cầu, anh, dưới, ngưỡng, 150, mứ...</td>\n",
              "    </tr>\n",
              "    <tr>\n",
              "      <th>1012</th>\n",
              "      <td>none</td>\n",
              "      <td>tôi bị huyết áp cao phải uống thuốc hàng ngày ...</td>\n",
              "      <td>chào anhviệc uống thuốc huyết áp duy trì hàng ...</td>\n",
              "      <td>https://vnexpress.net/tu-van-tiem-vaccine-covi...</td>\n",
              "      <td>[huyết_áp_cao]</td>\n",
              "      <td>[anhviệc, huyết_áp, duy_trì, cần_thiết, bệnh_l...</td>\n",
              "    </tr>\n",
              "    <tr>\n",
              "      <th>1013</th>\n",
              "      <td>none</td>\n",
              "      <td>vaccine astrazeneca tôi thấy ở nước ngoài chỉ ...</td>\n",
              "      <td>chào bạntheo thông tin kê toa của nhà sản xuất...</td>\n",
              "      <td>https://vnexpress.net/tu-van-tiem-vaccine-covi...</td>\n",
              "      <td>[astrazeneca, thấy, ở, nước_ngoài, chỉ_định, c...</td>\n",
              "      <td>[bạntheo, thông_tin, kê, toa, nhà, sản_xuất, h...</td>\n",
              "    </tr>\n",
              "    <tr>\n",
              "      <th>1014</th>\n",
              "      <td>none</td>\n",
              "      <td>em 33 tuổi cao 168 m nặng 90 kg bị dị ứng với ...</td>\n",
              "      <td>chào anhchịtheo mô tả thì trường hợp dị ứng củ...</td>\n",
              "      <td>https://vnexpress.net/tu-van-tiem-vaccine-covi...</td>\n",
              "      <td>[33, 168, m, nặng, 90, kg, dị_ứng, con, hến, t...</td>\n",
              "      <td>[anhchịtheo, mô_tả, trường_hợp, dị_ứng, anhchị...</td>\n",
              "    </tr>\n",
              "    <tr>\n",
              "      <th>1015</th>\n",
              "      <td>none</td>\n",
              "      <td>tôi thỉnh thoảng bị dị ứng ngứa nổi mẩn đặc bi...</td>\n",
              "      <td>chào anhtheo hướng dẫn của bộ y tế anh thuộc đ...</td>\n",
              "      <td>https://vnexpress.net/tu-van-tiem-vaccine-covi...</td>\n",
              "      <td>[thỉnh_thoảng, dị_ứng, ngứa, nổi, mẩn, đặc_biệ...</td>\n",
              "      <td>[anhtheo, hướng_dẫn, y_tế, anh, đối_tượng, cẩn...</td>\n",
              "    </tr>\n",
              "  </tbody>\n",
              "</table>\n",
              "<p>1016 rows × 6 columns</p>\n",
              "</div>\n",
              "      <button class=\"colab-df-convert\" onclick=\"convertToInteractive('df-36a82b0d-f2ef-4dbf-821b-6b7080cb6c39')\"\n",
              "              title=\"Convert this dataframe to an interactive table.\"\n",
              "              style=\"display:none;\">\n",
              "        \n",
              "  <svg xmlns=\"http://www.w3.org/2000/svg\" height=\"24px\"viewBox=\"0 0 24 24\"\n",
              "       width=\"24px\">\n",
              "    <path d=\"M0 0h24v24H0V0z\" fill=\"none\"/>\n",
              "    <path d=\"M18.56 5.44l.94 2.06.94-2.06 2.06-.94-2.06-.94-.94-2.06-.94 2.06-2.06.94zm-11 1L8.5 8.5l.94-2.06 2.06-.94-2.06-.94L8.5 2.5l-.94 2.06-2.06.94zm10 10l.94 2.06.94-2.06 2.06-.94-2.06-.94-.94-2.06-.94 2.06-2.06.94z\"/><path d=\"M17.41 7.96l-1.37-1.37c-.4-.4-.92-.59-1.43-.59-.52 0-1.04.2-1.43.59L10.3 9.45l-7.72 7.72c-.78.78-.78 2.05 0 2.83L4 21.41c.39.39.9.59 1.41.59.51 0 1.02-.2 1.41-.59l7.78-7.78 2.81-2.81c.8-.78.8-2.07 0-2.86zM5.41 20L4 18.59l7.72-7.72 1.47 1.35L5.41 20z\"/>\n",
              "  </svg>\n",
              "      </button>\n",
              "      \n",
              "  <style>\n",
              "    .colab-df-container {\n",
              "      display:flex;\n",
              "      flex-wrap:wrap;\n",
              "      gap: 12px;\n",
              "    }\n",
              "\n",
              "    .colab-df-convert {\n",
              "      background-color: #E8F0FE;\n",
              "      border: none;\n",
              "      border-radius: 50%;\n",
              "      cursor: pointer;\n",
              "      display: none;\n",
              "      fill: #1967D2;\n",
              "      height: 32px;\n",
              "      padding: 0 0 0 0;\n",
              "      width: 32px;\n",
              "    }\n",
              "\n",
              "    .colab-df-convert:hover {\n",
              "      background-color: #E2EBFA;\n",
              "      box-shadow: 0px 1px 2px rgba(60, 64, 67, 0.3), 0px 1px 3px 1px rgba(60, 64, 67, 0.15);\n",
              "      fill: #174EA6;\n",
              "    }\n",
              "\n",
              "    [theme=dark] .colab-df-convert {\n",
              "      background-color: #3B4455;\n",
              "      fill: #D2E3FC;\n",
              "    }\n",
              "\n",
              "    [theme=dark] .colab-df-convert:hover {\n",
              "      background-color: #434B5C;\n",
              "      box-shadow: 0px 1px 3px 1px rgba(0, 0, 0, 0.15);\n",
              "      filter: drop-shadow(0px 1px 2px rgba(0, 0, 0, 0.3));\n",
              "      fill: #FFFFFF;\n",
              "    }\n",
              "  </style>\n",
              "\n",
              "      <script>\n",
              "        const buttonEl =\n",
              "          document.querySelector('#df-36a82b0d-f2ef-4dbf-821b-6b7080cb6c39 button.colab-df-convert');\n",
              "        buttonEl.style.display =\n",
              "          google.colab.kernel.accessAllowed ? 'block' : 'none';\n",
              "\n",
              "        async function convertToInteractive(key) {\n",
              "          const element = document.querySelector('#df-36a82b0d-f2ef-4dbf-821b-6b7080cb6c39');\n",
              "          const dataTable =\n",
              "            await google.colab.kernel.invokeFunction('convertToInteractive',\n",
              "                                                     [key], {});\n",
              "          if (!dataTable) return;\n",
              "\n",
              "          const docLinkHtml = 'Like what you see? Visit the ' +\n",
              "            '<a target=\"_blank\" href=https://colab.research.google.com/notebooks/data_table.ipynb>data table notebook</a>'\n",
              "            + ' to learn more about interactive tables.';\n",
              "          element.innerHTML = '';\n",
              "          dataTable['output_type'] = 'display_data';\n",
              "          await google.colab.output.renderOutput(dataTable, element);\n",
              "          const docLink = document.createElement('div');\n",
              "          docLink.innerHTML = docLinkHtml;\n",
              "          element.appendChild(docLink);\n",
              "        }\n",
              "      </script>\n",
              "    </div>\n",
              "  </div>\n",
              "  "
            ],
            "text/plain": [
              "                                         short_question  \\\n",
              "0     bìu dương vật sưng to cứng và tinh hoàn không ...   \n",
              "1     trẻ sơ sinh vàng da vàng mắt mức độ nhẹ có đán...   \n",
              "2     bị đau mắt đỏ nhỏ thuốc mỡ chlorocinah có khỏi...   \n",
              "3     tự nhiên xuất hiện vết bầm kèm xuất huyết là b...   \n",
              "4     điều trị dứt điểm huyết khối tĩnh mạch chi như...   \n",
              "...                                                 ...   \n",
              "1011                                               none   \n",
              "1012                                               none   \n",
              "1013                                               none   \n",
              "1014                                               none   \n",
              "1015                                               none   \n",
              "\n",
              "                                          long_question  \\\n",
              "0     xin chào bác sĩ cho em hỏi bìu dương vật sưng ...   \n",
              "1     em chào bác sĩ bé gái nhà em khi sinh được 36 ...   \n",
              "2     chào dược sĩ con tôi bị đau mắt đỏ dược  sĩ ch...   \n",
              "3     chào bác sĩgần 2 tháng trở lại đây em có triệu...   \n",
              "4     chào bác sĩem bị huyết khối tĩnh mạch chi dưới...   \n",
              "...                                                 ...   \n",
              "1011  tôi có tiền sử tiểu cầu thấp plt 130000140000 ...   \n",
              "1012  tôi bị huyết áp cao phải uống thuốc hàng ngày ...   \n",
              "1013  vaccine astrazeneca tôi thấy ở nước ngoài chỉ ...   \n",
              "1014  em 33 tuổi cao 168 m nặng 90 kg bị dị ứng với ...   \n",
              "1015  tôi thỉnh thoảng bị dị ứng ngứa nổi mẩn đặc bi...   \n",
              "\n",
              "                                                 answer  \\\n",
              "0     chào em với câu hỏi bìu dương vật sưng to cứng...   \n",
              "1     chào bạn vàng da là tình trạng rất phổ biến ở ...   \n",
              "2     chào bạn với câu hỏi bị đau mắt đỏ nhỏ thuốc m...   \n",
              "3     được giải đáp bởi bác sĩ lê thị thanh hương  b...   \n",
              "4     chào bạnvới câu hỏi điều trị dứt điểm huyết kh...   \n",
              "...                                                 ...   \n",
              "1011  chào anhtình trạng tiểu cầu của anh dưới ngưỡn...   \n",
              "1012  chào anhviệc uống thuốc huyết áp duy trì hàng ...   \n",
              "1013  chào bạntheo thông tin kê toa của nhà sản xuất...   \n",
              "1014  chào anhchịtheo mô tả thì trường hợp dị ứng củ...   \n",
              "1015  chào anhtheo hướng dẫn của bộ y tế anh thuộc đ...   \n",
              "\n",
              "                                                   link  \\\n",
              "0     https://www.vinmec.com/vi/tin-tuc/hoi-dap-bac-...   \n",
              "1     https://www.vinmec.com/vi/tin-tuc/hoi-dap-bac-...   \n",
              "2     https://www.vinmec.com/vi/tin-tuc/hoi-dap-bac-...   \n",
              "3     https://www.vinmec.com/vi/tin-tuc/hoi-dap-bac-...   \n",
              "4     https://www.vinmec.com/vi/tin-tuc/hoi-dap-bac-...   \n",
              "...                                                 ...   \n",
              "1011  https://vnexpress.net/tu-van-tiem-vaccine-covi...   \n",
              "1012  https://vnexpress.net/tu-van-tiem-vaccine-covi...   \n",
              "1013  https://vnexpress.net/tu-van-tiem-vaccine-covi...   \n",
              "1014  https://vnexpress.net/tu-van-tiem-vaccine-covi...   \n",
              "1015  https://vnexpress.net/tu-van-tiem-vaccine-covi...   \n",
              "\n",
              "                                          long_tokenize  \\\n",
              "0     [bìu, dương_vật, sưng, to, cứng, tinh_hoàn, câ...   \n",
              "1     [bé, gái, nhà, 36, tuần, 2, bình_thường, thứ, ...   \n",
              "2     [dược_sĩ, con, mắt, đỏ, dược_sĩ, mắt, đỏ, nhỏ,...   \n",
              "3     [sĩgần, 2, trở_lại, triệu_chứng, ngứa, da, ở, ...   \n",
              "4     [sĩem, huyết, khối, tĩnh_mạch, chi, dưới, bên,...   \n",
              "...                                                 ...   \n",
              "1011  [tiền_sử, tiểu_cầu, thấp, plt, 130000140000, c...   \n",
              "1012                                     [huyết_áp_cao]   \n",
              "1013  [astrazeneca, thấy, ở, nước_ngoài, chỉ_định, c...   \n",
              "1014  [33, 168, m, nặng, 90, kg, dị_ứng, con, hến, t...   \n",
              "1015  [thỉnh_thoảng, dị_ứng, ngứa, nổi, mẩn, đặc_biệ...   \n",
              "\n",
              "                                        answer_tokenize  \n",
              "0     [bìu, dương_vật, sưng, to, cứng, tinh_hoàn, câ...  \n",
              "1     [vàng, da, tình_trạng, phổ_biến, ở, trẻ, sơ_si...  \n",
              "2     [mắt, đỏ, nhỏ, thuốc_mỡ, chlorocinah, khỏi, dư...  \n",
              "3     [giải_đáp, lê, thanh, hương, hồi_sức, cấp_cứu,...  \n",
              "4     [dứt_điểm, huyết, khối, tĩnh_mạch, chi, thế_nà...  \n",
              "...                                                 ...  \n",
              "1011  [anhtình, tiểu_cầu, anh, dưới, ngưỡng, 150, mứ...  \n",
              "1012  [anhviệc, huyết_áp, duy_trì, cần_thiết, bệnh_l...  \n",
              "1013  [bạntheo, thông_tin, kê, toa, nhà, sản_xuất, h...  \n",
              "1014  [anhchịtheo, mô_tả, trường_hợp, dị_ứng, anhchị...  \n",
              "1015  [anhtheo, hướng_dẫn, y_tế, anh, đối_tượng, cẩn...  \n",
              "\n",
              "[1016 rows x 6 columns]"
            ]
          },
          "metadata": {},
          "execution_count": 282
        }
      ]
    },
    {
      "cell_type": "markdown",
      "source": [
        "# Data visualization"
      ],
      "metadata": {
        "id": "AdKW_Agy0QiT"
      }
    },
    {
      "cell_type": "markdown",
      "source": [
        "### Word_cloudcloud"
      ],
      "metadata": {
        "id": "S4Tr_jOTUTIk"
      }
    },
    {
      "cell_type": "code",
      "source": [
        "# Start with one review:\n",
        "from wordcloud import WordCloud \n",
        "\n",
        "text = df_train.long_question\t\n",
        "\n",
        "# Create and generate a word cloud image:\n",
        "wordcloud = WordCloud().generate(str(text))\n",
        "\n",
        "# Display the generated image:\n",
        "plt.imshow(wordcloud, interpolation='bilinear')\n",
        "plt.axis(\"off\")\n",
        "plt.show()"
      ],
      "metadata": {
        "colab": {
          "base_uri": "https://localhost:8080/",
          "height": 198
        },
        "id": "19gQX-VP_Y8q",
        "outputId": "8f554a63-61a7-4c31-dba0-715bb9546900"
      },
      "execution_count": 283,
      "outputs": [
        {
          "output_type": "display_data",
          "data": {
            "image/png": "[encoded data removed]",
            "text/plain": [
              "<Figure size 432x288 with 1 Axes>"
            ]
          },
          "metadata": {
            "needs_background": "light"
          }
        }
      ]
    },
    {
      "cell_type": "markdown",
      "source": [
        "Word_cloud after removing stopwords"
      ],
      "metadata": {
        "id": "EUOmxmiPVAx6"
      }
    },
    {
      "cell_type": "code",
      "source": [
        "from wordcloud import WordCloud \n",
        "\n",
        "# Start with one review:\n",
        "text = df_train.long_tokenize\n",
        "\n",
        "# Create and generate a word cloud image:\n",
        "wordcloud = WordCloud().generate(str(text))\n",
        "\n",
        "# Display the generated image:\n",
        "plt.imshow(wordcloud, interpolation='bilinear')\n",
        "plt.axis(\"off\")\n",
        "plt.show()"
      ],
      "metadata": {
        "colab": {
          "base_uri": "https://localhost:8080/",
          "height": 198
        },
        "id": "N5CT3ZdgOQM2",
        "outputId": "9fd0aa27-dc40-415d-d5cd-d55ca3e89044"
      },
      "execution_count": 284,
      "outputs": [
        {
          "output_type": "display_data",
          "data": {
            "image/png": "[encoded data removed]",
            "text/plain": [
              "<Figure size 432x288 with 1 Axes>"
            ]
          },
          "metadata": {
            "needs_background": "light"
          }
        }
      ]
    }
  ]
}